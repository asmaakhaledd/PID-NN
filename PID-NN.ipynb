{
  "nbformat": 4,
  "nbformat_minor": 0,
  "metadata": {
    "colab": {
      "provenance": [],
      "gpuType": "T4",
      "include_colab_link": true
    },
    "kernelspec": {
      "name": "python3",
      "display_name": "Python 3"
    },
    "language_info": {
      "name": "python"
    },
    "accelerator": "GPU"
  },
  "cells": [
    {
      "cell_type": "markdown",
      "metadata": {
        "id": "view-in-github",
        "colab_type": "text"
      },
      "source": [
        "<a href=\"https://colab.research.google.com/github/asmaakhaledd/PID-NN/blob/Dataset-trial/PID-NN.ipynb\" target=\"_parent\"><img src=\"https://colab.research.google.com/assets/colab-badge.svg\" alt=\"Open In Colab\"/></a>"
      ]
    },
    {
      "cell_type": "code",
      "source": [
        "!pip install numpy pandas tensorflow control matplotlib xmltodict scikit-learn"
      ],
      "metadata": {
        "id": "OHkjmG-Yr6DM",
        "colab": {
          "base_uri": "https://localhost:8080/"
        },
        "collapsed": true,
        "outputId": "b7f8ca63-b55d-4c80-8e84-5d6d1043a99f"
      },
      "execution_count": 1,
      "outputs": [
        {
          "output_type": "stream",
          "name": "stdout",
          "text": [
            "Requirement already satisfied: numpy in /usr/local/lib/python3.11/dist-packages (1.26.4)\n",
            "Requirement already satisfied: pandas in /usr/local/lib/python3.11/dist-packages (2.2.2)\n",
            "Requirement already satisfied: tensorflow in /usr/local/lib/python3.11/dist-packages (2.18.0)\n",
            "Collecting control\n",
            "  Downloading control-0.10.1-py3-none-any.whl.metadata (7.6 kB)\n",
            "Requirement already satisfied: matplotlib in /usr/local/lib/python3.11/dist-packages (3.10.0)\n",
            "Collecting xmltodict\n",
            "  Downloading xmltodict-0.14.2-py2.py3-none-any.whl.metadata (8.0 kB)\n",
            "Requirement already satisfied: scikit-learn in /usr/local/lib/python3.11/dist-packages (1.6.1)\n",
            "Requirement already satisfied: python-dateutil>=2.8.2 in /usr/local/lib/python3.11/dist-packages (from pandas) (2.8.2)\n",
            "Requirement already satisfied: pytz>=2020.1 in /usr/local/lib/python3.11/dist-packages (from pandas) (2025.1)\n",
            "Requirement already satisfied: tzdata>=2022.7 in /usr/local/lib/python3.11/dist-packages (from pandas) (2025.1)\n",
            "Requirement already satisfied: absl-py>=1.0.0 in /usr/local/lib/python3.11/dist-packages (from tensorflow) (1.4.0)\n",
            "Requirement already satisfied: astunparse>=1.6.0 in /usr/local/lib/python3.11/dist-packages (from tensorflow) (1.6.3)\n",
            "Requirement already satisfied: flatbuffers>=24.3.25 in /usr/local/lib/python3.11/dist-packages (from tensorflow) (25.2.10)\n",
            "Requirement already satisfied: gast!=0.5.0,!=0.5.1,!=0.5.2,>=0.2.1 in /usr/local/lib/python3.11/dist-packages (from tensorflow) (0.6.0)\n",
            "Requirement already satisfied: google-pasta>=0.1.1 in /usr/local/lib/python3.11/dist-packages (from tensorflow) (0.2.0)\n",
            "Requirement already satisfied: libclang>=13.0.0 in /usr/local/lib/python3.11/dist-packages (from tensorflow) (18.1.1)\n",
            "Requirement already satisfied: opt-einsum>=2.3.2 in /usr/local/lib/python3.11/dist-packages (from tensorflow) (3.4.0)\n",
            "Requirement already satisfied: packaging in /usr/local/lib/python3.11/dist-packages (from tensorflow) (24.2)\n",
            "Requirement already satisfied: protobuf!=4.21.0,!=4.21.1,!=4.21.2,!=4.21.3,!=4.21.4,!=4.21.5,<6.0.0dev,>=3.20.3 in /usr/local/lib/python3.11/dist-packages (from tensorflow) (4.25.6)\n",
            "Requirement already satisfied: requests<3,>=2.21.0 in /usr/local/lib/python3.11/dist-packages (from tensorflow) (2.32.3)\n",
            "Requirement already satisfied: setuptools in /usr/local/lib/python3.11/dist-packages (from tensorflow) (75.1.0)\n",
            "Requirement already satisfied: six>=1.12.0 in /usr/local/lib/python3.11/dist-packages (from tensorflow) (1.17.0)\n",
            "Requirement already satisfied: termcolor>=1.1.0 in /usr/local/lib/python3.11/dist-packages (from tensorflow) (2.5.0)\n",
            "Requirement already satisfied: typing-extensions>=3.6.6 in /usr/local/lib/python3.11/dist-packages (from tensorflow) (4.12.2)\n",
            "Requirement already satisfied: wrapt>=1.11.0 in /usr/local/lib/python3.11/dist-packages (from tensorflow) (1.17.2)\n",
            "Requirement already satisfied: grpcio<2.0,>=1.24.3 in /usr/local/lib/python3.11/dist-packages (from tensorflow) (1.70.0)\n",
            "Requirement already satisfied: tensorboard<2.19,>=2.18 in /usr/local/lib/python3.11/dist-packages (from tensorflow) (2.18.0)\n",
            "Requirement already satisfied: keras>=3.5.0 in /usr/local/lib/python3.11/dist-packages (from tensorflow) (3.8.0)\n",
            "Requirement already satisfied: h5py>=3.11.0 in /usr/local/lib/python3.11/dist-packages (from tensorflow) (3.12.1)\n",
            "Requirement already satisfied: ml-dtypes<0.5.0,>=0.4.0 in /usr/local/lib/python3.11/dist-packages (from tensorflow) (0.4.1)\n",
            "Requirement already satisfied: tensorflow-io-gcs-filesystem>=0.23.1 in /usr/local/lib/python3.11/dist-packages (from tensorflow) (0.37.1)\n",
            "Requirement already satisfied: scipy>=1.8 in /usr/local/lib/python3.11/dist-packages (from control) (1.13.1)\n",
            "Requirement already satisfied: contourpy>=1.0.1 in /usr/local/lib/python3.11/dist-packages (from matplotlib) (1.3.1)\n",
            "Requirement already satisfied: cycler>=0.10 in /usr/local/lib/python3.11/dist-packages (from matplotlib) (0.12.1)\n",
            "Requirement already satisfied: fonttools>=4.22.0 in /usr/local/lib/python3.11/dist-packages (from matplotlib) (4.56.0)\n",
            "Requirement already satisfied: kiwisolver>=1.3.1 in /usr/local/lib/python3.11/dist-packages (from matplotlib) (1.4.8)\n",
            "Requirement already satisfied: pillow>=8 in /usr/local/lib/python3.11/dist-packages (from matplotlib) (11.1.0)\n",
            "Requirement already satisfied: pyparsing>=2.3.1 in /usr/local/lib/python3.11/dist-packages (from matplotlib) (3.2.1)\n",
            "Requirement already satisfied: joblib>=1.2.0 in /usr/local/lib/python3.11/dist-packages (from scikit-learn) (1.4.2)\n",
            "Requirement already satisfied: threadpoolctl>=3.1.0 in /usr/local/lib/python3.11/dist-packages (from scikit-learn) (3.5.0)\n",
            "Requirement already satisfied: wheel<1.0,>=0.23.0 in /usr/local/lib/python3.11/dist-packages (from astunparse>=1.6.0->tensorflow) (0.45.1)\n",
            "Requirement already satisfied: rich in /usr/local/lib/python3.11/dist-packages (from keras>=3.5.0->tensorflow) (13.9.4)\n",
            "Requirement already satisfied: namex in /usr/local/lib/python3.11/dist-packages (from keras>=3.5.0->tensorflow) (0.0.8)\n",
            "Requirement already satisfied: optree in /usr/local/lib/python3.11/dist-packages (from keras>=3.5.0->tensorflow) (0.14.1)\n",
            "Requirement already satisfied: charset-normalizer<4,>=2 in /usr/local/lib/python3.11/dist-packages (from requests<3,>=2.21.0->tensorflow) (3.4.1)\n",
            "Requirement already satisfied: idna<4,>=2.5 in /usr/local/lib/python3.11/dist-packages (from requests<3,>=2.21.0->tensorflow) (3.10)\n",
            "Requirement already satisfied: urllib3<3,>=1.21.1 in /usr/local/lib/python3.11/dist-packages (from requests<3,>=2.21.0->tensorflow) (2.3.0)\n",
            "Requirement already satisfied: certifi>=2017.4.17 in /usr/local/lib/python3.11/dist-packages (from requests<3,>=2.21.0->tensorflow) (2025.1.31)\n",
            "Requirement already satisfied: markdown>=2.6.8 in /usr/local/lib/python3.11/dist-packages (from tensorboard<2.19,>=2.18->tensorflow) (3.7)\n",
            "Requirement already satisfied: tensorboard-data-server<0.8.0,>=0.7.0 in /usr/local/lib/python3.11/dist-packages (from tensorboard<2.19,>=2.18->tensorflow) (0.7.2)\n",
            "Requirement already satisfied: werkzeug>=1.0.1 in /usr/local/lib/python3.11/dist-packages (from tensorboard<2.19,>=2.18->tensorflow) (3.1.3)\n",
            "Requirement already satisfied: MarkupSafe>=2.1.1 in /usr/local/lib/python3.11/dist-packages (from werkzeug>=1.0.1->tensorboard<2.19,>=2.18->tensorflow) (3.0.2)\n",
            "Requirement already satisfied: markdown-it-py>=2.2.0 in /usr/local/lib/python3.11/dist-packages (from rich->keras>=3.5.0->tensorflow) (3.0.0)\n",
            "Requirement already satisfied: pygments<3.0.0,>=2.13.0 in /usr/local/lib/python3.11/dist-packages (from rich->keras>=3.5.0->tensorflow) (2.18.0)\n",
            "Requirement already satisfied: mdurl~=0.1 in /usr/local/lib/python3.11/dist-packages (from markdown-it-py>=2.2.0->rich->keras>=3.5.0->tensorflow) (0.1.2)\n",
            "Downloading control-0.10.1-py3-none-any.whl (549 kB)\n",
            "\u001b[2K   \u001b[90m━━━━━━━━━━━━━━━━━━━━━━━━━━━━━━━━━━━━━━━━\u001b[0m \u001b[32m549.6/549.6 kB\u001b[0m \u001b[31m8.0 MB/s\u001b[0m eta \u001b[36m0:00:00\u001b[0m\n",
            "\u001b[?25hDownloading xmltodict-0.14.2-py2.py3-none-any.whl (10.0 kB)\n",
            "Installing collected packages: xmltodict, control\n",
            "Successfully installed control-0.10.1 xmltodict-0.14.2\n"
          ]
        }
      ]
    },
    {
      "cell_type": "code",
      "source": [
        "from google.colab import drive\n",
        "drive.mount('/content/drive')\n",
        "\n",
        "data_path = \"/content/drive/My Drive/OhioT1/\""
      ],
      "metadata": {
        "id": "VX4hkV9miplA",
        "colab": {
          "base_uri": "https://localhost:8080/"
        },
        "outputId": "a8531268-6c92-40cd-c40c-5875cd859ac1"
      },
      "execution_count": 2,
      "outputs": [
        {
          "output_type": "stream",
          "name": "stdout",
          "text": [
            "Mounted at /content/drive\n"
          ]
        }
      ]
    },
    {
      "cell_type": "markdown",
      "source": [
        "Convert XML to Pandas DataFrame"
      ],
      "metadata": {
        "id": "tI17lg0ui3Xm"
      }
    },
    {
      "cell_type": "code",
      "source": [
        "import xmltodict\n",
        "import pandas as pd\n",
        "import os\n",
        "\n",
        "def parse_xml(file_path):\n",
        "    with open(file_path, 'r') as file:\n",
        "        data_dict = xmltodict.parse(file.read())\n",
        "    return data_dict\n",
        "\n",
        "# Extract relevant fields (Glucose, Insulin, Meals, etc.)\n",
        "def extract_features(data_dict):\n",
        "    patient_data = []\n",
        "    patient = data_dict['patient']\n",
        "\n",
        "    # Glucose events\n",
        "    if 'glucose_level' in patient:\n",
        "        for event in patient['glucose_level']['event']:\n",
        "            entry = {\n",
        "                'time': event['@ts'],\n",
        "                'glucose': float(event['@value']),\n",
        "                'insulin': 0,\n",
        "                'meal': 0\n",
        "            }\n",
        "            patient_data.append(entry)\n",
        "\n",
        "    # Insulin events\n",
        "    if 'bolus' in patient:\n",
        "        for event in patient['bolus']['event']:\n",
        "            entry = {\n",
        "                'time_begin': event['@ts_begin'],\n",
        "                'time_end': event['@ts_end'],\n",
        "                'glucose': 0,\n",
        "                'insulin': float(event['@dose']),\n",
        "                'meal': 0\n",
        "            }\n",
        "            patient_data.append(entry)\n",
        "\n",
        "    # insulin event\n",
        "    if 'basal' in patient:\n",
        "        for event in patient['basal']['event']:\n",
        "            entry = {\n",
        "                'time': event['@ts'],\n",
        "                'glucose': 0,\n",
        "                'insulin': float(event['@value']),\n",
        "                'meal': 0\n",
        "            }\n",
        "\n",
        "    # Meal events\n",
        "    if 'meal' in patient:\n",
        "        for event in patient['meal']['event']:\n",
        "            entry = {\n",
        "                'time': event['@ts'],\n",
        "                'glucose': 0,\n",
        "                'insulin': 0,\n",
        "                'meal': float(event['@carbs'])\n",
        "            }\n",
        "            patient_data.append(entry)\n",
        "\n",
        "\n",
        "    return pd.DataFrame(patient_data)\n",
        "\n",
        "# Process all XML files in a folder\n",
        "all_dataframes = []\n",
        "for file in os.listdir(data_path):\n",
        "    if file.endswith(\".xml\"):\n",
        "        data_dict = parse_xml(os.path.join(data_path, file))\n",
        "        df = extract_features(data_dict)\n",
        "        all_dataframes.append(df)\n",
        "\n",
        "# Combine all patients' data\n",
        "df = pd.concat(all_dataframes, ignore_index=True)\n",
        "\n",
        "# Convert time column to datetime\n",
        "df['time'] = pd.to_datetime(df['time'], errors='coerce')  # Automatically converts invalid times to NaT\n",
        "df.dropna(subset=['time'], inplace=True)  # Drop rows where time is NaT\n",
        "df.sort_values(by='time', inplace=True)\n",
        "\n",
        "print(df.head())  # Preview dataset\n"
      ],
      "metadata": {
        "id": "KAwBZW9Lisib",
        "colab": {
          "base_uri": "https://localhost:8080/"
        },
        "outputId": "532bd9df-0331-4036-e658-71f47ca3b978"
      },
      "execution_count": 3,
      "outputs": [
        {
          "output_type": "stream",
          "name": "stdout",
          "text": [
            "                     time  glucose  insulin  meal time_begin time_end\n",
            "61088 2021-08-30 11:53:00    116.0      0.0   0.0        NaN      NaN\n",
            "61089 2021-08-30 11:58:00    117.0      0.0   0.0        NaN      NaN\n",
            "73910 2021-08-30 11:59:00      0.0      0.0  37.0        NaN      NaN\n",
            "61090 2021-08-30 12:03:00    119.0      0.0   0.0        NaN      NaN\n",
            "61091 2021-08-30 12:08:00    116.0      0.0   0.0        NaN      NaN\n"
          ]
        },
        {
          "output_type": "stream",
          "name": "stderr",
          "text": [
            "<ipython-input-3-174a62d05f25>:74: UserWarning: Parsing dates in %d-%m-%Y %H:%M:%S format when dayfirst=False (the default) was specified. Pass `dayfirst=True` or specify a format to silence this warning.\n",
            "  df['time'] = pd.to_datetime(df['time'], errors='coerce')  # Automatically converts invalid times to NaT\n"
          ]
        }
      ]
    },
    {
      "cell_type": "markdown",
      "source": [
        "Prepare Data for LSTM Model"
      ],
      "metadata": {
        "id": "bmgpwVZhi6fD"
      }
    },
    {
      "cell_type": "code",
      "source": [
        "import numpy as np\n",
        "from sklearn.preprocessing import MinMaxScaler\n",
        "from sklearn.model_selection import train_test_split\n",
        "\n",
        "# Use only glucose, insulin, and meal as input features\n",
        "features = ['glucose', 'insulin', 'meal']\n",
        "target = ['Kp', 'Ki', 'Kd']  # PID gains\n",
        "\n",
        "# Normalize the features\n",
        "scaler = MinMaxScaler()\n",
        "df[features] = scaler.fit_transform(df[features])\n",
        "\n",
        "# Generate PID controller gains dynamically (example logic)\n",
        "df['Kp'] = df['glucose'] * 0.01\n",
        "df['Ki'] = df['glucose'] * 0.001\n",
        "df['Kd'] = df['glucose'] * 0.0001\n",
        "\n",
        "# Create sequences for LSTM (time-series format)\n",
        "def create_sequences(data, seq_length):\n",
        "    X, y = [], []\n",
        "    for i in range(len(data) - seq_length):\n",
        "        X.append(data.iloc[i:i+seq_length][features].values)\n",
        "        y.append(data.iloc[i+seq_length][target].values)\n",
        "    return np.array(X), np.array(y)\n",
        "\n",
        "seq_length = 10  # Use past 10 timestamps for prediction\n",
        "X, y = create_sequences(df, seq_length)\n",
        "\n",
        "# Split dataset\n",
        "X_train, X_test, y_train, y_test = train_test_split(X, y, test_size=0.2, random_state=42)\n",
        "\n",
        "# converting to numeric\n",
        "y_train = np.array(y_train, dtype=np.float64)\n",
        "y_test = np.array(y_test, dtype=np.float64)\n"
      ],
      "metadata": {
        "id": "nH068lqTi8TI"
      },
      "execution_count": 4,
      "outputs": []
    },
    {
      "cell_type": "code",
      "source": [
        "print(X_train.dtype)\n",
        "print(y_train.dtype)\n",
        "print(X_test.dtype)\n",
        "print(y_test.dtype)"
      ],
      "metadata": {
        "id": "BmrCz_p1Nyru",
        "outputId": "bbc80c64-ce49-4cab-9840-a9255fee533b",
        "colab": {
          "base_uri": "https://localhost:8080/"
        }
      },
      "execution_count": 5,
      "outputs": [
        {
          "output_type": "stream",
          "name": "stdout",
          "text": [
            "float64\n",
            "float64\n",
            "float64\n",
            "float64\n"
          ]
        }
      ]
    },
    {
      "cell_type": "markdown",
      "source": [
        "Train the LSTM Neural Network"
      ],
      "metadata": {
        "id": "Nz6RViACi-vT"
      }
    },
    {
      "cell_type": "code",
      "source": [
        "import tensorflow as tf\n",
        "from tensorflow.keras.models import Sequential\n",
        "from tensorflow.keras.layers import LSTM, Dense, Dropout\n",
        "\n",
        "# Define LSTM Model\n",
        "model = Sequential([\n",
        "    LSTM(64, activation='tanh', return_sequences=True, input_shape=(seq_length, len(features))),\n",
        "    Dropout(0.2),\n",
        "    LSTM(32, activation='tanh', return_sequences=False),\n",
        "    Dense(16, activation='relu'),\n",
        "    Dense(3, activation='linear')  # Outputs: Kp, Ki, Kd\n",
        "])\n",
        "\n",
        "# Compile the model\n",
        "model.compile(optimizer='adam', loss='mse', metrics=['mae'])\n",
        "\n",
        "# Train the model\n",
        "history = model.fit(X_train, y_train, epochs=50, batch_size=32, validation_data=(X_test, y_test))\n"
      ],
      "metadata": {
        "id": "WwGop87fjAiu",
        "colab": {
          "base_uri": "https://localhost:8080/"
        },
        "outputId": "b176c916-4d0e-4a19-e81a-9c566c3e2aba"
      },
      "execution_count": 6,
      "outputs": [
        {
          "output_type": "stream",
          "name": "stderr",
          "text": [
            "/usr/local/lib/python3.11/dist-packages/keras/src/layers/rnn/rnn.py:200: UserWarning: Do not pass an `input_shape`/`input_dim` argument to a layer. When using Sequential models, prefer using an `Input(shape)` object as the first layer in the model instead.\n",
            "  super().__init__(**kwargs)\n"
          ]
        },
        {
          "output_type": "stream",
          "name": "stdout",
          "text": [
            "Epoch 1/50\n",
            "\u001b[1m2163/2163\u001b[0m \u001b[32m━━━━━━━━━━━━━━━━━━━━\u001b[0m\u001b[37m\u001b[0m \u001b[1m20s\u001b[0m 7ms/step - loss: 5.4985e-06 - mae: 0.0013 - val_loss: 5.2654e-07 - val_mae: 3.8061e-04\n",
            "Epoch 2/50\n",
            "\u001b[1m2163/2163\u001b[0m \u001b[32m━━━━━━━━━━━━━━━━━━━━\u001b[0m\u001b[37m\u001b[0m \u001b[1m19s\u001b[0m 8ms/step - loss: 6.0240e-07 - mae: 4.6099e-04 - val_loss: 5.4401e-07 - val_mae: 4.2573e-04\n",
            "Epoch 3/50\n",
            "\u001b[1m2163/2163\u001b[0m \u001b[32m━━━━━━━━━━━━━━━━━━━━\u001b[0m\u001b[37m\u001b[0m \u001b[1m18s\u001b[0m 8ms/step - loss: 5.6343e-07 - mae: 4.2615e-04 - val_loss: 4.8138e-07 - val_mae: 3.6819e-04\n",
            "Epoch 4/50\n",
            "\u001b[1m2163/2163\u001b[0m \u001b[32m━━━━━━━━━━━━━━━━━━━━\u001b[0m\u001b[37m\u001b[0m \u001b[1m19s\u001b[0m 8ms/step - loss: 5.4910e-07 - mae: 3.9706e-04 - val_loss: 4.7497e-07 - val_mae: 3.5954e-04\n",
            "Epoch 5/50\n",
            "\u001b[1m2163/2163\u001b[0m \u001b[32m━━━━━━━━━━━━━━━━━━━━\u001b[0m\u001b[37m\u001b[0m \u001b[1m21s\u001b[0m 8ms/step - loss: 5.1304e-07 - mae: 3.6885e-04 - val_loss: 5.0845e-07 - val_mae: 3.5192e-04\n",
            "Epoch 6/50\n",
            "\u001b[1m2163/2163\u001b[0m \u001b[32m━━━━━━━━━━━━━━━━━━━━\u001b[0m\u001b[37m\u001b[0m \u001b[1m21s\u001b[0m 8ms/step - loss: 5.0677e-07 - mae: 3.4820e-04 - val_loss: 4.5798e-07 - val_mae: 3.2987e-04\n",
            "Epoch 7/50\n",
            "\u001b[1m2163/2163\u001b[0m \u001b[32m━━━━━━━━━━━━━━━━━━━━\u001b[0m\u001b[37m\u001b[0m \u001b[1m19s\u001b[0m 7ms/step - loss: 5.0490e-07 - mae: 3.4788e-04 - val_loss: 4.6444e-07 - val_mae: 3.4051e-04\n",
            "Epoch 8/50\n",
            "\u001b[1m2163/2163\u001b[0m \u001b[32m━━━━━━━━━━━━━━━━━━━━\u001b[0m\u001b[37m\u001b[0m \u001b[1m22s\u001b[0m 8ms/step - loss: 5.5778e-07 - mae: 3.6847e-04 - val_loss: 4.5235e-07 - val_mae: 3.1498e-04\n",
            "Epoch 9/50\n",
            "\u001b[1m2163/2163\u001b[0m \u001b[32m━━━━━━━━━━━━━━━━━━━━\u001b[0m\u001b[37m\u001b[0m \u001b[1m20s\u001b[0m 8ms/step - loss: 4.9672e-07 - mae: 3.4439e-04 - val_loss: 4.5434e-07 - val_mae: 3.2520e-04\n",
            "Epoch 10/50\n",
            "\u001b[1m2163/2163\u001b[0m \u001b[32m━━━━━━━━━━━━━━━━━━━━\u001b[0m\u001b[37m\u001b[0m \u001b[1m20s\u001b[0m 8ms/step - loss: 4.8436e-07 - mae: 3.3950e-04 - val_loss: 4.5789e-07 - val_mae: 3.1587e-04\n",
            "Epoch 11/50\n",
            "\u001b[1m2163/2163\u001b[0m \u001b[32m━━━━━━━━━━━━━━━━━━━━\u001b[0m\u001b[37m\u001b[0m \u001b[1m21s\u001b[0m 8ms/step - loss: 4.8925e-07 - mae: 3.4152e-04 - val_loss: 4.5612e-07 - val_mae: 3.2455e-04\n",
            "Epoch 12/50\n",
            "\u001b[1m2163/2163\u001b[0m \u001b[32m━━━━━━━━━━━━━━━━━━━━\u001b[0m\u001b[37m\u001b[0m \u001b[1m19s\u001b[0m 7ms/step - loss: 4.8795e-07 - mae: 3.4112e-04 - val_loss: 4.6062e-07 - val_mae: 3.3790e-04\n",
            "Epoch 13/50\n",
            "\u001b[1m2163/2163\u001b[0m \u001b[32m━━━━━━━━━━━━━━━━━━━━\u001b[0m\u001b[37m\u001b[0m \u001b[1m21s\u001b[0m 7ms/step - loss: 4.8661e-07 - mae: 3.4010e-04 - val_loss: 4.6861e-07 - val_mae: 3.2398e-04\n",
            "Epoch 14/50\n",
            "\u001b[1m2163/2163\u001b[0m \u001b[32m━━━━━━━━━━━━━━━━━━━━\u001b[0m\u001b[37m\u001b[0m \u001b[1m21s\u001b[0m 8ms/step - loss: 4.8903e-07 - mae: 3.4010e-04 - val_loss: 4.4838e-07 - val_mae: 3.1775e-04\n",
            "Epoch 15/50\n",
            "\u001b[1m2163/2163\u001b[0m \u001b[32m━━━━━━━━━━━━━━━━━━━━\u001b[0m\u001b[37m\u001b[0m \u001b[1m16s\u001b[0m 7ms/step - loss: 4.7441e-07 - mae: 3.3536e-04 - val_loss: 5.1720e-07 - val_mae: 3.5290e-04\n",
            "Epoch 16/50\n",
            "\u001b[1m2163/2163\u001b[0m \u001b[32m━━━━━━━━━━━━━━━━━━━━\u001b[0m\u001b[37m\u001b[0m \u001b[1m18s\u001b[0m 8ms/step - loss: 4.8264e-07 - mae: 3.3905e-04 - val_loss: 4.5018e-07 - val_mae: 3.4100e-04\n",
            "Epoch 17/50\n",
            "\u001b[1m2163/2163\u001b[0m \u001b[32m━━━━━━━━━━━━━━━━━━━━\u001b[0m\u001b[37m\u001b[0m \u001b[1m18s\u001b[0m 7ms/step - loss: 4.7047e-07 - mae: 3.3240e-04 - val_loss: 4.4619e-07 - val_mae: 3.2532e-04\n",
            "Epoch 18/50\n",
            "\u001b[1m2163/2163\u001b[0m \u001b[32m━━━━━━━━━━━━━━━━━━━━\u001b[0m\u001b[37m\u001b[0m \u001b[1m16s\u001b[0m 8ms/step - loss: 4.7615e-07 - mae: 3.3551e-04 - val_loss: 4.5847e-07 - val_mae: 3.2364e-04\n",
            "Epoch 19/50\n",
            "\u001b[1m2163/2163\u001b[0m \u001b[32m━━━━━━━━━━━━━━━━━━━━\u001b[0m\u001b[37m\u001b[0m \u001b[1m16s\u001b[0m 8ms/step - loss: 4.7181e-07 - mae: 3.3137e-04 - val_loss: 4.5766e-07 - val_mae: 3.2369e-04\n",
            "Epoch 20/50\n",
            "\u001b[1m2163/2163\u001b[0m \u001b[32m━━━━━━━━━━━━━━━━━━━━\u001b[0m\u001b[37m\u001b[0m \u001b[1m20s\u001b[0m 7ms/step - loss: 4.7005e-07 - mae: 3.3096e-04 - val_loss: 4.4470e-07 - val_mae: 3.2150e-04\n",
            "Epoch 21/50\n",
            "\u001b[1m2163/2163\u001b[0m \u001b[32m━━━━━━━━━━━━━━━━━━━━\u001b[0m\u001b[37m\u001b[0m \u001b[1m21s\u001b[0m 7ms/step - loss: 4.5913e-07 - mae: 3.2856e-04 - val_loss: 4.4478e-07 - val_mae: 3.2005e-04\n",
            "Epoch 22/50\n",
            "\u001b[1m2163/2163\u001b[0m \u001b[32m━━━━━━━━━━━━━━━━━━━━\u001b[0m\u001b[37m\u001b[0m \u001b[1m17s\u001b[0m 8ms/step - loss: 4.7244e-07 - mae: 3.3115e-04 - val_loss: 4.6136e-07 - val_mae: 3.2302e-04\n",
            "Epoch 23/50\n",
            "\u001b[1m2163/2163\u001b[0m \u001b[32m━━━━━━━━━━━━━━━━━━━━\u001b[0m\u001b[37m\u001b[0m \u001b[1m20s\u001b[0m 8ms/step - loss: 4.6214e-07 - mae: 3.2804e-04 - val_loss: 4.4265e-07 - val_mae: 3.0237e-04\n",
            "Epoch 24/50\n",
            "\u001b[1m2163/2163\u001b[0m \u001b[32m━━━━━━━━━━━━━━━━━━━━\u001b[0m\u001b[37m\u001b[0m \u001b[1m20s\u001b[0m 7ms/step - loss: 4.6665e-07 - mae: 3.2755e-04 - val_loss: 4.3926e-07 - val_mae: 3.2331e-04\n",
            "Epoch 25/50\n",
            "\u001b[1m2163/2163\u001b[0m \u001b[32m━━━━━━━━━━━━━━━━━━━━\u001b[0m\u001b[37m\u001b[0m \u001b[1m17s\u001b[0m 8ms/step - loss: 4.5332e-07 - mae: 3.2464e-04 - val_loss: 4.5380e-07 - val_mae: 3.1276e-04\n",
            "Epoch 26/50\n",
            "\u001b[1m2163/2163\u001b[0m \u001b[32m━━━━━━━━━━━━━━━━━━━━\u001b[0m\u001b[37m\u001b[0m \u001b[1m19s\u001b[0m 7ms/step - loss: 4.6446e-07 - mae: 3.2885e-04 - val_loss: 4.3828e-07 - val_mae: 3.0489e-04\n",
            "Epoch 27/50\n",
            "\u001b[1m2163/2163\u001b[0m \u001b[32m━━━━━━━━━━━━━━━━━━━━\u001b[0m\u001b[37m\u001b[0m \u001b[1m16s\u001b[0m 7ms/step - loss: 4.5851e-07 - mae: 3.2493e-04 - val_loss: 4.5329e-07 - val_mae: 3.6536e-04\n",
            "Epoch 28/50\n",
            "\u001b[1m2163/2163\u001b[0m \u001b[32m━━━━━━━━━━━━━━━━━━━━\u001b[0m\u001b[37m\u001b[0m \u001b[1m21s\u001b[0m 7ms/step - loss: 4.5361e-07 - mae: 3.2568e-04 - val_loss: 4.3485e-07 - val_mae: 3.1841e-04\n",
            "Epoch 29/50\n",
            "\u001b[1m2163/2163\u001b[0m \u001b[32m━━━━━━━━━━━━━━━━━━━━\u001b[0m\u001b[37m\u001b[0m \u001b[1m17s\u001b[0m 8ms/step - loss: 4.5272e-07 - mae: 3.2579e-04 - val_loss: 4.3912e-07 - val_mae: 3.2192e-04\n",
            "Epoch 30/50\n",
            "\u001b[1m2163/2163\u001b[0m \u001b[32m━━━━━━━━━━━━━━━━━━━━\u001b[0m\u001b[37m\u001b[0m \u001b[1m20s\u001b[0m 8ms/step - loss: 4.4827e-07 - mae: 3.2349e-04 - val_loss: 4.3478e-07 - val_mae: 3.1464e-04\n",
            "Epoch 31/50\n",
            "\u001b[1m2163/2163\u001b[0m \u001b[32m━━━━━━━━━━━━━━━━━━━━\u001b[0m\u001b[37m\u001b[0m \u001b[1m20s\u001b[0m 7ms/step - loss: 4.5016e-07 - mae: 3.2321e-04 - val_loss: 4.3949e-07 - val_mae: 3.0474e-04\n",
            "Epoch 32/50\n",
            "\u001b[1m2163/2163\u001b[0m \u001b[32m━━━━━━━━━━━━━━━━━━━━\u001b[0m\u001b[37m\u001b[0m \u001b[1m21s\u001b[0m 7ms/step - loss: 4.6422e-07 - mae: 3.2729e-04 - val_loss: 4.4831e-07 - val_mae: 3.1569e-04\n",
            "Epoch 33/50\n",
            "\u001b[1m2163/2163\u001b[0m \u001b[32m━━━━━━━━━━━━━━━━━━━━\u001b[0m\u001b[37m\u001b[0m \u001b[1m16s\u001b[0m 7ms/step - loss: 4.4215e-07 - mae: 3.1963e-04 - val_loss: 4.5925e-07 - val_mae: 3.3393e-04\n",
            "Epoch 34/50\n",
            "\u001b[1m2163/2163\u001b[0m \u001b[32m━━━━━━━━━━━━━━━━━━━━\u001b[0m\u001b[37m\u001b[0m \u001b[1m16s\u001b[0m 7ms/step - loss: 4.4896e-07 - mae: 3.2290e-04 - val_loss: 4.3302e-07 - val_mae: 2.9986e-04\n",
            "Epoch 35/50\n",
            "\u001b[1m2163/2163\u001b[0m \u001b[32m━━━━━━━━━━━━━━━━━━━━\u001b[0m\u001b[37m\u001b[0m \u001b[1m22s\u001b[0m 8ms/step - loss: 4.6009e-07 - mae: 3.2644e-04 - val_loss: 4.4512e-07 - val_mae: 3.0894e-04\n",
            "Epoch 36/50\n",
            "\u001b[1m2163/2163\u001b[0m \u001b[32m━━━━━━━━━━━━━━━━━━━━\u001b[0m\u001b[37m\u001b[0m \u001b[1m19s\u001b[0m 7ms/step - loss: 4.4252e-07 - mae: 3.2072e-04 - val_loss: 4.7404e-07 - val_mae: 3.5619e-04\n",
            "Epoch 37/50\n",
            "\u001b[1m2163/2163\u001b[0m \u001b[32m━━━━━━━━━━━━━━━━━━━━\u001b[0m\u001b[37m\u001b[0m \u001b[1m16s\u001b[0m 8ms/step - loss: 4.5079e-07 - mae: 3.2309e-04 - val_loss: 4.3630e-07 - val_mae: 3.1560e-04\n",
            "Epoch 38/50\n",
            "\u001b[1m2163/2163\u001b[0m \u001b[32m━━━━━━━━━━━━━━━━━━━━\u001b[0m\u001b[37m\u001b[0m \u001b[1m21s\u001b[0m 8ms/step - loss: 4.5240e-07 - mae: 3.2403e-04 - val_loss: 4.3023e-07 - val_mae: 3.1008e-04\n",
            "Epoch 39/50\n",
            "\u001b[1m2163/2163\u001b[0m \u001b[32m━━━━━━━━━━━━━━━━━━━━\u001b[0m\u001b[37m\u001b[0m \u001b[1m20s\u001b[0m 7ms/step - loss: 4.4620e-07 - mae: 3.2369e-04 - val_loss: 4.5633e-07 - val_mae: 3.6441e-04\n",
            "Epoch 40/50\n",
            "\u001b[1m2163/2163\u001b[0m \u001b[32m━━━━━━━━━━━━━━━━━━━━\u001b[0m\u001b[37m\u001b[0m \u001b[1m17s\u001b[0m 8ms/step - loss: 4.5082e-07 - mae: 3.2450e-04 - val_loss: 4.3006e-07 - val_mae: 3.0724e-04\n",
            "Epoch 41/50\n",
            "\u001b[1m2163/2163\u001b[0m \u001b[32m━━━━━━━━━━━━━━━━━━━━\u001b[0m\u001b[37m\u001b[0m \u001b[1m20s\u001b[0m 8ms/step - loss: 4.4489e-07 - mae: 3.2092e-04 - val_loss: 4.4040e-07 - val_mae: 3.1363e-04\n",
            "Epoch 42/50\n",
            "\u001b[1m2163/2163\u001b[0m \u001b[32m━━━━━━━━━━━━━━━━━━━━\u001b[0m\u001b[37m\u001b[0m \u001b[1m21s\u001b[0m 8ms/step - loss: 4.4902e-07 - mae: 3.2197e-04 - val_loss: 5.3869e-07 - val_mae: 3.4595e-04\n",
            "Epoch 43/50\n",
            "\u001b[1m2163/2163\u001b[0m \u001b[32m━━━━━━━━━━━━━━━━━━━━\u001b[0m\u001b[37m\u001b[0m \u001b[1m16s\u001b[0m 7ms/step - loss: 4.5012e-07 - mae: 3.2303e-04 - val_loss: 4.6412e-07 - val_mae: 3.2345e-04\n",
            "Epoch 44/50\n",
            "\u001b[1m2163/2163\u001b[0m \u001b[32m━━━━━━━━━━━━━━━━━━━━\u001b[0m\u001b[37m\u001b[0m \u001b[1m20s\u001b[0m 7ms/step - loss: 4.4448e-07 - mae: 3.2117e-04 - val_loss: 4.3261e-07 - val_mae: 3.1149e-04\n",
            "Epoch 45/50\n",
            "\u001b[1m2163/2163\u001b[0m \u001b[32m━━━━━━━━━━━━━━━━━━━━\u001b[0m\u001b[37m\u001b[0m \u001b[1m21s\u001b[0m 8ms/step - loss: 4.4136e-07 - mae: 3.2113e-04 - val_loss: 4.6265e-07 - val_mae: 3.2451e-04\n",
            "Epoch 46/50\n",
            "\u001b[1m2163/2163\u001b[0m \u001b[32m━━━━━━━━━━━━━━━━━━━━\u001b[0m\u001b[37m\u001b[0m \u001b[1m19s\u001b[0m 7ms/step - loss: 4.4182e-07 - mae: 3.2093e-04 - val_loss: 4.3449e-07 - val_mae: 3.0493e-04\n",
            "Epoch 47/50\n",
            "\u001b[1m2163/2163\u001b[0m \u001b[32m━━━━━━━━━━━━━━━━━━━━\u001b[0m\u001b[37m\u001b[0m \u001b[1m22s\u001b[0m 8ms/step - loss: 4.5151e-07 - mae: 3.2342e-04 - val_loss: 4.9391e-07 - val_mae: 3.5022e-04\n",
            "Epoch 48/50\n",
            "\u001b[1m2163/2163\u001b[0m \u001b[32m━━━━━━━━━━━━━━━━━━━━\u001b[0m\u001b[37m\u001b[0m \u001b[1m21s\u001b[0m 8ms/step - loss: 4.5041e-07 - mae: 3.2327e-04 - val_loss: 4.2597e-07 - val_mae: 3.1175e-04\n",
            "Epoch 49/50\n",
            "\u001b[1m2163/2163\u001b[0m \u001b[32m━━━━━━━━━━━━━━━━━━━━\u001b[0m\u001b[37m\u001b[0m \u001b[1m19s\u001b[0m 7ms/step - loss: 4.4294e-07 - mae: 3.2076e-04 - val_loss: 4.2855e-07 - val_mae: 3.1217e-04\n",
            "Epoch 50/50\n",
            "\u001b[1m2163/2163\u001b[0m \u001b[32m━━━━━━━━━━━━━━━━━━━━\u001b[0m\u001b[37m\u001b[0m \u001b[1m21s\u001b[0m 8ms/step - loss: 4.4159e-07 - mae: 3.1974e-04 - val_loss: 4.3102e-07 - val_mae: 3.0827e-04\n"
          ]
        }
      ]
    },
    {
      "cell_type": "markdown",
      "source": [
        "Implement PID Controller"
      ],
      "metadata": {
        "id": "hoHgaVLUjB7a"
      }
    },
    {
      "cell_type": "code",
      "source": [
        "import control as ctrl\n",
        "\n",
        "# Predict PID parameters using trained LSTM model\n",
        "sample_input = X_test[0].reshape(1, seq_length, len(features))\n",
        "Kp, Ki, Kd = model.predict(sample_input)[0]\n",
        "\n",
        "# Define PID Controller\n",
        "pid = ctrl.TransferFunction([Kd, Kp, Ki], [1, 0])  # PID equation\n",
        "\n",
        "# Define a system response model\n",
        "system = ctrl.tf([1], [1, 2, 1])  # Example glucose-insulin system\n",
        "\n",
        "# Closed-loop system\n",
        "closed_loop = ctrl.feedback(pid * system)\n",
        "\n",
        "# Simulate step response\n",
        "import matplotlib.pyplot as plt\n",
        "\n",
        "time, response = ctrl.step_response(closed_loop)\n",
        "plt.plot(time, response)\n",
        "plt.xlabel('Time')\n",
        "plt.ylabel('Glucose Level')\n",
        "plt.title('LSTM-Based Neural Network PID Glucose Control')\n",
        "plt.show()\n"
      ],
      "metadata": {
        "id": "6j0jC8L4jD27",
        "colab": {
          "base_uri": "https://localhost:8080/",
          "height": 490
        },
        "outputId": "31ab2c54-d2b9-4d9e-873f-82eddd066f6c"
      },
      "execution_count": 7,
      "outputs": [
        {
          "output_type": "stream",
          "name": "stdout",
          "text": [
            "\u001b[1m1/1\u001b[0m \u001b[32m━━━━━━━━━━━━━━━━━━━━\u001b[0m\u001b[37m\u001b[0m \u001b[1m0s\u001b[0m 320ms/step\n"
          ]
        },
        {
          "output_type": "display_data",
          "data": {
            "text/plain": [
              "<Figure size 640x480 with 1 Axes>"
            ],
            "image/png": "[encoded data removed]"
          },
          "metadata": {}
        }
      ]
    },
    {
      "cell_type": "markdown",
      "source": [
        "Real-Time PID Tuning"
      ],
      "metadata": {
        "id": "U3bAxjpgjFhG"
      }
    },
    {
      "cell_type": "code",
      "source": [
        "import time\n",
        "from collections import deque\n",
        "\n",
        "# PID Control Variables\n",
        "prev_error = 0\n",
        "integral = 0\n",
        "buffer = deque(maxlen=seq_length)  # Buffer for last 10 readings\n",
        "dt = 5  # Time interval in seconds\n",
        "\n",
        "def pid_control(glucose, set_point, Kp, Ki, Kd):\n",
        "    global prev_error, integral\n",
        "\n",
        "    # Calculate Error\n",
        "    error = set_point - glucose\n",
        "\n",
        "    # Proportional\n",
        "    P = Kp * error\n",
        "\n",
        "    # Integral\n",
        "    integral += error * dt\n",
        "    I = Ki * integral\n",
        "\n",
        "    # Derivative\n",
        "    derivative = (error - prev_error) / dt\n",
        "    D = Kd * derivative\n",
        "\n",
        "    # Total PID Output (Insulin Rate)\n",
        "    insulin_rate = P + I + D\n",
        "\n",
        "    # Save previous error\n",
        "    prev_error = error\n",
        "\n",
        "    return max(insulin_rate, 0)  # Ensure insulin rate is not negative\n",
        "\n",
        "# Real-Time Glucose Simulation\n",
        "set_point = 100  # Target glucose level (mg/dL)\n",
        "\n",
        "while True:\n",
        "    # Simulate real-time glucose level reading\n",
        "    real_glucose = np.random.uniform(60, 180)  # Simulated glucose reading\n",
        "    real_input = np.array([real_glucose, 0, 0])  # Glucose, Insulin, Meal\n",
        "\n",
        "    # Normalize input\n",
        "    real_input = scaler.transform([real_input])\n",
        "\n",
        "    # Add to buffer\n",
        "    buffer.append(real_input[0])\n",
        "\n",
        "    if len(buffer) == seq_length:\n",
        "        # Convert buffer to numpy array\n",
        "        real_input = np.array(buffer).reshape(1, seq_length, len(features))\n",
        "\n",
        "        # Get PID gains from the model\n",
        "        Kp, Ki, Kd = model.predict(real_input)[0]\n",
        "\n",
        "        # Calculate insulin rate\n",
        "        insulin_rate = pid_control(real_glucose, set_point, Kp, Ki, Kd)\n",
        "\n",
        "        print(f\"Glucose: {real_glucose:.2f} mg/dL | Kp: {Kp:.4f} | Ki: {Ki:.4f} | Kd: {Kd:.4f} | Insulin Rate: {insulin_rate:.4f}\")\n",
        "\n",
        "    time.sleep(dt)  # Simulate real-time updates\n"
      ],
      "metadata": {
        "id": "SoyduJzRjHO-",
        "colab": {
          "base_uri": "https://localhost:8080/",
          "height": 1000
        },
        "outputId": "21ac04d7-85ef-459e-b7ef-c7d8ed3d6953"
      },
      "execution_count": 10,
      "outputs": [
        {
          "output_type": "stream",
          "name": "stderr",
          "text": [
            "/usr/local/lib/python3.11/dist-packages/sklearn/utils/validation.py:2739: UserWarning: X does not have valid feature names, but MinMaxScaler was fitted with feature names\n",
            "  warnings.warn(\n",
            "/usr/local/lib/python3.11/dist-packages/sklearn/utils/validation.py:2739: UserWarning: X does not have valid feature names, but MinMaxScaler was fitted with feature names\n",
            "  warnings.warn(\n",
            "/usr/local/lib/python3.11/dist-packages/sklearn/utils/validation.py:2739: UserWarning: X does not have valid feature names, but MinMaxScaler was fitted with feature names\n",
            "  warnings.warn(\n",
            "/usr/local/lib/python3.11/dist-packages/sklearn/utils/validation.py:2739: UserWarning: X does not have valid feature names, but MinMaxScaler was fitted with feature names\n",
            "  warnings.warn(\n",
            "/usr/local/lib/python3.11/dist-packages/sklearn/utils/validation.py:2739: UserWarning: X does not have valid feature names, but MinMaxScaler was fitted with feature names\n",
            "  warnings.warn(\n",
            "/usr/local/lib/python3.11/dist-packages/sklearn/utils/validation.py:2739: UserWarning: X does not have valid feature names, but MinMaxScaler was fitted with feature names\n",
            "  warnings.warn(\n",
            "/usr/local/lib/python3.11/dist-packages/sklearn/utils/validation.py:2739: UserWarning: X does not have valid feature names, but MinMaxScaler was fitted with feature names\n",
            "  warnings.warn(\n",
            "/usr/local/lib/python3.11/dist-packages/sklearn/utils/validation.py:2739: UserWarning: X does not have valid feature names, but MinMaxScaler was fitted with feature names\n",
            "  warnings.warn(\n",
            "/usr/local/lib/python3.11/dist-packages/sklearn/utils/validation.py:2739: UserWarning: X does not have valid feature names, but MinMaxScaler was fitted with feature names\n",
            "  warnings.warn(\n"
          ]
        },
        {
          "output_type": "stream",
          "name": "stdout",
          "text": [
            "\u001b[1m1/1\u001b[0m \u001b[32m━━━━━━━━━━━━━━━━━━━━\u001b[0m\u001b[37m\u001b[0m \u001b[1m0s\u001b[0m 30ms/step\n"
          ]
        },
        {
          "output_type": "stream",
          "name": "stderr",
          "text": [
            "/usr/local/lib/python3.11/dist-packages/sklearn/utils/validation.py:2739: UserWarning: X does not have valid feature names, but MinMaxScaler was fitted with feature names\n",
            "  warnings.warn(\n"
          ]
        },
        {
          "output_type": "stream",
          "name": "stdout",
          "text": [
            "Glucose: 78.67 mg/dL | Kp: 0.0038 | Ki: 0.0004 | Kd: 0.0000 | Insulin Rate: 0.1183\n",
            "\u001b[1m1/1\u001b[0m \u001b[32m━━━━━━━━━━━━━━━━━━━━\u001b[0m\u001b[37m\u001b[0m \u001b[1m0s\u001b[0m 41ms/step\n"
          ]
        },
        {
          "output_type": "stream",
          "name": "stderr",
          "text": [
            "/usr/local/lib/python3.11/dist-packages/sklearn/utils/validation.py:2739: UserWarning: X does not have valid feature names, but MinMaxScaler was fitted with feature names\n",
            "  warnings.warn(\n"
          ]
        },
        {
          "output_type": "stream",
          "name": "stdout",
          "text": [
            "Glucose: 99.18 mg/dL | Kp: 0.0033 | Ki: 0.0003 | Kd: -0.0000 | Insulin Rate: 0.0360\n",
            "\u001b[1m1/1\u001b[0m \u001b[32m━━━━━━━━━━━━━━━━━━━━\u001b[0m\u001b[37m\u001b[0m \u001b[1m0s\u001b[0m 29ms/step\n"
          ]
        },
        {
          "output_type": "stream",
          "name": "stderr",
          "text": [
            "/usr/local/lib/python3.11/dist-packages/sklearn/utils/validation.py:2739: UserWarning: X does not have valid feature names, but MinMaxScaler was fitted with feature names\n",
            "  warnings.warn(\n"
          ]
        },
        {
          "output_type": "stream",
          "name": "stdout",
          "text": [
            "Glucose: 109.84 mg/dL | Kp: 0.0027 | Ki: 0.0002 | Kd: -0.0000 | Insulin Rate: 0.0000\n",
            "\u001b[1m1/1\u001b[0m \u001b[32m━━━━━━━━━━━━━━━━━━━━\u001b[0m\u001b[37m\u001b[0m \u001b[1m0s\u001b[0m 29ms/step\n"
          ]
        },
        {
          "output_type": "stream",
          "name": "stderr",
          "text": [
            "/usr/local/lib/python3.11/dist-packages/sklearn/utils/validation.py:2739: UserWarning: X does not have valid feature names, but MinMaxScaler was fitted with feature names\n",
            "  warnings.warn(\n"
          ]
        },
        {
          "output_type": "stream",
          "name": "stdout",
          "text": [
            "Glucose: 77.02 mg/dL | Kp: 0.0028 | Ki: 0.0003 | Kd: -0.0000 | Insulin Rate: 0.1114\n",
            "\u001b[1m1/1\u001b[0m \u001b[32m━━━━━━━━━━━━━━━━━━━━\u001b[0m\u001b[37m\u001b[0m \u001b[1m0s\u001b[0m 31ms/step\n"
          ]
        },
        {
          "output_type": "stream",
          "name": "stderr",
          "text": [
            "/usr/local/lib/python3.11/dist-packages/sklearn/utils/validation.py:2739: UserWarning: X does not have valid feature names, but MinMaxScaler was fitted with feature names\n",
            "  warnings.warn(\n"
          ]
        },
        {
          "output_type": "stream",
          "name": "stdout",
          "text": [
            "Glucose: 69.23 mg/dL | Kp: 0.0030 | Ki: 0.0003 | Kd: -0.0000 | Insulin Rate: 0.1973\n",
            "\u001b[1m1/1\u001b[0m \u001b[32m━━━━━━━━━━━━━━━━━━━━\u001b[0m\u001b[37m\u001b[0m \u001b[1m0s\u001b[0m 30ms/step\n"
          ]
        },
        {
          "output_type": "stream",
          "name": "stderr",
          "text": [
            "/usr/local/lib/python3.11/dist-packages/sklearn/utils/validation.py:2739: UserWarning: X does not have valid feature names, but MinMaxScaler was fitted with feature names\n",
            "  warnings.warn(\n"
          ]
        },
        {
          "output_type": "stream",
          "name": "stdout",
          "text": [
            "Glucose: 131.49 mg/dL | Kp: 0.0022 | Ki: 0.0002 | Kd: -0.0000 | Insulin Rate: 0.0000\n",
            "\u001b[1m1/1\u001b[0m \u001b[32m━━━━━━━━━━━━━━━━━━━━\u001b[0m\u001b[37m\u001b[0m \u001b[1m0s\u001b[0m 30ms/step\n"
          ]
        },
        {
          "output_type": "stream",
          "name": "stderr",
          "text": [
            "/usr/local/lib/python3.11/dist-packages/sklearn/utils/validation.py:2739: UserWarning: X does not have valid feature names, but MinMaxScaler was fitted with feature names\n",
            "  warnings.warn(\n"
          ]
        },
        {
          "output_type": "stream",
          "name": "stdout",
          "text": [
            "Glucose: 67.08 mg/dL | Kp: 0.0023 | Ki: 0.0002 | Kd: -0.0000 | Insulin Rate: 0.1555\n",
            "\u001b[1m1/1\u001b[0m \u001b[32m━━━━━━━━━━━━━━━━━━━━\u001b[0m\u001b[37m\u001b[0m \u001b[1m0s\u001b[0m 35ms/step\n"
          ]
        },
        {
          "output_type": "stream",
          "name": "stderr",
          "text": [
            "/usr/local/lib/python3.11/dist-packages/sklearn/utils/validation.py:2739: UserWarning: X does not have valid feature names, but MinMaxScaler was fitted with feature names\n",
            "  warnings.warn(\n"
          ]
        },
        {
          "output_type": "stream",
          "name": "stdout",
          "text": [
            "Glucose: 61.02 mg/dL | Kp: 0.0026 | Ki: 0.0003 | Kd: -0.0000 | Insulin Rate: 0.2397\n",
            "\u001b[1m1/1\u001b[0m \u001b[32m━━━━━━━━━━━━━━━━━━━━\u001b[0m\u001b[37m\u001b[0m \u001b[1m0s\u001b[0m 42ms/step\n"
          ]
        },
        {
          "output_type": "stream",
          "name": "stderr",
          "text": [
            "/usr/local/lib/python3.11/dist-packages/sklearn/utils/validation.py:2739: UserWarning: X does not have valid feature names, but MinMaxScaler was fitted with feature names\n",
            "  warnings.warn(\n"
          ]
        },
        {
          "output_type": "stream",
          "name": "stdout",
          "text": [
            "Glucose: 139.01 mg/dL | Kp: 0.0023 | Ki: 0.0002 | Kd: -0.0000 | Insulin Rate: 0.0000\n",
            "\u001b[1m1/1\u001b[0m \u001b[32m━━━━━━━━━━━━━━━━━━━━\u001b[0m\u001b[37m\u001b[0m \u001b[1m0s\u001b[0m 31ms/step\n"
          ]
        },
        {
          "output_type": "stream",
          "name": "stderr",
          "text": [
            "/usr/local/lib/python3.11/dist-packages/sklearn/utils/validation.py:2739: UserWarning: X does not have valid feature names, but MinMaxScaler was fitted with feature names\n",
            "  warnings.warn(\n"
          ]
        },
        {
          "output_type": "stream",
          "name": "stdout",
          "text": [
            "Glucose: 168.09 mg/dL | Kp: 0.0027 | Ki: 0.0002 | Kd: -0.0000 | Insulin Rate: 0.0000\n",
            "\u001b[1m1/1\u001b[0m \u001b[32m━━━━━━━━━━━━━━━━━━━━\u001b[0m\u001b[37m\u001b[0m \u001b[1m0s\u001b[0m 29ms/step\n"
          ]
        },
        {
          "output_type": "stream",
          "name": "stderr",
          "text": [
            "/usr/local/lib/python3.11/dist-packages/sklearn/utils/validation.py:2739: UserWarning: X does not have valid feature names, but MinMaxScaler was fitted with feature names\n",
            "  warnings.warn(\n"
          ]
        },
        {
          "output_type": "stream",
          "name": "stdout",
          "text": [
            "Glucose: 97.69 mg/dL | Kp: 0.0030 | Ki: 0.0002 | Kd: -0.0000 | Insulin Rate: 0.0089\n",
            "\u001b[1m1/1\u001b[0m \u001b[32m━━━━━━━━━━━━━━━━━━━━\u001b[0m\u001b[37m\u001b[0m \u001b[1m0s\u001b[0m 29ms/step\n"
          ]
        },
        {
          "output_type": "stream",
          "name": "stderr",
          "text": [
            "/usr/local/lib/python3.11/dist-packages/sklearn/utils/validation.py:2739: UserWarning: X does not have valid feature names, but MinMaxScaler was fitted with feature names\n",
            "  warnings.warn(\n"
          ]
        },
        {
          "output_type": "stream",
          "name": "stdout",
          "text": [
            "Glucose: 86.94 mg/dL | Kp: 0.0034 | Ki: 0.0003 | Kd: 0.0000 | Insulin Rate: 0.0675\n",
            "\u001b[1m1/1\u001b[0m \u001b[32m━━━━━━━━━━━━━━━━━━━━\u001b[0m\u001b[37m\u001b[0m \u001b[1m0s\u001b[0m 32ms/step\n"
          ]
        },
        {
          "output_type": "stream",
          "name": "stderr",
          "text": [
            "/usr/local/lib/python3.11/dist-packages/sklearn/utils/validation.py:2739: UserWarning: X does not have valid feature names, but MinMaxScaler was fitted with feature names\n",
            "  warnings.warn(\n"
          ]
        },
        {
          "output_type": "stream",
          "name": "stdout",
          "text": [
            "Glucose: 89.07 mg/dL | Kp: 0.0039 | Ki: 0.0004 | Kd: 0.0000 | Insulin Rate: 0.0896\n",
            "\u001b[1m1/1\u001b[0m \u001b[32m━━━━━━━━━━━━━━━━━━━━\u001b[0m\u001b[37m\u001b[0m \u001b[1m0s\u001b[0m 30ms/step\n"
          ]
        },
        {
          "output_type": "stream",
          "name": "stderr",
          "text": [
            "/usr/local/lib/python3.11/dist-packages/sklearn/utils/validation.py:2739: UserWarning: X does not have valid feature names, but MinMaxScaler was fitted with feature names\n",
            "  warnings.warn(\n"
          ]
        },
        {
          "output_type": "stream",
          "name": "stdout",
          "text": [
            "Glucose: 61.50 mg/dL | Kp: 0.0035 | Ki: 0.0004 | Kd: -0.0000 | Insulin Rate: 0.2459\n",
            "\u001b[1m1/1\u001b[0m \u001b[32m━━━━━━━━━━━━━━━━━━━━\u001b[0m\u001b[37m\u001b[0m \u001b[1m0s\u001b[0m 30ms/step\n"
          ]
        },
        {
          "output_type": "stream",
          "name": "stderr",
          "text": [
            "/usr/local/lib/python3.11/dist-packages/sklearn/utils/validation.py:2739: UserWarning: X does not have valid feature names, but MinMaxScaler was fitted with feature names\n",
            "  warnings.warn(\n"
          ]
        },
        {
          "output_type": "stream",
          "name": "stdout",
          "text": [
            "Glucose: 138.34 mg/dL | Kp: 0.0023 | Ki: 0.0002 | Kd: -0.0000 | Insulin Rate: 0.0000\n",
            "\u001b[1m1/1\u001b[0m \u001b[32m━━━━━━━━━━━━━━━━━━━━\u001b[0m\u001b[37m\u001b[0m \u001b[1m0s\u001b[0m 44ms/step\n"
          ]
        },
        {
          "output_type": "stream",
          "name": "stderr",
          "text": [
            "/usr/local/lib/python3.11/dist-packages/sklearn/utils/validation.py:2739: UserWarning: X does not have valid feature names, but MinMaxScaler was fitted with feature names\n",
            "  warnings.warn(\n"
          ]
        },
        {
          "output_type": "stream",
          "name": "stdout",
          "text": [
            "Glucose: 130.25 mg/dL | Kp: 0.0027 | Ki: 0.0002 | Kd: -0.0000 | Insulin Rate: 0.0000\n",
            "\u001b[1m1/1\u001b[0m \u001b[32m━━━━━━━━━━━━━━━━━━━━\u001b[0m\u001b[37m\u001b[0m \u001b[1m0s\u001b[0m 31ms/step\n"
          ]
        },
        {
          "output_type": "stream",
          "name": "stderr",
          "text": [
            "/usr/local/lib/python3.11/dist-packages/sklearn/utils/validation.py:2739: UserWarning: X does not have valid feature names, but MinMaxScaler was fitted with feature names\n",
            "  warnings.warn(\n"
          ]
        },
        {
          "output_type": "stream",
          "name": "stdout",
          "text": [
            "Glucose: 158.08 mg/dL | Kp: 0.0030 | Ki: 0.0002 | Kd: -0.0000 | Insulin Rate: 0.0000\n",
            "\u001b[1m1/1\u001b[0m \u001b[32m━━━━━━━━━━━━━━━━━━━━\u001b[0m\u001b[37m\u001b[0m \u001b[1m0s\u001b[0m 31ms/step\n"
          ]
        },
        {
          "output_type": "stream",
          "name": "stderr",
          "text": [
            "/usr/local/lib/python3.11/dist-packages/sklearn/utils/validation.py:2739: UserWarning: X does not have valid feature names, but MinMaxScaler was fitted with feature names\n",
            "  warnings.warn(\n"
          ]
        },
        {
          "output_type": "stream",
          "name": "stdout",
          "text": [
            "Glucose: 84.54 mg/dL | Kp: 0.0034 | Ki: 0.0003 | Kd: 0.0000 | Insulin Rate: 0.0000\n",
            "\u001b[1m1/1\u001b[0m \u001b[32m━━━━━━━━━━━━━━━━━━━━\u001b[0m\u001b[37m\u001b[0m \u001b[1m0s\u001b[0m 31ms/step\n"
          ]
        },
        {
          "output_type": "stream",
          "name": "stderr",
          "text": [
            "/usr/local/lib/python3.11/dist-packages/sklearn/utils/validation.py:2739: UserWarning: X does not have valid feature names, but MinMaxScaler was fitted with feature names\n",
            "  warnings.warn(\n"
          ]
        },
        {
          "output_type": "stream",
          "name": "stdout",
          "text": [
            "Glucose: 111.06 mg/dL | Kp: 0.0039 | Ki: 0.0004 | Kd: 0.0000 | Insulin Rate: 0.0000\n",
            "\u001b[1m1/1\u001b[0m \u001b[32m━━━━━━━━━━━━━━━━━━━━\u001b[0m\u001b[37m\u001b[0m \u001b[1m0s\u001b[0m 30ms/step\n"
          ]
        },
        {
          "output_type": "stream",
          "name": "stderr",
          "text": [
            "/usr/local/lib/python3.11/dist-packages/sklearn/utils/validation.py:2739: UserWarning: X does not have valid feature names, but MinMaxScaler was fitted with feature names\n",
            "  warnings.warn(\n"
          ]
        },
        {
          "output_type": "stream",
          "name": "stdout",
          "text": [
            "Glucose: 123.65 mg/dL | Kp: 0.0033 | Ki: 0.0003 | Kd: -0.0000 | Insulin Rate: 0.0000\n",
            "\u001b[1m1/1\u001b[0m \u001b[32m━━━━━━━━━━━━━━━━━━━━\u001b[0m\u001b[37m\u001b[0m \u001b[1m0s\u001b[0m 30ms/step\n"
          ]
        },
        {
          "output_type": "stream",
          "name": "stderr",
          "text": [
            "/usr/local/lib/python3.11/dist-packages/sklearn/utils/validation.py:2739: UserWarning: X does not have valid feature names, but MinMaxScaler was fitted with feature names\n",
            "  warnings.warn(\n"
          ]
        },
        {
          "output_type": "stream",
          "name": "stdout",
          "text": [
            "Glucose: 124.20 mg/dL | Kp: 0.0030 | Ki: 0.0002 | Kd: -0.0000 | Insulin Rate: 0.0000\n",
            "\u001b[1m1/1\u001b[0m \u001b[32m━━━━━━━━━━━━━━━━━━━━\u001b[0m\u001b[37m\u001b[0m \u001b[1m0s\u001b[0m 30ms/step\n"
          ]
        },
        {
          "output_type": "stream",
          "name": "stderr",
          "text": [
            "/usr/local/lib/python3.11/dist-packages/sklearn/utils/validation.py:2739: UserWarning: X does not have valid feature names, but MinMaxScaler was fitted with feature names\n",
            "  warnings.warn(\n"
          ]
        },
        {
          "output_type": "stream",
          "name": "stdout",
          "text": [
            "Glucose: 175.71 mg/dL | Kp: 0.0030 | Ki: 0.0002 | Kd: -0.0000 | Insulin Rate: 0.0000\n",
            "\u001b[1m1/1\u001b[0m \u001b[32m━━━━━━━━━━━━━━━━━━━━\u001b[0m\u001b[37m\u001b[0m \u001b[1m0s\u001b[0m 40ms/step\n"
          ]
        },
        {
          "output_type": "stream",
          "name": "stderr",
          "text": [
            "/usr/local/lib/python3.11/dist-packages/sklearn/utils/validation.py:2739: UserWarning: X does not have valid feature names, but MinMaxScaler was fitted with feature names\n",
            "  warnings.warn(\n"
          ]
        },
        {
          "output_type": "stream",
          "name": "stdout",
          "text": [
            "Glucose: 179.00 mg/dL | Kp: 0.0030 | Ki: 0.0002 | Kd: -0.0000 | Insulin Rate: 0.0000\n",
            "\u001b[1m1/1\u001b[0m \u001b[32m━━━━━━━━━━━━━━━━━━━━\u001b[0m\u001b[37m\u001b[0m \u001b[1m0s\u001b[0m 30ms/step\n"
          ]
        },
        {
          "output_type": "stream",
          "name": "stderr",
          "text": [
            "/usr/local/lib/python3.11/dist-packages/sklearn/utils/validation.py:2739: UserWarning: X does not have valid feature names, but MinMaxScaler was fitted with feature names\n",
            "  warnings.warn(\n"
          ]
        },
        {
          "output_type": "stream",
          "name": "stdout",
          "text": [
            "Glucose: 63.65 mg/dL | Kp: 0.0042 | Ki: 0.0004 | Kd: 0.0000 | Insulin Rate: 0.0000\n",
            "\u001b[1m1/1\u001b[0m \u001b[32m━━━━━━━━━━━━━━━━━━━━\u001b[0m\u001b[37m\u001b[0m \u001b[1m0s\u001b[0m 29ms/step\n"
          ]
        },
        {
          "output_type": "stream",
          "name": "stderr",
          "text": [
            "/usr/local/lib/python3.11/dist-packages/sklearn/utils/validation.py:2739: UserWarning: X does not have valid feature names, but MinMaxScaler was fitted with feature names\n",
            "  warnings.warn(\n"
          ]
        },
        {
          "output_type": "stream",
          "name": "stdout",
          "text": [
            "Glucose: 89.06 mg/dL | Kp: 0.0051 | Ki: 0.0005 | Kd: 0.0000 | Insulin Rate: 0.0000\n",
            "\u001b[1m1/1\u001b[0m \u001b[32m━━━━━━━━━━━━━━━━━━━━\u001b[0m\u001b[37m\u001b[0m \u001b[1m0s\u001b[0m 29ms/step\n"
          ]
        },
        {
          "output_type": "stream",
          "name": "stderr",
          "text": [
            "/usr/local/lib/python3.11/dist-packages/sklearn/utils/validation.py:2739: UserWarning: X does not have valid feature names, but MinMaxScaler was fitted with feature names\n",
            "  warnings.warn(\n"
          ]
        },
        {
          "output_type": "stream",
          "name": "stdout",
          "text": [
            "Glucose: 84.39 mg/dL | Kp: 0.0044 | Ki: 0.0004 | Kd: 0.0000 | Insulin Rate: 0.0000\n",
            "\u001b[1m1/1\u001b[0m \u001b[32m━━━━━━━━━━━━━━━━━━━━\u001b[0m\u001b[37m\u001b[0m \u001b[1m0s\u001b[0m 31ms/step\n"
          ]
        },
        {
          "output_type": "stream",
          "name": "stderr",
          "text": [
            "/usr/local/lib/python3.11/dist-packages/sklearn/utils/validation.py:2739: UserWarning: X does not have valid feature names, but MinMaxScaler was fitted with feature names\n",
            "  warnings.warn(\n"
          ]
        },
        {
          "output_type": "stream",
          "name": "stdout",
          "text": [
            "Glucose: 158.39 mg/dL | Kp: 0.0026 | Ki: 0.0002 | Kd: -0.0000 | Insulin Rate: 0.0000\n",
            "\u001b[1m1/1\u001b[0m \u001b[32m━━━━━━━━━━━━━━━━━━━━\u001b[0m\u001b[37m\u001b[0m \u001b[1m0s\u001b[0m 30ms/step\n"
          ]
        },
        {
          "output_type": "stream",
          "name": "stderr",
          "text": [
            "/usr/local/lib/python3.11/dist-packages/sklearn/utils/validation.py:2739: UserWarning: X does not have valid feature names, but MinMaxScaler was fitted with feature names\n",
            "  warnings.warn(\n"
          ]
        },
        {
          "output_type": "stream",
          "name": "stdout",
          "text": [
            "Glucose: 100.19 mg/dL | Kp: 0.0027 | Ki: 0.0002 | Kd: -0.0000 | Insulin Rate: 0.0000\n",
            "\u001b[1m1/1\u001b[0m \u001b[32m━━━━━━━━━━━━━━━━━━━━\u001b[0m\u001b[37m\u001b[0m \u001b[1m0s\u001b[0m 43ms/step\n"
          ]
        },
        {
          "output_type": "stream",
          "name": "stderr",
          "text": [
            "/usr/local/lib/python3.11/dist-packages/sklearn/utils/validation.py:2739: UserWarning: X does not have valid feature names, but MinMaxScaler was fitted with feature names\n",
            "  warnings.warn(\n"
          ]
        },
        {
          "output_type": "stream",
          "name": "stdout",
          "text": [
            "Glucose: 159.52 mg/dL | Kp: 0.0030 | Ki: 0.0002 | Kd: -0.0000 | Insulin Rate: 0.0000\n",
            "\u001b[1m1/1\u001b[0m \u001b[32m━━━━━━━━━━━━━━━━━━━━\u001b[0m\u001b[37m\u001b[0m \u001b[1m0s\u001b[0m 45ms/step\n"
          ]
        },
        {
          "output_type": "stream",
          "name": "stderr",
          "text": [
            "/usr/local/lib/python3.11/dist-packages/sklearn/utils/validation.py:2739: UserWarning: X does not have valid feature names, but MinMaxScaler was fitted with feature names\n",
            "  warnings.warn(\n"
          ]
        },
        {
          "output_type": "stream",
          "name": "stdout",
          "text": [
            "Glucose: 169.90 mg/dL | Kp: 0.0030 | Ki: 0.0002 | Kd: -0.0000 | Insulin Rate: 0.0000\n",
            "\u001b[1m1/1\u001b[0m \u001b[32m━━━━━━━━━━━━━━━━━━━━\u001b[0m\u001b[37m\u001b[0m \u001b[1m0s\u001b[0m 31ms/step\n"
          ]
        },
        {
          "output_type": "stream",
          "name": "stderr",
          "text": [
            "/usr/local/lib/python3.11/dist-packages/sklearn/utils/validation.py:2739: UserWarning: X does not have valid feature names, but MinMaxScaler was fitted with feature names\n",
            "  warnings.warn(\n"
          ]
        },
        {
          "output_type": "stream",
          "name": "stdout",
          "text": [
            "Glucose: 168.99 mg/dL | Kp: 0.0030 | Ki: 0.0002 | Kd: -0.0000 | Insulin Rate: 0.0000\n",
            "\u001b[1m1/1\u001b[0m \u001b[32m━━━━━━━━━━━━━━━━━━━━\u001b[0m\u001b[37m\u001b[0m \u001b[1m0s\u001b[0m 30ms/step\n"
          ]
        },
        {
          "output_type": "stream",
          "name": "stderr",
          "text": [
            "/usr/local/lib/python3.11/dist-packages/sklearn/utils/validation.py:2739: UserWarning: X does not have valid feature names, but MinMaxScaler was fitted with feature names\n",
            "  warnings.warn(\n"
          ]
        },
        {
          "output_type": "stream",
          "name": "stdout",
          "text": [
            "Glucose: 95.57 mg/dL | Kp: 0.0039 | Ki: 0.0004 | Kd: 0.0000 | Insulin Rate: 0.0000\n",
            "\u001b[1m1/1\u001b[0m \u001b[32m━━━━━━━━━━━━━━━━━━━━\u001b[0m\u001b[37m\u001b[0m \u001b[1m0s\u001b[0m 31ms/step\n"
          ]
        },
        {
          "output_type": "stream",
          "name": "stderr",
          "text": [
            "/usr/local/lib/python3.11/dist-packages/sklearn/utils/validation.py:2739: UserWarning: X does not have valid feature names, but MinMaxScaler was fitted with feature names\n",
            "  warnings.warn(\n"
          ]
        },
        {
          "output_type": "stream",
          "name": "stdout",
          "text": [
            "Glucose: 105.35 mg/dL | Kp: 0.0044 | Ki: 0.0004 | Kd: 0.0000 | Insulin Rate: 0.0000\n",
            "\u001b[1m1/1\u001b[0m \u001b[32m━━━━━━━━━━━━━━━━━━━━\u001b[0m\u001b[37m\u001b[0m \u001b[1m0s\u001b[0m 30ms/step\n"
          ]
        },
        {
          "output_type": "stream",
          "name": "stderr",
          "text": [
            "/usr/local/lib/python3.11/dist-packages/sklearn/utils/validation.py:2739: UserWarning: X does not have valid feature names, but MinMaxScaler was fitted with feature names\n",
            "  warnings.warn(\n"
          ]
        },
        {
          "output_type": "stream",
          "name": "stdout",
          "text": [
            "Glucose: 97.48 mg/dL | Kp: 0.0044 | Ki: 0.0004 | Kd: 0.0000 | Insulin Rate: 0.0000\n",
            "\u001b[1m1/1\u001b[0m \u001b[32m━━━━━━━━━━━━━━━━━━━━\u001b[0m\u001b[37m\u001b[0m \u001b[1m0s\u001b[0m 30ms/step\n"
          ]
        },
        {
          "output_type": "stream",
          "name": "stderr",
          "text": [
            "/usr/local/lib/python3.11/dist-packages/sklearn/utils/validation.py:2739: UserWarning: X does not have valid feature names, but MinMaxScaler was fitted with feature names\n",
            "  warnings.warn(\n"
          ]
        },
        {
          "output_type": "stream",
          "name": "stdout",
          "text": [
            "Glucose: 97.78 mg/dL | Kp: 0.0036 | Ki: 0.0003 | Kd: 0.0000 | Insulin Rate: 0.0000\n",
            "\u001b[1m1/1\u001b[0m \u001b[32m━━━━━━━━━━━━━━━━━━━━\u001b[0m\u001b[37m\u001b[0m \u001b[1m0s\u001b[0m 30ms/step\n"
          ]
        },
        {
          "output_type": "stream",
          "name": "stderr",
          "text": [
            "/usr/local/lib/python3.11/dist-packages/sklearn/utils/validation.py:2739: UserWarning: X does not have valid feature names, but MinMaxScaler was fitted with feature names\n",
            "  warnings.warn(\n"
          ]
        },
        {
          "output_type": "stream",
          "name": "stdout",
          "text": [
            "Glucose: 74.05 mg/dL | Kp: 0.0031 | Ki: 0.0003 | Kd: -0.0000 | Insulin Rate: 0.0000\n",
            "\u001b[1m1/1\u001b[0m \u001b[32m━━━━━━━━━━━━━━━━━━━━\u001b[0m\u001b[37m\u001b[0m \u001b[1m0s\u001b[0m 41ms/step\n"
          ]
        },
        {
          "output_type": "stream",
          "name": "stderr",
          "text": [
            "/usr/local/lib/python3.11/dist-packages/sklearn/utils/validation.py:2739: UserWarning: X does not have valid feature names, but MinMaxScaler was fitted with feature names\n",
            "  warnings.warn(\n"
          ]
        },
        {
          "output_type": "stream",
          "name": "stdout",
          "text": [
            "Glucose: 75.22 mg/dL | Kp: 0.0030 | Ki: 0.0003 | Kd: -0.0000 | Insulin Rate: 0.0000\n",
            "\u001b[1m1/1\u001b[0m \u001b[32m━━━━━━━━━━━━━━━━━━━━\u001b[0m\u001b[37m\u001b[0m \u001b[1m0s\u001b[0m 29ms/step\n"
          ]
        },
        {
          "output_type": "stream",
          "name": "stderr",
          "text": [
            "/usr/local/lib/python3.11/dist-packages/sklearn/utils/validation.py:2739: UserWarning: X does not have valid feature names, but MinMaxScaler was fitted with feature names\n",
            "  warnings.warn(\n"
          ]
        },
        {
          "output_type": "stream",
          "name": "stdout",
          "text": [
            "Glucose: 89.13 mg/dL | Kp: 0.0025 | Ki: 0.0003 | Kd: -0.0000 | Insulin Rate: 0.0000\n",
            "\u001b[1m1/1\u001b[0m \u001b[32m━━━━━━━━━━━━━━━━━━━━\u001b[0m\u001b[37m\u001b[0m \u001b[1m0s\u001b[0m 29ms/step\n"
          ]
        },
        {
          "output_type": "stream",
          "name": "stderr",
          "text": [
            "/usr/local/lib/python3.11/dist-packages/sklearn/utils/validation.py:2739: UserWarning: X does not have valid feature names, but MinMaxScaler was fitted with feature names\n",
            "  warnings.warn(\n"
          ]
        },
        {
          "output_type": "stream",
          "name": "stdout",
          "text": [
            "Glucose: 79.94 mg/dL | Kp: 0.0021 | Ki: 0.0002 | Kd: -0.0000 | Insulin Rate: 0.0000\n",
            "\u001b[1m1/1\u001b[0m \u001b[32m━━━━━━━━━━━━━━━━━━━━\u001b[0m\u001b[37m\u001b[0m \u001b[1m0s\u001b[0m 31ms/step\n"
          ]
        },
        {
          "output_type": "stream",
          "name": "stderr",
          "text": [
            "/usr/local/lib/python3.11/dist-packages/sklearn/utils/validation.py:2739: UserWarning: X does not have valid feature names, but MinMaxScaler was fitted with feature names\n",
            "  warnings.warn(\n"
          ]
        },
        {
          "output_type": "stream",
          "name": "stdout",
          "text": [
            "Glucose: 137.87 mg/dL | Kp: 0.0022 | Ki: 0.0002 | Kd: -0.0000 | Insulin Rate: 0.0000\n",
            "\u001b[1m1/1\u001b[0m \u001b[32m━━━━━━━━━━━━━━━━━━━━\u001b[0m\u001b[37m\u001b[0m \u001b[1m0s\u001b[0m 32ms/step\n"
          ]
        },
        {
          "output_type": "stream",
          "name": "stderr",
          "text": [
            "/usr/local/lib/python3.11/dist-packages/sklearn/utils/validation.py:2739: UserWarning: X does not have valid feature names, but MinMaxScaler was fitted with feature names\n",
            "  warnings.warn(\n"
          ]
        },
        {
          "output_type": "stream",
          "name": "stdout",
          "text": [
            "Glucose: 80.69 mg/dL | Kp: 0.0026 | Ki: 0.0002 | Kd: -0.0000 | Insulin Rate: 0.0000\n",
            "\u001b[1m1/1\u001b[0m \u001b[32m━━━━━━━━━━━━━━━━━━━━\u001b[0m\u001b[37m\u001b[0m \u001b[1m0s\u001b[0m 31ms/step\n"
          ]
        },
        {
          "output_type": "stream",
          "name": "stderr",
          "text": [
            "/usr/local/lib/python3.11/dist-packages/sklearn/utils/validation.py:2739: UserWarning: X does not have valid feature names, but MinMaxScaler was fitted with feature names\n",
            "  warnings.warn(\n"
          ]
        },
        {
          "output_type": "stream",
          "name": "stdout",
          "text": [
            "Glucose: 177.18 mg/dL | Kp: 0.0028 | Ki: 0.0002 | Kd: -0.0000 | Insulin Rate: 0.0000\n",
            "\u001b[1m1/1\u001b[0m \u001b[32m━━━━━━━━━━━━━━━━━━━━\u001b[0m\u001b[37m\u001b[0m \u001b[1m0s\u001b[0m 31ms/step\n"
          ]
        },
        {
          "output_type": "stream",
          "name": "stderr",
          "text": [
            "/usr/local/lib/python3.11/dist-packages/sklearn/utils/validation.py:2739: UserWarning: X does not have valid feature names, but MinMaxScaler was fitted with feature names\n",
            "  warnings.warn(\n"
          ]
        },
        {
          "output_type": "stream",
          "name": "stdout",
          "text": [
            "Glucose: 74.03 mg/dL | Kp: 0.0030 | Ki: 0.0002 | Kd: -0.0000 | Insulin Rate: 0.0000\n",
            "\u001b[1m1/1\u001b[0m \u001b[32m━━━━━━━━━━━━━━━━━━━━\u001b[0m\u001b[37m\u001b[0m \u001b[1m0s\u001b[0m 44ms/step\n"
          ]
        },
        {
          "output_type": "stream",
          "name": "stderr",
          "text": [
            "/usr/local/lib/python3.11/dist-packages/sklearn/utils/validation.py:2739: UserWarning: X does not have valid feature names, but MinMaxScaler was fitted with feature names\n",
            "  warnings.warn(\n"
          ]
        },
        {
          "output_type": "stream",
          "name": "stdout",
          "text": [
            "Glucose: 71.66 mg/dL | Kp: 0.0037 | Ki: 0.0003 | Kd: 0.0000 | Insulin Rate: 0.0000\n",
            "\u001b[1m1/1\u001b[0m \u001b[32m━━━━━━━━━━━━━━━━━━━━\u001b[0m\u001b[37m\u001b[0m \u001b[1m0s\u001b[0m 30ms/step\n"
          ]
        },
        {
          "output_type": "stream",
          "name": "stderr",
          "text": [
            "/usr/local/lib/python3.11/dist-packages/sklearn/utils/validation.py:2739: UserWarning: X does not have valid feature names, but MinMaxScaler was fitted with feature names\n",
            "  warnings.warn(\n"
          ]
        },
        {
          "output_type": "stream",
          "name": "stdout",
          "text": [
            "Glucose: 64.55 mg/dL | Kp: 0.0035 | Ki: 0.0004 | Kd: -0.0000 | Insulin Rate: 0.0000\n"
          ]
        },
        {
          "output_type": "error",
          "ename": "KeyboardInterrupt",
          "evalue": "",
          "traceback": [
            "\u001b[0;31m---------------------------------------------------------------------------\u001b[0m",
            "\u001b[0;31mKeyboardInterrupt\u001b[0m                         Traceback (most recent call last)",
            "\u001b[0;32m<ipython-input-10-8f075280dbe2>\u001b[0m in \u001b[0;36m<cell line: 0>\u001b[0;34m()\u001b[0m\n\u001b[1;32m     59\u001b[0m         \u001b[0mprint\u001b[0m\u001b[0;34m(\u001b[0m\u001b[0;34mf\"Glucose: {real_glucose:.2f} mg/dL | Kp: {Kp:.4f} | Ki: {Ki:.4f} | Kd: {Kd:.4f} | Insulin Rate: {insulin_rate:.4f}\"\u001b[0m\u001b[0;34m)\u001b[0m\u001b[0;34m\u001b[0m\u001b[0;34m\u001b[0m\u001b[0m\n\u001b[1;32m     60\u001b[0m \u001b[0;34m\u001b[0m\u001b[0m\n\u001b[0;32m---> 61\u001b[0;31m     \u001b[0mtime\u001b[0m\u001b[0;34m.\u001b[0m\u001b[0msleep\u001b[0m\u001b[0;34m(\u001b[0m\u001b[0mdt\u001b[0m\u001b[0;34m)\u001b[0m  \u001b[0;31m# Simulate real-time updates\u001b[0m\u001b[0;34m\u001b[0m\u001b[0;34m\u001b[0m\u001b[0m\n\u001b[0m",
            "\u001b[0;31mKeyboardInterrupt\u001b[0m: "
          ]
        }
      ]
    }
  ]
}