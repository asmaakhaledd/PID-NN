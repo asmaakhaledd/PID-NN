{
  "nbformat": 4,
  "nbformat_minor": 0,
  "metadata": {
    "colab": {
      "provenance": [],
      "include_colab_link": true
    },
    "kernelspec": {
      "name": "python3",
      "display_name": "Python 3"
    },
    "language_info": {
      "name": "python"
    }
  },
  "cells": [
    {
      "cell_type": "markdown",
      "metadata": {
        "id": "view-in-github",
        "colab_type": "text"
      },
      "source": [
        "<a href=\"https://colab.research.google.com/github/asmaakhaledd/PID-NN/blob/Dataset-trial/PID-NN.ipynb\" target=\"_parent\"><img src=\"https://colab.research.google.com/assets/colab-badge.svg\" alt=\"Open In Colab\"/></a>"
      ]
    },
    {
      "cell_type": "code",
      "source": [
        "!pip install numpy pandas tensorflow control matplotlib xmltodict scikit-learn"
      ],
      "metadata": {
        "id": "OHkjmG-Yr6DM",
        "collapsed": true,
        "outputId": "9a02df21-0136-43dd-f944-9246f94a84a1",
        "colab": {
          "base_uri": "https://localhost:8080/"
        }
      },
      "execution_count": 2,
      "outputs": [
        {
          "output_type": "stream",
          "name": "stdout",
          "text": [
            "Requirement already satisfied: numpy in /usr/local/lib/python3.11/dist-packages (1.26.4)\n",
            "Requirement already satisfied: pandas in /usr/local/lib/python3.11/dist-packages (2.2.2)\n",
            "Requirement already satisfied: tensorflow in /usr/local/lib/python3.11/dist-packages (2.18.0)\n",
            "Collecting control\n",
            "  Downloading control-0.10.1-py3-none-any.whl.metadata (7.6 kB)\n",
            "Requirement already satisfied: matplotlib in /usr/local/lib/python3.11/dist-packages (3.10.0)\n",
            "Collecting xmltodict\n",
            "  Downloading xmltodict-0.14.2-py2.py3-none-any.whl.metadata (8.0 kB)\n",
            "Requirement already satisfied: scikit-learn in /usr/local/lib/python3.11/dist-packages (1.6.1)\n",
            "Requirement already satisfied: python-dateutil>=2.8.2 in /usr/local/lib/python3.11/dist-packages (from pandas) (2.8.2)\n",
            "Requirement already satisfied: pytz>=2020.1 in /usr/local/lib/python3.11/dist-packages (from pandas) (2025.1)\n",
            "Requirement already satisfied: tzdata>=2022.7 in /usr/local/lib/python3.11/dist-packages (from pandas) (2025.1)\n",
            "Requirement already satisfied: absl-py>=1.0.0 in /usr/local/lib/python3.11/dist-packages (from tensorflow) (1.4.0)\n",
            "Requirement already satisfied: astunparse>=1.6.0 in /usr/local/lib/python3.11/dist-packages (from tensorflow) (1.6.3)\n",
            "Requirement already satisfied: flatbuffers>=24.3.25 in /usr/local/lib/python3.11/dist-packages (from tensorflow) (25.2.10)\n",
            "Requirement already satisfied: gast!=0.5.0,!=0.5.1,!=0.5.2,>=0.2.1 in /usr/local/lib/python3.11/dist-packages (from tensorflow) (0.6.0)\n",
            "Requirement already satisfied: google-pasta>=0.1.1 in /usr/local/lib/python3.11/dist-packages (from tensorflow) (0.2.0)\n",
            "Requirement already satisfied: libclang>=13.0.0 in /usr/local/lib/python3.11/dist-packages (from tensorflow) (18.1.1)\n",
            "Requirement already satisfied: opt-einsum>=2.3.2 in /usr/local/lib/python3.11/dist-packages (from tensorflow) (3.4.0)\n",
            "Requirement already satisfied: packaging in /usr/local/lib/python3.11/dist-packages (from tensorflow) (24.2)\n",
            "Requirement already satisfied: protobuf!=4.21.0,!=4.21.1,!=4.21.2,!=4.21.3,!=4.21.4,!=4.21.5,<6.0.0dev,>=3.20.3 in /usr/local/lib/python3.11/dist-packages (from tensorflow) (4.25.6)\n",
            "Requirement already satisfied: requests<3,>=2.21.0 in /usr/local/lib/python3.11/dist-packages (from tensorflow) (2.32.3)\n",
            "Requirement already satisfied: setuptools in /usr/local/lib/python3.11/dist-packages (from tensorflow) (75.1.0)\n",
            "Requirement already satisfied: six>=1.12.0 in /usr/local/lib/python3.11/dist-packages (from tensorflow) (1.17.0)\n",
            "Requirement already satisfied: termcolor>=1.1.0 in /usr/local/lib/python3.11/dist-packages (from tensorflow) (2.5.0)\n",
            "Requirement already satisfied: typing-extensions>=3.6.6 in /usr/local/lib/python3.11/dist-packages (from tensorflow) (4.12.2)\n",
            "Requirement already satisfied: wrapt>=1.11.0 in /usr/local/lib/python3.11/dist-packages (from tensorflow) (1.17.2)\n",
            "Requirement already satisfied: grpcio<2.0,>=1.24.3 in /usr/local/lib/python3.11/dist-packages (from tensorflow) (1.70.0)\n",
            "Requirement already satisfied: tensorboard<2.19,>=2.18 in /usr/local/lib/python3.11/dist-packages (from tensorflow) (2.18.0)\n",
            "Requirement already satisfied: keras>=3.5.0 in /usr/local/lib/python3.11/dist-packages (from tensorflow) (3.8.0)\n",
            "Requirement already satisfied: h5py>=3.11.0 in /usr/local/lib/python3.11/dist-packages (from tensorflow) (3.12.1)\n",
            "Requirement already satisfied: ml-dtypes<0.5.0,>=0.4.0 in /usr/local/lib/python3.11/dist-packages (from tensorflow) (0.4.1)\n",
            "Requirement already satisfied: tensorflow-io-gcs-filesystem>=0.23.1 in /usr/local/lib/python3.11/dist-packages (from tensorflow) (0.37.1)\n",
            "Requirement already satisfied: scipy>=1.8 in /usr/local/lib/python3.11/dist-packages (from control) (1.13.1)\n",
            "Requirement already satisfied: contourpy>=1.0.1 in /usr/local/lib/python3.11/dist-packages (from matplotlib) (1.3.1)\n",
            "Requirement already satisfied: cycler>=0.10 in /usr/local/lib/python3.11/dist-packages (from matplotlib) (0.12.1)\n",
            "Requirement already satisfied: fonttools>=4.22.0 in /usr/local/lib/python3.11/dist-packages (from matplotlib) (4.56.0)\n",
            "Requirement already satisfied: kiwisolver>=1.3.1 in /usr/local/lib/python3.11/dist-packages (from matplotlib) (1.4.8)\n",
            "Requirement already satisfied: pillow>=8 in /usr/local/lib/python3.11/dist-packages (from matplotlib) (11.1.0)\n",
            "Requirement already satisfied: pyparsing>=2.3.1 in /usr/local/lib/python3.11/dist-packages (from matplotlib) (3.2.1)\n",
            "Requirement already satisfied: joblib>=1.2.0 in /usr/local/lib/python3.11/dist-packages (from scikit-learn) (1.4.2)\n",
            "Requirement already satisfied: threadpoolctl>=3.1.0 in /usr/local/lib/python3.11/dist-packages (from scikit-learn) (3.5.0)\n",
            "Requirement already satisfied: wheel<1.0,>=0.23.0 in /usr/local/lib/python3.11/dist-packages (from astunparse>=1.6.0->tensorflow) (0.45.1)\n",
            "Requirement already satisfied: rich in /usr/local/lib/python3.11/dist-packages (from keras>=3.5.0->tensorflow) (13.9.4)\n",
            "Requirement already satisfied: namex in /usr/local/lib/python3.11/dist-packages (from keras>=3.5.0->tensorflow) (0.0.8)\n",
            "Requirement already satisfied: optree in /usr/local/lib/python3.11/dist-packages (from keras>=3.5.0->tensorflow) (0.14.1)\n",
            "Requirement already satisfied: charset-normalizer<4,>=2 in /usr/local/lib/python3.11/dist-packages (from requests<3,>=2.21.0->tensorflow) (3.4.1)\n",
            "Requirement already satisfied: idna<4,>=2.5 in /usr/local/lib/python3.11/dist-packages (from requests<3,>=2.21.0->tensorflow) (3.10)\n",
            "Requirement already satisfied: urllib3<3,>=1.21.1 in /usr/local/lib/python3.11/dist-packages (from requests<3,>=2.21.0->tensorflow) (2.3.0)\n",
            "Requirement already satisfied: certifi>=2017.4.17 in /usr/local/lib/python3.11/dist-packages (from requests<3,>=2.21.0->tensorflow) (2025.1.31)\n",
            "Requirement already satisfied: markdown>=2.6.8 in /usr/local/lib/python3.11/dist-packages (from tensorboard<2.19,>=2.18->tensorflow) (3.7)\n",
            "Requirement already satisfied: tensorboard-data-server<0.8.0,>=0.7.0 in /usr/local/lib/python3.11/dist-packages (from tensorboard<2.19,>=2.18->tensorflow) (0.7.2)\n",
            "Requirement already satisfied: werkzeug>=1.0.1 in /usr/local/lib/python3.11/dist-packages (from tensorboard<2.19,>=2.18->tensorflow) (3.1.3)\n",
            "Requirement already satisfied: MarkupSafe>=2.1.1 in /usr/local/lib/python3.11/dist-packages (from werkzeug>=1.0.1->tensorboard<2.19,>=2.18->tensorflow) (3.0.2)\n",
            "Requirement already satisfied: markdown-it-py>=2.2.0 in /usr/local/lib/python3.11/dist-packages (from rich->keras>=3.5.0->tensorflow) (3.0.0)\n",
            "Requirement already satisfied: pygments<3.0.0,>=2.13.0 in /usr/local/lib/python3.11/dist-packages (from rich->keras>=3.5.0->tensorflow) (2.18.0)\n",
            "Requirement already satisfied: mdurl~=0.1 in /usr/local/lib/python3.11/dist-packages (from markdown-it-py>=2.2.0->rich->keras>=3.5.0->tensorflow) (0.1.2)\n",
            "Downloading control-0.10.1-py3-none-any.whl (549 kB)\n",
            "\u001b[2K   \u001b[90m━━━━━━━━━━━━━━━━━━━━━━━━━━━━━━━━━━━━━━━━\u001b[0m \u001b[32m549.6/549.6 kB\u001b[0m \u001b[31m7.4 MB/s\u001b[0m eta \u001b[36m0:00:00\u001b[0m\n",
            "\u001b[?25hDownloading xmltodict-0.14.2-py2.py3-none-any.whl (10.0 kB)\n",
            "Installing collected packages: xmltodict, control\n",
            "Successfully installed control-0.10.1 xmltodict-0.14.2\n"
          ]
        }
      ]
    },
    {
      "cell_type": "code",
      "source": [
        "from google.colab import drive\n",
        "drive.mount('/content/drive')\n",
        "\n",
        "data_path = \"/content/drive/My Drive/OhioT1/\""
      ],
      "metadata": {
        "id": "VX4hkV9miplA",
        "outputId": "7ab5a3e8-77c5-4aa2-eda3-741859e39768",
        "colab": {
          "base_uri": "https://localhost:8080/"
        }
      },
      "execution_count": 5,
      "outputs": [
        {
          "output_type": "stream",
          "name": "stdout",
          "text": [
            "Drive already mounted at /content/drive; to attempt to forcibly remount, call drive.mount(\"/content/drive\", force_remount=True).\n"
          ]
        }
      ]
    },
    {
      "cell_type": "code",
      "source": [
        "import xmltodict\n",
        "import pandas as pd\n",
        "import os\n",
        "\n",
        "def parse_xml(file_path):\n",
        "    with open(file_path, 'r') as file:\n",
        "        data_dict = xmltodict.parse(file.read())\n",
        "    return data_dict\n",
        "\n",
        "# Extract relevant fields (Glucose, Insulin, Meals, etc.)\n",
        "def extract_features(data_dict):\n",
        "    patient = data_dict['patient']\n",
        "\n",
        "    if 'glucose_level' in patient:\n",
        "        for event in patient['glucose_level']['event']:\n",
        "            entry = {\n",
        "                'time': event['@ts'],\n",
        "                'glucose': float(event['@value']),\n",
        "                'insulin': 0,\n",
        "                'meal': 0\n",
        "            }\n",
        "            patient_data.append(entry)\n",
        "\n",
        "     # Insulin events\n",
        "    if 'bolus' in patient:\n",
        "        for event in patient['bolus']['event']:\n",
        "            entry = {\n",
        "                'time': event['@ts'],\n",
        "                'glucose': 0,\n",
        "                'insulin': float(event['@value']),\n",
        "                'meal': 0\n",
        "            }\n",
        "            patient_data.append(entry)\n",
        "\n",
        "     # Insulin events\n",
        "    if 'basal' in patient:\n",
        "        for event in patient['basal']['event']:\n",
        "            entry = {\n",
        "                'time': event['@ts'],\n",
        "                'glucose': 0,\n",
        "                'insulin': float(event['@value']),\n",
        "                'meal': 0\n",
        "            }\n",
        "            patient_data.append(entry)\n",
        "\n",
        "       # Insulin events\n",
        "    if 'bolus' in patient:\n",
        "        for event in patient['bolus']['event']:\n",
        "            entry = {\n",
        "                'time': event['@ts'],\n",
        "                'glucose': 0,\n",
        "                'insulin': float(event['@value']),\n",
        "                'meal': 0\n",
        "            }\n",
        "            patient_data.append(entry)\n",
        "\n",
        "    temp_basal\n",
        "\n",
        "       # Insulin events (if present)\n",
        "    if 'temp_basal' in patient:\n",
        "        for event in patient['temp_basal']['event']:\n",
        "            entry = {\n",
        "                'time': event['@ts'],\n",
        "                'glucose': 0,\n",
        "                'insulin': float(event['@value']),\n",
        "                'meal': 0\n",
        "            }\n",
        "            patient_data.append(entry)\n",
        "\n",
        "    return pd.DataFrame(patient_data)\n",
        "\n",
        "# Process all XML files in a folder\n",
        "all_dataframes = []\n",
        "for file in os.listdir(data_path):\n",
        "    if file.endswith(\".xml\"):\n",
        "        data_dict = parse_xml(os.path.join(data_path, file))\n",
        "        df = extract_features(data_dict)\n",
        "        all_dataframes.append(df)\n",
        "\n",
        "# Combine all patients' data\n",
        "df = pd.concat(all_dataframes, ignore_index=True)\n",
        "\n",
        "# Convert time column to datetime\n",
        "df['time'] = pd.to_datetime(df['time'])\n",
        "df.fillna(0, inplace=True)  # Replace NaN values with 0\n",
        "df.sort_values(by='time', inplace=True)\n",
        "\n",
        "print(df.head())  # Preview dataset\n"
      ],
      "metadata": {
        "id": "KAwBZW9Lisib",
        "outputId": "f33390f4-9747-4e6f-dfc7-35cd68ea2c84",
        "colab": {
          "base_uri": "https://localhost:8080/",
          "height": 339
        }
      },
      "execution_count": 6,
      "outputs": [
        {
          "output_type": "error",
          "ename": "KeyError",
          "evalue": "'patient_data'",
          "traceback": [
            "\u001b[0;31m---------------------------------------------------------------------------\u001b[0m",
            "\u001b[0;31mKeyError\u001b[0m                                  Traceback (most recent call last)",
            "\u001b[0;32m<ipython-input-6-c05bd80af2ea>\u001b[0m in \u001b[0;36m<cell line: 0>\u001b[0;34m()\u001b[0m\n\u001b[1;32m     31\u001b[0m     \u001b[0;32mif\u001b[0m \u001b[0mfile\u001b[0m\u001b[0;34m.\u001b[0m\u001b[0mendswith\u001b[0m\u001b[0;34m(\u001b[0m\u001b[0;34m\".xml\"\u001b[0m\u001b[0;34m)\u001b[0m\u001b[0;34m:\u001b[0m\u001b[0;34m\u001b[0m\u001b[0;34m\u001b[0m\u001b[0m\n\u001b[1;32m     32\u001b[0m         \u001b[0mdata_dict\u001b[0m \u001b[0;34m=\u001b[0m \u001b[0mparse_xml\u001b[0m\u001b[0;34m(\u001b[0m\u001b[0mos\u001b[0m\u001b[0;34m.\u001b[0m\u001b[0mpath\u001b[0m\u001b[0;34m.\u001b[0m\u001b[0mjoin\u001b[0m\u001b[0;34m(\u001b[0m\u001b[0mdata_path\u001b[0m\u001b[0;34m,\u001b[0m \u001b[0mfile\u001b[0m\u001b[0;34m)\u001b[0m\u001b[0;34m)\u001b[0m\u001b[0;34m\u001b[0m\u001b[0;34m\u001b[0m\u001b[0m\n\u001b[0;32m---> 33\u001b[0;31m         \u001b[0mdf\u001b[0m \u001b[0;34m=\u001b[0m \u001b[0mextract_features\u001b[0m\u001b[0;34m(\u001b[0m\u001b[0mdata_dict\u001b[0m\u001b[0;34m)\u001b[0m\u001b[0;34m\u001b[0m\u001b[0;34m\u001b[0m\u001b[0m\n\u001b[0m\u001b[1;32m     34\u001b[0m         \u001b[0mall_dataframes\u001b[0m\u001b[0;34m.\u001b[0m\u001b[0mappend\u001b[0m\u001b[0;34m(\u001b[0m\u001b[0mdf\u001b[0m\u001b[0;34m)\u001b[0m\u001b[0;34m\u001b[0m\u001b[0;34m\u001b[0m\u001b[0m\n\u001b[1;32m     35\u001b[0m \u001b[0;34m\u001b[0m\u001b[0m\n",
            "\u001b[0;32m<ipython-input-6-c05bd80af2ea>\u001b[0m in \u001b[0;36mextract_features\u001b[0;34m(data_dict)\u001b[0m\n\u001b[1;32m     12\u001b[0m     \u001b[0mpatient_data\u001b[0m \u001b[0;34m=\u001b[0m \u001b[0;34m[\u001b[0m\u001b[0;34m]\u001b[0m\u001b[0;34m\u001b[0m\u001b[0;34m\u001b[0m\u001b[0m\n\u001b[1;32m     13\u001b[0m \u001b[0;34m\u001b[0m\u001b[0m\n\u001b[0;32m---> 14\u001b[0;31m     \u001b[0;32mfor\u001b[0m \u001b[0mevent\u001b[0m \u001b[0;32min\u001b[0m \u001b[0mdata_dict\u001b[0m\u001b[0;34m[\u001b[0m\u001b[0;34m'patient_data'\u001b[0m\u001b[0;34m]\u001b[0m\u001b[0;34m[\u001b[0m\u001b[0;34m'events'\u001b[0m\u001b[0;34m]\u001b[0m\u001b[0;34m[\u001b[0m\u001b[0;34m'event'\u001b[0m\u001b[0;34m]\u001b[0m\u001b[0;34m:\u001b[0m\u001b[0;34m\u001b[0m\u001b[0;34m\u001b[0m\u001b[0m\n\u001b[0m\u001b[1;32m     15\u001b[0m         entry = {\n\u001b[1;32m     16\u001b[0m             \u001b[0;34m'time'\u001b[0m\u001b[0;34m:\u001b[0m \u001b[0mevent\u001b[0m\u001b[0;34m[\u001b[0m\u001b[0;34m'@ts'\u001b[0m\u001b[0;34m]\u001b[0m\u001b[0;34m,\u001b[0m\u001b[0;34m\u001b[0m\u001b[0;34m\u001b[0m\u001b[0m\n",
            "\u001b[0;31mKeyError\u001b[0m: 'patient_data'"
          ]
        }
      ]
    },
    {
      "cell_type": "markdown",
      "source": [
        "Convert XML to Pandas DataFrame"
      ],
      "metadata": {
        "id": "tI17lg0ui3Xm"
      }
    },
    {
      "cell_type": "code",
      "source": [
        "import xmltodict\n",
        "import pandas as pd\n",
        "import os\n",
        "\n",
        "def parse_xml(file_path):\n",
        "    with open(file_path, 'r') as file:\n",
        "        data_dict = xmltodict.parse(file.read())\n",
        "    return data_dict\n",
        "\n",
        "# Extract only glucose, insulin, and meals (ignoring exercise, sleep, and stress)\n",
        "def extract_features(data_dict):\n",
        "    patient_data = []\n",
        "\n",
        "    for event in data_dict['patient_data']['events']['event']:\n",
        "        entry = {\n",
        "            'time': event['@ts'],\n",
        "            'glucose': event.get('glucose_level', None),\n",
        "            'insulin': event.get('bolus', None),\n",
        "            'meal': event.get('meal', None),\n",
        "        }\n",
        "        patient_data.append(entry)\n",
        "\n",
        "    return pd.DataFrame(patient_data)\n",
        "\n",
        "# Process all XML files in a folder\n",
        "all_dataframes = []\n",
        "for file in os.listdir(data_path):\n",
        "    if file.endswith(\".xml\"):\n",
        "        data_dict = parse_xml(os.path.join(data_path, file))\n",
        "        df = extract_features(data_dict)\n",
        "        all_dataframes.append(df)\n",
        "\n",
        "# Combine all patients' data\n",
        "df = pd.concat(all_dataframes, ignore_index=True)\n",
        "\n",
        "# Convert time column to datetime\n",
        "df['time'] = pd.to_datetime(df['time'])\n",
        "df.fillna(0, inplace=True)  # Replace NaN values with 0\n",
        "df.sort_values(by='time', inplace=True)\n",
        "\n",
        "print(df.head())  # Preview dataset"
      ],
      "metadata": {
        "id": "mX4ofOO_i0bL"
      },
      "execution_count": null,
      "outputs": []
    },
    {
      "cell_type": "markdown",
      "source": [
        "Prepare Data for LSTM Model"
      ],
      "metadata": {
        "id": "bmgpwVZhi6fD"
      }
    },
    {
      "cell_type": "code",
      "source": [
        "from google.colab import drive\n",
        "drive.mount('/content/drive')"
      ],
      "metadata": {
        "id": "9feO2E14HLlX"
      },
      "execution_count": null,
      "outputs": []
    },
    {
      "cell_type": "code",
      "source": [
        "import numpy as np\n",
        "from sklearn.preprocessing import MinMaxScaler\n",
        "from sklearn.model_selection import train_test_split\n",
        "\n",
        "# Use only glucose, insulin, and meal as input features\n",
        "features = ['glucose', 'insulin', 'meal']\n",
        "target = ['Kp', 'Ki', 'Kd']  # PID gains\n",
        "\n",
        "# Normalize the features\n",
        "scaler = MinMaxScaler()\n",
        "df[features] = scaler.fit_transform(df[features])\n",
        "\n",
        "# Generate PID controller gains dynamically (example logic)\n",
        "df['Kp'] = df['glucose'] * 0.01\n",
        "df['Ki'] = df['glucose'] * 0.001\n",
        "df['Kd'] = df['glucose'] * 0.0001\n",
        "\n",
        "# Create sequences for LSTM (time-series format)\n",
        "def create_sequences(data, seq_length):\n",
        "    X, y = [], []\n",
        "    for i in range(len(data) - seq_length):\n",
        "        X.append(data.iloc[i:i+seq_length][features].values)\n",
        "        y.append(data.iloc[i+seq_length][target].values)\n",
        "    return np.array(X), np.array(y)\n",
        "\n",
        "seq_length = 10  # Use past 10 timestamps for prediction\n",
        "X, y = create_sequences(df, seq_length)\n",
        "\n",
        "# Split dataset\n",
        "X_train, X_test, y_train, y_test = train_test_split(X, y, test_size=0.2, random_state=42)\n"
      ],
      "metadata": {
        "id": "nH068lqTi8TI"
      },
      "execution_count": null,
      "outputs": []
    },
    {
      "cell_type": "markdown",
      "source": [
        "Train the LSTM Neural Network"
      ],
      "metadata": {
        "id": "Nz6RViACi-vT"
      }
    },
    {
      "cell_type": "code",
      "source": [
        "import tensorflow as tf\n",
        "from tensorflow.keras.models import Sequential\n",
        "from tensorflow.keras.layers import LSTM, Dense, Dropout\n",
        "\n",
        "# Define LSTM Model\n",
        "model = Sequential([\n",
        "    LSTM(64, activation='tanh', return_sequences=True, input_shape=(seq_length, len(features))),\n",
        "    Dropout(0.2),\n",
        "    LSTM(32, activation='tanh', return_sequences=False),\n",
        "    Dense(16, activation='relu'),\n",
        "    Dense(3, activation='linear')  # Outputs: Kp, Ki, Kd\n",
        "])\n",
        "\n",
        "# Compile the model\n",
        "model.compile(optimizer='adam', loss='mse', metrics=['mae'])\n",
        "\n",
        "# Train the model\n",
        "history = model.fit(X_train, y_train, epochs=50, batch_size=32, validation_data=(X_test, y_test))\n"
      ],
      "metadata": {
        "id": "WwGop87fjAiu"
      },
      "execution_count": null,
      "outputs": []
    },
    {
      "cell_type": "markdown",
      "source": [
        "Implement PID Controller"
      ],
      "metadata": {
        "id": "hoHgaVLUjB7a"
      }
    },
    {
      "cell_type": "code",
      "source": [
        "import control as ctrl\n",
        "\n",
        "# Predict PID parameters using trained LSTM model\n",
        "sample_input = X_test[0].reshape(1, seq_length, len(features))\n",
        "Kp, Ki, Kd = model.predict(sample_input)[0]\n",
        "\n",
        "# Define PID Controller\n",
        "pid = ctrl.TransferFunction([Kd, Kp, Ki], [1, 0])  # PID equation\n",
        "\n",
        "# Define a system response model\n",
        "system = ctrl.tf([1], [1, 2, 1])  # Example glucose-insulin system\n",
        "\n",
        "# Closed-loop system\n",
        "closed_loop = ctrl.feedback(pid * system)\n",
        "\n",
        "# Simulate step response\n",
        "import matplotlib.pyplot as plt\n",
        "\n",
        "time, response = ctrl.step_response(closed_loop)\n",
        "plt.plot(time, response)\n",
        "plt.xlabel('Time')\n",
        "plt.ylabel('Glucose Level')\n",
        "plt.title('LSTM-Based Neural Network PID Glucose Control')\n",
        "plt.show()\n"
      ],
      "metadata": {
        "id": "6j0jC8L4jD27"
      },
      "execution_count": null,
      "outputs": []
    },
    {
      "cell_type": "markdown",
      "source": [
        "Real-Time PID Tuning"
      ],
      "metadata": {
        "id": "U3bAxjpgjFhG"
      }
    },
    {
      "cell_type": "code",
      "source": [
        "import time\n",
        "\n",
        "while True:\n",
        "    # Simulate real-time glucose level reading\n",
        "    real_glucose = np.random.uniform(60, 180)  # Simulated value\n",
        "    real_input = np.array([[real_glucose, 0, 0]])  # Only glucose, insulin, meal\n",
        "    real_input = scaler.transform(real_input)\n",
        "    real_input = real_input.reshape(1, seq_length, len(features))\n",
        "\n",
        "    # Get PID parameters from LSTM model\n",
        "    Kp, Ki, Kd = model.predict(real_input)[0]\n",
        "\n",
        "    print(f\"Real-Time Glucose: {real_glucose:.2f}, Kp: {Kp:.4f}, Ki: {Ki:.4f}, Kd: {Kd:.4f}\")\n",
        "\n",
        "    time.sleep(5)  # Simulate real-time updates every 5 seconds\n"
      ],
      "metadata": {
        "id": "SoyduJzRjHO-"
      },
      "execution_count": null,
      "outputs": []
    }
  ]
}