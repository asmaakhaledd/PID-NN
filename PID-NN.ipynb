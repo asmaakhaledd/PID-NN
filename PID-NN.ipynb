{
  "nbformat": 4,
  "nbformat_minor": 0,
  "metadata": {
    "colab": {
      "provenance": [],
      "gpuType": "T4",
      "include_colab_link": true
    },
    "kernelspec": {
      "name": "python3",
      "display_name": "Python 3"
    },
    "language_info": {
      "name": "python"
    },
    "accelerator": "GPU"
  },
  "cells": [
    {
      "cell_type": "markdown",
      "metadata": {
        "id": "view-in-github",
        "colab_type": "text"
      },
      "source": [
        "<a href=\"https://colab.research.google.com/github/asmaakhaledd/PID-NN/blob/LSTM-PID/PID-NN.ipynb\" target=\"_parent\"><img src=\"https://colab.research.google.com/assets/colab-badge.svg\" alt=\"Open In Colab\"/></a>"
      ]
    },
    {
      "cell_type": "code",
      "source": [
        "!pip install numpy pandas tensorflow control matplotlib xmltodict scikit-learn"
      ],
      "metadata": {
        "id": "OHkjmG-Yr6DM",
        "colab": {
          "base_uri": "https://localhost:8080/"
        },
        "outputId": "f6ba375c-2bfb-4b9d-e51d-33283cad3b7e"
      },
      "execution_count": 1,
      "outputs": [
        {
          "output_type": "stream",
          "name": "stdout",
          "text": [
            "Requirement already satisfied: numpy in /usr/local/lib/python3.11/dist-packages (1.26.4)\n",
            "Requirement already satisfied: pandas in /usr/local/lib/python3.11/dist-packages (2.2.2)\n",
            "Requirement already satisfied: tensorflow in /usr/local/lib/python3.11/dist-packages (2.18.0)\n",
            "Requirement already satisfied: control in /usr/local/lib/python3.11/dist-packages (0.10.1)\n",
            "Requirement already satisfied: matplotlib in /usr/local/lib/python3.11/dist-packages (3.10.0)\n",
            "Requirement already satisfied: xmltodict in /usr/local/lib/python3.11/dist-packages (0.14.2)\n",
            "Requirement already satisfied: scikit-learn in /usr/local/lib/python3.11/dist-packages (1.6.1)\n",
            "Requirement already satisfied: python-dateutil>=2.8.2 in /usr/local/lib/python3.11/dist-packages (from pandas) (2.8.2)\n",
            "Requirement already satisfied: pytz>=2020.1 in /usr/local/lib/python3.11/dist-packages (from pandas) (2025.1)\n",
            "Requirement already satisfied: tzdata>=2022.7 in /usr/local/lib/python3.11/dist-packages (from pandas) (2025.1)\n",
            "Requirement already satisfied: absl-py>=1.0.0 in /usr/local/lib/python3.11/dist-packages (from tensorflow) (1.4.0)\n",
            "Requirement already satisfied: astunparse>=1.6.0 in /usr/local/lib/python3.11/dist-packages (from tensorflow) (1.6.3)\n",
            "Requirement already satisfied: flatbuffers>=24.3.25 in /usr/local/lib/python3.11/dist-packages (from tensorflow) (25.2.10)\n",
            "Requirement already satisfied: gast!=0.5.0,!=0.5.1,!=0.5.2,>=0.2.1 in /usr/local/lib/python3.11/dist-packages (from tensorflow) (0.6.0)\n",
            "Requirement already satisfied: google-pasta>=0.1.1 in /usr/local/lib/python3.11/dist-packages (from tensorflow) (0.2.0)\n",
            "Requirement already satisfied: libclang>=13.0.0 in /usr/local/lib/python3.11/dist-packages (from tensorflow) (18.1.1)\n",
            "Requirement already satisfied: opt-einsum>=2.3.2 in /usr/local/lib/python3.11/dist-packages (from tensorflow) (3.4.0)\n",
            "Requirement already satisfied: packaging in /usr/local/lib/python3.11/dist-packages (from tensorflow) (24.2)\n",
            "Requirement already satisfied: protobuf!=4.21.0,!=4.21.1,!=4.21.2,!=4.21.3,!=4.21.4,!=4.21.5,<6.0.0dev,>=3.20.3 in /usr/local/lib/python3.11/dist-packages (from tensorflow) (4.25.6)\n",
            "Requirement already satisfied: requests<3,>=2.21.0 in /usr/local/lib/python3.11/dist-packages (from tensorflow) (2.32.3)\n",
            "Requirement already satisfied: setuptools in /usr/local/lib/python3.11/dist-packages (from tensorflow) (75.1.0)\n",
            "Requirement already satisfied: six>=1.12.0 in /usr/local/lib/python3.11/dist-packages (from tensorflow) (1.17.0)\n",
            "Requirement already satisfied: termcolor>=1.1.0 in /usr/local/lib/python3.11/dist-packages (from tensorflow) (2.5.0)\n",
            "Requirement already satisfied: typing-extensions>=3.6.6 in /usr/local/lib/python3.11/dist-packages (from tensorflow) (4.12.2)\n",
            "Requirement already satisfied: wrapt>=1.11.0 in /usr/local/lib/python3.11/dist-packages (from tensorflow) (1.17.2)\n",
            "Requirement already satisfied: grpcio<2.0,>=1.24.3 in /usr/local/lib/python3.11/dist-packages (from tensorflow) (1.70.0)\n",
            "Requirement already satisfied: tensorboard<2.19,>=2.18 in /usr/local/lib/python3.11/dist-packages (from tensorflow) (2.18.0)\n",
            "Requirement already satisfied: keras>=3.5.0 in /usr/local/lib/python3.11/dist-packages (from tensorflow) (3.8.0)\n",
            "Requirement already satisfied: h5py>=3.11.0 in /usr/local/lib/python3.11/dist-packages (from tensorflow) (3.12.1)\n",
            "Requirement already satisfied: ml-dtypes<0.5.0,>=0.4.0 in /usr/local/lib/python3.11/dist-packages (from tensorflow) (0.4.1)\n",
            "Requirement already satisfied: tensorflow-io-gcs-filesystem>=0.23.1 in /usr/local/lib/python3.11/dist-packages (from tensorflow) (0.37.1)\n",
            "Requirement already satisfied: scipy>=1.8 in /usr/local/lib/python3.11/dist-packages (from control) (1.13.1)\n",
            "Requirement already satisfied: contourpy>=1.0.1 in /usr/local/lib/python3.11/dist-packages (from matplotlib) (1.3.1)\n",
            "Requirement already satisfied: cycler>=0.10 in /usr/local/lib/python3.11/dist-packages (from matplotlib) (0.12.1)\n",
            "Requirement already satisfied: fonttools>=4.22.0 in /usr/local/lib/python3.11/dist-packages (from matplotlib) (4.56.0)\n",
            "Requirement already satisfied: kiwisolver>=1.3.1 in /usr/local/lib/python3.11/dist-packages (from matplotlib) (1.4.8)\n",
            "Requirement already satisfied: pillow>=8 in /usr/local/lib/python3.11/dist-packages (from matplotlib) (11.1.0)\n",
            "Requirement already satisfied: pyparsing>=2.3.1 in /usr/local/lib/python3.11/dist-packages (from matplotlib) (3.2.1)\n",
            "Requirement already satisfied: joblib>=1.2.0 in /usr/local/lib/python3.11/dist-packages (from scikit-learn) (1.4.2)\n",
            "Requirement already satisfied: threadpoolctl>=3.1.0 in /usr/local/lib/python3.11/dist-packages (from scikit-learn) (3.5.0)\n",
            "Requirement already satisfied: wheel<1.0,>=0.23.0 in /usr/local/lib/python3.11/dist-packages (from astunparse>=1.6.0->tensorflow) (0.45.1)\n",
            "Requirement already satisfied: rich in /usr/local/lib/python3.11/dist-packages (from keras>=3.5.0->tensorflow) (13.9.4)\n",
            "Requirement already satisfied: namex in /usr/local/lib/python3.11/dist-packages (from keras>=3.5.0->tensorflow) (0.0.8)\n",
            "Requirement already satisfied: optree in /usr/local/lib/python3.11/dist-packages (from keras>=3.5.0->tensorflow) (0.14.1)\n",
            "Requirement already satisfied: charset-normalizer<4,>=2 in /usr/local/lib/python3.11/dist-packages (from requests<3,>=2.21.0->tensorflow) (3.4.1)\n",
            "Requirement already satisfied: idna<4,>=2.5 in /usr/local/lib/python3.11/dist-packages (from requests<3,>=2.21.0->tensorflow) (3.10)\n",
            "Requirement already satisfied: urllib3<3,>=1.21.1 in /usr/local/lib/python3.11/dist-packages (from requests<3,>=2.21.0->tensorflow) (2.3.0)\n",
            "Requirement already satisfied: certifi>=2017.4.17 in /usr/local/lib/python3.11/dist-packages (from requests<3,>=2.21.0->tensorflow) (2025.1.31)\n",
            "Requirement already satisfied: markdown>=2.6.8 in /usr/local/lib/python3.11/dist-packages (from tensorboard<2.19,>=2.18->tensorflow) (3.7)\n",
            "Requirement already satisfied: tensorboard-data-server<0.8.0,>=0.7.0 in /usr/local/lib/python3.11/dist-packages (from tensorboard<2.19,>=2.18->tensorflow) (0.7.2)\n",
            "Requirement already satisfied: werkzeug>=1.0.1 in /usr/local/lib/python3.11/dist-packages (from tensorboard<2.19,>=2.18->tensorflow) (3.1.3)\n",
            "Requirement already satisfied: MarkupSafe>=2.1.1 in /usr/local/lib/python3.11/dist-packages (from werkzeug>=1.0.1->tensorboard<2.19,>=2.18->tensorflow) (3.0.2)\n",
            "Requirement already satisfied: markdown-it-py>=2.2.0 in /usr/local/lib/python3.11/dist-packages (from rich->keras>=3.5.0->tensorflow) (3.0.0)\n",
            "Requirement already satisfied: pygments<3.0.0,>=2.13.0 in /usr/local/lib/python3.11/dist-packages (from rich->keras>=3.5.0->tensorflow) (2.18.0)\n",
            "Requirement already satisfied: mdurl~=0.1 in /usr/local/lib/python3.11/dist-packages (from markdown-it-py>=2.2.0->rich->keras>=3.5.0->tensorflow) (0.1.2)\n"
          ]
        }
      ]
    },
    {
      "cell_type": "code",
      "source": [
        "import os\n",
        "import glob\n",
        "import xml.etree.ElementTree as ET\n",
        "import pandas as pd\n",
        "import numpy as np\n",
        "import tensorflow as tf\n",
        "from tensorflow.keras.models import Sequential, Model\n",
        "from tensorflow.keras.layers import LSTM, Dense, Input\n",
        "import matplotlib.pyplot as plt\n",
        "from datetime import datetime"
      ],
      "metadata": {
        "id": "5yiToWVmiaM0"
      },
      "execution_count": 19,
      "outputs": []
    },
    {
      "cell_type": "markdown",
      "source": [
        "Load XML Data"
      ],
      "metadata": {
        "id": "0-I5K521ig8s"
      }
    },
    {
      "cell_type": "code",
      "source": [
        "#Automatically loads all XML files (5 training, 5 testing)\n",
        "train_files = sorted(glob.glob(\"/content/drive/MyDrive/GP PID/dataset/*-ws-training.xml\"))\n",
        "test_files = sorted(glob.glob(\"/content/drive/MyDrive/GP PID/dataset/*-ws-testing.xml\"))"
      ],
      "metadata": {
        "id": "KAwBZW9Lisib"
      },
      "execution_count": 3,
      "outputs": []
    },
    {
      "cell_type": "markdown",
      "source": [
        "Check Corrupted XML File"
      ],
      "metadata": {
        "id": "8P8vKnO0mqvB"
      }
    },
    {
      "cell_type": "code",
      "source": [
        "import xml.etree.ElementTree as ET\n",
        "\n",
        "for file in train_files + test_files:\n",
        "    try:\n",
        "        tree = ET.parse(file)\n",
        "        print(f\"✅ {file} is valid\")\n",
        "    except ET.ParseError as e:\n",
        "        print(f\"❌ Error in {file}: {e}\")"
      ],
      "metadata": {
        "colab": {
          "base_uri": "https://localhost:8080/"
        },
        "id": "O4bfAGvWmpU2",
        "outputId": "1e52f258-2d83-463a-b386-41e6f6cc9a23"
      },
      "execution_count": 4,
      "outputs": [
        {
          "output_type": "stream",
          "name": "stdout",
          "text": [
            "✅ /content/drive/MyDrive/GP PID/dataset/559-ws-training.xml is valid\n",
            "✅ /content/drive/MyDrive/GP PID/dataset/563-ws-training.xml is valid\n",
            "✅ /content/drive/MyDrive/GP PID/dataset/570-ws-training.xml is valid\n",
            "✅ /content/drive/MyDrive/GP PID/dataset/575-ws-training.xml is valid\n",
            "✅ /content/drive/MyDrive/GP PID/dataset/588-ws-training.xml is valid\n",
            "✅ /content/drive/MyDrive/GP PID/dataset/591-ws-training.xml is valid\n",
            "✅ /content/drive/MyDrive/GP PID/dataset/559-ws-testing.xml is valid\n",
            "✅ /content/drive/MyDrive/GP PID/dataset/563-ws-testing.xml is valid\n",
            "✅ /content/drive/MyDrive/GP PID/dataset/570-ws-testing.xml is valid\n",
            "✅ /content/drive/MyDrive/GP PID/dataset/575-ws-testing.xml is valid\n",
            "✅ /content/drive/MyDrive/GP PID/dataset/588-ws-testing.xml is valid\n",
            "✅ /content/drive/MyDrive/GP PID/dataset/591-ws-testing.xml is valid\n"
          ]
        }
      ]
    },
    {
      "cell_type": "markdown",
      "source": [
        "Parse XML Data"
      ],
      "metadata": {
        "id": "e7lFuQycocPp"
      }
    },
    {
      "cell_type": "code",
      "source": [
        "#Extracts Time, Glucose, Insulin, and Meal intake\n",
        "#Sorts data by timestamp to maintain correct sequence order\n",
        "def parse_xml(file_path):\n",
        "    tree = ET.parse(file_path)\n",
        "    root = tree.getroot()\n",
        "    data = []\n",
        "\n",
        "    # Extract patient weight\n",
        "    weight = float(root.get('weight', 0))  # Defaults to 0 if missing\n",
        "\n",
        "    # Store all events for lookup\n",
        "    meal_events = []\n",
        "    bolus_events = []\n",
        "    basal_events = []\n",
        "\n",
        "    # Extract meal data\n",
        "    meal_node = root.find('meal')\n",
        "    if meal_node:\n",
        "        for event in meal_node.findall('event'):\n",
        "            meal_events.append({\n",
        "                'timestamp': datetime.strptime(event.get('ts'), \"%d-%m-%Y %H:%M:%S\"),\n",
        "                'carbs': float(event.get('carbs', 0))\n",
        "            })\n",
        "\n",
        "    # Extract bolus insulin data\n",
        "    bolus_node = root.find('bolus')\n",
        "    if bolus_node:\n",
        "        for event in bolus_node.findall('event'):\n",
        "            bolus_events.append({\n",
        "                'timestamp': datetime.strptime(event.get('ts_begin'), \"%d-%m-%Y %H:%M:%S\"),\n",
        "                'dose': float(event.get('dose', 0))\n",
        "            })\n",
        "\n",
        "    # Extract basal rate data\n",
        "    basal_node = root.find('basal')\n",
        "    if basal_node:\n",
        "        for event in basal_node.findall('event'):\n",
        "            basal_events.append({\n",
        "                'timestamp': datetime.strptime(event.get('ts'), \"%d-%m-%Y %H:%M:%S\"),\n",
        "                'rate': float(event.get('value', 0))\n",
        "            })\n",
        "\n",
        "    # Ensure all events are sorted by timestamp\n",
        "    meal_events.sort(key=lambda x: x['timestamp'])\n",
        "    bolus_events.sort(key=lambda x: x['timestamp'])\n",
        "    basal_events.sort(key=lambda x: x['timestamp'])\n",
        "\n",
        "    # Process glucose levels\n",
        "    for event in root.find('glucose_level'):\n",
        "        timestamp = datetime.strptime(event.get('ts'), \"%d-%m-%Y %H:%M:%S\")\n",
        "        glucose = float(event.get('value'))\n",
        "\n",
        "        # Find closest meal within 2 hours\n",
        "        meal_intake = next(\n",
        "            (m['carbs'] for m in reversed(meal_events) if (timestamp - m['timestamp']).total_seconds() <= 7200),\n",
        "            0.0\n",
        "        )\n",
        "\n",
        "        # Find closest bolus insulin event\n",
        "        bolus_insulin = next(\n",
        "            (b['dose'] for b in reversed(bolus_events) if b['timestamp'] <= timestamp),\n",
        "            0.0\n",
        "        )\n",
        "\n",
        "        # Find closest basal rate\n",
        "        basal_rate = next(\n",
        "            (b['rate'] for b in reversed(basal_events) if b['timestamp'] <= timestamp),\n",
        "            0.0\n",
        "        )\n",
        "\n",
        "        # Append extracted data\n",
        "        data.append({\n",
        "            'timestamp': timestamp,\n",
        "            'glucose': glucose,\n",
        "            'meal_carbs': meal_intake,\n",
        "            'bolus_insulin': bolus_insulin,\n",
        "            'basal_rate': basal_rate,\n",
        "            'weight': weight\n",
        "        })\n",
        "\n",
        "    df = pd.DataFrame(data)\n",
        "\n",
        "    # Debugging output\n",
        "    print(f\"Parsed {file_path}, {len(df)} records\")\n",
        "    print(df.head(10))  # Show first 10 rows for debugging\n",
        "\n",
        "    return df.sort_values('timestamp')\n",
        "\n",
        "# Load all files\n",
        "train_dfs = [parse_xml(f) for f in train_files]\n",
        "test_dfs = [parse_xml(f) for f in test_files]\n",
        "\n",
        "# Concatenate all data\n",
        "train_df = pd.concat(train_dfs, ignore_index=True)\n",
        "test_df = pd.concat(test_dfs, ignore_index=True)\n",
        "\n",
        "# Final debug prints\n",
        "print(\"\\nFinal Train DataFrame:\")\n",
        "print(train_df.head(10))\n",
        "print(\"\\nFinal Test DataFrame:\")\n",
        "print(test_df.head(10))"
      ],
      "metadata": {
        "colab": {
          "base_uri": "https://localhost:8080/"
        },
        "id": "n_gNUo6Ek4kl",
        "outputId": "9d640dfa-5d9c-49d0-ff0b-34407efaf1cc"
      },
      "execution_count": 5,
      "outputs": [
        {
          "output_type": "stream",
          "name": "stdout",
          "text": [
            "Parsed /content/drive/MyDrive/GP PID/dataset/559-ws-training.xml, 10796 records\n",
            "            timestamp  glucose  meal_carbs  bolus_insulin  basal_rate  weight\n",
            "0 2021-12-07 01:17:00    101.0        40.0            1.6        0.65    99.0\n",
            "1 2021-12-07 01:22:00     98.0        40.0            1.6        0.65    99.0\n",
            "2 2021-12-07 01:27:00    104.0        40.0            1.6        0.65    99.0\n",
            "3 2021-12-07 01:32:00    112.0        40.0            1.6        0.65    99.0\n",
            "4 2021-12-07 01:37:00    120.0        40.0            1.6        0.65    99.0\n",
            "5 2021-12-07 01:42:00    127.0        40.0            1.6        0.65    99.0\n",
            "6 2021-12-07 01:47:00    135.0        40.0            1.6        0.65    99.0\n",
            "7 2021-12-07 01:52:00    142.0        40.0            1.6        0.65    99.0\n",
            "8 2021-12-07 01:57:00    140.0        40.0            1.6        0.65    99.0\n",
            "9 2021-12-07 02:02:00    145.0        40.0            1.6        0.65    99.0\n",
            "Parsed /content/drive/MyDrive/GP PID/dataset/563-ws-training.xml, 12124 records\n",
            "            timestamp  glucose  meal_carbs  bolus_insulin  basal_rate  weight\n",
            "0 2021-09-13 12:33:00    219.0        45.0            9.2         0.6    99.0\n",
            "1 2021-09-13 12:38:00    229.0        45.0            9.2         0.6    99.0\n",
            "2 2021-09-13 12:43:00    224.0        45.0            9.2         0.6    99.0\n",
            "3 2021-09-13 12:48:00    221.0        45.0            9.2         0.6    99.0\n",
            "4 2021-09-13 12:53:00    215.0        45.0            9.2         0.6    99.0\n",
            "5 2021-09-13 12:58:00    209.0        45.0            9.2         0.6    99.0\n",
            "6 2021-09-13 13:03:00    203.0        45.0            9.2         0.6    99.0\n",
            "7 2021-09-13 13:08:00    199.0        45.0            9.2         0.6    99.0\n",
            "8 2021-09-13 13:13:00    196.0        45.0            9.2         0.6    99.0\n",
            "9 2021-09-13 13:18:00    196.0        45.0            9.2         0.6    99.0\n",
            "Parsed /content/drive/MyDrive/GP PID/dataset/570-ws-training.xml, 10982 records\n",
            "            timestamp  glucose  meal_carbs  bolus_insulin  basal_rate  weight\n",
            "0 2021-12-07 16:29:00    101.0       150.0            6.4         0.7    99.0\n",
            "1 2021-12-07 16:34:00    100.0       150.0            6.4         0.7    99.0\n",
            "2 2021-12-07 16:39:00    100.0       150.0            6.4         0.7    99.0\n",
            "3 2021-12-07 16:44:00     99.0       150.0            6.4         0.7    99.0\n",
            "4 2021-12-07 16:49:00     98.0       150.0            6.4         0.7    99.0\n",
            "5 2021-12-07 16:54:00     98.0       150.0            6.4         0.7    99.0\n",
            "6 2021-12-07 16:59:00     95.0       150.0            6.4         0.7    99.0\n",
            "7 2021-12-07 17:04:00     94.0       150.0            6.4         0.9    99.0\n",
            "8 2021-12-07 17:09:00     92.0       150.0            6.4         0.9    99.0\n",
            "9 2021-12-07 17:14:00     90.0       150.0            6.4         0.9    99.0\n",
            "Parsed /content/drive/MyDrive/GP PID/dataset/575-ws-training.xml, 11866 records\n",
            "            timestamp  glucose  meal_carbs  bolus_insulin  basal_rate  weight\n",
            "0 2021-11-17 12:04:00    128.0        75.0            0.0         0.0    99.0\n",
            "1 2021-11-17 12:09:00    123.0        75.0            0.0         0.0    99.0\n",
            "2 2021-11-17 12:14:00    120.0        75.0            0.0         0.0    99.0\n",
            "3 2021-11-17 12:19:00    124.0        75.0            0.0         0.0    99.0\n",
            "4 2021-11-17 12:24:00    121.0        75.0            0.0         0.0    99.0\n",
            "5 2021-11-17 12:29:00    120.0        75.0            0.0         0.0    99.0\n",
            "6 2021-11-17 12:34:00    121.0        75.0            0.0         0.0    99.0\n",
            "7 2021-11-17 12:39:00    121.0        75.0            0.0         0.0    99.0\n",
            "8 2021-11-17 12:44:00    120.0        75.0            0.0         0.0    99.0\n",
            "9 2021-11-17 12:49:00    119.0        75.0            0.0         0.0    99.0\n",
            "Parsed /content/drive/MyDrive/GP PID/dataset/588-ws-training.xml, 12640 records\n",
            "            timestamp  glucose  meal_carbs  bolus_insulin  basal_rate  weight\n",
            "0 2021-08-30 11:53:00    116.0        14.0            3.0         1.2    99.0\n",
            "1 2021-08-30 11:58:00    117.0        14.0            3.0         1.2    99.0\n",
            "2 2021-08-30 12:03:00    119.0        14.0            3.0         1.2    99.0\n",
            "3 2021-08-30 12:08:00    116.0        14.0            5.1         1.2    99.0\n",
            "4 2021-08-30 12:13:00    111.0        14.0            5.1         1.2    99.0\n",
            "5 2021-08-30 12:18:00    110.0        14.0            5.1         1.2    99.0\n",
            "6 2021-08-30 12:23:00    111.0        14.0            5.1         1.2    99.0\n",
            "7 2021-08-30 12:28:00    113.0        14.0            5.1         1.2    99.0\n",
            "8 2021-08-30 12:33:00    114.0        14.0            5.1         1.2    99.0\n",
            "9 2021-08-30 12:38:00    117.0        14.0            5.1         1.2    99.0\n",
            "Parsed /content/drive/MyDrive/GP PID/dataset/591-ws-training.xml, 10847 records\n",
            "            timestamp  glucose  meal_carbs  bolus_insulin  basal_rate  weight\n",
            "0 2021-11-30 17:06:00    160.0        17.0            4.3        0.93    99.0\n",
            "1 2021-11-30 17:11:00    158.0        17.0            4.3        0.93    99.0\n",
            "2 2021-11-30 17:16:00    160.0        17.0            4.3        0.93    99.0\n",
            "3 2021-11-30 17:21:00    166.0        17.0            4.3        0.93    99.0\n",
            "4 2021-11-30 17:26:00    175.0        17.0            4.3        0.93    99.0\n",
            "5 2021-11-30 17:31:00    182.0        17.0            4.3        0.93    99.0\n",
            "6 2021-11-30 17:36:00    188.0        17.0            4.3        0.93    99.0\n",
            "7 2021-11-30 17:41:00    192.0        17.0            4.3        0.93    99.0\n",
            "8 2021-11-30 17:46:00    191.0        17.0            4.3        0.93    99.0\n",
            "9 2021-11-30 17:51:00    192.0        17.0            4.3        0.93    99.0\n",
            "Parsed /content/drive/MyDrive/GP PID/dataset/559-ws-testing.xml, 2514 records\n",
            "            timestamp  glucose  meal_carbs  bolus_insulin  basal_rate  weight\n",
            "0 2022-01-18 00:01:00    179.0        45.0            0.0         0.0    99.0\n",
            "1 2022-01-18 00:06:00    183.0        45.0            0.0         0.0    99.0\n",
            "2 2022-01-18 00:11:00    187.0        45.0            0.0         0.0    99.0\n",
            "3 2022-01-18 00:16:00    191.0        45.0            0.0         0.0    99.0\n",
            "4 2022-01-18 00:21:00    195.0        45.0            0.0         0.0    99.0\n",
            "5 2022-01-18 00:26:00    199.0        45.0            0.0         0.0    99.0\n",
            "6 2022-01-18 00:31:00    204.0        45.0            0.0         0.0    99.0\n",
            "7 2022-01-18 00:36:00    209.0        45.0            0.0         0.0    99.0\n",
            "8 2022-01-18 00:41:00    211.0        45.0            0.0         0.0    99.0\n",
            "9 2022-01-18 00:46:00    211.0        45.0            0.0         0.0    99.0\n",
            "Parsed /content/drive/MyDrive/GP PID/dataset/563-ws-testing.xml, 2570 records\n",
            "            timestamp  glucose  meal_carbs  bolus_insulin  basal_rate  weight\n",
            "0 2021-10-29 00:01:00    239.0        65.0            0.0         1.5    99.0\n",
            "1 2021-10-29 00:06:00    238.0        65.0            0.0         1.5    99.0\n",
            "2 2021-10-29 00:11:00    235.0        65.0            0.0         1.5    99.0\n",
            "3 2021-10-29 00:16:00    233.0        65.0            0.0         1.5    99.0\n",
            "4 2021-10-29 00:21:00    231.0        65.0            0.0         1.5    99.0\n",
            "5 2021-10-29 00:26:00    229.0        65.0            0.0         1.5    99.0\n",
            "6 2021-10-29 00:31:00    227.0        65.0            0.0         1.5    99.0\n",
            "7 2021-10-29 00:36:00    222.0        65.0            0.0         1.5    99.0\n",
            "8 2021-10-29 00:41:00    220.0        65.0            0.0         1.5    99.0\n",
            "9 2021-10-29 00:46:00    216.0        65.0            0.0         1.5    99.0\n",
            "Parsed /content/drive/MyDrive/GP PID/dataset/570-ws-testing.xml, 2745 records\n",
            "            timestamp  glucose  meal_carbs  bolus_insulin  basal_rate  weight\n",
            "0 2022-01-17 00:04:00    135.0       175.0            0.0         0.9    99.0\n",
            "1 2022-01-17 00:09:00    143.0       175.0            0.0         0.9    99.0\n",
            "2 2022-01-17 00:14:00    152.0       175.0            0.0         0.9    99.0\n",
            "3 2022-01-17 00:19:00    159.0       175.0            0.0         0.9    99.0\n",
            "4 2022-01-17 00:24:00    166.0       175.0            0.0         0.9    99.0\n",
            "5 2022-01-17 00:29:00    172.0       175.0            0.0         0.9    99.0\n",
            "6 2022-01-17 00:34:00    178.0       175.0            0.0         0.9    99.0\n",
            "7 2022-01-17 00:39:00    184.0       175.0            0.0         0.9    99.0\n",
            "8 2022-01-17 00:44:00    191.0       175.0            0.0         0.9    99.0\n",
            "9 2022-01-17 00:49:00    195.0       175.0            0.0         0.9    99.0\n",
            "Parsed /content/drive/MyDrive/GP PID/dataset/575-ws-testing.xml, 2590 records\n",
            "            timestamp  glucose  meal_carbs  bolus_insulin  basal_rate  weight\n",
            "0 2022-01-02 00:00:00    214.0        24.0            0.0         0.7    99.0\n",
            "1 2022-01-02 00:05:00    217.0        24.0            0.0         0.7    99.0\n",
            "2 2022-01-02 00:10:00    217.0        24.0            0.0         0.7    99.0\n",
            "3 2022-01-02 00:15:00    212.0        24.0            0.0         0.7    99.0\n",
            "4 2022-01-02 00:20:00    209.0        24.0            0.0         0.7    99.0\n",
            "5 2022-01-02 00:25:00    208.0        24.0            0.9         0.7    99.0\n",
            "6 2022-01-02 00:30:00    209.0        24.0            0.9         0.7    99.0\n",
            "7 2022-01-02 00:35:00    209.0        24.0            0.9         0.7    99.0\n",
            "8 2022-01-02 00:40:00    208.0        24.0            0.9         0.7    99.0\n",
            "9 2022-01-02 00:45:00    207.0        24.0            0.9         0.7    99.0\n",
            "Parsed /content/drive/MyDrive/GP PID/dataset/588-ws-testing.xml, 2791 records\n",
            "            timestamp  glucose  meal_carbs  bolus_insulin  basal_rate  weight\n",
            "0 2021-10-15 00:00:00    127.0        40.0            0.0         0.0    99.0\n",
            "1 2021-10-15 00:05:00    123.0        40.0            0.0         0.0    99.0\n",
            "2 2021-10-15 00:10:00    118.0        40.0            0.0         0.0    99.0\n",
            "3 2021-10-15 00:15:00    112.0        40.0            0.0         0.0    99.0\n",
            "4 2021-10-15 00:20:00    108.0        40.0            0.0         0.0    99.0\n",
            "5 2021-10-15 00:25:00    106.0        40.0            0.0         0.0    99.0\n",
            "6 2021-10-15 00:30:00    103.0        40.0            0.0         0.0    99.0\n",
            "7 2021-10-15 00:35:00     98.0        40.0            0.0         0.0    99.0\n",
            "8 2021-10-15 00:40:00     95.0        40.0            0.0         0.0    99.0\n",
            "9 2021-10-15 00:45:00     93.0        40.0            0.0         0.0    99.0\n",
            "Parsed /content/drive/MyDrive/GP PID/dataset/591-ws-testing.xml, 2760 records\n",
            "            timestamp  glucose  meal_carbs  bolus_insulin  basal_rate  weight\n",
            "0 2022-01-14 00:03:00    283.0        22.0            0.0         1.0    99.0\n",
            "1 2022-01-14 00:08:00    282.0        22.0            0.0         1.0    99.0\n",
            "2 2022-01-14 00:13:00    281.0        22.0            0.0         1.0    99.0\n",
            "3 2022-01-14 00:18:00    277.0        22.0            0.0         1.0    99.0\n",
            "4 2022-01-14 00:23:00    267.0        22.0            0.0         1.0    99.0\n",
            "5 2022-01-14 00:28:00    258.0        22.0            0.0         1.0    99.0\n",
            "6 2022-01-14 00:33:00    251.0        22.0            0.0         1.0    99.0\n",
            "7 2022-01-14 00:38:00    237.0        22.0            0.0         1.0    99.0\n",
            "8 2022-01-14 00:43:00    226.0        22.0            0.0         1.0    99.0\n",
            "9 2022-01-14 00:48:00    216.0        22.0            0.0         1.0    99.0\n",
            "\n",
            "Final Train DataFrame:\n",
            "            timestamp  glucose  meal_carbs  bolus_insulin  basal_rate  weight\n",
            "0 2021-12-07 01:17:00    101.0        40.0            1.6        0.65    99.0\n",
            "1 2021-12-07 01:22:00     98.0        40.0            1.6        0.65    99.0\n",
            "2 2021-12-07 01:27:00    104.0        40.0            1.6        0.65    99.0\n",
            "3 2021-12-07 01:32:00    112.0        40.0            1.6        0.65    99.0\n",
            "4 2021-12-07 01:37:00    120.0        40.0            1.6        0.65    99.0\n",
            "5 2021-12-07 01:42:00    127.0        40.0            1.6        0.65    99.0\n",
            "6 2021-12-07 01:47:00    135.0        40.0            1.6        0.65    99.0\n",
            "7 2021-12-07 01:52:00    142.0        40.0            1.6        0.65    99.0\n",
            "8 2021-12-07 01:57:00    140.0        40.0            1.6        0.65    99.0\n",
            "9 2021-12-07 02:02:00    145.0        40.0            1.6        0.65    99.0\n",
            "\n",
            "Final Test DataFrame:\n",
            "            timestamp  glucose  meal_carbs  bolus_insulin  basal_rate  weight\n",
            "0 2022-01-18 00:01:00    179.0        45.0            0.0         0.0    99.0\n",
            "1 2022-01-18 00:06:00    183.0        45.0            0.0         0.0    99.0\n",
            "2 2022-01-18 00:11:00    187.0        45.0            0.0         0.0    99.0\n",
            "3 2022-01-18 00:16:00    191.0        45.0            0.0         0.0    99.0\n",
            "4 2022-01-18 00:21:00    195.0        45.0            0.0         0.0    99.0\n",
            "5 2022-01-18 00:26:00    199.0        45.0            0.0         0.0    99.0\n",
            "6 2022-01-18 00:31:00    204.0        45.0            0.0         0.0    99.0\n",
            "7 2022-01-18 00:36:00    209.0        45.0            0.0         0.0    99.0\n",
            "8 2022-01-18 00:41:00    211.0        45.0            0.0         0.0    99.0\n",
            "9 2022-01-18 00:46:00    211.0        45.0            0.0         0.0    99.0\n"
          ]
        }
      ]
    },
    {
      "cell_type": "markdown",
      "source": [
        "Convert Time into Numerical Features"
      ],
      "metadata": {
        "id": "tI17lg0ui3Xm"
      }
    },
    {
      "cell_type": "code",
      "source": [
        "# this Converts time (hours, minutes) into cyclic features using sin/cos encoding for better LSTM learning\n",
        "def preprocess_time_features(df):\n",
        "    df['hour'] = df['timestamp'].dt.hour\n",
        "    df['minute'] = df['timestamp'].dt.minute\n",
        "    df['time_sin'] = np.sin(2 * np.pi * df['hour'] / 24)  # Cyclic encoding\n",
        "    df['time_cos'] = np.cos(2 * np.pi * df['hour'] / 24)\n",
        "    return df.drop(['timestamp', 'hour', 'minute'], axis=1)\n",
        "\n",
        "train_df = preprocess_time_features(train_df)\n",
        "test_df = preprocess_time_features(test_df)\n",
        "\n",
        "train_df.head()"
      ],
      "metadata": {
        "id": "mX4ofOO_i0bL",
        "colab": {
          "base_uri": "https://localhost:8080/",
          "height": 206
        },
        "outputId": "61b97b36-576f-4cc7-fba8-25cbc4d8f16d"
      },
      "execution_count": 6,
      "outputs": [
        {
          "output_type": "execute_result",
          "data": {
            "text/plain": [
              "   glucose  meal_carbs  bolus_insulin  basal_rate  weight  time_sin  time_cos\n",
              "0    101.0        40.0            1.6        0.65    99.0  0.258819  0.965926\n",
              "1     98.0        40.0            1.6        0.65    99.0  0.258819  0.965926\n",
              "2    104.0        40.0            1.6        0.65    99.0  0.258819  0.965926\n",
              "3    112.0        40.0            1.6        0.65    99.0  0.258819  0.965926\n",
              "4    120.0        40.0            1.6        0.65    99.0  0.258819  0.965926"
            ],
            "text/html": [
              "\n",
              "  <div id=\"df-3d040fd2-2168-4394-958e-6162b3a926ae\" class=\"colab-df-container\">\n",
              "    <div>\n",
              "<style scoped>\n",
              "    .dataframe tbody tr th:only-of-type {\n",
              "        vertical-align: middle;\n",
              "    }\n",
              "\n",
              "    .dataframe tbody tr th {\n",
              "        vertical-align: top;\n",
              "    }\n",
              "\n",
              "    .dataframe thead th {\n",
              "        text-align: right;\n",
              "    }\n",
              "</style>\n",
              "<table border=\"1\" class=\"dataframe\">\n",
              "  <thead>\n",
              "    <tr style=\"text-align: right;\">\n",
              "      <th></th>\n",
              "      <th>glucose</th>\n",
              "      <th>meal_carbs</th>\n",
              "      <th>bolus_insulin</th>\n",
              "      <th>basal_rate</th>\n",
              "      <th>weight</th>\n",
              "      <th>time_sin</th>\n",
              "      <th>time_cos</th>\n",
              "    </tr>\n",
              "  </thead>\n",
              "  <tbody>\n",
              "    <tr>\n",
              "      <th>0</th>\n",
              "      <td>101.0</td>\n",
              "      <td>40.0</td>\n",
              "      <td>1.6</td>\n",
              "      <td>0.65</td>\n",
              "      <td>99.0</td>\n",
              "      <td>0.258819</td>\n",
              "      <td>0.965926</td>\n",
              "    </tr>\n",
              "    <tr>\n",
              "      <th>1</th>\n",
              "      <td>98.0</td>\n",
              "      <td>40.0</td>\n",
              "      <td>1.6</td>\n",
              "      <td>0.65</td>\n",
              "      <td>99.0</td>\n",
              "      <td>0.258819</td>\n",
              "      <td>0.965926</td>\n",
              "    </tr>\n",
              "    <tr>\n",
              "      <th>2</th>\n",
              "      <td>104.0</td>\n",
              "      <td>40.0</td>\n",
              "      <td>1.6</td>\n",
              "      <td>0.65</td>\n",
              "      <td>99.0</td>\n",
              "      <td>0.258819</td>\n",
              "      <td>0.965926</td>\n",
              "    </tr>\n",
              "    <tr>\n",
              "      <th>3</th>\n",
              "      <td>112.0</td>\n",
              "      <td>40.0</td>\n",
              "      <td>1.6</td>\n",
              "      <td>0.65</td>\n",
              "      <td>99.0</td>\n",
              "      <td>0.258819</td>\n",
              "      <td>0.965926</td>\n",
              "    </tr>\n",
              "    <tr>\n",
              "      <th>4</th>\n",
              "      <td>120.0</td>\n",
              "      <td>40.0</td>\n",
              "      <td>1.6</td>\n",
              "      <td>0.65</td>\n",
              "      <td>99.0</td>\n",
              "      <td>0.258819</td>\n",
              "      <td>0.965926</td>\n",
              "    </tr>\n",
              "  </tbody>\n",
              "</table>\n",
              "</div>\n",
              "    <div class=\"colab-df-buttons\">\n",
              "\n",
              "  <div class=\"colab-df-container\">\n",
              "    <button class=\"colab-df-convert\" onclick=\"convertToInteractive('df-3d040fd2-2168-4394-958e-6162b3a926ae')\"\n",
              "            title=\"Convert this dataframe to an interactive table.\"\n",
              "            style=\"display:none;\">\n",
              "\n",
              "  <svg xmlns=\"http://www.w3.org/2000/svg\" height=\"24px\" viewBox=\"0 -960 960 960\">\n",
              "    <path d=\"M120-120v-720h720v720H120Zm60-500h600v-160H180v160Zm220 220h160v-160H400v160Zm0 220h160v-160H400v160ZM180-400h160v-160H180v160Zm440 0h160v-160H620v160ZM180-180h160v-160H180v160Zm440 0h160v-160H620v160Z\"/>\n",
              "  </svg>\n",
              "    </button>\n",
              "\n",
              "  <style>\n",
              "    .colab-df-container {\n",
              "      display:flex;\n",
              "      gap: 12px;\n",
              "    }\n",
              "\n",
              "    .colab-df-convert {\n",
              "      background-color: #E8F0FE;\n",
              "      border: none;\n",
              "      border-radius: 50%;\n",
              "      cursor: pointer;\n",
              "      display: none;\n",
              "      fill: #1967D2;\n",
              "      height: 32px;\n",
              "      padding: 0 0 0 0;\n",
              "      width: 32px;\n",
              "    }\n",
              "\n",
              "    .colab-df-convert:hover {\n",
              "      background-color: #E2EBFA;\n",
              "      box-shadow: 0px 1px 2px rgba(60, 64, 67, 0.3), 0px 1px 3px 1px rgba(60, 64, 67, 0.15);\n",
              "      fill: #174EA6;\n",
              "    }\n",
              "\n",
              "    .colab-df-buttons div {\n",
              "      margin-bottom: 4px;\n",
              "    }\n",
              "\n",
              "    [theme=dark] .colab-df-convert {\n",
              "      background-color: #3B4455;\n",
              "      fill: #D2E3FC;\n",
              "    }\n",
              "\n",
              "    [theme=dark] .colab-df-convert:hover {\n",
              "      background-color: #434B5C;\n",
              "      box-shadow: 0px 1px 3px 1px rgba(0, 0, 0, 0.15);\n",
              "      filter: drop-shadow(0px 1px 2px rgba(0, 0, 0, 0.3));\n",
              "      fill: #FFFFFF;\n",
              "    }\n",
              "  </style>\n",
              "\n",
              "    <script>\n",
              "      const buttonEl =\n",
              "        document.querySelector('#df-3d040fd2-2168-4394-958e-6162b3a926ae button.colab-df-convert');\n",
              "      buttonEl.style.display =\n",
              "        google.colab.kernel.accessAllowed ? 'block' : 'none';\n",
              "\n",
              "      async function convertToInteractive(key) {\n",
              "        const element = document.querySelector('#df-3d040fd2-2168-4394-958e-6162b3a926ae');\n",
              "        const dataTable =\n",
              "          await google.colab.kernel.invokeFunction('convertToInteractive',\n",
              "                                                    [key], {});\n",
              "        if (!dataTable) return;\n",
              "\n",
              "        const docLinkHtml = 'Like what you see? Visit the ' +\n",
              "          '<a target=\"_blank\" href=https://colab.research.google.com/notebooks/data_table.ipynb>data table notebook</a>'\n",
              "          + ' to learn more about interactive tables.';\n",
              "        element.innerHTML = '';\n",
              "        dataTable['output_type'] = 'display_data';\n",
              "        await google.colab.output.renderOutput(dataTable, element);\n",
              "        const docLink = document.createElement('div');\n",
              "        docLink.innerHTML = docLinkHtml;\n",
              "        element.appendChild(docLink);\n",
              "      }\n",
              "    </script>\n",
              "  </div>\n",
              "\n",
              "\n",
              "<div id=\"df-9fc96ddb-21ef-4fef-88ff-c1178d1ec6be\">\n",
              "  <button class=\"colab-df-quickchart\" onclick=\"quickchart('df-9fc96ddb-21ef-4fef-88ff-c1178d1ec6be')\"\n",
              "            title=\"Suggest charts\"\n",
              "            style=\"display:none;\">\n",
              "\n",
              "<svg xmlns=\"http://www.w3.org/2000/svg\" height=\"24px\"viewBox=\"0 0 24 24\"\n",
              "     width=\"24px\">\n",
              "    <g>\n",
              "        <path d=\"M19 3H5c-1.1 0-2 .9-2 2v14c0 1.1.9 2 2 2h14c1.1 0 2-.9 2-2V5c0-1.1-.9-2-2-2zM9 17H7v-7h2v7zm4 0h-2V7h2v10zm4 0h-2v-4h2v4z\"/>\n",
              "    </g>\n",
              "</svg>\n",
              "  </button>\n",
              "\n",
              "<style>\n",
              "  .colab-df-quickchart {\n",
              "      --bg-color: #E8F0FE;\n",
              "      --fill-color: #1967D2;\n",
              "      --hover-bg-color: #E2EBFA;\n",
              "      --hover-fill-color: #174EA6;\n",
              "      --disabled-fill-color: #AAA;\n",
              "      --disabled-bg-color: #DDD;\n",
              "  }\n",
              "\n",
              "  [theme=dark] .colab-df-quickchart {\n",
              "      --bg-color: #3B4455;\n",
              "      --fill-color: #D2E3FC;\n",
              "      --hover-bg-color: #434B5C;\n",
              "      --hover-fill-color: #FFFFFF;\n",
              "      --disabled-bg-color: #3B4455;\n",
              "      --disabled-fill-color: #666;\n",
              "  }\n",
              "\n",
              "  .colab-df-quickchart {\n",
              "    background-color: var(--bg-color);\n",
              "    border: none;\n",
              "    border-radius: 50%;\n",
              "    cursor: pointer;\n",
              "    display: none;\n",
              "    fill: var(--fill-color);\n",
              "    height: 32px;\n",
              "    padding: 0;\n",
              "    width: 32px;\n",
              "  }\n",
              "\n",
              "  .colab-df-quickchart:hover {\n",
              "    background-color: var(--hover-bg-color);\n",
              "    box-shadow: 0 1px 2px rgba(60, 64, 67, 0.3), 0 1px 3px 1px rgba(60, 64, 67, 0.15);\n",
              "    fill: var(--button-hover-fill-color);\n",
              "  }\n",
              "\n",
              "  .colab-df-quickchart-complete:disabled,\n",
              "  .colab-df-quickchart-complete:disabled:hover {\n",
              "    background-color: var(--disabled-bg-color);\n",
              "    fill: var(--disabled-fill-color);\n",
              "    box-shadow: none;\n",
              "  }\n",
              "\n",
              "  .colab-df-spinner {\n",
              "    border: 2px solid var(--fill-color);\n",
              "    border-color: transparent;\n",
              "    border-bottom-color: var(--fill-color);\n",
              "    animation:\n",
              "      spin 1s steps(1) infinite;\n",
              "  }\n",
              "\n",
              "  @keyframes spin {\n",
              "    0% {\n",
              "      border-color: transparent;\n",
              "      border-bottom-color: var(--fill-color);\n",
              "      border-left-color: var(--fill-color);\n",
              "    }\n",
              "    20% {\n",
              "      border-color: transparent;\n",
              "      border-left-color: var(--fill-color);\n",
              "      border-top-color: var(--fill-color);\n",
              "    }\n",
              "    30% {\n",
              "      border-color: transparent;\n",
              "      border-left-color: var(--fill-color);\n",
              "      border-top-color: var(--fill-color);\n",
              "      border-right-color: var(--fill-color);\n",
              "    }\n",
              "    40% {\n",
              "      border-color: transparent;\n",
              "      border-right-color: var(--fill-color);\n",
              "      border-top-color: var(--fill-color);\n",
              "    }\n",
              "    60% {\n",
              "      border-color: transparent;\n",
              "      border-right-color: var(--fill-color);\n",
              "    }\n",
              "    80% {\n",
              "      border-color: transparent;\n",
              "      border-right-color: var(--fill-color);\n",
              "      border-bottom-color: var(--fill-color);\n",
              "    }\n",
              "    90% {\n",
              "      border-color: transparent;\n",
              "      border-bottom-color: var(--fill-color);\n",
              "    }\n",
              "  }\n",
              "</style>\n",
              "\n",
              "  <script>\n",
              "    async function quickchart(key) {\n",
              "      const quickchartButtonEl =\n",
              "        document.querySelector('#' + key + ' button');\n",
              "      quickchartButtonEl.disabled = true;  // To prevent multiple clicks.\n",
              "      quickchartButtonEl.classList.add('colab-df-spinner');\n",
              "      try {\n",
              "        const charts = await google.colab.kernel.invokeFunction(\n",
              "            'suggestCharts', [key], {});\n",
              "      } catch (error) {\n",
              "        console.error('Error during call to suggestCharts:', error);\n",
              "      }\n",
              "      quickchartButtonEl.classList.remove('colab-df-spinner');\n",
              "      quickchartButtonEl.classList.add('colab-df-quickchart-complete');\n",
              "    }\n",
              "    (() => {\n",
              "      let quickchartButtonEl =\n",
              "        document.querySelector('#df-9fc96ddb-21ef-4fef-88ff-c1178d1ec6be button');\n",
              "      quickchartButtonEl.style.display =\n",
              "        google.colab.kernel.accessAllowed ? 'block' : 'none';\n",
              "    })();\n",
              "  </script>\n",
              "</div>\n",
              "\n",
              "    </div>\n",
              "  </div>\n"
            ],
            "application/vnd.google.colaboratory.intrinsic+json": {
              "type": "dataframe",
              "variable_name": "train_df",
              "summary": "{\n  \"name\": \"train_df\",\n  \"rows\": 69255,\n  \"fields\": [\n    {\n      \"column\": \"glucose\",\n      \"properties\": {\n        \"dtype\": \"number\",\n        \"std\": 60.53802575727416,\n        \"min\": 40.0,\n        \"max\": 400.0,\n        \"num_unique_values\": 359,\n        \"samples\": [\n          170.0,\n          80.0,\n          341.0\n        ],\n        \"semantic_type\": \"\",\n        \"description\": \"\"\n      }\n    },\n    {\n      \"column\": \"meal_carbs\",\n      \"properties\": {\n        \"dtype\": \"number\",\n        \"std\": 45.68795648058531,\n        \"min\": 0.0,\n        \"max\": 150.0,\n        \"num_unique_values\": 7,\n        \"samples\": [\n          40.0,\n          0.0,\n          14.0\n        ],\n        \"semantic_type\": \"\",\n        \"description\": \"\"\n      }\n    },\n    {\n      \"column\": \"bolus_insulin\",\n      \"properties\": {\n        \"dtype\": \"number\",\n        \"std\": 3.3771824488097404,\n        \"min\": 0.0,\n        \"max\": 24.7,\n        \"num_unique_values\": 166,\n        \"samples\": [\n          14.9,\n          9.6,\n          8.9\n        ],\n        \"semantic_type\": \"\",\n        \"description\": \"\"\n      }\n    },\n    {\n      \"column\": \"basal_rate\",\n      \"properties\": {\n        \"dtype\": \"number\",\n        \"std\": 0.2294214221281262,\n        \"min\": 0.0,\n        \"max\": 1.6,\n        \"num_unique_values\": 34,\n        \"samples\": [\n          1.6,\n          1.35,\n          0.48\n        ],\n        \"semantic_type\": \"\",\n        \"description\": \"\"\n      }\n    },\n    {\n      \"column\": \"weight\",\n      \"properties\": {\n        \"dtype\": \"number\",\n        \"std\": 0.0,\n        \"min\": 99.0,\n        \"max\": 99.0,\n        \"num_unique_values\": 1,\n        \"samples\": [\n          99.0\n        ],\n        \"semantic_type\": \"\",\n        \"description\": \"\"\n      }\n    },\n    {\n      \"column\": \"time_sin\",\n      \"properties\": {\n        \"dtype\": \"number\",\n        \"std\": 0.7035201797032504,\n        \"min\": -1.0,\n        \"max\": 1.0,\n        \"num_unique_values\": 22,\n        \"samples\": [\n          0.25881904510252074\n        ],\n        \"semantic_type\": \"\",\n        \"description\": \"\"\n      }\n    },\n    {\n      \"column\": \"time_cos\",\n      \"properties\": {\n        \"dtype\": \"number\",\n        \"std\": 0.710496816003049,\n        \"min\": -1.0,\n        \"max\": 1.0,\n        \"num_unique_values\": 22,\n        \"samples\": [\n          0.9659258262890683\n        ],\n        \"semantic_type\": \"\",\n        \"description\": \"\"\n      }\n    }\n  ]\n}"
            }
          },
          "metadata": {},
          "execution_count": 6
        }
      ]
    },
    {
      "cell_type": "markdown",
      "source": [
        "Prepare Data for LSTM (Sequences)"
      ],
      "metadata": {
        "id": "bmgpwVZhi6fD"
      }
    },
    {
      "cell_type": "code",
      "source": [
        "def prepare_sequences(df, sequence_length=30):\n",
        "    X, y = [], []\n",
        "    for i in range(len(df) - sequence_length):\n",
        "        X.append(df.iloc[i:i+sequence_length].values)\n",
        "        y.append(df.iloc[i+sequence_length]['glucose'])\n",
        "    return np.array(X, dtype=np.float32), np.array(y, dtype=np.float32)\n",
        "\n",
        "sequence_length = 30\n",
        "X_train, y_train = prepare_sequences(train_df, sequence_length)\n",
        "X_test, y_test = prepare_sequences(test_df, sequence_length)\n"
      ],
      "metadata": {
        "id": "nH068lqTi8TI"
      },
      "execution_count": 8,
      "outputs": []
    },
    {
      "cell_type": "markdown",
      "source": [
        "Train LSTM Model"
      ],
      "metadata": {
        "id": "Nz6RViACi-vT"
      }
    },
    {
      "cell_type": "code",
      "source": [
        "#Trains an LSTM model with Time, Glucose, Insulin, weight and Meal intake.\n",
        "#Saves the trained model for later use.\n",
        "#Plots training performance.\n",
        "# Define LSTM Model\n",
        "model = Sequential([\n",
        "    LSTM(64, activation='tanh', return_sequences=True, input_shape=(sequence_length, train_df.shape[1])),\n",
        "    LSTM(32, activation='tanh'),\n",
        "    Dense(1, activation='linear')  # Predict next glucose level\n",
        "])\n",
        "\n",
        "# Compile Model\n",
        "model.compile(optimizer='adam', loss='mse')\n",
        "\n",
        "# Train Model\n",
        "history = model.fit(X_train, y_train, epochs=50, batch_size=32, validation_data=(X_test, y_test))\n",
        "\n",
        "# Save Model\n",
        "model.save(\"/content/lstm_glucose_model.h5\")\n",
        "\n",
        "# Plot Training Loss\n",
        "plt.plot(history.history['loss'], label='Train Loss')\n",
        "plt.plot(history.history['val_loss'], label='Validation Loss')\n",
        "plt.legend()\n",
        "plt.show()"
      ],
      "metadata": {
        "id": "WwGop87fjAiu",
        "colab": {
          "base_uri": "https://localhost:8080/",
          "height": 1000
        },
        "outputId": "884f97eb-61e3-44ba-f66d-7e3486062aa4"
      },
      "execution_count": 9,
      "outputs": [
        {
          "output_type": "stream",
          "name": "stderr",
          "text": [
            "/usr/local/lib/python3.11/dist-packages/keras/src/layers/rnn/rnn.py:200: UserWarning: Do not pass an `input_shape`/`input_dim` argument to a layer. When using Sequential models, prefer using an `Input(shape)` object as the first layer in the model instead.\n",
            "  super().__init__(**kwargs)\n"
          ]
        },
        {
          "output_type": "stream",
          "name": "stdout",
          "text": [
            "Epoch 1/50\n",
            "\u001b[1m2164/2164\u001b[0m \u001b[32m━━━━━━━━━━━━━━━━━━━━\u001b[0m\u001b[37m\u001b[0m \u001b[1m20s\u001b[0m 8ms/step - loss: 22420.1445 - val_loss: 13645.5020\n",
            "Epoch 2/50\n",
            "\u001b[1m2164/2164\u001b[0m \u001b[32m━━━━━━━━━━━━━━━━━━━━\u001b[0m\u001b[37m\u001b[0m \u001b[1m17s\u001b[0m 7ms/step - loss: 9533.7568 - val_loss: 5874.0933\n",
            "Epoch 3/50\n",
            "\u001b[1m2164/2164\u001b[0m \u001b[32m━━━━━━━━━━━━━━━━━━━━\u001b[0m\u001b[37m\u001b[0m \u001b[1m17s\u001b[0m 8ms/step - loss: 3849.9331 - val_loss: 2342.1023\n",
            "Epoch 4/50\n",
            "\u001b[1m2164/2164\u001b[0m \u001b[32m━━━━━━━━━━━━━━━━━━━━\u001b[0m\u001b[37m\u001b[0m \u001b[1m17s\u001b[0m 8ms/step - loss: 1512.7781 - val_loss: 925.1885\n",
            "Epoch 5/50\n",
            "\u001b[1m2164/2164\u001b[0m \u001b[32m━━━━━━━━━━━━━━━━━━━━\u001b[0m\u001b[37m\u001b[0m \u001b[1m17s\u001b[0m 8ms/step - loss: 578.7912 - val_loss: 378.1149\n",
            "Epoch 6/50\n",
            "\u001b[1m2164/2164\u001b[0m \u001b[32m━━━━━━━━━━━━━━━━━━━━\u001b[0m\u001b[37m\u001b[0m \u001b[1m16s\u001b[0m 7ms/step - loss: 253.3823 - val_loss: 170.1597\n",
            "Epoch 7/50\n",
            "\u001b[1m2164/2164\u001b[0m \u001b[32m━━━━━━━━━━━━━━━━━━━━\u001b[0m\u001b[37m\u001b[0m \u001b[1m20s\u001b[0m 7ms/step - loss: 123.6879 - val_loss: 93.7883\n",
            "Epoch 8/50\n",
            "\u001b[1m2164/2164\u001b[0m \u001b[32m━━━━━━━━━━━━━━━━━━━━\u001b[0m\u001b[37m\u001b[0m \u001b[1m20s\u001b[0m 7ms/step - loss: 77.0809 - val_loss: 60.7717\n",
            "Epoch 9/50\n",
            "\u001b[1m2164/2164\u001b[0m \u001b[32m━━━━━━━━━━━━━━━━━━━━\u001b[0m\u001b[37m\u001b[0m \u001b[1m16s\u001b[0m 7ms/step - loss: 60.2268 - val_loss: 46.6697\n",
            "Epoch 10/50\n",
            "\u001b[1m2164/2164\u001b[0m \u001b[32m━━━━━━━━━━━━━━━━━━━━\u001b[0m\u001b[37m\u001b[0m \u001b[1m20s\u001b[0m 7ms/step - loss: 45.6657 - val_loss: 42.8875\n",
            "Epoch 11/50\n",
            "\u001b[1m2164/2164\u001b[0m \u001b[32m━━━━━━━━━━━━━━━━━━━━\u001b[0m\u001b[37m\u001b[0m \u001b[1m21s\u001b[0m 7ms/step - loss: 48.6064 - val_loss: 41.6246\n",
            "Epoch 12/50\n",
            "\u001b[1m2164/2164\u001b[0m \u001b[32m━━━━━━━━━━━━━━━━━━━━\u001b[0m\u001b[37m\u001b[0m \u001b[1m21s\u001b[0m 8ms/step - loss: 42.6032 - val_loss: 41.1702\n",
            "Epoch 13/50\n",
            "\u001b[1m2164/2164\u001b[0m \u001b[32m━━━━━━━━━━━━━━━━━━━━\u001b[0m\u001b[37m\u001b[0m \u001b[1m20s\u001b[0m 8ms/step - loss: 40.7326 - val_loss: 31.9863\n",
            "Epoch 14/50\n",
            "\u001b[1m2164/2164\u001b[0m \u001b[32m━━━━━━━━━━━━━━━━━━━━\u001b[0m\u001b[37m\u001b[0m \u001b[1m17s\u001b[0m 8ms/step - loss: 45.9308 - val_loss: 34.1844\n",
            "Epoch 15/50\n",
            "\u001b[1m2164/2164\u001b[0m \u001b[32m━━━━━━━━━━━━━━━━━━━━\u001b[0m\u001b[37m\u001b[0m \u001b[1m20s\u001b[0m 8ms/step - loss: 40.9404 - val_loss: 31.4888\n",
            "Epoch 16/50\n",
            "\u001b[1m2164/2164\u001b[0m \u001b[32m━━━━━━━━━━━━━━━━━━━━\u001b[0m\u001b[37m\u001b[0m \u001b[1m21s\u001b[0m 8ms/step - loss: 40.9704 - val_loss: 32.0642\n",
            "Epoch 17/50\n",
            "\u001b[1m2164/2164\u001b[0m \u001b[32m━━━━━━━━━━━━━━━━━━━━\u001b[0m\u001b[37m\u001b[0m \u001b[1m16s\u001b[0m 7ms/step - loss: 38.4689 - val_loss: 29.9844\n",
            "Epoch 18/50\n",
            "\u001b[1m2164/2164\u001b[0m \u001b[32m━━━━━━━━━━━━━━━━━━━━\u001b[0m\u001b[37m\u001b[0m \u001b[1m22s\u001b[0m 8ms/step - loss: 40.1972 - val_loss: 32.8584\n",
            "Epoch 19/50\n",
            "\u001b[1m2164/2164\u001b[0m \u001b[32m━━━━━━━━━━━━━━━━━━━━\u001b[0m\u001b[37m\u001b[0m \u001b[1m20s\u001b[0m 7ms/step - loss: 42.8475 - val_loss: 29.7675\n",
            "Epoch 20/50\n",
            "\u001b[1m2164/2164\u001b[0m \u001b[32m━━━━━━━━━━━━━━━━━━━━\u001b[0m\u001b[37m\u001b[0m \u001b[1m20s\u001b[0m 7ms/step - loss: 39.4322 - val_loss: 36.2390\n",
            "Epoch 21/50\n",
            "\u001b[1m2164/2164\u001b[0m \u001b[32m━━━━━━━━━━━━━━━━━━━━\u001b[0m\u001b[37m\u001b[0m \u001b[1m22s\u001b[0m 8ms/step - loss: 42.2263 - val_loss: 29.9229\n",
            "Epoch 22/50\n",
            "\u001b[1m2164/2164\u001b[0m \u001b[32m━━━━━━━━━━━━━━━━━━━━\u001b[0m\u001b[37m\u001b[0m \u001b[1m20s\u001b[0m 7ms/step - loss: 35.5594 - val_loss: 30.5216\n",
            "Epoch 23/50\n",
            "\u001b[1m2164/2164\u001b[0m \u001b[32m━━━━━━━━━━━━━━━━━━━━\u001b[0m\u001b[37m\u001b[0m \u001b[1m17s\u001b[0m 8ms/step - loss: 43.2619 - val_loss: 38.7740\n",
            "Epoch 24/50\n",
            "\u001b[1m2164/2164\u001b[0m \u001b[32m━━━━━━━━━━━━━━━━━━━━\u001b[0m\u001b[37m\u001b[0m \u001b[1m21s\u001b[0m 8ms/step - loss: 41.4131 - val_loss: 27.8889\n",
            "Epoch 25/50\n",
            "\u001b[1m2164/2164\u001b[0m \u001b[32m━━━━━━━━━━━━━━━━━━━━\u001b[0m\u001b[37m\u001b[0m \u001b[1m17s\u001b[0m 8ms/step - loss: 43.1233 - val_loss: 30.8163\n",
            "Epoch 26/50\n",
            "\u001b[1m2164/2164\u001b[0m \u001b[32m━━━━━━━━━━━━━━━━━━━━\u001b[0m\u001b[37m\u001b[0m \u001b[1m19s\u001b[0m 7ms/step - loss: 41.9856 - val_loss: 27.0568\n",
            "Epoch 27/50\n",
            "\u001b[1m2164/2164\u001b[0m \u001b[32m━━━━━━━━━━━━━━━━━━━━\u001b[0m\u001b[37m\u001b[0m \u001b[1m16s\u001b[0m 7ms/step - loss: 34.0544 - val_loss: 29.2492\n",
            "Epoch 28/50\n",
            "\u001b[1m2164/2164\u001b[0m \u001b[32m━━━━━━━━━━━━━━━━━━━━\u001b[0m\u001b[37m\u001b[0m \u001b[1m22s\u001b[0m 8ms/step - loss: 40.1804 - val_loss: 31.9610\n",
            "Epoch 29/50\n",
            "\u001b[1m2164/2164\u001b[0m \u001b[32m━━━━━━━━━━━━━━━━━━━━\u001b[0m\u001b[37m\u001b[0m \u001b[1m20s\u001b[0m 8ms/step - loss: 37.6694 - val_loss: 39.5007\n",
            "Epoch 30/50\n",
            "\u001b[1m2164/2164\u001b[0m \u001b[32m━━━━━━━━━━━━━━━━━━━━\u001b[0m\u001b[37m\u001b[0m \u001b[1m17s\u001b[0m 8ms/step - loss: 37.6445 - val_loss: 36.6108\n",
            "Epoch 31/50\n",
            "\u001b[1m2164/2164\u001b[0m \u001b[32m━━━━━━━━━━━━━━━━━━━━\u001b[0m\u001b[37m\u001b[0m \u001b[1m21s\u001b[0m 8ms/step - loss: 35.2589 - val_loss: 27.8485\n",
            "Epoch 32/50\n",
            "\u001b[1m2164/2164\u001b[0m \u001b[32m━━━━━━━━━━━━━━━━━━━━\u001b[0m\u001b[37m\u001b[0m \u001b[1m16s\u001b[0m 7ms/step - loss: 37.8432 - val_loss: 29.9332\n",
            "Epoch 33/50\n",
            "\u001b[1m2164/2164\u001b[0m \u001b[32m━━━━━━━━━━━━━━━━━━━━\u001b[0m\u001b[37m\u001b[0m \u001b[1m20s\u001b[0m 7ms/step - loss: 40.9656 - val_loss: 28.1537\n",
            "Epoch 34/50\n",
            "\u001b[1m2164/2164\u001b[0m \u001b[32m━━━━━━━━━━━━━━━━━━━━\u001b[0m\u001b[37m\u001b[0m \u001b[1m21s\u001b[0m 8ms/step - loss: 41.8650 - val_loss: 29.3909\n",
            "Epoch 35/50\n",
            "\u001b[1m2164/2164\u001b[0m \u001b[32m━━━━━━━━━━━━━━━━━━━━\u001b[0m\u001b[37m\u001b[0m \u001b[1m20s\u001b[0m 7ms/step - loss: 39.5086 - val_loss: 27.7498\n",
            "Epoch 36/50\n",
            "\u001b[1m2164/2164\u001b[0m \u001b[32m━━━━━━━━━━━━━━━━━━━━\u001b[0m\u001b[37m\u001b[0m \u001b[1m17s\u001b[0m 8ms/step - loss: 35.8874 - val_loss: 27.3650\n",
            "Epoch 37/50\n",
            "\u001b[1m2164/2164\u001b[0m \u001b[32m━━━━━━━━━━━━━━━━━━━━\u001b[0m\u001b[37m\u001b[0m \u001b[1m17s\u001b[0m 8ms/step - loss: 42.8205 - val_loss: 28.4715\n",
            "Epoch 38/50\n",
            "\u001b[1m2164/2164\u001b[0m \u001b[32m━━━━━━━━━━━━━━━━━━━━\u001b[0m\u001b[37m\u001b[0m \u001b[1m16s\u001b[0m 7ms/step - loss: 47.2488 - val_loss: 26.7741\n",
            "Epoch 39/50\n",
            "\u001b[1m2164/2164\u001b[0m \u001b[32m━━━━━━━━━━━━━━━━━━━━\u001b[0m\u001b[37m\u001b[0m \u001b[1m17s\u001b[0m 8ms/step - loss: 38.9162 - val_loss: 27.9117\n",
            "Epoch 40/50\n",
            "\u001b[1m2164/2164\u001b[0m \u001b[32m━━━━━━━━━━━━━━━━━━━━\u001b[0m\u001b[37m\u001b[0m \u001b[1m21s\u001b[0m 8ms/step - loss: 40.9592 - val_loss: 28.7149\n",
            "Epoch 41/50\n",
            "\u001b[1m2164/2164\u001b[0m \u001b[32m━━━━━━━━━━━━━━━━━━━━\u001b[0m\u001b[37m\u001b[0m \u001b[1m20s\u001b[0m 8ms/step - loss: 35.1619 - val_loss: 29.2850\n",
            "Epoch 42/50\n",
            "\u001b[1m2164/2164\u001b[0m \u001b[32m━━━━━━━━━━━━━━━━━━━━\u001b[0m\u001b[37m\u001b[0m \u001b[1m21s\u001b[0m 8ms/step - loss: 37.3165 - val_loss: 30.6383\n",
            "Epoch 43/50\n",
            "\u001b[1m2164/2164\u001b[0m \u001b[32m━━━━━━━━━━━━━━━━━━━━\u001b[0m\u001b[37m\u001b[0m \u001b[1m19s\u001b[0m 7ms/step - loss: 38.8780 - val_loss: 27.4268\n",
            "Epoch 44/50\n",
            "\u001b[1m2164/2164\u001b[0m \u001b[32m━━━━━━━━━━━━━━━━━━━━\u001b[0m\u001b[37m\u001b[0m \u001b[1m17s\u001b[0m 8ms/step - loss: 40.2549 - val_loss: 29.9347\n",
            "Epoch 45/50\n",
            "\u001b[1m2164/2164\u001b[0m \u001b[32m━━━━━━━━━━━━━━━━━━━━\u001b[0m\u001b[37m\u001b[0m \u001b[1m21s\u001b[0m 8ms/step - loss: 40.4002 - val_loss: 27.4399\n",
            "Epoch 46/50\n",
            "\u001b[1m2164/2164\u001b[0m \u001b[32m━━━━━━━━━━━━━━━━━━━━\u001b[0m\u001b[37m\u001b[0m \u001b[1m21s\u001b[0m 8ms/step - loss: 38.4046 - val_loss: 35.9780\n",
            "Epoch 47/50\n",
            "\u001b[1m2164/2164\u001b[0m \u001b[32m━━━━━━━━━━━━━━━━━━━━\u001b[0m\u001b[37m\u001b[0m \u001b[1m19s\u001b[0m 8ms/step - loss: 43.7462 - val_loss: 26.0397\n",
            "Epoch 48/50\n",
            "\u001b[1m2164/2164\u001b[0m \u001b[32m━━━━━━━━━━━━━━━━━━━━\u001b[0m\u001b[37m\u001b[0m \u001b[1m22s\u001b[0m 8ms/step - loss: 36.7689 - val_loss: 28.9041\n",
            "Epoch 49/50\n",
            "\u001b[1m2164/2164\u001b[0m \u001b[32m━━━━━━━━━━━━━━━━━━━━\u001b[0m\u001b[37m\u001b[0m \u001b[1m16s\u001b[0m 7ms/step - loss: 42.7698 - val_loss: 27.6842\n",
            "Epoch 50/50\n",
            "\u001b[1m2164/2164\u001b[0m \u001b[32m━━━━━━━━━━━━━━━━━━━━\u001b[0m\u001b[37m\u001b[0m \u001b[1m22s\u001b[0m 8ms/step - loss: 35.3539 - val_loss: 27.8383\n"
          ]
        },
        {
          "output_type": "stream",
          "name": "stderr",
          "text": [
            "WARNING:absl:You are saving your model as an HDF5 file via `model.save()` or `keras.saving.save_model(model)`. This file format is considered legacy. We recommend using instead the native Keras format, e.g. `model.save('my_model.keras')` or `keras.saving.save_model(model, 'my_model.keras')`. \n"
          ]
        },
        {
          "output_type": "display_data",
          "data": {
            "text/plain": [
              "<Figure size 640x480 with 1 Axes>"
            ],
            "image/png": "[encoded data removed]"
          },
          "metadata": {}
        }
      ]
    },
    {
      "cell_type": "markdown",
      "source": [
        "Save the model"
      ],
      "metadata": {
        "id": "8M5pNZ_U5_0y"
      }
    },
    {
      "cell_type": "code",
      "source": [
        "model.save(\"/content/drive/MyDrive/GP PID/lstm_glucose_model.h5\")"
      ],
      "metadata": {
        "colab": {
          "base_uri": "https://localhost:8080/"
        },
        "id": "5xPeYVN434zj",
        "outputId": "f7fc8d55-898d-4e2c-f1d9-32f7c6436ef7"
      },
      "execution_count": 10,
      "outputs": [
        {
          "output_type": "stream",
          "name": "stderr",
          "text": [
            "WARNING:absl:You are saving your model as an HDF5 file via `model.save()` or `keras.saving.save_model(model)`. This file format is considered legacy. We recommend using instead the native Keras format, e.g. `model.save('my_model.keras')` or `keras.saving.save_model(model, 'my_model.keras')`. \n"
          ]
        }
      ]
    },
    {
      "cell_type": "markdown",
      "source": [
        "Allow the model to load correctly"
      ],
      "metadata": {
        "id": "lbSbHl9a6GFx"
      }
    },
    {
      "cell_type": "code",
      "source": [
        "import tensorflow as tf\n",
        "\n",
        "# Define the loss function explicitly\n",
        "lstm_model = tf.keras.models.load_model(\n",
        "    \"/content/drive/MyDrive/GP PID/lstm_glucose_model.h5\",\n",
        "    custom_objects={'mse': tf.keras.losses.MeanSquaredError()}\n",
        ")\n",
        "\n",
        "# Print model summary to confirm it's loaded\n",
        "lstm_model.summary()\n",
        "\n"
      ],
      "metadata": {
        "colab": {
          "base_uri": "https://localhost:8080/",
          "height": 278
        },
        "id": "CA9KXToT4_TM",
        "outputId": "ad623329-ee3b-4dc8-cd1c-418106dfeb57"
      },
      "execution_count": 11,
      "outputs": [
        {
          "output_type": "stream",
          "name": "stderr",
          "text": [
            "WARNING:absl:Compiled the loaded model, but the compiled metrics have yet to be built. `model.compile_metrics` will be empty until you train or evaluate the model.\n"
          ]
        },
        {
          "output_type": "display_data",
          "data": {
            "text/plain": [
              "\u001b[1mModel: \"sequential\"\u001b[0m\n"
            ],
            "text/html": [
              "<pre style=\"white-space:pre;overflow-x:auto;line-height:normal;font-family:Menlo,'DejaVu Sans Mono',consolas,'Courier New',monospace\"><span style=\"font-weight: bold\">Model: \"sequential\"</span>\n",
              "</pre>\n"
            ]
          },
          "metadata": {}
        },
        {
          "output_type": "display_data",
          "data": {
            "text/plain": [
              "┏━━━━━━━━━━━━━━━━━━━━━━━━━━━━━━━━━━━━━━┳━━━━━━━━━━━━━━━━━━━━━━━━━━━━━┳━━━━━━━━━━━━━━━━━┓\n",
              "┃\u001b[1m \u001b[0m\u001b[1mLayer (type)                        \u001b[0m\u001b[1m \u001b[0m┃\u001b[1m \u001b[0m\u001b[1mOutput Shape               \u001b[0m\u001b[1m \u001b[0m┃\u001b[1m \u001b[0m\u001b[1m        Param #\u001b[0m\u001b[1m \u001b[0m┃\n",
              "┡━━━━━━━━━━━━━━━━━━━━━━━━━━━━━━━━━━━━━━╇━━━━━━━━━━━━━━━━━━━━━━━━━━━━━╇━━━━━━━━━━━━━━━━━┩\n",
              "│ lstm (\u001b[38;5;33mLSTM\u001b[0m)                          │ (\u001b[38;5;45mNone\u001b[0m, \u001b[38;5;34m30\u001b[0m, \u001b[38;5;34m64\u001b[0m)              │          \u001b[38;5;34m18,432\u001b[0m │\n",
              "├──────────────────────────────────────┼─────────────────────────────┼─────────────────┤\n",
              "│ lstm_1 (\u001b[38;5;33mLSTM\u001b[0m)                        │ (\u001b[38;5;45mNone\u001b[0m, \u001b[38;5;34m32\u001b[0m)                  │          \u001b[38;5;34m12,416\u001b[0m │\n",
              "├──────────────────────────────────────┼─────────────────────────────┼─────────────────┤\n",
              "│ dense (\u001b[38;5;33mDense\u001b[0m)                        │ (\u001b[38;5;45mNone\u001b[0m, \u001b[38;5;34m1\u001b[0m)                   │              \u001b[38;5;34m33\u001b[0m │\n",
              "└──────────────────────────────────────┴─────────────────────────────┴─────────────────┘\n"
            ],
            "text/html": [
              "<pre style=\"white-space:pre;overflow-x:auto;line-height:normal;font-family:Menlo,'DejaVu Sans Mono',consolas,'Courier New',monospace\">┏━━━━━━━━━━━━━━━━━━━━━━━━━━━━━━━━━━━━━━┳━━━━━━━━━━━━━━━━━━━━━━━━━━━━━┳━━━━━━━━━━━━━━━━━┓\n",
              "┃<span style=\"font-weight: bold\"> Layer (type)                         </span>┃<span style=\"font-weight: bold\"> Output Shape                </span>┃<span style=\"font-weight: bold\">         Param # </span>┃\n",
              "┡━━━━━━━━━━━━━━━━━━━━━━━━━━━━━━━━━━━━━━╇━━━━━━━━━━━━━━━━━━━━━━━━━━━━━╇━━━━━━━━━━━━━━━━━┩\n",
              "│ lstm (<span style=\"color: #0087ff; text-decoration-color: #0087ff\">LSTM</span>)                          │ (<span style=\"color: #00d7ff; text-decoration-color: #00d7ff\">None</span>, <span style=\"color: #00af00; text-decoration-color: #00af00\">30</span>, <span style=\"color: #00af00; text-decoration-color: #00af00\">64</span>)              │          <span style=\"color: #00af00; text-decoration-color: #00af00\">18,432</span> │\n",
              "├──────────────────────────────────────┼─────────────────────────────┼─────────────────┤\n",
              "│ lstm_1 (<span style=\"color: #0087ff; text-decoration-color: #0087ff\">LSTM</span>)                        │ (<span style=\"color: #00d7ff; text-decoration-color: #00d7ff\">None</span>, <span style=\"color: #00af00; text-decoration-color: #00af00\">32</span>)                  │          <span style=\"color: #00af00; text-decoration-color: #00af00\">12,416</span> │\n",
              "├──────────────────────────────────────┼─────────────────────────────┼─────────────────┤\n",
              "│ dense (<span style=\"color: #0087ff; text-decoration-color: #0087ff\">Dense</span>)                        │ (<span style=\"color: #00d7ff; text-decoration-color: #00d7ff\">None</span>, <span style=\"color: #00af00; text-decoration-color: #00af00\">1</span>)                   │              <span style=\"color: #00af00; text-decoration-color: #00af00\">33</span> │\n",
              "└──────────────────────────────────────┴─────────────────────────────┴─────────────────┘\n",
              "</pre>\n"
            ]
          },
          "metadata": {}
        },
        {
          "output_type": "display_data",
          "data": {
            "text/plain": [
              "\u001b[1m Total params: \u001b[0m\u001b[38;5;34m30,883\u001b[0m (120.64 KB)\n"
            ],
            "text/html": [
              "<pre style=\"white-space:pre;overflow-x:auto;line-height:normal;font-family:Menlo,'DejaVu Sans Mono',consolas,'Courier New',monospace\"><span style=\"font-weight: bold\"> Total params: </span><span style=\"color: #00af00; text-decoration-color: #00af00\">30,883</span> (120.64 KB)\n",
              "</pre>\n"
            ]
          },
          "metadata": {}
        },
        {
          "output_type": "display_data",
          "data": {
            "text/plain": [
              "\u001b[1m Trainable params: \u001b[0m\u001b[38;5;34m30,881\u001b[0m (120.63 KB)\n"
            ],
            "text/html": [
              "<pre style=\"white-space:pre;overflow-x:auto;line-height:normal;font-family:Menlo,'DejaVu Sans Mono',consolas,'Courier New',monospace\"><span style=\"font-weight: bold\"> Trainable params: </span><span style=\"color: #00af00; text-decoration-color: #00af00\">30,881</span> (120.63 KB)\n",
              "</pre>\n"
            ]
          },
          "metadata": {}
        },
        {
          "output_type": "display_data",
          "data": {
            "text/plain": [
              "\u001b[1m Non-trainable params: \u001b[0m\u001b[38;5;34m0\u001b[0m (0.00 B)\n"
            ],
            "text/html": [
              "<pre style=\"white-space:pre;overflow-x:auto;line-height:normal;font-family:Menlo,'DejaVu Sans Mono',consolas,'Courier New',monospace\"><span style=\"font-weight: bold\"> Non-trainable params: </span><span style=\"color: #00af00; text-decoration-color: #00af00\">0</span> (0.00 B)\n",
              "</pre>\n"
            ]
          },
          "metadata": {}
        },
        {
          "output_type": "display_data",
          "data": {
            "text/plain": [
              "\u001b[1m Optimizer params: \u001b[0m\u001b[38;5;34m2\u001b[0m (12.00 B)\n"
            ],
            "text/html": [
              "<pre style=\"white-space:pre;overflow-x:auto;line-height:normal;font-family:Menlo,'DejaVu Sans Mono',consolas,'Courier New',monospace\"><span style=\"font-weight: bold\"> Optimizer params: </span><span style=\"color: #00af00; text-decoration-color: #00af00\">2</span> (12.00 B)\n",
              "</pre>\n"
            ]
          },
          "metadata": {}
        }
      ]
    },
    {
      "cell_type": "markdown",
      "source": [
        " Load the Model Without Custom Loss"
      ],
      "metadata": {
        "id": "HSsrawQJ6EvT"
      }
    },
    {
      "cell_type": "code",
      "source": [
        "import tensorflow as tf\n",
        "\n",
        "# Load the model with safe mode\n",
        "lstm_model = tf.keras.models.load_model(\"/content/drive/MyDrive/GP PID/lstm_glucose_model.h5\", compile=False)\n",
        "\n",
        "# Compile again with correct loss\n",
        "lstm_model.compile(optimizer='adam', loss=tf.keras.losses.MeanSquaredError())\n"
      ],
      "metadata": {
        "id": "8BkOR73K5fvl"
      },
      "execution_count": 27,
      "outputs": []
    },
    {
      "cell_type": "markdown",
      "source": [
        "Re-save the model properly"
      ],
      "metadata": {
        "id": "g3mIcvD76Q_o"
      }
    },
    {
      "cell_type": "code",
      "source": [
        "lstm_model.save(\"/content/drive/MyDrive/GP PID/lstm_glucose_model.h5\")\n"
      ],
      "metadata": {
        "colab": {
          "base_uri": "https://localhost:8080/"
        },
        "id": "Z7vQ_ijW5kR3",
        "outputId": "e74222a6-66b2-4ff8-8d47-2794e5313afb"
      },
      "execution_count": 13,
      "outputs": [
        {
          "output_type": "stream",
          "name": "stderr",
          "text": [
            "WARNING:absl:You are saving your model as an HDF5 file via `model.save()` or `keras.saving.save_model(model)`. This file format is considered legacy. We recommend using instead the native Keras format, e.g. `model.save('my_model.keras')` or `keras.saving.save_model(model, 'my_model.keras')`. \n"
          ]
        }
      ]
    },
    {
      "cell_type": "code",
      "source": [
        "import numpy as np\n",
        "\n",
        "sample_input = X_test[0]  # Get first test sample\n",
        "predicted_glucose = lstm_model.predict(np.array([sample_input]))[0, 0]\n",
        "\n",
        "print(f\"Predicted Glucose: {predicted_glucose} mg/dL\")\n",
        "print(f\"Actual Glucose: {y_test[0]} mg/dL\")\n",
        "#The error is only ~3.7 mg/dL, which is very low.\n",
        "#LSTM model is accurate in predicting blood glucose levels."
      ],
      "metadata": {
        "colab": {
          "base_uri": "https://localhost:8080/"
        },
        "id": "ZsmbZHW35pRY",
        "outputId": "01f0ac7a-9d7c-4b35-a934-535668c92ccd"
      },
      "execution_count": 17,
      "outputs": [
        {
          "output_type": "stream",
          "name": "stdout",
          "text": [
            "\u001b[1m1/1\u001b[0m \u001b[32m━━━━━━━━━━━━━━━━━━━━\u001b[0m\u001b[37m\u001b[0m \u001b[1m0s\u001b[0m 30ms/step\n",
            "Predicted Glucose: 282.2994689941406 mg/dL\n",
            "Actual Glucose: 286.0 mg/dL\n"
          ]
        }
      ]
    },
    {
      "cell_type": "markdown",
      "source": [
        "PID"
      ],
      "metadata": {
        "id": "aAa77MTfnKqg"
      }
    },
    {
      "cell_type": "markdown",
      "source": [
        "Prepare time-series sequences"
      ],
      "metadata": {
        "id": "GckO7Bflnieo"
      }
    },
    {
      "cell_type": "code",
      "source": [
        "# Convert all data to float32\n",
        "train_df = train_df.astype(np.float32)\n",
        "test_df = test_df.astype(np.float32)\n",
        "\n",
        "def prepare_sequences(df, sequence_length=30):\n",
        "    X, y = [], []\n",
        "    for i in range(len(df) - sequence_length):\n",
        "        X.append(df.iloc[i:i+sequence_length].values)\n",
        "        y.append(df[['bolus_insulin', 'basal_rate', 'temp_basal_rate']].iloc[i+sequence_length].values)\n",
        "    return np.array(X, dtype=np.float32), np.array(y, dtype=np.float32)\n",
        "\n",
        "sequence_length = 30\n",
        "X_train, y_train = prepare_sequences(train_df, sequence_length)\n",
        "X_test, y_test = prepare_sequences(test_df, sequence_length)"
      ],
      "metadata": {
        "id": "yCgfNF2ineR9"
      },
      "execution_count": null,
      "outputs": []
    },
    {
      "cell_type": "markdown",
      "source": [
        "Define LSTM Model for PID Parameter Tuning"
      ],
      "metadata": {
        "id": "MB_ypK1UnmWq"
      }
    },
    {
      "cell_type": "code",
      "source": [
        "pid_input = Input(shape=(3,))\n",
        "hidden = Dense(16, activation='relu')(pid_input)\n",
        "hidden = Dense(16, activation='relu')(hidden)\n",
        "pid_output = Dense(3, activation='linear')(hidden)  # Outputs: Kp, Ki, Kd\n",
        "\n",
        "pid_model = Model(inputs=pid_input, outputs=pid_output)\n",
        "pid_model.compile(optimizer='adam', loss='mse')"
      ],
      "metadata": {
        "id": "RDtthawhnuAB"
      },
      "execution_count": 24,
      "outputs": []
    },
    {
      "cell_type": "code",
      "source": [
        "def prepare_pid_training_data(df):\n",
        "    X_pid, y_pid = [], []\n",
        "    for i in range(len(df) - 1):\n",
        "        glucose_error = df['glucose'].iloc[i] - 110  # Setpoint = 110mg/dL (adjusted)\n",
        "        glucose_change = df['glucose'].iloc[i] - df['glucose'].iloc[i-1] if i > 0 else 0\n",
        "        previous_insulin = df['bolus_insulin'].iloc[i]\n",
        "\n",
        "        # Scale Kp, Ki, Kd to prevent large values\n",
        "        Kp = 0.05 * np.log(1 + abs(glucose_error))\n",
        "        Ki = 0.005 * np.log(1 + abs(glucose_error))\n",
        "        Kd = 0.002 * np.log(1 + abs(glucose_change))\n",
        "\n",
        "        X_pid.append([glucose_error, glucose_change, previous_insulin])\n",
        "        y_pid.append([Kp, Ki, Kd])  # Tuned PID gains\n",
        "\n",
        "    return np.array(X_pid), np.array(y_pid)\n",
        "\n",
        "X_pid_train, y_pid_train = prepare_pid_training_data(train_df)\n",
        "X_pid_test, y_pid_test = prepare_pid_training_data(test_df)\n",
        "\n",
        "pid_model.fit(X_pid_train, y_pid_train, epochs=50, batch_size=32, validation_data=(X_pid_test, y_pid_test))\n",
        "pid_model.save(\"/content/drive/MyDrive/GP PID/pid_tuning_model.h5\")"
      ],
      "metadata": {
        "colab": {
          "base_uri": "https://localhost:8080/"
        },
        "id": "M2yzJwN54sKX",
        "outputId": "07893f3a-f3cd-4a6f-cad6-70b5636eb567"
      },
      "execution_count": 25,
      "outputs": [
        {
          "output_type": "stream",
          "name": "stdout",
          "text": [
            "Epoch 1/50\n",
            "\u001b[1m2165/2165\u001b[0m \u001b[32m━━━━━━━━━━━━━━━━━━━━\u001b[0m\u001b[37m\u001b[0m \u001b[1m9s\u001b[0m 3ms/step - loss: 28.4862 - val_loss: 0.0134\n",
            "Epoch 2/50\n",
            "\u001b[1m2165/2165\u001b[0m \u001b[32m━━━━━━━━━━━━━━━━━━━━\u001b[0m\u001b[37m\u001b[0m \u001b[1m6s\u001b[0m 3ms/step - loss: 0.0118 - val_loss: 0.0036\n",
            "Epoch 3/50\n",
            "\u001b[1m2165/2165\u001b[0m \u001b[32m━━━━━━━━━━━━━━━━━━━━\u001b[0m\u001b[37m\u001b[0m \u001b[1m10s\u001b[0m 3ms/step - loss: 0.0036 - val_loss: 0.0035\n",
            "Epoch 4/50\n",
            "\u001b[1m2165/2165\u001b[0m \u001b[32m━━━━━━━━━━━━━━━━━━━━\u001b[0m\u001b[37m\u001b[0m \u001b[1m10s\u001b[0m 3ms/step - loss: 0.0024 - val_loss: 0.0012\n",
            "Epoch 5/50\n",
            "\u001b[1m2165/2165\u001b[0m \u001b[32m━━━━━━━━━━━━━━━━━━━━\u001b[0m\u001b[37m\u001b[0m \u001b[1m7s\u001b[0m 3ms/step - loss: 0.0017 - val_loss: 0.0011\n",
            "Epoch 6/50\n",
            "\u001b[1m2165/2165\u001b[0m \u001b[32m━━━━━━━━━━━━━━━━━━━━\u001b[0m\u001b[37m\u001b[0m \u001b[1m6s\u001b[0m 3ms/step - loss: 0.0014 - val_loss: 4.6866e-04\n",
            "Epoch 7/50\n",
            "\u001b[1m2165/2165\u001b[0m \u001b[32m━━━━━━━━━━━━━━━━━━━━\u001b[0m\u001b[37m\u001b[0m \u001b[1m11s\u001b[0m 3ms/step - loss: 9.5234e-04 - val_loss: 4.5989e-04\n",
            "Epoch 8/50\n",
            "\u001b[1m2165/2165\u001b[0m \u001b[32m━━━━━━━━━━━━━━━━━━━━\u001b[0m\u001b[37m\u001b[0m \u001b[1m10s\u001b[0m 3ms/step - loss: 0.0011 - val_loss: 4.6717e-04\n",
            "Epoch 9/50\n",
            "\u001b[1m2165/2165\u001b[0m \u001b[32m━━━━━━━━━━━━━━━━━━━━\u001b[0m\u001b[37m\u001b[0m \u001b[1m6s\u001b[0m 3ms/step - loss: 6.5239e-04 - val_loss: 1.3045e-04\n",
            "Epoch 10/50\n",
            "\u001b[1m2165/2165\u001b[0m \u001b[32m━━━━━━━━━━━━━━━━━━━━\u001b[0m\u001b[37m\u001b[0m \u001b[1m7s\u001b[0m 3ms/step - loss: 0.0010 - val_loss: 0.0015\n",
            "Epoch 11/50\n",
            "\u001b[1m2165/2165\u001b[0m \u001b[32m━━━━━━━━━━━━━━━━━━━━\u001b[0m\u001b[37m\u001b[0m \u001b[1m6s\u001b[0m 3ms/step - loss: 6.2543e-04 - val_loss: 2.1079e-04\n",
            "Epoch 12/50\n",
            "\u001b[1m2165/2165\u001b[0m \u001b[32m━━━━━━━━━━━━━━━━━━━━\u001b[0m\u001b[37m\u001b[0m \u001b[1m11s\u001b[0m 3ms/step - loss: 4.8410e-04 - val_loss: 6.7924e-04\n",
            "Epoch 13/50\n",
            "\u001b[1m2165/2165\u001b[0m \u001b[32m━━━━━━━━━━━━━━━━━━━━\u001b[0m\u001b[37m\u001b[0m \u001b[1m10s\u001b[0m 3ms/step - loss: 5.2033e-04 - val_loss: 1.6266e-04\n",
            "Epoch 14/50\n",
            "\u001b[1m2165/2165\u001b[0m \u001b[32m━━━━━━━━━━━━━━━━━━━━\u001b[0m\u001b[37m\u001b[0m \u001b[1m9s\u001b[0m 3ms/step - loss: 5.1740e-04 - val_loss: 3.0524e-04\n",
            "Epoch 15/50\n",
            "\u001b[1m2165/2165\u001b[0m \u001b[32m━━━━━━━━━━━━━━━━━━━━\u001b[0m\u001b[37m\u001b[0m \u001b[1m11s\u001b[0m 3ms/step - loss: 5.5134e-04 - val_loss: 0.0012\n",
            "Epoch 16/50\n",
            "\u001b[1m2165/2165\u001b[0m \u001b[32m━━━━━━━━━━━━━━━━━━━━\u001b[0m\u001b[37m\u001b[0m \u001b[1m7s\u001b[0m 3ms/step - loss: 4.8120e-04 - val_loss: 8.9693e-05\n",
            "Epoch 17/50\n",
            "\u001b[1m2165/2165\u001b[0m \u001b[32m━━━━━━━━━━━━━━━━━━━━\u001b[0m\u001b[37m\u001b[0m \u001b[1m6s\u001b[0m 3ms/step - loss: 3.4795e-04 - val_loss: 4.8083e-05\n",
            "Epoch 18/50\n",
            "\u001b[1m2165/2165\u001b[0m \u001b[32m━━━━━━━━━━━━━━━━━━━━\u001b[0m\u001b[37m\u001b[0m \u001b[1m10s\u001b[0m 3ms/step - loss: 1.9605e-04 - val_loss: 3.9079e-04\n",
            "Epoch 19/50\n",
            "\u001b[1m2165/2165\u001b[0m \u001b[32m━━━━━━━━━━━━━━━━━━━━\u001b[0m\u001b[37m\u001b[0m \u001b[1m11s\u001b[0m 3ms/step - loss: 2.4274e-04 - val_loss: 1.5617e-04\n",
            "Epoch 20/50\n",
            "\u001b[1m2165/2165\u001b[0m \u001b[32m━━━━━━━━━━━━━━━━━━━━\u001b[0m\u001b[37m\u001b[0m \u001b[1m6s\u001b[0m 3ms/step - loss: 4.6312e-04 - val_loss: 8.3310e-05\n",
            "Epoch 21/50\n",
            "\u001b[1m2165/2165\u001b[0m \u001b[32m━━━━━━━━━━━━━━━━━━━━\u001b[0m\u001b[37m\u001b[0m \u001b[1m10s\u001b[0m 3ms/step - loss: 2.6523e-04 - val_loss: 5.2670e-05\n",
            "Epoch 22/50\n",
            "\u001b[1m2165/2165\u001b[0m \u001b[32m━━━━━━━━━━━━━━━━━━━━\u001b[0m\u001b[37m\u001b[0m \u001b[1m10s\u001b[0m 3ms/step - loss: 1.7049e-04 - val_loss: 6.7090e-05\n",
            "Epoch 23/50\n",
            "\u001b[1m2165/2165\u001b[0m \u001b[32m━━━━━━━━━━━━━━━━━━━━\u001b[0m\u001b[37m\u001b[0m \u001b[1m6s\u001b[0m 3ms/step - loss: 1.1014e-04 - val_loss: 0.0261\n",
            "Epoch 24/50\n",
            "\u001b[1m2165/2165\u001b[0m \u001b[32m━━━━━━━━━━━━━━━━━━━━\u001b[0m\u001b[37m\u001b[0m \u001b[1m6s\u001b[0m 3ms/step - loss: 9.4936e-04 - val_loss: 1.1607e-04\n",
            "Epoch 25/50\n",
            "\u001b[1m2165/2165\u001b[0m \u001b[32m━━━━━━━━━━━━━━━━━━━━\u001b[0m\u001b[37m\u001b[0m \u001b[1m6s\u001b[0m 3ms/step - loss: 1.2777e-04 - val_loss: 0.0082\n",
            "Epoch 26/50\n",
            "\u001b[1m2165/2165\u001b[0m \u001b[32m━━━━━━━━━━━━━━━━━━━━\u001b[0m\u001b[37m\u001b[0m \u001b[1m7s\u001b[0m 3ms/step - loss: 2.4957e-04 - val_loss: 2.6259e-05\n",
            "Epoch 27/50\n",
            "\u001b[1m2165/2165\u001b[0m \u001b[32m━━━━━━━━━━━━━━━━━━━━\u001b[0m\u001b[37m\u001b[0m \u001b[1m6s\u001b[0m 3ms/step - loss: 2.8693e-04 - val_loss: 2.1576e-05\n",
            "Epoch 28/50\n",
            "\u001b[1m2165/2165\u001b[0m \u001b[32m━━━━━━━━━━━━━━━━━━━━\u001b[0m\u001b[37m\u001b[0m \u001b[1m7s\u001b[0m 3ms/step - loss: 1.2405e-04 - val_loss: 1.9868e-04\n",
            "Epoch 29/50\n",
            "\u001b[1m2165/2165\u001b[0m \u001b[32m━━━━━━━━━━━━━━━━━━━━\u001b[0m\u001b[37m\u001b[0m \u001b[1m6s\u001b[0m 3ms/step - loss: 4.7356e-04 - val_loss: 2.1463e-05\n",
            "Epoch 30/50\n",
            "\u001b[1m2165/2165\u001b[0m \u001b[32m━━━━━━━━━━━━━━━━━━━━\u001b[0m\u001b[37m\u001b[0m \u001b[1m10s\u001b[0m 3ms/step - loss: 6.1176e-05 - val_loss: 5.0087e-05\n",
            "Epoch 31/50\n",
            "\u001b[1m2165/2165\u001b[0m \u001b[32m━━━━━━━━━━━━━━━━━━━━\u001b[0m\u001b[37m\u001b[0m \u001b[1m7s\u001b[0m 3ms/step - loss: 1.8341e-04 - val_loss: 1.6751e-04\n",
            "Epoch 32/50\n",
            "\u001b[1m2165/2165\u001b[0m \u001b[32m━━━━━━━━━━━━━━━━━━━━\u001b[0m\u001b[37m\u001b[0m \u001b[1m9s\u001b[0m 3ms/step - loss: 1.2866e-04 - val_loss: 8.3625e-06\n",
            "Epoch 33/50\n",
            "\u001b[1m2165/2165\u001b[0m \u001b[32m━━━━━━━━━━━━━━━━━━━━\u001b[0m\u001b[37m\u001b[0m \u001b[1m10s\u001b[0m 3ms/step - loss: 1.0264e-04 - val_loss: 1.0543e-05\n",
            "Epoch 34/50\n",
            "\u001b[1m2165/2165\u001b[0m \u001b[32m━━━━━━━━━━━━━━━━━━━━\u001b[0m\u001b[37m\u001b[0m \u001b[1m11s\u001b[0m 3ms/step - loss: 6.2876e-05 - val_loss: 5.2629e-05\n",
            "Epoch 35/50\n",
            "\u001b[1m2165/2165\u001b[0m \u001b[32m━━━━━━━━━━━━━━━━━━━━\u001b[0m\u001b[37m\u001b[0m \u001b[1m11s\u001b[0m 3ms/step - loss: 9.1570e-05 - val_loss: 1.0614e-05\n",
            "Epoch 36/50\n",
            "\u001b[1m2165/2165\u001b[0m \u001b[32m━━━━━━━━━━━━━━━━━━━━\u001b[0m\u001b[37m\u001b[0m \u001b[1m11s\u001b[0m 3ms/step - loss: 6.7220e-05 - val_loss: 6.8492e-06\n",
            "Epoch 37/50\n",
            "\u001b[1m2165/2165\u001b[0m \u001b[32m━━━━━━━━━━━━━━━━━━━━\u001b[0m\u001b[37m\u001b[0m \u001b[1m9s\u001b[0m 3ms/step - loss: 3.9390e-05 - val_loss: 5.4348e-06\n",
            "Epoch 38/50\n",
            "\u001b[1m2165/2165\u001b[0m \u001b[32m━━━━━━━━━━━━━━━━━━━━\u001b[0m\u001b[37m\u001b[0m \u001b[1m6s\u001b[0m 3ms/step - loss: 9.5231e-05 - val_loss: 2.3721e-05\n",
            "Epoch 39/50\n",
            "\u001b[1m2165/2165\u001b[0m \u001b[32m━━━━━━━━━━━━━━━━━━━━\u001b[0m\u001b[37m\u001b[0m \u001b[1m11s\u001b[0m 3ms/step - loss: 6.8308e-05 - val_loss: 4.6445e-06\n",
            "Epoch 40/50\n",
            "\u001b[1m2165/2165\u001b[0m \u001b[32m━━━━━━━━━━━━━━━━━━━━\u001b[0m\u001b[37m\u001b[0m \u001b[1m10s\u001b[0m 3ms/step - loss: 6.6580e-05 - val_loss: 7.7744e-06\n",
            "Epoch 41/50\n",
            "\u001b[1m2165/2165\u001b[0m \u001b[32m━━━━━━━━━━━━━━━━━━━━\u001b[0m\u001b[37m\u001b[0m \u001b[1m6s\u001b[0m 3ms/step - loss: 3.7162e-05 - val_loss: 8.7752e-06\n",
            "Epoch 42/50\n",
            "\u001b[1m2165/2165\u001b[0m \u001b[32m━━━━━━━━━━━━━━━━━━━━\u001b[0m\u001b[37m\u001b[0m \u001b[1m6s\u001b[0m 3ms/step - loss: 2.8523e-05 - val_loss: 3.3191e-04\n",
            "Epoch 43/50\n",
            "\u001b[1m2165/2165\u001b[0m \u001b[32m━━━━━━━━━━━━━━━━━━━━\u001b[0m\u001b[37m\u001b[0m \u001b[1m10s\u001b[0m 3ms/step - loss: 5.6608e-05 - val_loss: 3.5126e-06\n",
            "Epoch 44/50\n",
            "\u001b[1m2165/2165\u001b[0m \u001b[32m━━━━━━━━━━━━━━━━━━━━\u001b[0m\u001b[37m\u001b[0m \u001b[1m7s\u001b[0m 3ms/step - loss: 1.6242e-05 - val_loss: 1.5691e-05\n",
            "Epoch 45/50\n",
            "\u001b[1m2165/2165\u001b[0m \u001b[32m━━━━━━━━━━━━━━━━━━━━\u001b[0m\u001b[37m\u001b[0m \u001b[1m6s\u001b[0m 3ms/step - loss: 5.4938e-05 - val_loss: 1.2776e-05\n",
            "Epoch 46/50\n",
            "\u001b[1m2165/2165\u001b[0m \u001b[32m━━━━━━━━━━━━━━━━━━━━\u001b[0m\u001b[37m\u001b[0m \u001b[1m11s\u001b[0m 3ms/step - loss: 3.5647e-05 - val_loss: 1.1481e-04\n",
            "Epoch 47/50\n",
            "\u001b[1m2165/2165\u001b[0m \u001b[32m━━━━━━━━━━━━━━━━━━━━\u001b[0m\u001b[37m\u001b[0m \u001b[1m11s\u001b[0m 3ms/step - loss: 1.3923e-05 - val_loss: 9.2180e-05\n",
            "Epoch 48/50\n",
            "\u001b[1m2165/2165\u001b[0m \u001b[32m━━━━━━━━━━━━━━━━━━━━\u001b[0m\u001b[37m\u001b[0m \u001b[1m11s\u001b[0m 4ms/step - loss: 5.3039e-05 - val_loss: 4.3098e-06\n",
            "Epoch 49/50\n",
            "\u001b[1m2165/2165\u001b[0m \u001b[32m━━━━━━━━━━━━━━━━━━━━\u001b[0m\u001b[37m\u001b[0m \u001b[1m6s\u001b[0m 3ms/step - loss: 1.5006e-05 - val_loss: 5.4367e-06\n",
            "Epoch 50/50\n",
            "\u001b[1m2165/2165\u001b[0m \u001b[32m━━━━━━━━━━━━━━━━━━━━\u001b[0m\u001b[37m\u001b[0m \u001b[1m10s\u001b[0m 3ms/step - loss: 3.4645e-05 - val_loss: 4.5104e-06\n"
          ]
        },
        {
          "output_type": "stream",
          "name": "stderr",
          "text": [
            "WARNING:absl:You are saving your model as an HDF5 file via `model.save()` or `keras.saving.save_model(model)`. This file format is considered legacy. We recommend using instead the native Keras format, e.g. `model.save('my_model.keras')` or `keras.saving.save_model(model, 'my_model.keras')`. \n"
          ]
        }
      ]
    },
    {
      "cell_type": "code",
      "source": [
        "import tensorflow as tf\n",
        "\n",
        "# Define the loss function explicitly\n",
        "pid_model = tf.keras.models.load_model(\n",
        "    \"/content/drive/MyDrive/GP PID/pid_tuning_model.h5\",\n",
        "    custom_objects={'mse': tf.keras.losses.MeanSquaredError()}\n",
        ")\n",
        "\n",
        "# Print model summary to confirm it's loaded\n",
        "pid_model.summary()\n",
        "import tensorflow as tf\n",
        "\n",
        "# Load the model with safe mode\n",
        "pid_model = tf.keras.models.load_model(\"/content/drive/MyDrive/GP PID/pid_tuning_model.h5\", compile=False)\n",
        "\n",
        "# Compile again with correct loss\n",
        "pid_model.compile(optimizer='adam', loss=tf.keras.losses.MeanSquaredError())\n"
      ],
      "metadata": {
        "colab": {
          "base_uri": "https://localhost:8080/",
          "height": 310
        },
        "id": "JElRY2mU9iYV",
        "outputId": "c482bd27-6e6a-46e6-bf3c-3af089633e3d"
      },
      "execution_count": 36,
      "outputs": [
        {
          "output_type": "stream",
          "name": "stderr",
          "text": [
            "WARNING:absl:Compiled the loaded model, but the compiled metrics have yet to be built. `model.compile_metrics` will be empty until you train or evaluate the model.\n"
          ]
        },
        {
          "output_type": "display_data",
          "data": {
            "text/plain": [
              "\u001b[1mModel: \"functional_8\"\u001b[0m\n"
            ],
            "text/html": [
              "<pre style=\"white-space:pre;overflow-x:auto;line-height:normal;font-family:Menlo,'DejaVu Sans Mono',consolas,'Courier New',monospace\"><span style=\"font-weight: bold\">Model: \"functional_8\"</span>\n",
              "</pre>\n"
            ]
          },
          "metadata": {}
        },
        {
          "output_type": "display_data",
          "data": {
            "text/plain": [
              "┏━━━━━━━━━━━━━━━━━━━━━━━━━━━━━━━━━━━━━━┳━━━━━━━━━━━━━━━━━━━━━━━━━━━━━┳━━━━━━━━━━━━━━━━━┓\n",
              "┃\u001b[1m \u001b[0m\u001b[1mLayer (type)                        \u001b[0m\u001b[1m \u001b[0m┃\u001b[1m \u001b[0m\u001b[1mOutput Shape               \u001b[0m\u001b[1m \u001b[0m┃\u001b[1m \u001b[0m\u001b[1m        Param #\u001b[0m\u001b[1m \u001b[0m┃\n",
              "┡━━━━━━━━━━━━━━━━━━━━━━━━━━━━━━━━━━━━━━╇━━━━━━━━━━━━━━━━━━━━━━━━━━━━━╇━━━━━━━━━━━━━━━━━┩\n",
              "│ input_layer_2 (\u001b[38;5;33mInputLayer\u001b[0m)           │ (\u001b[38;5;45mNone\u001b[0m, \u001b[38;5;34m3\u001b[0m)                   │               \u001b[38;5;34m0\u001b[0m │\n",
              "├──────────────────────────────────────┼─────────────────────────────┼─────────────────┤\n",
              "│ dense_4 (\u001b[38;5;33mDense\u001b[0m)                      │ (\u001b[38;5;45mNone\u001b[0m, \u001b[38;5;34m16\u001b[0m)                  │              \u001b[38;5;34m64\u001b[0m │\n",
              "├──────────────────────────────────────┼─────────────────────────────┼─────────────────┤\n",
              "│ dense_5 (\u001b[38;5;33mDense\u001b[0m)                      │ (\u001b[38;5;45mNone\u001b[0m, \u001b[38;5;34m16\u001b[0m)                  │             \u001b[38;5;34m272\u001b[0m │\n",
              "├──────────────────────────────────────┼─────────────────────────────┼─────────────────┤\n",
              "│ dense_6 (\u001b[38;5;33mDense\u001b[0m)                      │ (\u001b[38;5;45mNone\u001b[0m, \u001b[38;5;34m3\u001b[0m)                   │              \u001b[38;5;34m51\u001b[0m │\n",
              "└──────────────────────────────────────┴─────────────────────────────┴─────────────────┘\n"
            ],
            "text/html": [
              "<pre style=\"white-space:pre;overflow-x:auto;line-height:normal;font-family:Menlo,'DejaVu Sans Mono',consolas,'Courier New',monospace\">┏━━━━━━━━━━━━━━━━━━━━━━━━━━━━━━━━━━━━━━┳━━━━━━━━━━━━━━━━━━━━━━━━━━━━━┳━━━━━━━━━━━━━━━━━┓\n",
              "┃<span style=\"font-weight: bold\"> Layer (type)                         </span>┃<span style=\"font-weight: bold\"> Output Shape                </span>┃<span style=\"font-weight: bold\">         Param # </span>┃\n",
              "┡━━━━━━━━━━━━━━━━━━━━━━━━━━━━━━━━━━━━━━╇━━━━━━━━━━━━━━━━━━━━━━━━━━━━━╇━━━━━━━━━━━━━━━━━┩\n",
              "│ input_layer_2 (<span style=\"color: #0087ff; text-decoration-color: #0087ff\">InputLayer</span>)           │ (<span style=\"color: #00d7ff; text-decoration-color: #00d7ff\">None</span>, <span style=\"color: #00af00; text-decoration-color: #00af00\">3</span>)                   │               <span style=\"color: #00af00; text-decoration-color: #00af00\">0</span> │\n",
              "├──────────────────────────────────────┼─────────────────────────────┼─────────────────┤\n",
              "│ dense_4 (<span style=\"color: #0087ff; text-decoration-color: #0087ff\">Dense</span>)                      │ (<span style=\"color: #00d7ff; text-decoration-color: #00d7ff\">None</span>, <span style=\"color: #00af00; text-decoration-color: #00af00\">16</span>)                  │              <span style=\"color: #00af00; text-decoration-color: #00af00\">64</span> │\n",
              "├──────────────────────────────────────┼─────────────────────────────┼─────────────────┤\n",
              "│ dense_5 (<span style=\"color: #0087ff; text-decoration-color: #0087ff\">Dense</span>)                      │ (<span style=\"color: #00d7ff; text-decoration-color: #00d7ff\">None</span>, <span style=\"color: #00af00; text-decoration-color: #00af00\">16</span>)                  │             <span style=\"color: #00af00; text-decoration-color: #00af00\">272</span> │\n",
              "├──────────────────────────────────────┼─────────────────────────────┼─────────────────┤\n",
              "│ dense_6 (<span style=\"color: #0087ff; text-decoration-color: #0087ff\">Dense</span>)                      │ (<span style=\"color: #00d7ff; text-decoration-color: #00d7ff\">None</span>, <span style=\"color: #00af00; text-decoration-color: #00af00\">3</span>)                   │              <span style=\"color: #00af00; text-decoration-color: #00af00\">51</span> │\n",
              "└──────────────────────────────────────┴─────────────────────────────┴─────────────────┘\n",
              "</pre>\n"
            ]
          },
          "metadata": {}
        },
        {
          "output_type": "display_data",
          "data": {
            "text/plain": [
              "\u001b[1m Total params: \u001b[0m\u001b[38;5;34m389\u001b[0m (1.52 KB)\n"
            ],
            "text/html": [
              "<pre style=\"white-space:pre;overflow-x:auto;line-height:normal;font-family:Menlo,'DejaVu Sans Mono',consolas,'Courier New',monospace\"><span style=\"font-weight: bold\"> Total params: </span><span style=\"color: #00af00; text-decoration-color: #00af00\">389</span> (1.52 KB)\n",
              "</pre>\n"
            ]
          },
          "metadata": {}
        },
        {
          "output_type": "display_data",
          "data": {
            "text/plain": [
              "\u001b[1m Trainable params: \u001b[0m\u001b[38;5;34m387\u001b[0m (1.51 KB)\n"
            ],
            "text/html": [
              "<pre style=\"white-space:pre;overflow-x:auto;line-height:normal;font-family:Menlo,'DejaVu Sans Mono',consolas,'Courier New',monospace\"><span style=\"font-weight: bold\"> Trainable params: </span><span style=\"color: #00af00; text-decoration-color: #00af00\">387</span> (1.51 KB)\n",
              "</pre>\n"
            ]
          },
          "metadata": {}
        },
        {
          "output_type": "display_data",
          "data": {
            "text/plain": [
              "\u001b[1m Non-trainable params: \u001b[0m\u001b[38;5;34m0\u001b[0m (0.00 B)\n"
            ],
            "text/html": [
              "<pre style=\"white-space:pre;overflow-x:auto;line-height:normal;font-family:Menlo,'DejaVu Sans Mono',consolas,'Courier New',monospace\"><span style=\"font-weight: bold\"> Non-trainable params: </span><span style=\"color: #00af00; text-decoration-color: #00af00\">0</span> (0.00 B)\n",
              "</pre>\n"
            ]
          },
          "metadata": {}
        },
        {
          "output_type": "display_data",
          "data": {
            "text/plain": [
              "\u001b[1m Optimizer params: \u001b[0m\u001b[38;5;34m2\u001b[0m (12.00 B)\n"
            ],
            "text/html": [
              "<pre style=\"white-space:pre;overflow-x:auto;line-height:normal;font-family:Menlo,'DejaVu Sans Mono',consolas,'Courier New',monospace\"><span style=\"font-weight: bold\"> Optimizer params: </span><span style=\"color: #00af00; text-decoration-color: #00af00\">2</span> (12.00 B)\n",
              "</pre>\n"
            ]
          },
          "metadata": {}
        }
      ]
    },
    {
      "cell_type": "code",
      "source": [
        "# Load models\n",
        "lstm_model = tf.keras.models.load_model(\"/content/drive/MyDrive/GP PID/lstm_glucose_model.h5\", compile=False)\n",
        "pid_model = tf.keras.models.load_model(\"/content/drive/MyDrive/GP PID/pid_tuning_model.h5\", compile=False)\n",
        "\n",
        "# Ensure correct input shape for LSTM model\n",
        "sample_input = np.expand_dims(X_test[0], axis=0)  # Shape (1, 30, num_features)\n",
        "glucose_prediction = lstm_model.predict(sample_input)[0, 0]  # Get predicted glucose\n",
        "\n",
        "# Compute PID Features\n",
        "glucose_error = glucose_prediction - 110  # Setpoint: 110 mg/dL\n",
        "glucose_change = np.mean(X_test[0][-10:, 0]) - X_test[0][-1, 0]  # Smoothed glucose change\n",
        "previous_insulin = X_test[0][-1, 3]  # Last recorded insulin dose\n",
        "\n",
        "# Compute Integral Term using rolling sum (clamped)\n",
        "integral_error = np.clip(np.sum(X_test[0][-10:, 0] - 110), -50, 50)  # Prevent windup\n",
        "\n",
        "# Prepare PID input\n",
        "pid_input = np.array([[glucose_error, glucose_change, previous_insulin]])\n",
        "\n",
        "# Predict PID gains (Kp, Ki, Kd)\n",
        "pid_gains = pid_model.predict(pid_input)[0]\n",
        "\n",
        "# Dynamically adjust PID gains\n",
        "if glucose_prediction > 250:\n",
        "    Kp, Ki, Kd = np.clip(pid_gains, 0.01, 0.2)  # Lower gains at high glucose\n",
        "elif glucose_prediction < 150:\n",
        "    Kp, Ki, Kd = np.clip(pid_gains, 0.02, 0.8)   # Normal range\n",
        "else:\n",
        "    Kp, Ki, Kd = np.clip(pid_gains, 0.01, 0.6)  # Medium control\n",
        "\n",
        "# Compute Insulin using PID Formula\n",
        "insulin_dosage = Kp * glucose_error + Ki * integral_error + Kd * glucose_change\n",
        "insulin_dosage = max(0, min(insulin_dosage, 15))  # Increased limit\n",
        "\n",
        "# Print results\n",
        "print(f\"Predicted Glucose: {glucose_prediction:.2f} mg/dL\")\n",
        "print(f\"Recommended Insulin: {insulin_dosage:.2f} U (Safe Range)\")\n"
      ],
      "metadata": {
        "colab": {
          "base_uri": "https://localhost:8080/"
        },
        "id": "8J8JgBlDENwA",
        "outputId": "ab5a62cb-399f-4e6e-fc41-aa82443b6d12"
      },
      "execution_count": 48,
      "outputs": [
        {
          "output_type": "stream",
          "name": "stdout",
          "text": [
            "\u001b[1m1/1\u001b[0m \u001b[32m━━━━━━━━━━━━━━━━━━━━\u001b[0m\u001b[37m\u001b[0m \u001b[1m0s\u001b[0m 168ms/step\n",
            "\u001b[1m1/1\u001b[0m \u001b[32m━━━━━━━━━━━━━━━━━━━━\u001b[0m\u001b[37m\u001b[0m \u001b[1m0s\u001b[0m 148ms/step\n",
            "Predicted Glucose: 282.30 mg/dL\n",
            "Recommended Insulin: 15.00 U (Safe Range)\n"
          ]
        }
      ]
    }
  ]
}