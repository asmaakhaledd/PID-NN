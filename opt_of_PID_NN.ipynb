{
  "nbformat": 4,
  "nbformat_minor": 0,
  "metadata": {
    "colab": {
      "provenance": [],
      "gpuType": "T4",
      "include_colab_link": true
    },
    "kernelspec": {
      "name": "python3",
      "display_name": "Python 3"
    },
    "language_info": {
      "name": "python"
    },
    "accelerator": "GPU"
  },
  "cells": [
    {
      "cell_type": "markdown",
      "metadata": {
        "id": "view-in-github",
        "colab_type": "text"
      },
      "source": [
        "<a href=\"https://colab.research.google.com/github/asmaakhaledd/PID-NN/blob/main/opt_of_PID_NN.ipynb\" target=\"_parent\"><img src=\"https://colab.research.google.com/assets/colab-badge.svg\" alt=\"Open In Colab\"/></a>"
      ]
    },
    {
      "cell_type": "code",
      "source": [
        "!pip install numpy pandas tensorflow control matplotlib xmltodict scikit-learn"
      ],
      "metadata": {
        "id": "OHkjmG-Yr6DM",
        "colab": {
          "base_uri": "https://localhost:8080/"
        },
        "outputId": "542db9bf-1513-46a8-8d23-1c54a8f3991b"
      },
      "execution_count": 25,
      "outputs": [
        {
          "output_type": "stream",
          "name": "stdout",
          "text": [
            "Requirement already satisfied: numpy in /usr/local/lib/python3.11/dist-packages (2.0.2)\n",
            "Requirement already satisfied: pandas in /usr/local/lib/python3.11/dist-packages (2.2.2)\n",
            "Requirement already satisfied: tensorflow in /usr/local/lib/python3.11/dist-packages (2.18.0)\n",
            "Requirement already satisfied: control in /usr/local/lib/python3.11/dist-packages (0.10.1)\n",
            "Requirement already satisfied: matplotlib in /usr/local/lib/python3.11/dist-packages (3.10.0)\n",
            "Requirement already satisfied: xmltodict in /usr/local/lib/python3.11/dist-packages (0.14.2)\n",
            "Requirement already satisfied: scikit-learn in /usr/local/lib/python3.11/dist-packages (1.6.1)\n",
            "Requirement already satisfied: python-dateutil>=2.8.2 in /usr/local/lib/python3.11/dist-packages (from pandas) (2.8.2)\n",
            "Requirement already satisfied: pytz>=2020.1 in /usr/local/lib/python3.11/dist-packages (from pandas) (2025.2)\n",
            "Requirement already satisfied: tzdata>=2022.7 in /usr/local/lib/python3.11/dist-packages (from pandas) (2025.2)\n",
            "Requirement already satisfied: absl-py>=1.0.0 in /usr/local/lib/python3.11/dist-packages (from tensorflow) (1.4.0)\n",
            "Requirement already satisfied: astunparse>=1.6.0 in /usr/local/lib/python3.11/dist-packages (from tensorflow) (1.6.3)\n",
            "Requirement already satisfied: flatbuffers>=24.3.25 in /usr/local/lib/python3.11/dist-packages (from tensorflow) (25.2.10)\n",
            "Requirement already satisfied: gast!=0.5.0,!=0.5.1,!=0.5.2,>=0.2.1 in /usr/local/lib/python3.11/dist-packages (from tensorflow) (0.6.0)\n",
            "Requirement already satisfied: google-pasta>=0.1.1 in /usr/local/lib/python3.11/dist-packages (from tensorflow) (0.2.0)\n",
            "Requirement already satisfied: libclang>=13.0.0 in /usr/local/lib/python3.11/dist-packages (from tensorflow) (18.1.1)\n",
            "Requirement already satisfied: opt-einsum>=2.3.2 in /usr/local/lib/python3.11/dist-packages (from tensorflow) (3.4.0)\n",
            "Requirement already satisfied: packaging in /usr/local/lib/python3.11/dist-packages (from tensorflow) (24.2)\n",
            "Requirement already satisfied: protobuf!=4.21.0,!=4.21.1,!=4.21.2,!=4.21.3,!=4.21.4,!=4.21.5,<6.0.0dev,>=3.20.3 in /usr/local/lib/python3.11/dist-packages (from tensorflow) (5.29.4)\n",
            "Requirement already satisfied: requests<3,>=2.21.0 in /usr/local/lib/python3.11/dist-packages (from tensorflow) (2.32.3)\n",
            "Requirement already satisfied: setuptools in /usr/local/lib/python3.11/dist-packages (from tensorflow) (75.2.0)\n",
            "Requirement already satisfied: six>=1.12.0 in /usr/local/lib/python3.11/dist-packages (from tensorflow) (1.17.0)\n",
            "Requirement already satisfied: termcolor>=1.1.0 in /usr/local/lib/python3.11/dist-packages (from tensorflow) (3.0.1)\n",
            "Requirement already satisfied: typing-extensions>=3.6.6 in /usr/local/lib/python3.11/dist-packages (from tensorflow) (4.13.0)\n",
            "Requirement already satisfied: wrapt>=1.11.0 in /usr/local/lib/python3.11/dist-packages (from tensorflow) (1.17.2)\n",
            "Requirement already satisfied: grpcio<2.0,>=1.24.3 in /usr/local/lib/python3.11/dist-packages (from tensorflow) (1.71.0)\n",
            "Requirement already satisfied: tensorboard<2.19,>=2.18 in /usr/local/lib/python3.11/dist-packages (from tensorflow) (2.18.0)\n",
            "Requirement already satisfied: keras>=3.5.0 in /usr/local/lib/python3.11/dist-packages (from tensorflow) (3.8.0)\n",
            "Requirement already satisfied: h5py>=3.11.0 in /usr/local/lib/python3.11/dist-packages (from tensorflow) (3.13.0)\n",
            "Requirement already satisfied: ml-dtypes<0.5.0,>=0.4.0 in /usr/local/lib/python3.11/dist-packages (from tensorflow) (0.4.1)\n",
            "Requirement already satisfied: tensorflow-io-gcs-filesystem>=0.23.1 in /usr/local/lib/python3.11/dist-packages (from tensorflow) (0.37.1)\n",
            "Requirement already satisfied: scipy>=1.8 in /usr/local/lib/python3.11/dist-packages (from control) (1.14.1)\n",
            "Requirement already satisfied: contourpy>=1.0.1 in /usr/local/lib/python3.11/dist-packages (from matplotlib) (1.3.1)\n",
            "Requirement already satisfied: cycler>=0.10 in /usr/local/lib/python3.11/dist-packages (from matplotlib) (0.12.1)\n",
            "Requirement already satisfied: fonttools>=4.22.0 in /usr/local/lib/python3.11/dist-packages (from matplotlib) (4.56.0)\n",
            "Requirement already satisfied: kiwisolver>=1.3.1 in /usr/local/lib/python3.11/dist-packages (from matplotlib) (1.4.8)\n",
            "Requirement already satisfied: pillow>=8 in /usr/local/lib/python3.11/dist-packages (from matplotlib) (11.1.0)\n",
            "Requirement already satisfied: pyparsing>=2.3.1 in /usr/local/lib/python3.11/dist-packages (from matplotlib) (3.2.3)\n",
            "Requirement already satisfied: joblib>=1.2.0 in /usr/local/lib/python3.11/dist-packages (from scikit-learn) (1.4.2)\n",
            "Requirement already satisfied: threadpoolctl>=3.1.0 in /usr/local/lib/python3.11/dist-packages (from scikit-learn) (3.6.0)\n",
            "Requirement already satisfied: wheel<1.0,>=0.23.0 in /usr/local/lib/python3.11/dist-packages (from astunparse>=1.6.0->tensorflow) (0.45.1)\n",
            "Requirement already satisfied: rich in /usr/local/lib/python3.11/dist-packages (from keras>=3.5.0->tensorflow) (13.9.4)\n",
            "Requirement already satisfied: namex in /usr/local/lib/python3.11/dist-packages (from keras>=3.5.0->tensorflow) (0.0.8)\n",
            "Requirement already satisfied: optree in /usr/local/lib/python3.11/dist-packages (from keras>=3.5.0->tensorflow) (0.14.1)\n",
            "Requirement already satisfied: charset-normalizer<4,>=2 in /usr/local/lib/python3.11/dist-packages (from requests<3,>=2.21.0->tensorflow) (3.4.1)\n",
            "Requirement already satisfied: idna<4,>=2.5 in /usr/local/lib/python3.11/dist-packages (from requests<3,>=2.21.0->tensorflow) (3.10)\n",
            "Requirement already satisfied: urllib3<3,>=1.21.1 in /usr/local/lib/python3.11/dist-packages (from requests<3,>=2.21.0->tensorflow) (2.3.0)\n",
            "Requirement already satisfied: certifi>=2017.4.17 in /usr/local/lib/python3.11/dist-packages (from requests<3,>=2.21.0->tensorflow) (2025.1.31)\n",
            "Requirement already satisfied: markdown>=2.6.8 in /usr/local/lib/python3.11/dist-packages (from tensorboard<2.19,>=2.18->tensorflow) (3.7)\n",
            "Requirement already satisfied: tensorboard-data-server<0.8.0,>=0.7.0 in /usr/local/lib/python3.11/dist-packages (from tensorboard<2.19,>=2.18->tensorflow) (0.7.2)\n",
            "Requirement already satisfied: werkzeug>=1.0.1 in /usr/local/lib/python3.11/dist-packages (from tensorboard<2.19,>=2.18->tensorflow) (3.1.3)\n",
            "Requirement already satisfied: MarkupSafe>=2.1.1 in /usr/local/lib/python3.11/dist-packages (from werkzeug>=1.0.1->tensorboard<2.19,>=2.18->tensorflow) (3.0.2)\n",
            "Requirement already satisfied: markdown-it-py>=2.2.0 in /usr/local/lib/python3.11/dist-packages (from rich->keras>=3.5.0->tensorflow) (3.0.0)\n",
            "Requirement already satisfied: pygments<3.0.0,>=2.13.0 in /usr/local/lib/python3.11/dist-packages (from rich->keras>=3.5.0->tensorflow) (2.18.0)\n",
            "Requirement already satisfied: mdurl~=0.1 in /usr/local/lib/python3.11/dist-packages (from markdown-it-py>=2.2.0->rich->keras>=3.5.0->tensorflow) (0.1.2)\n"
          ]
        }
      ]
    },
    {
      "cell_type": "code",
      "source": [
        "import os\n",
        "import glob\n",
        "import xml.etree.ElementTree as ET\n",
        "import pandas as pd\n",
        "import numpy as np\n",
        "import tensorflow as tf\n",
        "from tensorflow.keras.models import Sequential, Model\n",
        "from tensorflow.keras.layers import LSTM, Dense, Input\n",
        "import matplotlib.pyplot as plt\n",
        "from datetime import datetime"
      ],
      "metadata": {
        "id": "5yiToWVmiaM0"
      },
      "execution_count": 26,
      "outputs": []
    },
    {
      "cell_type": "markdown",
      "source": [
        "Load XML Data"
      ],
      "metadata": {
        "id": "0-I5K521ig8s"
      }
    },
    {
      "cell_type": "code",
      "source": [
        "#Automatically loads all XML files (5 training, 5 testing)\n",
        "train_files = sorted(glob.glob(\"/content/drive/MyDrive/GP PID/dataset/*-ws-training.xml\"))\n",
        "test_files = sorted(glob.glob(\"/content/drive/MyDrive/GP PID/dataset/*-ws-testing.xml\"))"
      ],
      "metadata": {
        "id": "KAwBZW9Lisib"
      },
      "execution_count": 27,
      "outputs": []
    },
    {
      "cell_type": "markdown",
      "source": [
        "Check Corrupted XML File"
      ],
      "metadata": {
        "id": "8P8vKnO0mqvB"
      }
    },
    {
      "cell_type": "code",
      "source": [
        "import xml.etree.ElementTree as ET\n",
        "\n",
        "for file in train_files + test_files:\n",
        "    try:\n",
        "        tree = ET.parse(file)\n",
        "        print(f\"✅ {file} is valid\")\n",
        "    except ET.ParseError as e:\n",
        "        print(f\"❌ Error in {file}: {e}\")"
      ],
      "metadata": {
        "colab": {
          "base_uri": "https://localhost:8080/"
        },
        "id": "O4bfAGvWmpU2",
        "outputId": "d5725390-4ab0-4893-fdbd-d95eb46ac190"
      },
      "execution_count": 28,
      "outputs": [
        {
          "output_type": "stream",
          "name": "stdout",
          "text": [
            "✅ /content/drive/MyDrive/GP PID/dataset/559-ws-training.xml is valid\n",
            "✅ /content/drive/MyDrive/GP PID/dataset/563-ws-training.xml is valid\n",
            "✅ /content/drive/MyDrive/GP PID/dataset/570-ws-training.xml is valid\n",
            "✅ /content/drive/MyDrive/GP PID/dataset/575-ws-training.xml is valid\n",
            "✅ /content/drive/MyDrive/GP PID/dataset/588-ws-training.xml is valid\n",
            "✅ /content/drive/MyDrive/GP PID/dataset/591-ws-training.xml is valid\n",
            "✅ /content/drive/MyDrive/GP PID/dataset/559-ws-testing.xml is valid\n",
            "✅ /content/drive/MyDrive/GP PID/dataset/563-ws-testing.xml is valid\n",
            "✅ /content/drive/MyDrive/GP PID/dataset/570-ws-testing.xml is valid\n",
            "✅ /content/drive/MyDrive/GP PID/dataset/575-ws-testing.xml is valid\n",
            "✅ /content/drive/MyDrive/GP PID/dataset/588-ws-testing.xml is valid\n",
            "✅ /content/drive/MyDrive/GP PID/dataset/591-ws-testing.xml is valid\n"
          ]
        }
      ]
    },
    {
      "cell_type": "markdown",
      "source": [
        "Parse XML Data"
      ],
      "metadata": {
        "id": "e7lFuQycocPp"
      }
    },
    {
      "cell_type": "code",
      "source": [
        "#Extracts Time, Glucose\n",
        "#Sorts data by timestamp to maintain correct sequence order\n",
        "def parse_xml(file_path):\n",
        "    tree = ET.parse(file_path)\n",
        "    root = tree.getroot()\n",
        "    data = []\n",
        "\n",
        "    # Extract patient weight\n",
        "    weight = float(root.get('weight', 0))  # Defaults to 0 if missing\n",
        "\n",
        "    # Process glucose levels\n",
        "    for event in root.find('glucose_level'):\n",
        "        timestamp = datetime.strptime(event.get('ts'), \"%d-%m-%Y %H:%M:%S\")\n",
        "        glucose = float(event.get('value'))\n",
        "\n",
        "\n",
        "        # Append extracted data\n",
        "        data.append({\n",
        "            'timestamp': timestamp,\n",
        "            'glucose': glucose,\n",
        "            'weight': weight\n",
        "        })\n",
        "\n",
        "    df = pd.DataFrame(data)\n",
        "\n",
        "    # Debugging output\n",
        "    print(f\"Parsed {file_path}, {len(df)} records\")\n",
        "    print(df.head(10))  # Show first 10 rows for debugging\n",
        "\n",
        "    return df.sort_values('timestamp')\n",
        "\n",
        "# Load all files\n",
        "train_dfs = [parse_xml(f) for f in train_files]\n",
        "test_dfs = [parse_xml(f) for f in test_files]\n",
        "\n",
        "# Concatenate all data\n",
        "train_df = pd.concat(train_dfs, ignore_index=True)\n",
        "test_df = pd.concat(test_dfs, ignore_index=True)\n",
        "\n",
        "# Final debug prints\n",
        "print(\"\\nFinal Train DataFrame:\")\n",
        "print(train_df.head(10))\n",
        "print(\"\\nFinal Test DataFrame:\")\n",
        "print(test_df.head(10))"
      ],
      "metadata": {
        "colab": {
          "base_uri": "https://localhost:8080/"
        },
        "id": "n_gNUo6Ek4kl",
        "outputId": "4fea0535-9850-4dda-d30c-3bd4a519c741"
      },
      "execution_count": 29,
      "outputs": [
        {
          "output_type": "stream",
          "name": "stdout",
          "text": [
            "Parsed /content/drive/MyDrive/GP PID/dataset/559-ws-training.xml, 10796 records\n",
            "            timestamp  glucose  weight\n",
            "0 2021-12-07 01:17:00    101.0    99.0\n",
            "1 2021-12-07 01:22:00     98.0    99.0\n",
            "2 2021-12-07 01:27:00    104.0    99.0\n",
            "3 2021-12-07 01:32:00    112.0    99.0\n",
            "4 2021-12-07 01:37:00    120.0    99.0\n",
            "5 2021-12-07 01:42:00    127.0    99.0\n",
            "6 2021-12-07 01:47:00    135.0    99.0\n",
            "7 2021-12-07 01:52:00    142.0    99.0\n",
            "8 2021-12-07 01:57:00    140.0    99.0\n",
            "9 2021-12-07 02:02:00    145.0    99.0\n",
            "Parsed /content/drive/MyDrive/GP PID/dataset/563-ws-training.xml, 12124 records\n",
            "            timestamp  glucose  weight\n",
            "0 2021-09-13 12:33:00    219.0    99.0\n",
            "1 2021-09-13 12:38:00    229.0    99.0\n",
            "2 2021-09-13 12:43:00    224.0    99.0\n",
            "3 2021-09-13 12:48:00    221.0    99.0\n",
            "4 2021-09-13 12:53:00    215.0    99.0\n",
            "5 2021-09-13 12:58:00    209.0    99.0\n",
            "6 2021-09-13 13:03:00    203.0    99.0\n",
            "7 2021-09-13 13:08:00    199.0    99.0\n",
            "8 2021-09-13 13:13:00    196.0    99.0\n",
            "9 2021-09-13 13:18:00    196.0    99.0\n",
            "Parsed /content/drive/MyDrive/GP PID/dataset/570-ws-training.xml, 10982 records\n",
            "            timestamp  glucose  weight\n",
            "0 2021-12-07 16:29:00    101.0    99.0\n",
            "1 2021-12-07 16:34:00    100.0    99.0\n",
            "2 2021-12-07 16:39:00    100.0    99.0\n",
            "3 2021-12-07 16:44:00     99.0    99.0\n",
            "4 2021-12-07 16:49:00     98.0    99.0\n",
            "5 2021-12-07 16:54:00     98.0    99.0\n",
            "6 2021-12-07 16:59:00     95.0    99.0\n",
            "7 2021-12-07 17:04:00     94.0    99.0\n",
            "8 2021-12-07 17:09:00     92.0    99.0\n",
            "9 2021-12-07 17:14:00     90.0    99.0\n",
            "Parsed /content/drive/MyDrive/GP PID/dataset/575-ws-training.xml, 11866 records\n",
            "            timestamp  glucose  weight\n",
            "0 2021-11-17 12:04:00    128.0    99.0\n",
            "1 2021-11-17 12:09:00    123.0    99.0\n",
            "2 2021-11-17 12:14:00    120.0    99.0\n",
            "3 2021-11-17 12:19:00    124.0    99.0\n",
            "4 2021-11-17 12:24:00    121.0    99.0\n",
            "5 2021-11-17 12:29:00    120.0    99.0\n",
            "6 2021-11-17 12:34:00    121.0    99.0\n",
            "7 2021-11-17 12:39:00    121.0    99.0\n",
            "8 2021-11-17 12:44:00    120.0    99.0\n",
            "9 2021-11-17 12:49:00    119.0    99.0\n",
            "Parsed /content/drive/MyDrive/GP PID/dataset/588-ws-training.xml, 12640 records\n",
            "            timestamp  glucose  weight\n",
            "0 2021-08-30 11:53:00    116.0    99.0\n",
            "1 2021-08-30 11:58:00    117.0    99.0\n",
            "2 2021-08-30 12:03:00    119.0    99.0\n",
            "3 2021-08-30 12:08:00    116.0    99.0\n",
            "4 2021-08-30 12:13:00    111.0    99.0\n",
            "5 2021-08-30 12:18:00    110.0    99.0\n",
            "6 2021-08-30 12:23:00    111.0    99.0\n",
            "7 2021-08-30 12:28:00    113.0    99.0\n",
            "8 2021-08-30 12:33:00    114.0    99.0\n",
            "9 2021-08-30 12:38:00    117.0    99.0\n",
            "Parsed /content/drive/MyDrive/GP PID/dataset/591-ws-training.xml, 10847 records\n",
            "            timestamp  glucose  weight\n",
            "0 2021-11-30 17:06:00    160.0    99.0\n",
            "1 2021-11-30 17:11:00    158.0    99.0\n",
            "2 2021-11-30 17:16:00    160.0    99.0\n",
            "3 2021-11-30 17:21:00    166.0    99.0\n",
            "4 2021-11-30 17:26:00    175.0    99.0\n",
            "5 2021-11-30 17:31:00    182.0    99.0\n",
            "6 2021-11-30 17:36:00    188.0    99.0\n",
            "7 2021-11-30 17:41:00    192.0    99.0\n",
            "8 2021-11-30 17:46:00    191.0    99.0\n",
            "9 2021-11-30 17:51:00    192.0    99.0\n",
            "Parsed /content/drive/MyDrive/GP PID/dataset/559-ws-testing.xml, 2514 records\n",
            "            timestamp  glucose  weight\n",
            "0 2022-01-18 00:01:00    179.0    99.0\n",
            "1 2022-01-18 00:06:00    183.0    99.0\n",
            "2 2022-01-18 00:11:00    187.0    99.0\n",
            "3 2022-01-18 00:16:00    191.0    99.0\n",
            "4 2022-01-18 00:21:00    195.0    99.0\n",
            "5 2022-01-18 00:26:00    199.0    99.0\n",
            "6 2022-01-18 00:31:00    204.0    99.0\n",
            "7 2022-01-18 00:36:00    209.0    99.0\n",
            "8 2022-01-18 00:41:00    211.0    99.0\n",
            "9 2022-01-18 00:46:00    211.0    99.0\n",
            "Parsed /content/drive/MyDrive/GP PID/dataset/563-ws-testing.xml, 2570 records\n",
            "            timestamp  glucose  weight\n",
            "0 2021-10-29 00:01:00    239.0    99.0\n",
            "1 2021-10-29 00:06:00    238.0    99.0\n",
            "2 2021-10-29 00:11:00    235.0    99.0\n",
            "3 2021-10-29 00:16:00    233.0    99.0\n",
            "4 2021-10-29 00:21:00    231.0    99.0\n",
            "5 2021-10-29 00:26:00    229.0    99.0\n",
            "6 2021-10-29 00:31:00    227.0    99.0\n",
            "7 2021-10-29 00:36:00    222.0    99.0\n",
            "8 2021-10-29 00:41:00    220.0    99.0\n",
            "9 2021-10-29 00:46:00    216.0    99.0\n",
            "Parsed /content/drive/MyDrive/GP PID/dataset/570-ws-testing.xml, 2745 records\n",
            "            timestamp  glucose  weight\n",
            "0 2022-01-17 00:04:00    135.0    99.0\n",
            "1 2022-01-17 00:09:00    143.0    99.0\n",
            "2 2022-01-17 00:14:00    152.0    99.0\n",
            "3 2022-01-17 00:19:00    159.0    99.0\n",
            "4 2022-01-17 00:24:00    166.0    99.0\n",
            "5 2022-01-17 00:29:00    172.0    99.0\n",
            "6 2022-01-17 00:34:00    178.0    99.0\n",
            "7 2022-01-17 00:39:00    184.0    99.0\n",
            "8 2022-01-17 00:44:00    191.0    99.0\n",
            "9 2022-01-17 00:49:00    195.0    99.0\n",
            "Parsed /content/drive/MyDrive/GP PID/dataset/575-ws-testing.xml, 2590 records\n",
            "            timestamp  glucose  weight\n",
            "0 2022-01-02 00:00:00    214.0    99.0\n",
            "1 2022-01-02 00:05:00    217.0    99.0\n",
            "2 2022-01-02 00:10:00    217.0    99.0\n",
            "3 2022-01-02 00:15:00    212.0    99.0\n",
            "4 2022-01-02 00:20:00    209.0    99.0\n",
            "5 2022-01-02 00:25:00    208.0    99.0\n",
            "6 2022-01-02 00:30:00    209.0    99.0\n",
            "7 2022-01-02 00:35:00    209.0    99.0\n",
            "8 2022-01-02 00:40:00    208.0    99.0\n",
            "9 2022-01-02 00:45:00    207.0    99.0\n",
            "Parsed /content/drive/MyDrive/GP PID/dataset/588-ws-testing.xml, 2791 records\n",
            "            timestamp  glucose  weight\n",
            "0 2021-10-15 00:00:00    127.0    99.0\n",
            "1 2021-10-15 00:05:00    123.0    99.0\n",
            "2 2021-10-15 00:10:00    118.0    99.0\n",
            "3 2021-10-15 00:15:00    112.0    99.0\n",
            "4 2021-10-15 00:20:00    108.0    99.0\n",
            "5 2021-10-15 00:25:00    106.0    99.0\n",
            "6 2021-10-15 00:30:00    103.0    99.0\n",
            "7 2021-10-15 00:35:00     98.0    99.0\n",
            "8 2021-10-15 00:40:00     95.0    99.0\n",
            "9 2021-10-15 00:45:00     93.0    99.0\n",
            "Parsed /content/drive/MyDrive/GP PID/dataset/591-ws-testing.xml, 2760 records\n",
            "            timestamp  glucose  weight\n",
            "0 2022-01-14 00:03:00    283.0    99.0\n",
            "1 2022-01-14 00:08:00    282.0    99.0\n",
            "2 2022-01-14 00:13:00    281.0    99.0\n",
            "3 2022-01-14 00:18:00    277.0    99.0\n",
            "4 2022-01-14 00:23:00    267.0    99.0\n",
            "5 2022-01-14 00:28:00    258.0    99.0\n",
            "6 2022-01-14 00:33:00    251.0    99.0\n",
            "7 2022-01-14 00:38:00    237.0    99.0\n",
            "8 2022-01-14 00:43:00    226.0    99.0\n",
            "9 2022-01-14 00:48:00    216.0    99.0\n",
            "\n",
            "Final Train DataFrame:\n",
            "            timestamp  glucose  weight\n",
            "0 2021-12-07 01:17:00    101.0    99.0\n",
            "1 2021-12-07 01:22:00     98.0    99.0\n",
            "2 2021-12-07 01:27:00    104.0    99.0\n",
            "3 2021-12-07 01:32:00    112.0    99.0\n",
            "4 2021-12-07 01:37:00    120.0    99.0\n",
            "5 2021-12-07 01:42:00    127.0    99.0\n",
            "6 2021-12-07 01:47:00    135.0    99.0\n",
            "7 2021-12-07 01:52:00    142.0    99.0\n",
            "8 2021-12-07 01:57:00    140.0    99.0\n",
            "9 2021-12-07 02:02:00    145.0    99.0\n",
            "\n",
            "Final Test DataFrame:\n",
            "            timestamp  glucose  weight\n",
            "0 2022-01-18 00:01:00    179.0    99.0\n",
            "1 2022-01-18 00:06:00    183.0    99.0\n",
            "2 2022-01-18 00:11:00    187.0    99.0\n",
            "3 2022-01-18 00:16:00    191.0    99.0\n",
            "4 2022-01-18 00:21:00    195.0    99.0\n",
            "5 2022-01-18 00:26:00    199.0    99.0\n",
            "6 2022-01-18 00:31:00    204.0    99.0\n",
            "7 2022-01-18 00:36:00    209.0    99.0\n",
            "8 2022-01-18 00:41:00    211.0    99.0\n",
            "9 2022-01-18 00:46:00    211.0    99.0\n"
          ]
        }
      ]
    },
    {
      "cell_type": "markdown",
      "source": [
        "Convert Time into Numerical Features"
      ],
      "metadata": {
        "id": "tI17lg0ui3Xm"
      }
    },
    {
      "cell_type": "code",
      "source": [
        "# Convert Time into Cyclic Features (Sin/Cos encoding)\n",
        "def preprocess_time_features(df):\n",
        "    df['hour'] = df['timestamp'].dt.hour\n",
        "    df['minute'] = df['timestamp'].dt.minute\n",
        "    df['time_sin'] = np.sin(2 * np.pi * df['hour'] / 24)  # Cyclic encoding\n",
        "    df['time_cos'] = np.cos(2 * np.pi * df['hour'] / 24)\n",
        "    return df.drop(['timestamp', 'hour', 'minute'], axis=1)\n",
        "\n",
        "train_df = preprocess_time_features(train_df)\n",
        "test_df = preprocess_time_features(test_df)"
      ],
      "metadata": {
        "id": "mX4ofOO_i0bL"
      },
      "execution_count": 10,
      "outputs": []
    },
    {
      "cell_type": "markdown",
      "source": [
        "Convert all data to float32"
      ],
      "metadata": {
        "id": "GckO7Bflnieo"
      }
    },
    {
      "cell_type": "code",
      "source": [
        "train_df = train_df.astype(np.float32)\n",
        "test_df = test_df.astype(np.float32)"
      ],
      "metadata": {
        "id": "yCgfNF2ineR9"
      },
      "execution_count": 11,
      "outputs": []
    },
    {
      "cell_type": "markdown",
      "source": [
        "Prepare sequences for the PID tuning model"
      ],
      "metadata": {
        "id": "056IRQuBOpfJ"
      }
    },
    {
      "cell_type": "code",
      "source": [
        "def prepare_pid_training_data(df, sequence_length=30):\n",
        "    X_pid, y_pid = [], []\n",
        "    for i in range(len(df) - sequence_length):\n",
        "        glucose_error = df['glucose'].iloc[i] - 110  # Setpoint = 110 mg/dL (target glucose)\n",
        "        glucose_change = df['glucose'].iloc[i] - df['glucose'].iloc[i-1] if i > 0 else 0\n",
        "\n",
        "        # Kp, Ki, Kd are based on glucose error and change (scaled)\n",
        "        Kp = 0.05 * np.log(1 + abs(glucose_error))\n",
        "        Ki = 0.005 * np.log(1 + abs(glucose_error))\n",
        "        Kd = 0.002 * np.log(1 + abs(glucose_change))\n",
        "\n",
        "        # Add features (glucose_error, glucose_change, weight, time_sin, time_cos)\n",
        "        X_pid.append([glucose_error, glucose_change, df['weight'].iloc[i],\n",
        "                      df['time_sin'].iloc[i], df['time_cos'].iloc[i]])  # Adjust for cyclic time encoding\n",
        "        y_pid.append([Kp, Ki, Kd])  # Target PID gains\n",
        "\n",
        "    return np.array(X_pid), np.array(y_pid)\n",
        "\n",
        "X_pid_train, y_pid_train = prepare_pid_training_data(train_df)\n",
        "X_pid_test, y_pid_test = prepare_pid_training_data(test_df)\n"
      ],
      "metadata": {
        "id": "M2yzJwN54sKX"
      },
      "execution_count": 12,
      "outputs": []
    },
    {
      "cell_type": "markdown",
      "source": [
        "Define LSTM Model for PID Parameter Tuning"
      ],
      "metadata": {
        "id": "MB_ypK1UnmWq"
      }
    },
    {
      "cell_type": "code",
      "source": [
        "pid_input = Input(shape=(X_pid_train.shape[1], 1))\n",
        "pid_lstm = LSTM(64, activation='tanh', return_sequences=True)(pid_input)\n",
        "pid_lstm = LSTM(32, activation='tanh')(pid_lstm)\n",
        "pid_output = Dense(3, activation='linear')(pid_lstm)  # Predict Kp, Ki, Kd\n",
        "\n",
        "pid_model = Model(inputs=pid_input, outputs=pid_output)\n",
        "pid_model.compile(optimizer='adam', loss='mse')"
      ],
      "metadata": {
        "id": "RDtthawhnuAB"
      },
      "execution_count": 13,
      "outputs": []
    },
    {
      "cell_type": "markdown",
      "source": [
        "Reshape X_pid train  and X_pid test for lstm"
      ],
      "metadata": {
        "id": "6RLHEUx8Zbqe"
      }
    },
    {
      "cell_type": "code",
      "source": [
        "X_pid_train_reshaped = X_pid_train.reshape((X_pid_train.shape[0], X_pid_train.shape[1], 1))  # (samples, timesteps, features)\n",
        "X_pid_test_reshaped = X_pid_test.reshape((X_pid_test.shape[0], X_pid_test.shape[1], 1))  # (samples, timesteps, features)"
      ],
      "metadata": {
        "id": "bW3NgTj_Ziug"
      },
      "execution_count": 14,
      "outputs": []
    },
    {
      "cell_type": "markdown",
      "source": [
        "Train and save the model"
      ],
      "metadata": {
        "id": "U-OyzUO4X9V9"
      }
    },
    {
      "cell_type": "code",
      "source": [
        "pid_model.fit(X_pid_train_reshaped, y_pid_train, epochs=50, batch_size=32, validation_data=(X_pid_test_reshaped, y_pid_test))\n",
        "pid_model.save(\"/content/drive/MyDrive/GP PID/opt_pid_tuning_model_2.h5\")"
      ],
      "metadata": {
        "colab": {
          "base_uri": "https://localhost:8080/"
        },
        "id": "oKXnKqR1X_Er",
        "outputId": "c3a39a04-ce10-4a0e-f631-626933f63b3f"
      },
      "execution_count": 15,
      "outputs": [
        {
          "output_type": "stream",
          "name": "stdout",
          "text": [
            "Epoch 1/50\n",
            "\u001b[1m2164/2164\u001b[0m \u001b[32m━━━━━━━━━━━━━━━━━━━━\u001b[0m\u001b[37m\u001b[0m \u001b[1m17s\u001b[0m 7ms/step - loss: 3.6265e-04 - val_loss: 4.3331e-06\n",
            "Epoch 2/50\n",
            "\u001b[1m2164/2164\u001b[0m \u001b[32m━━━━━━━━━━━━━━━━━━━━\u001b[0m\u001b[37m\u001b[0m \u001b[1m13s\u001b[0m 6ms/step - loss: 5.8504e-06 - val_loss: 1.8974e-06\n",
            "Epoch 3/50\n",
            "\u001b[1m2164/2164\u001b[0m \u001b[32m━━━━━━━━━━━━━━━━━━━━\u001b[0m\u001b[37m\u001b[0m \u001b[1m13s\u001b[0m 6ms/step - loss: 3.6503e-06 - val_loss: 9.1095e-06\n",
            "Epoch 4/50\n",
            "\u001b[1m2164/2164\u001b[0m \u001b[32m━━━━━━━━━━━━━━━━━━━━\u001b[0m\u001b[37m\u001b[0m \u001b[1m20s\u001b[0m 6ms/step - loss: 2.4788e-06 - val_loss: 9.4465e-07\n",
            "Epoch 5/50\n",
            "\u001b[1m2164/2164\u001b[0m \u001b[32m━━━━━━━━━━━━━━━━━━━━\u001b[0m\u001b[37m\u001b[0m \u001b[1m13s\u001b[0m 6ms/step - loss: 1.4918e-06 - val_loss: 1.6501e-06\n",
            "Epoch 6/50\n",
            "\u001b[1m2164/2164\u001b[0m \u001b[32m━━━━━━━━━━━━━━━━━━━━\u001b[0m\u001b[37m\u001b[0m \u001b[1m14s\u001b[0m 6ms/step - loss: 1.1261e-06 - val_loss: 2.2598e-07\n",
            "Epoch 7/50\n",
            "\u001b[1m2164/2164\u001b[0m \u001b[32m━━━━━━━━━━━━━━━━━━━━\u001b[0m\u001b[37m\u001b[0m \u001b[1m20s\u001b[0m 6ms/step - loss: 9.9628e-07 - val_loss: 3.5920e-07\n",
            "Epoch 8/50\n",
            "\u001b[1m2164/2164\u001b[0m \u001b[32m━━━━━━━━━━━━━━━━━━━━\u001b[0m\u001b[37m\u001b[0m \u001b[1m12s\u001b[0m 6ms/step - loss: 9.0869e-07 - val_loss: 8.5362e-07\n",
            "Epoch 9/50\n",
            "\u001b[1m2164/2164\u001b[0m \u001b[32m━━━━━━━━━━━━━━━━━━━━\u001b[0m\u001b[37m\u001b[0m \u001b[1m21s\u001b[0m 6ms/step - loss: 6.1734e-07 - val_loss: 6.5904e-07\n",
            "Epoch 10/50\n",
            "\u001b[1m2164/2164\u001b[0m \u001b[32m━━━━━━━━━━━━━━━━━━━━\u001b[0m\u001b[37m\u001b[0m \u001b[1m20s\u001b[0m 6ms/step - loss: 1.0877e-06 - val_loss: 8.6589e-08\n",
            "Epoch 11/50\n",
            "\u001b[1m2164/2164\u001b[0m \u001b[32m━━━━━━━━━━━━━━━━━━━━\u001b[0m\u001b[37m\u001b[0m \u001b[1m20s\u001b[0m 6ms/step - loss: 5.2856e-07 - val_loss: 9.9897e-06\n",
            "Epoch 12/50\n",
            "\u001b[1m2164/2164\u001b[0m \u001b[32m━━━━━━━━━━━━━━━━━━━━\u001b[0m\u001b[37m\u001b[0m \u001b[1m21s\u001b[0m 6ms/step - loss: 9.0245e-07 - val_loss: 1.4765e-07\n",
            "Epoch 13/50\n",
            "\u001b[1m2164/2164\u001b[0m \u001b[32m━━━━━━━━━━━━━━━━━━━━\u001b[0m\u001b[37m\u001b[0m \u001b[1m22s\u001b[0m 6ms/step - loss: 4.0978e-07 - val_loss: 2.2919e-07\n",
            "Epoch 14/50\n",
            "\u001b[1m2164/2164\u001b[0m \u001b[32m━━━━━━━━━━━━━━━━━━━━\u001b[0m\u001b[37m\u001b[0m \u001b[1m19s\u001b[0m 6ms/step - loss: 3.2187e-07 - val_loss: 3.5216e-07\n",
            "Epoch 15/50\n",
            "\u001b[1m2164/2164\u001b[0m \u001b[32m━━━━━━━━━━━━━━━━━━━━\u001b[0m\u001b[37m\u001b[0m \u001b[1m13s\u001b[0m 6ms/step - loss: 4.8614e-07 - val_loss: 8.7493e-08\n",
            "Epoch 16/50\n",
            "\u001b[1m2164/2164\u001b[0m \u001b[32m━━━━━━━━━━━━━━━━━━━━\u001b[0m\u001b[37m\u001b[0m \u001b[1m13s\u001b[0m 6ms/step - loss: 2.7888e-07 - val_loss: 2.2776e-07\n",
            "Epoch 17/50\n",
            "\u001b[1m2164/2164\u001b[0m \u001b[32m━━━━━━━━━━━━━━━━━━━━\u001b[0m\u001b[37m\u001b[0m \u001b[1m13s\u001b[0m 6ms/step - loss: 2.8308e-07 - val_loss: 6.5852e-07\n",
            "Epoch 18/50\n",
            "\u001b[1m2164/2164\u001b[0m \u001b[32m━━━━━━━━━━━━━━━━━━━━\u001b[0m\u001b[37m\u001b[0m \u001b[1m13s\u001b[0m 6ms/step - loss: 3.4388e-07 - val_loss: 3.4781e-07\n",
            "Epoch 19/50\n",
            "\u001b[1m2164/2164\u001b[0m \u001b[32m━━━━━━━━━━━━━━━━━━━━\u001b[0m\u001b[37m\u001b[0m \u001b[1m21s\u001b[0m 6ms/step - loss: 3.2650e-07 - val_loss: 9.0706e-07\n",
            "Epoch 20/50\n",
            "\u001b[1m2164/2164\u001b[0m \u001b[32m━━━━━━━━━━━━━━━━━━━━\u001b[0m\u001b[37m\u001b[0m \u001b[1m20s\u001b[0m 6ms/step - loss: 4.1160e-07 - val_loss: 1.0567e-07\n",
            "Epoch 21/50\n",
            "\u001b[1m2164/2164\u001b[0m \u001b[32m━━━━━━━━━━━━━━━━━━━━\u001b[0m\u001b[37m\u001b[0m \u001b[1m21s\u001b[0m 6ms/step - loss: 2.1550e-07 - val_loss: 9.5465e-08\n",
            "Epoch 22/50\n",
            "\u001b[1m2164/2164\u001b[0m \u001b[32m━━━━━━━━━━━━━━━━━━━━\u001b[0m\u001b[37m\u001b[0m \u001b[1m21s\u001b[0m 6ms/step - loss: 2.3247e-07 - val_loss: 1.4015e-06\n",
            "Epoch 23/50\n",
            "\u001b[1m2164/2164\u001b[0m \u001b[32m━━━━━━━━━━━━━━━━━━━━\u001b[0m\u001b[37m\u001b[0m \u001b[1m20s\u001b[0m 6ms/step - loss: 3.5287e-07 - val_loss: 3.3779e-07\n",
            "Epoch 24/50\n",
            "\u001b[1m2164/2164\u001b[0m \u001b[32m━━━━━━━━━━━━━━━━━━━━\u001b[0m\u001b[37m\u001b[0m \u001b[1m20s\u001b[0m 6ms/step - loss: 1.9250e-07 - val_loss: 1.3065e-07\n",
            "Epoch 25/50\n",
            "\u001b[1m2164/2164\u001b[0m \u001b[32m━━━━━━━━━━━━━━━━━━━━\u001b[0m\u001b[37m\u001b[0m \u001b[1m20s\u001b[0m 6ms/step - loss: 2.1577e-07 - val_loss: 1.0164e-06\n",
            "Epoch 26/50\n",
            "\u001b[1m2164/2164\u001b[0m \u001b[32m━━━━━━━━━━━━━━━━━━━━\u001b[0m\u001b[37m\u001b[0m \u001b[1m21s\u001b[0m 6ms/step - loss: 2.7869e-07 - val_loss: 7.8418e-08\n",
            "Epoch 27/50\n",
            "\u001b[1m2164/2164\u001b[0m \u001b[32m━━━━━━━━━━━━━━━━━━━━\u001b[0m\u001b[37m\u001b[0m \u001b[1m13s\u001b[0m 6ms/step - loss: 1.2879e-07 - val_loss: 1.1924e-07\n",
            "Epoch 28/50\n",
            "\u001b[1m2164/2164\u001b[0m \u001b[32m━━━━━━━━━━━━━━━━━━━━\u001b[0m\u001b[37m\u001b[0m \u001b[1m20s\u001b[0m 6ms/step - loss: 1.6448e-07 - val_loss: 4.6110e-08\n",
            "Epoch 29/50\n",
            "\u001b[1m2164/2164\u001b[0m \u001b[32m━━━━━━━━━━━━━━━━━━━━\u001b[0m\u001b[37m\u001b[0m \u001b[1m20s\u001b[0m 6ms/step - loss: 1.1206e-07 - val_loss: 1.6013e-07\n",
            "Epoch 30/50\n",
            "\u001b[1m2164/2164\u001b[0m \u001b[32m━━━━━━━━━━━━━━━━━━━━\u001b[0m\u001b[37m\u001b[0m \u001b[1m13s\u001b[0m 6ms/step - loss: 1.4127e-07 - val_loss: 2.9831e-07\n",
            "Epoch 31/50\n",
            "\u001b[1m2164/2164\u001b[0m \u001b[32m━━━━━━━━━━━━━━━━━━━━\u001b[0m\u001b[37m\u001b[0m \u001b[1m22s\u001b[0m 7ms/step - loss: 1.5572e-07 - val_loss: 2.8441e-07\n",
            "Epoch 32/50\n",
            "\u001b[1m2164/2164\u001b[0m \u001b[32m━━━━━━━━━━━━━━━━━━━━\u001b[0m\u001b[37m\u001b[0m \u001b[1m19s\u001b[0m 6ms/step - loss: 1.4305e-07 - val_loss: 1.4428e-07\n",
            "Epoch 33/50\n",
            "\u001b[1m2164/2164\u001b[0m \u001b[32m━━━━━━━━━━━━━━━━━━━━\u001b[0m\u001b[37m\u001b[0m \u001b[1m21s\u001b[0m 6ms/step - loss: 1.3771e-07 - val_loss: 1.7419e-07\n",
            "Epoch 34/50\n",
            "\u001b[1m2164/2164\u001b[0m \u001b[32m━━━━━━━━━━━━━━━━━━━━\u001b[0m\u001b[37m\u001b[0m \u001b[1m20s\u001b[0m 6ms/step - loss: 1.4531e-07 - val_loss: 2.9127e-07\n",
            "Epoch 35/50\n",
            "\u001b[1m2164/2164\u001b[0m \u001b[32m━━━━━━━━━━━━━━━━━━━━\u001b[0m\u001b[37m\u001b[0m \u001b[1m20s\u001b[0m 6ms/step - loss: 1.2233e-07 - val_loss: 1.2889e-07\n",
            "Epoch 36/50\n",
            "\u001b[1m2164/2164\u001b[0m \u001b[32m━━━━━━━━━━━━━━━━━━━━\u001b[0m\u001b[37m\u001b[0m \u001b[1m21s\u001b[0m 6ms/step - loss: 1.3969e-07 - val_loss: 6.6384e-08\n",
            "Epoch 37/50\n",
            "\u001b[1m2164/2164\u001b[0m \u001b[32m━━━━━━━━━━━━━━━━━━━━\u001b[0m\u001b[37m\u001b[0m \u001b[1m22s\u001b[0m 6ms/step - loss: 1.1955e-07 - val_loss: 3.8796e-08\n",
            "Epoch 38/50\n",
            "\u001b[1m2164/2164\u001b[0m \u001b[32m━━━━━━━━━━━━━━━━━━━━\u001b[0m\u001b[37m\u001b[0m \u001b[1m19s\u001b[0m 6ms/step - loss: 1.1270e-07 - val_loss: 1.0702e-07\n",
            "Epoch 39/50\n",
            "\u001b[1m2164/2164\u001b[0m \u001b[32m━━━━━━━━━━━━━━━━━━━━\u001b[0m\u001b[37m\u001b[0m \u001b[1m20s\u001b[0m 6ms/step - loss: 1.3006e-07 - val_loss: 4.3048e-08\n",
            "Epoch 40/50\n",
            "\u001b[1m2164/2164\u001b[0m \u001b[32m━━━━━━━━━━━━━━━━━━━━\u001b[0m\u001b[37m\u001b[0m \u001b[1m20s\u001b[0m 6ms/step - loss: 1.2202e-07 - val_loss: 1.4681e-07\n",
            "Epoch 41/50\n",
            "\u001b[1m2164/2164\u001b[0m \u001b[32m━━━━━━━━━━━━━━━━━━━━\u001b[0m\u001b[37m\u001b[0m \u001b[1m21s\u001b[0m 6ms/step - loss: 1.6005e-07 - val_loss: 4.7960e-08\n",
            "Epoch 42/50\n",
            "\u001b[1m2164/2164\u001b[0m \u001b[32m━━━━━━━━━━━━━━━━━━━━\u001b[0m\u001b[37m\u001b[0m \u001b[1m13s\u001b[0m 6ms/step - loss: 1.0928e-07 - val_loss: 2.4711e-08\n",
            "Epoch 43/50\n",
            "\u001b[1m2164/2164\u001b[0m \u001b[32m━━━━━━━━━━━━━━━━━━━━\u001b[0m\u001b[37m\u001b[0m \u001b[1m20s\u001b[0m 6ms/step - loss: 9.8923e-08 - val_loss: 5.2827e-08\n",
            "Epoch 44/50\n",
            "\u001b[1m2164/2164\u001b[0m \u001b[32m━━━━━━━━━━━━━━━━━━━━\u001b[0m\u001b[37m\u001b[0m \u001b[1m14s\u001b[0m 7ms/step - loss: 1.9198e-07 - val_loss: 9.4890e-08\n",
            "Epoch 45/50\n",
            "\u001b[1m2164/2164\u001b[0m \u001b[32m━━━━━━━━━━━━━━━━━━━━\u001b[0m\u001b[37m\u001b[0m \u001b[1m14s\u001b[0m 7ms/step - loss: 1.5607e-07 - val_loss: 4.1277e-08\n",
            "Epoch 46/50\n",
            "\u001b[1m2164/2164\u001b[0m \u001b[32m━━━━━━━━━━━━━━━━━━━━\u001b[0m\u001b[37m\u001b[0m \u001b[1m19s\u001b[0m 6ms/step - loss: 8.7090e-08 - val_loss: 1.0081e-06\n",
            "Epoch 47/50\n",
            "\u001b[1m2164/2164\u001b[0m \u001b[32m━━━━━━━━━━━━━━━━━━━━\u001b[0m\u001b[37m\u001b[0m \u001b[1m20s\u001b[0m 6ms/step - loss: 2.0754e-07 - val_loss: 2.9608e-08\n",
            "Epoch 48/50\n",
            "\u001b[1m2164/2164\u001b[0m \u001b[32m━━━━━━━━━━━━━━━━━━━━\u001b[0m\u001b[37m\u001b[0m \u001b[1m22s\u001b[0m 7ms/step - loss: 1.1097e-07 - val_loss: 2.2183e-07\n",
            "Epoch 49/50\n",
            "\u001b[1m2164/2164\u001b[0m \u001b[32m━━━━━━━━━━━━━━━━━━━━\u001b[0m\u001b[37m\u001b[0m \u001b[1m19s\u001b[0m 6ms/step - loss: 9.0576e-08 - val_loss: 1.0611e-07\n",
            "Epoch 50/50\n",
            "\u001b[1m2164/2164\u001b[0m \u001b[32m━━━━━━━━━━━━━━━━━━━━\u001b[0m\u001b[37m\u001b[0m \u001b[1m13s\u001b[0m 6ms/step - loss: 1.0044e-07 - val_loss: 2.8147e-08\n"
          ]
        },
        {
          "output_type": "stream",
          "name": "stderr",
          "text": [
            "WARNING:absl:You are saving your model as an HDF5 file via `model.save()` or `keras.saving.save_model(model)`. This file format is considered legacy. We recommend using instead the native Keras format, e.g. `model.save('my_model.keras')` or `keras.saving.save_model(model, 'my_model.keras')`. \n"
          ]
        }
      ]
    },
    {
      "cell_type": "markdown",
      "source": [
        "Save and Load the model"
      ],
      "metadata": {
        "id": "JT652WvbOwZ5"
      }
    },
    {
      "cell_type": "code",
      "source": [
        "import tensorflow as tf\n",
        "\n",
        "# Define the loss function explicitly\n",
        "pid_model = tf.keras.models.load_model(\n",
        "    \"/content/drive/MyDrive/GP PID/opt_pid_tuning_model_2.h5\",\n",
        "    custom_objects={'mse': tf.keras.losses.MeanSquaredError()}\n",
        ")\n",
        "\n",
        "# Print model summary to confirm it's loaded\n",
        "pid_model.summary()\n",
        "import tensorflow as tf\n",
        "\n",
        "# Load the model with safe mode\n",
        "pid_model = tf.keras.models.load_model(\"/content/drive/MyDrive/GP PID/opt_pid_tuning_model_2.h5\", compile=False)\n",
        "\n",
        "# Compile again with correct loss\n",
        "pid_model.compile(optimizer='adam', loss=tf.keras.losses.MeanSquaredError())\n"
      ],
      "metadata": {
        "colab": {
          "base_uri": "https://localhost:8080/",
          "height": 290
        },
        "id": "JElRY2mU9iYV",
        "outputId": "70af6de0-a523-4281-b000-5c61681b0e68"
      },
      "execution_count": 30,
      "outputs": [
        {
          "output_type": "stream",
          "name": "stderr",
          "text": [
            "WARNING:absl:Compiled the loaded model, but the compiled metrics have yet to be built. `model.compile_metrics` will be empty until you train or evaluate the model.\n"
          ]
        },
        {
          "output_type": "display_data",
          "data": {
            "text/plain": [
              "\u001b[1mModel: \"functional\"\u001b[0m\n"
            ],
            "text/html": [
              "<pre style=\"white-space:pre;overflow-x:auto;line-height:normal;font-family:Menlo,'DejaVu Sans Mono',consolas,'Courier New',monospace\"><span style=\"font-weight: bold\">Model: \"functional\"</span>\n",
              "</pre>\n"
            ]
          },
          "metadata": {}
        },
        {
          "output_type": "display_data",
          "data": {
            "text/plain": [
              "┏━━━━━━━━━━━━━━━━━━━━━━━━━━━━━━━━━━━━━━┳━━━━━━━━━━━━━━━━━━━━━━━━━━━━━┳━━━━━━━━━━━━━━━━━┓\n",
              "┃\u001b[1m \u001b[0m\u001b[1mLayer (type)                        \u001b[0m\u001b[1m \u001b[0m┃\u001b[1m \u001b[0m\u001b[1mOutput Shape               \u001b[0m\u001b[1m \u001b[0m┃\u001b[1m \u001b[0m\u001b[1m        Param #\u001b[0m\u001b[1m \u001b[0m┃\n",
              "┡━━━━━━━━━━━━━━━━━━━━━━━━━━━━━━━━━━━━━━╇━━━━━━━━━━━━━━━━━━━━━━━━━━━━━╇━━━━━━━━━━━━━━━━━┩\n",
              "│ input_layer (\u001b[38;5;33mInputLayer\u001b[0m)             │ (\u001b[38;5;45mNone\u001b[0m, \u001b[38;5;34m5\u001b[0m, \u001b[38;5;34m1\u001b[0m)                │               \u001b[38;5;34m0\u001b[0m │\n",
              "├──────────────────────────────────────┼─────────────────────────────┼─────────────────┤\n",
              "│ lstm (\u001b[38;5;33mLSTM\u001b[0m)                          │ (\u001b[38;5;45mNone\u001b[0m, \u001b[38;5;34m5\u001b[0m, \u001b[38;5;34m64\u001b[0m)               │          \u001b[38;5;34m16,896\u001b[0m │\n",
              "├──────────────────────────────────────┼─────────────────────────────┼─────────────────┤\n",
              "│ lstm_1 (\u001b[38;5;33mLSTM\u001b[0m)                        │ (\u001b[38;5;45mNone\u001b[0m, \u001b[38;5;34m32\u001b[0m)                  │          \u001b[38;5;34m12,416\u001b[0m │\n",
              "├──────────────────────────────────────┼─────────────────────────────┼─────────────────┤\n",
              "│ dense (\u001b[38;5;33mDense\u001b[0m)                        │ (\u001b[38;5;45mNone\u001b[0m, \u001b[38;5;34m3\u001b[0m)                   │              \u001b[38;5;34m99\u001b[0m │\n",
              "└──────────────────────────────────────┴─────────────────────────────┴─────────────────┘\n"
            ],
            "text/html": [
              "<pre style=\"white-space:pre;overflow-x:auto;line-height:normal;font-family:Menlo,'DejaVu Sans Mono',consolas,'Courier New',monospace\">┏━━━━━━━━━━━━━━━━━━━━━━━━━━━━━━━━━━━━━━┳━━━━━━━━━━━━━━━━━━━━━━━━━━━━━┳━━━━━━━━━━━━━━━━━┓\n",
              "┃<span style=\"font-weight: bold\"> Layer (type)                         </span>┃<span style=\"font-weight: bold\"> Output Shape                </span>┃<span style=\"font-weight: bold\">         Param # </span>┃\n",
              "┡━━━━━━━━━━━━━━━━━━━━━━━━━━━━━━━━━━━━━━╇━━━━━━━━━━━━━━━━━━━━━━━━━━━━━╇━━━━━━━━━━━━━━━━━┩\n",
              "│ input_layer (<span style=\"color: #0087ff; text-decoration-color: #0087ff\">InputLayer</span>)             │ (<span style=\"color: #00d7ff; text-decoration-color: #00d7ff\">None</span>, <span style=\"color: #00af00; text-decoration-color: #00af00\">5</span>, <span style=\"color: #00af00; text-decoration-color: #00af00\">1</span>)                │               <span style=\"color: #00af00; text-decoration-color: #00af00\">0</span> │\n",
              "├──────────────────────────────────────┼─────────────────────────────┼─────────────────┤\n",
              "│ lstm (<span style=\"color: #0087ff; text-decoration-color: #0087ff\">LSTM</span>)                          │ (<span style=\"color: #00d7ff; text-decoration-color: #00d7ff\">None</span>, <span style=\"color: #00af00; text-decoration-color: #00af00\">5</span>, <span style=\"color: #00af00; text-decoration-color: #00af00\">64</span>)               │          <span style=\"color: #00af00; text-decoration-color: #00af00\">16,896</span> │\n",
              "├──────────────────────────────────────┼─────────────────────────────┼─────────────────┤\n",
              "│ lstm_1 (<span style=\"color: #0087ff; text-decoration-color: #0087ff\">LSTM</span>)                        │ (<span style=\"color: #00d7ff; text-decoration-color: #00d7ff\">None</span>, <span style=\"color: #00af00; text-decoration-color: #00af00\">32</span>)                  │          <span style=\"color: #00af00; text-decoration-color: #00af00\">12,416</span> │\n",
              "├──────────────────────────────────────┼─────────────────────────────┼─────────────────┤\n",
              "│ dense (<span style=\"color: #0087ff; text-decoration-color: #0087ff\">Dense</span>)                        │ (<span style=\"color: #00d7ff; text-decoration-color: #00d7ff\">None</span>, <span style=\"color: #00af00; text-decoration-color: #00af00\">3</span>)                   │              <span style=\"color: #00af00; text-decoration-color: #00af00\">99</span> │\n",
              "└──────────────────────────────────────┴─────────────────────────────┴─────────────────┘\n",
              "</pre>\n"
            ]
          },
          "metadata": {}
        },
        {
          "output_type": "display_data",
          "data": {
            "text/plain": [
              "\u001b[1m Total params: \u001b[0m\u001b[38;5;34m29,413\u001b[0m (114.90 KB)\n"
            ],
            "text/html": [
              "<pre style=\"white-space:pre;overflow-x:auto;line-height:normal;font-family:Menlo,'DejaVu Sans Mono',consolas,'Courier New',monospace\"><span style=\"font-weight: bold\"> Total params: </span><span style=\"color: #00af00; text-decoration-color: #00af00\">29,413</span> (114.90 KB)\n",
              "</pre>\n"
            ]
          },
          "metadata": {}
        },
        {
          "output_type": "display_data",
          "data": {
            "text/plain": [
              "\u001b[1m Trainable params: \u001b[0m\u001b[38;5;34m29,411\u001b[0m (114.89 KB)\n"
            ],
            "text/html": [
              "<pre style=\"white-space:pre;overflow-x:auto;line-height:normal;font-family:Menlo,'DejaVu Sans Mono',consolas,'Courier New',monospace\"><span style=\"font-weight: bold\"> Trainable params: </span><span style=\"color: #00af00; text-decoration-color: #00af00\">29,411</span> (114.89 KB)\n",
              "</pre>\n"
            ]
          },
          "metadata": {}
        },
        {
          "output_type": "display_data",
          "data": {
            "text/plain": [
              "\u001b[1m Non-trainable params: \u001b[0m\u001b[38;5;34m0\u001b[0m (0.00 B)\n"
            ],
            "text/html": [
              "<pre style=\"white-space:pre;overflow-x:auto;line-height:normal;font-family:Menlo,'DejaVu Sans Mono',consolas,'Courier New',monospace\"><span style=\"font-weight: bold\"> Non-trainable params: </span><span style=\"color: #00af00; text-decoration-color: #00af00\">0</span> (0.00 B)\n",
              "</pre>\n"
            ]
          },
          "metadata": {}
        },
        {
          "output_type": "display_data",
          "data": {
            "text/plain": [
              "\u001b[1m Optimizer params: \u001b[0m\u001b[38;5;34m2\u001b[0m (12.00 B)\n"
            ],
            "text/html": [
              "<pre style=\"white-space:pre;overflow-x:auto;line-height:normal;font-family:Menlo,'DejaVu Sans Mono',consolas,'Courier New',monospace\"><span style=\"font-weight: bold\"> Optimizer params: </span><span style=\"color: #00af00; text-decoration-color: #00af00\">2</span> (12.00 B)\n",
              "</pre>\n"
            ]
          },
          "metadata": {}
        }
      ]
    },
    {
      "cell_type": "markdown",
      "source": [
        "\n",
        "\n",
        "```\n",
        "# This is formatted as code\n",
        "```\n",
        "\n",
        "Load pid model"
      ],
      "metadata": {
        "id": "WkpTH9w_O0Vl"
      }
    },
    {
      "cell_type": "code",
      "source": [
        "# pid_model = tf.keras.models.load_model(\"/content/drive/MyDrive/GP PID/opt_pid_tuning_model.h5\", compile=False)"
      ],
      "metadata": {
        "id": "WjKBX5e0LUdX"
      },
      "execution_count": null,
      "outputs": []
    },
    {
      "cell_type": "code",
      "source": [
        "#test\n",
        "pid_gains = pid_model.predict(X_pid_test)"
      ],
      "metadata": {
        "id": "rquT8MX4LR6f"
      },
      "execution_count": null,
      "outputs": []
    },
    {
      "cell_type": "markdown",
      "source": [
        "Test the model"
      ],
      "metadata": {
        "id": "QrghY1T_O8Kf"
      }
    },
    {
      "cell_type": "code",
      "source": [
        "# Test the model\n",
        "\n",
        "num_samples = 50  # Number of test cases to evaluate\n",
        "\n",
        "for i in range(num_samples):\n",
        "    print(f\"\\nSample {i+1}:\")\n",
        "\n",
        "    # Get the actual glucose value from the test dataset (assuming it's part of X_pid_test)\n",
        "    glucose_level = X_pid_test[i][0]  # Assuming glucose is the first feature in the input sequence\n",
        "\n",
        "    # Get the corresponding timestamp from test_df\n",
        "    timestamp = test_df['timestamp'].iloc[i]  # 'timestamp' should be in the DataFrame after parsing\n",
        "\n",
        "    # Weight of the patient\n",
        "    weight = test_df['weight'].iloc[i]\n",
        "\n",
        "    # Calculate Basal Insulin Dosage:\n",
        "    basal_rate_per_kg = 0.5  # Adjust this according to patient-specific needs\n",
        "\n",
        "    # Total Daily Insulin (TDI) requirement (approximation)\n",
        "    TDI = basal_rate_per_kg * weight  # Total daily insulin in units (for basal)\n",
        "\n",
        "    # Basal Insulin is typically 50% of TDI for basal rate\n",
        "    basal_insulin_dosage = 0.5 * TDI  # Total daily basal insulin\n",
        "\n",
        "    # Hourly basal rate (divide by 24 to get hourly insulin)\n",
        "    hourly_basal_rate = basal_insulin_dosage / 24  # Units per hour for basal insulin\n",
        "\n",
        "    # Real-time Adjustment: Adjust insulin more significantly if glucose is above target\n",
        "    target_glucose = 110  # mg/dL (target glucose level)\n",
        "\n",
        "    if glucose_level > target_glucose:\n",
        "        # Increase basal insulin more substantially as glucose increases\n",
        "        adjustment_factor = (glucose_level - target_glucose) / 100  # Adjust based on glucose deviation\n",
        "        adjusted_basal_rate = hourly_basal_rate + adjustment_factor\n",
        "    elif glucose_level < target_glucose:\n",
        "        # If glucose is below target, decrease basal insulin by a smaller factor\n",
        "        adjustment_factor = (target_glucose - glucose_level) / 100\n",
        "        adjusted_basal_rate = hourly_basal_rate - adjustment_factor\n",
        "    else:\n",
        "        # If glucose is at target, keep basal insulin as is\n",
        "        adjusted_basal_rate = hourly_basal_rate\n",
        "\n",
        "    # **Apply basal rate limits**:\n",
        "    min_basal_rate = 0.3  # Minimum safe basal rate in units per hour\n",
        "    max_basal_rate = 1.5  # Maximum safe basal rate in units per hour\n",
        "\n",
        "    # Ensure the adjusted basal rate is within the defined limits\n",
        "    adjusted_basal_rate = max(min_basal_rate, min(adjusted_basal_rate, max_basal_rate))\n",
        "\n",
        "    # Print results\n",
        "    print(f\"Timestamp: {timestamp}\")\n",
        "    print(f\"Glucose: {glucose_level:.2f} mg/dL\")\n",
        "    print(f\"Adjusted Hourly Basal Insulin: {adjusted_basal_rate:.2f} U per hour\")\n",
        "    print(f\"Weight: {weight} kg\")\n",
        "\n",
        "    print(\"-\" * 50)\n"
      ],
      "metadata": {
        "id": "Ip50JAbrLRud",
        "outputId": "c4f43f90-ea3d-4e03-e88b-6edd0f91ebcb",
        "colab": {
          "base_uri": "https://localhost:8080/"
        }
      },
      "execution_count": 31,
      "outputs": [
        {
          "output_type": "stream",
          "name": "stdout",
          "text": [
            "\n",
            "Sample 1:\n",
            "Timestamp: 2022-01-18 00:01:00\n",
            "Glucose: 69.00 mg/dL\n",
            "Adjusted Hourly Basal Insulin: 0.62 U per hour\n",
            "Weight: 99.0 kg\n",
            "--------------------------------------------------\n",
            "\n",
            "Sample 2:\n",
            "Timestamp: 2022-01-18 00:06:00\n",
            "Glucose: 73.00 mg/dL\n",
            "Adjusted Hourly Basal Insulin: 0.66 U per hour\n",
            "Weight: 99.0 kg\n",
            "--------------------------------------------------\n",
            "\n",
            "Sample 3:\n",
            "Timestamp: 2022-01-18 00:11:00\n",
            "Glucose: 77.00 mg/dL\n",
            "Adjusted Hourly Basal Insulin: 0.70 U per hour\n",
            "Weight: 99.0 kg\n",
            "--------------------------------------------------\n",
            "\n",
            "Sample 4:\n",
            "Timestamp: 2022-01-18 00:16:00\n",
            "Glucose: 81.00 mg/dL\n",
            "Adjusted Hourly Basal Insulin: 0.74 U per hour\n",
            "Weight: 99.0 kg\n",
            "--------------------------------------------------\n",
            "\n",
            "Sample 5:\n",
            "Timestamp: 2022-01-18 00:21:00\n",
            "Glucose: 85.00 mg/dL\n",
            "Adjusted Hourly Basal Insulin: 0.78 U per hour\n",
            "Weight: 99.0 kg\n",
            "--------------------------------------------------\n",
            "\n",
            "Sample 6:\n",
            "Timestamp: 2022-01-18 00:26:00\n",
            "Glucose: 89.00 mg/dL\n",
            "Adjusted Hourly Basal Insulin: 0.82 U per hour\n",
            "Weight: 99.0 kg\n",
            "--------------------------------------------------\n",
            "\n",
            "Sample 7:\n",
            "Timestamp: 2022-01-18 00:31:00\n",
            "Glucose: 94.00 mg/dL\n",
            "Adjusted Hourly Basal Insulin: 0.87 U per hour\n",
            "Weight: 99.0 kg\n",
            "--------------------------------------------------\n",
            "\n",
            "Sample 8:\n",
            "Timestamp: 2022-01-18 00:36:00\n",
            "Glucose: 99.00 mg/dL\n",
            "Adjusted Hourly Basal Insulin: 0.92 U per hour\n",
            "Weight: 99.0 kg\n",
            "--------------------------------------------------\n",
            "\n",
            "Sample 9:\n",
            "Timestamp: 2022-01-18 00:41:00\n",
            "Glucose: 101.00 mg/dL\n",
            "Adjusted Hourly Basal Insulin: 0.94 U per hour\n",
            "Weight: 99.0 kg\n",
            "--------------------------------------------------\n",
            "\n",
            "Sample 10:\n",
            "Timestamp: 2022-01-18 00:46:00\n",
            "Glucose: 101.00 mg/dL\n",
            "Adjusted Hourly Basal Insulin: 0.94 U per hour\n",
            "Weight: 99.0 kg\n",
            "--------------------------------------------------\n",
            "\n",
            "Sample 11:\n",
            "Timestamp: 2022-01-18 00:51:00\n",
            "Glucose: 101.00 mg/dL\n",
            "Adjusted Hourly Basal Insulin: 0.94 U per hour\n",
            "Weight: 99.0 kg\n",
            "--------------------------------------------------\n",
            "\n",
            "Sample 12:\n",
            "Timestamp: 2022-01-18 00:56:00\n",
            "Glucose: 105.00 mg/dL\n",
            "Adjusted Hourly Basal Insulin: 0.98 U per hour\n",
            "Weight: 99.0 kg\n",
            "--------------------------------------------------\n",
            "\n",
            "Sample 13:\n",
            "Timestamp: 2022-01-18 01:01:00\n",
            "Glucose: 115.00 mg/dL\n",
            "Adjusted Hourly Basal Insulin: 1.08 U per hour\n",
            "Weight: 99.0 kg\n",
            "--------------------------------------------------\n",
            "\n",
            "Sample 14:\n",
            "Timestamp: 2022-01-18 01:06:00\n",
            "Glucose: 123.00 mg/dL\n",
            "Adjusted Hourly Basal Insulin: 1.16 U per hour\n",
            "Weight: 99.0 kg\n",
            "--------------------------------------------------\n",
            "\n",
            "Sample 15:\n",
            "Timestamp: 2022-01-18 01:11:00\n",
            "Glucose: 127.00 mg/dL\n",
            "Adjusted Hourly Basal Insulin: 1.20 U per hour\n",
            "Weight: 99.0 kg\n",
            "--------------------------------------------------\n",
            "\n",
            "Sample 16:\n",
            "Timestamp: 2022-01-18 01:16:00\n",
            "Glucose: 131.00 mg/dL\n",
            "Adjusted Hourly Basal Insulin: 1.24 U per hour\n",
            "Weight: 99.0 kg\n",
            "--------------------------------------------------\n",
            "\n",
            "Sample 17:\n",
            "Timestamp: 2022-01-18 01:21:00\n",
            "Glucose: 136.00 mg/dL\n",
            "Adjusted Hourly Basal Insulin: 1.29 U per hour\n",
            "Weight: 99.0 kg\n",
            "--------------------------------------------------\n",
            "\n",
            "Sample 18:\n",
            "Timestamp: 2022-01-18 01:26:00\n",
            "Glucose: 138.00 mg/dL\n",
            "Adjusted Hourly Basal Insulin: 1.31 U per hour\n",
            "Weight: 99.0 kg\n",
            "--------------------------------------------------\n",
            "\n",
            "Sample 19:\n",
            "Timestamp: 2022-01-18 01:31:00\n",
            "Glucose: 140.00 mg/dL\n",
            "Adjusted Hourly Basal Insulin: 1.33 U per hour\n",
            "Weight: 99.0 kg\n",
            "--------------------------------------------------\n",
            "\n",
            "Sample 20:\n",
            "Timestamp: 2022-01-18 01:36:00\n",
            "Glucose: 142.00 mg/dL\n",
            "Adjusted Hourly Basal Insulin: 1.35 U per hour\n",
            "Weight: 99.0 kg\n",
            "--------------------------------------------------\n",
            "\n",
            "Sample 21:\n",
            "Timestamp: 2022-01-18 01:41:00\n",
            "Glucose: 146.00 mg/dL\n",
            "Adjusted Hourly Basal Insulin: 1.39 U per hour\n",
            "Weight: 99.0 kg\n",
            "--------------------------------------------------\n",
            "\n",
            "Sample 22:\n",
            "Timestamp: 2022-01-18 01:46:00\n",
            "Glucose: 149.00 mg/dL\n",
            "Adjusted Hourly Basal Insulin: 1.42 U per hour\n",
            "Weight: 99.0 kg\n",
            "--------------------------------------------------\n",
            "\n",
            "Sample 23:\n",
            "Timestamp: 2022-01-18 01:51:00\n",
            "Glucose: 152.00 mg/dL\n",
            "Adjusted Hourly Basal Insulin: 1.45 U per hour\n",
            "Weight: 99.0 kg\n",
            "--------------------------------------------------\n",
            "\n",
            "Sample 24:\n",
            "Timestamp: 2022-01-18 01:56:00\n",
            "Glucose: 156.00 mg/dL\n",
            "Adjusted Hourly Basal Insulin: 1.49 U per hour\n",
            "Weight: 99.0 kg\n",
            "--------------------------------------------------\n",
            "\n",
            "Sample 25:\n",
            "Timestamp: 2022-01-18 02:01:00\n",
            "Glucose: 159.00 mg/dL\n",
            "Adjusted Hourly Basal Insulin: 1.50 U per hour\n",
            "Weight: 99.0 kg\n",
            "--------------------------------------------------\n",
            "\n",
            "Sample 26:\n",
            "Timestamp: 2022-01-18 02:06:00\n",
            "Glucose: 162.00 mg/dL\n",
            "Adjusted Hourly Basal Insulin: 1.50 U per hour\n",
            "Weight: 99.0 kg\n",
            "--------------------------------------------------\n",
            "\n",
            "Sample 27:\n",
            "Timestamp: 2022-01-18 02:11:00\n",
            "Glucose: 165.00 mg/dL\n",
            "Adjusted Hourly Basal Insulin: 1.50 U per hour\n",
            "Weight: 99.0 kg\n",
            "--------------------------------------------------\n",
            "\n",
            "Sample 28:\n",
            "Timestamp: 2022-01-18 02:16:00\n",
            "Glucose: 169.00 mg/dL\n",
            "Adjusted Hourly Basal Insulin: 1.50 U per hour\n",
            "Weight: 99.0 kg\n",
            "--------------------------------------------------\n",
            "\n",
            "Sample 29:\n",
            "Timestamp: 2022-01-18 02:21:00\n",
            "Glucose: 171.00 mg/dL\n",
            "Adjusted Hourly Basal Insulin: 1.50 U per hour\n",
            "Weight: 99.0 kg\n",
            "--------------------------------------------------\n",
            "\n",
            "Sample 30:\n",
            "Timestamp: 2022-01-18 02:26:00\n",
            "Glucose: 173.00 mg/dL\n",
            "Adjusted Hourly Basal Insulin: 1.50 U per hour\n",
            "Weight: 99.0 kg\n",
            "--------------------------------------------------\n",
            "\n",
            "Sample 31:\n",
            "Timestamp: 2022-01-18 02:31:00\n",
            "Glucose: 176.00 mg/dL\n",
            "Adjusted Hourly Basal Insulin: 1.50 U per hour\n",
            "Weight: 99.0 kg\n",
            "--------------------------------------------------\n",
            "\n",
            "Sample 32:\n",
            "Timestamp: 2022-01-18 02:36:00\n",
            "Glucose: 179.00 mg/dL\n",
            "Adjusted Hourly Basal Insulin: 1.50 U per hour\n",
            "Weight: 99.0 kg\n",
            "--------------------------------------------------\n",
            "\n",
            "Sample 33:\n",
            "Timestamp: 2022-01-18 02:41:00\n",
            "Glucose: 182.00 mg/dL\n",
            "Adjusted Hourly Basal Insulin: 1.50 U per hour\n",
            "Weight: 99.0 kg\n",
            "--------------------------------------------------\n",
            "\n",
            "Sample 34:\n",
            "Timestamp: 2022-01-18 02:46:00\n",
            "Glucose: 184.00 mg/dL\n",
            "Adjusted Hourly Basal Insulin: 1.50 U per hour\n",
            "Weight: 99.0 kg\n",
            "--------------------------------------------------\n",
            "\n",
            "Sample 35:\n",
            "Timestamp: 2022-01-18 02:51:00\n",
            "Glucose: 189.00 mg/dL\n",
            "Adjusted Hourly Basal Insulin: 1.50 U per hour\n",
            "Weight: 99.0 kg\n",
            "--------------------------------------------------\n",
            "\n",
            "Sample 36:\n",
            "Timestamp: 2022-01-18 02:56:00\n",
            "Glucose: 191.00 mg/dL\n",
            "Adjusted Hourly Basal Insulin: 1.50 U per hour\n",
            "Weight: 99.0 kg\n",
            "--------------------------------------------------\n",
            "\n",
            "Sample 37:\n",
            "Timestamp: 2022-01-18 03:01:00\n",
            "Glucose: 194.00 mg/dL\n",
            "Adjusted Hourly Basal Insulin: 1.50 U per hour\n",
            "Weight: 99.0 kg\n",
            "--------------------------------------------------\n",
            "\n",
            "Sample 38:\n",
            "Timestamp: 2022-01-18 03:06:00\n",
            "Glucose: 197.00 mg/dL\n",
            "Adjusted Hourly Basal Insulin: 1.50 U per hour\n",
            "Weight: 99.0 kg\n",
            "--------------------------------------------------\n",
            "\n",
            "Sample 39:\n",
            "Timestamp: 2022-01-18 03:11:00\n",
            "Glucose: 199.00 mg/dL\n",
            "Adjusted Hourly Basal Insulin: 1.50 U per hour\n",
            "Weight: 99.0 kg\n",
            "--------------------------------------------------\n",
            "\n",
            "Sample 40:\n",
            "Timestamp: 2022-01-18 03:16:00\n",
            "Glucose: 201.00 mg/dL\n",
            "Adjusted Hourly Basal Insulin: 1.50 U per hour\n",
            "Weight: 99.0 kg\n",
            "--------------------------------------------------\n",
            "\n",
            "Sample 41:\n",
            "Timestamp: 2022-01-18 03:21:00\n",
            "Glucose: 203.00 mg/dL\n",
            "Adjusted Hourly Basal Insulin: 1.50 U per hour\n",
            "Weight: 99.0 kg\n",
            "--------------------------------------------------\n",
            "\n",
            "Sample 42:\n",
            "Timestamp: 2022-01-18 03:26:00\n",
            "Glucose: 203.00 mg/dL\n",
            "Adjusted Hourly Basal Insulin: 1.50 U per hour\n",
            "Weight: 99.0 kg\n",
            "--------------------------------------------------\n",
            "\n",
            "Sample 43:\n",
            "Timestamp: 2022-01-18 03:31:00\n",
            "Glucose: 204.00 mg/dL\n",
            "Adjusted Hourly Basal Insulin: 1.50 U per hour\n",
            "Weight: 99.0 kg\n",
            "--------------------------------------------------\n",
            "\n",
            "Sample 44:\n",
            "Timestamp: 2022-01-18 03:36:00\n",
            "Glucose: 204.00 mg/dL\n",
            "Adjusted Hourly Basal Insulin: 1.50 U per hour\n",
            "Weight: 99.0 kg\n",
            "--------------------------------------------------\n",
            "\n",
            "Sample 45:\n",
            "Timestamp: 2022-01-18 03:41:00\n",
            "Glucose: 205.00 mg/dL\n",
            "Adjusted Hourly Basal Insulin: 1.50 U per hour\n",
            "Weight: 99.0 kg\n",
            "--------------------------------------------------\n",
            "\n",
            "Sample 46:\n",
            "Timestamp: 2022-01-18 03:46:00\n",
            "Glucose: 207.00 mg/dL\n",
            "Adjusted Hourly Basal Insulin: 1.50 U per hour\n",
            "Weight: 99.0 kg\n",
            "--------------------------------------------------\n",
            "\n",
            "Sample 47:\n",
            "Timestamp: 2022-01-18 03:51:00\n",
            "Glucose: 208.00 mg/dL\n",
            "Adjusted Hourly Basal Insulin: 1.50 U per hour\n",
            "Weight: 99.0 kg\n",
            "--------------------------------------------------\n",
            "\n",
            "Sample 48:\n",
            "Timestamp: 2022-01-18 03:56:00\n",
            "Glucose: 209.00 mg/dL\n",
            "Adjusted Hourly Basal Insulin: 1.50 U per hour\n",
            "Weight: 99.0 kg\n",
            "--------------------------------------------------\n",
            "\n",
            "Sample 49:\n",
            "Timestamp: 2022-01-18 04:01:00\n",
            "Glucose: 211.00 mg/dL\n",
            "Adjusted Hourly Basal Insulin: 1.50 U per hour\n",
            "Weight: 99.0 kg\n",
            "--------------------------------------------------\n",
            "\n",
            "Sample 50:\n",
            "Timestamp: 2022-01-18 04:06:00\n",
            "Glucose: 211.00 mg/dL\n",
            "Adjusted Hourly Basal Insulin: 1.50 U per hour\n",
            "Weight: 99.0 kg\n",
            "--------------------------------------------------\n"
          ]
        }
      ]
    },
    {
      "cell_type": "code",
      "source": [
        "print(test_df.columns)  # This will show the actual column names in your DataFrame\n"
      ],
      "metadata": {
        "colab": {
          "base_uri": "https://localhost:8080/"
        },
        "id": "baTxrPQdemN8",
        "outputId": "2b4b4018-34df-4b85-8ccf-c3d72d59262a"
      },
      "execution_count": 24,
      "outputs": [
        {
          "output_type": "stream",
          "name": "stdout",
          "text": [
            "Index(['glucose', 'weight', 'time_sin', 'time_cos'], dtype='object')\n"
          ]
        }
      ]
    }
  ]
}