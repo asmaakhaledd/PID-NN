{
  "nbformat": 4,
  "nbformat_minor": 0,
  "metadata": {
    "colab": {
      "provenance": [],
      "gpuType": "T4",
      "include_colab_link": true
    },
    "kernelspec": {
      "name": "python3",
      "display_name": "Python 3"
    },
    "language_info": {
      "name": "python"
    },
    "accelerator": "GPU"
  },
  "cells": [
    {
      "cell_type": "markdown",
      "metadata": {
        "id": "view-in-github",
        "colab_type": "text"
      },
      "source": [
        "<a href=\"https://colab.research.google.com/github/asmaakhaledd/PID-NN/blob/optimized-PID-Model/opt_of_PID_NN.ipynb\" target=\"_parent\"><img src=\"https://colab.research.google.com/assets/colab-badge.svg\" alt=\"Open In Colab\"/></a>"
      ]
    },
    {
      "cell_type": "code",
      "source": [
        "!pip install numpy pandas tensorflow control matplotlib xmltodict scikit-learn"
      ],
      "metadata": {
        "id": "OHkjmG-Yr6DM",
        "colab": {
          "base_uri": "https://localhost:8080/"
        },
        "outputId": "1992b11b-f6bc-460d-9201-148df1170370"
      },
      "execution_count": 17,
      "outputs": [
        {
          "output_type": "stream",
          "name": "stdout",
          "text": [
            "Requirement already satisfied: numpy in /usr/local/lib/python3.11/dist-packages (2.0.2)\n",
            "Requirement already satisfied: pandas in /usr/local/lib/python3.11/dist-packages (2.2.2)\n",
            "Requirement already satisfied: tensorflow in /usr/local/lib/python3.11/dist-packages (2.18.0)\n",
            "Requirement already satisfied: control in /usr/local/lib/python3.11/dist-packages (0.10.1)\n",
            "Requirement already satisfied: matplotlib in /usr/local/lib/python3.11/dist-packages (3.10.0)\n",
            "Requirement already satisfied: xmltodict in /usr/local/lib/python3.11/dist-packages (0.14.2)\n",
            "Requirement already satisfied: scikit-learn in /usr/local/lib/python3.11/dist-packages (1.6.1)\n",
            "Requirement already satisfied: python-dateutil>=2.8.2 in /usr/local/lib/python3.11/dist-packages (from pandas) (2.8.2)\n",
            "Requirement already satisfied: pytz>=2020.1 in /usr/local/lib/python3.11/dist-packages (from pandas) (2025.1)\n",
            "Requirement already satisfied: tzdata>=2022.7 in /usr/local/lib/python3.11/dist-packages (from pandas) (2025.1)\n",
            "Requirement already satisfied: absl-py>=1.0.0 in /usr/local/lib/python3.11/dist-packages (from tensorflow) (1.4.0)\n",
            "Requirement already satisfied: astunparse>=1.6.0 in /usr/local/lib/python3.11/dist-packages (from tensorflow) (1.6.3)\n",
            "Requirement already satisfied: flatbuffers>=24.3.25 in /usr/local/lib/python3.11/dist-packages (from tensorflow) (25.2.10)\n",
            "Requirement already satisfied: gast!=0.5.0,!=0.5.1,!=0.5.2,>=0.2.1 in /usr/local/lib/python3.11/dist-packages (from tensorflow) (0.6.0)\n",
            "Requirement already satisfied: google-pasta>=0.1.1 in /usr/local/lib/python3.11/dist-packages (from tensorflow) (0.2.0)\n",
            "Requirement already satisfied: libclang>=13.0.0 in /usr/local/lib/python3.11/dist-packages (from tensorflow) (18.1.1)\n",
            "Requirement already satisfied: opt-einsum>=2.3.2 in /usr/local/lib/python3.11/dist-packages (from tensorflow) (3.4.0)\n",
            "Requirement already satisfied: packaging in /usr/local/lib/python3.11/dist-packages (from tensorflow) (24.2)\n",
            "Requirement already satisfied: protobuf!=4.21.0,!=4.21.1,!=4.21.2,!=4.21.3,!=4.21.4,!=4.21.5,<6.0.0dev,>=3.20.3 in /usr/local/lib/python3.11/dist-packages (from tensorflow) (5.29.3)\n",
            "Requirement already satisfied: requests<3,>=2.21.0 in /usr/local/lib/python3.11/dist-packages (from tensorflow) (2.32.3)\n",
            "Requirement already satisfied: setuptools in /usr/local/lib/python3.11/dist-packages (from tensorflow) (75.1.0)\n",
            "Requirement already satisfied: six>=1.12.0 in /usr/local/lib/python3.11/dist-packages (from tensorflow) (1.17.0)\n",
            "Requirement already satisfied: termcolor>=1.1.0 in /usr/local/lib/python3.11/dist-packages (from tensorflow) (2.5.0)\n",
            "Requirement already satisfied: typing-extensions>=3.6.6 in /usr/local/lib/python3.11/dist-packages (from tensorflow) (4.12.2)\n",
            "Requirement already satisfied: wrapt>=1.11.0 in /usr/local/lib/python3.11/dist-packages (from tensorflow) (1.17.2)\n",
            "Requirement already satisfied: grpcio<2.0,>=1.24.3 in /usr/local/lib/python3.11/dist-packages (from tensorflow) (1.71.0)\n",
            "Requirement already satisfied: tensorboard<2.19,>=2.18 in /usr/local/lib/python3.11/dist-packages (from tensorflow) (2.18.0)\n",
            "Requirement already satisfied: keras>=3.5.0 in /usr/local/lib/python3.11/dist-packages (from tensorflow) (3.8.0)\n",
            "Requirement already satisfied: h5py>=3.11.0 in /usr/local/lib/python3.11/dist-packages (from tensorflow) (3.13.0)\n",
            "Requirement already satisfied: ml-dtypes<0.5.0,>=0.4.0 in /usr/local/lib/python3.11/dist-packages (from tensorflow) (0.4.1)\n",
            "Requirement already satisfied: tensorflow-io-gcs-filesystem>=0.23.1 in /usr/local/lib/python3.11/dist-packages (from tensorflow) (0.37.1)\n",
            "Requirement already satisfied: scipy>=1.8 in /usr/local/lib/python3.11/dist-packages (from control) (1.14.1)\n",
            "Requirement already satisfied: contourpy>=1.0.1 in /usr/local/lib/python3.11/dist-packages (from matplotlib) (1.3.1)\n",
            "Requirement already satisfied: cycler>=0.10 in /usr/local/lib/python3.11/dist-packages (from matplotlib) (0.12.1)\n",
            "Requirement already satisfied: fonttools>=4.22.0 in /usr/local/lib/python3.11/dist-packages (from matplotlib) (4.56.0)\n",
            "Requirement already satisfied: kiwisolver>=1.3.1 in /usr/local/lib/python3.11/dist-packages (from matplotlib) (1.4.8)\n",
            "Requirement already satisfied: pillow>=8 in /usr/local/lib/python3.11/dist-packages (from matplotlib) (11.1.0)\n",
            "Requirement already satisfied: pyparsing>=2.3.1 in /usr/local/lib/python3.11/dist-packages (from matplotlib) (3.2.1)\n",
            "Requirement already satisfied: joblib>=1.2.0 in /usr/local/lib/python3.11/dist-packages (from scikit-learn) (1.4.2)\n",
            "Requirement already satisfied: threadpoolctl>=3.1.0 in /usr/local/lib/python3.11/dist-packages (from scikit-learn) (3.6.0)\n",
            "Requirement already satisfied: wheel<1.0,>=0.23.0 in /usr/local/lib/python3.11/dist-packages (from astunparse>=1.6.0->tensorflow) (0.45.1)\n",
            "Requirement already satisfied: rich in /usr/local/lib/python3.11/dist-packages (from keras>=3.5.0->tensorflow) (13.9.4)\n",
            "Requirement already satisfied: namex in /usr/local/lib/python3.11/dist-packages (from keras>=3.5.0->tensorflow) (0.0.8)\n",
            "Requirement already satisfied: optree in /usr/local/lib/python3.11/dist-packages (from keras>=3.5.0->tensorflow) (0.14.1)\n",
            "Requirement already satisfied: charset-normalizer<4,>=2 in /usr/local/lib/python3.11/dist-packages (from requests<3,>=2.21.0->tensorflow) (3.4.1)\n",
            "Requirement already satisfied: idna<4,>=2.5 in /usr/local/lib/python3.11/dist-packages (from requests<3,>=2.21.0->tensorflow) (3.10)\n",
            "Requirement already satisfied: urllib3<3,>=1.21.1 in /usr/local/lib/python3.11/dist-packages (from requests<3,>=2.21.0->tensorflow) (2.3.0)\n",
            "Requirement already satisfied: certifi>=2017.4.17 in /usr/local/lib/python3.11/dist-packages (from requests<3,>=2.21.0->tensorflow) (2025.1.31)\n",
            "Requirement already satisfied: markdown>=2.6.8 in /usr/local/lib/python3.11/dist-packages (from tensorboard<2.19,>=2.18->tensorflow) (3.7)\n",
            "Requirement already satisfied: tensorboard-data-server<0.8.0,>=0.7.0 in /usr/local/lib/python3.11/dist-packages (from tensorboard<2.19,>=2.18->tensorflow) (0.7.2)\n",
            "Requirement already satisfied: werkzeug>=1.0.1 in /usr/local/lib/python3.11/dist-packages (from tensorboard<2.19,>=2.18->tensorflow) (3.1.3)\n",
            "Requirement already satisfied: MarkupSafe>=2.1.1 in /usr/local/lib/python3.11/dist-packages (from werkzeug>=1.0.1->tensorboard<2.19,>=2.18->tensorflow) (3.0.2)\n",
            "Requirement already satisfied: markdown-it-py>=2.2.0 in /usr/local/lib/python3.11/dist-packages (from rich->keras>=3.5.0->tensorflow) (3.0.0)\n",
            "Requirement already satisfied: pygments<3.0.0,>=2.13.0 in /usr/local/lib/python3.11/dist-packages (from rich->keras>=3.5.0->tensorflow) (2.18.0)\n",
            "Requirement already satisfied: mdurl~=0.1 in /usr/local/lib/python3.11/dist-packages (from markdown-it-py>=2.2.0->rich->keras>=3.5.0->tensorflow) (0.1.2)\n"
          ]
        }
      ]
    },
    {
      "cell_type": "code",
      "source": [
        "import os\n",
        "import glob\n",
        "import xml.etree.ElementTree as ET\n",
        "import pandas as pd\n",
        "import numpy as np\n",
        "import tensorflow as tf\n",
        "from tensorflow.keras.models import Sequential, Model\n",
        "from tensorflow.keras.layers import LSTM, Dense, Input\n",
        "import matplotlib.pyplot as plt\n",
        "from datetime import datetime"
      ],
      "metadata": {
        "id": "5yiToWVmiaM0"
      },
      "execution_count": 18,
      "outputs": []
    },
    {
      "cell_type": "markdown",
      "source": [
        "Load XML Data"
      ],
      "metadata": {
        "id": "0-I5K521ig8s"
      }
    },
    {
      "cell_type": "code",
      "source": [
        "#Automatically loads all XML files (5 training, 5 testing)\n",
        "train_files = sorted(glob.glob(\"/content/drive/MyDrive/GP PID/dataset/*-ws-training.xml\"))\n",
        "test_files = sorted(glob.glob(\"/content/drive/MyDrive/GP PID/dataset/*-ws-testing.xml\"))"
      ],
      "metadata": {
        "id": "KAwBZW9Lisib"
      },
      "execution_count": 35,
      "outputs": []
    },
    {
      "cell_type": "markdown",
      "source": [
        "Check Corrupted XML File"
      ],
      "metadata": {
        "id": "8P8vKnO0mqvB"
      }
    },
    {
      "cell_type": "code",
      "source": [
        "import xml.etree.ElementTree as ET\n",
        "\n",
        "for file in train_files + test_files:\n",
        "    try:\n",
        "        tree = ET.parse(file)\n",
        "        print(f\"✅ {file} is valid\")\n",
        "    except ET.ParseError as e:\n",
        "        print(f\"❌ Error in {file}: {e}\")"
      ],
      "metadata": {
        "colab": {
          "base_uri": "https://localhost:8080/"
        },
        "id": "O4bfAGvWmpU2",
        "outputId": "27bb2494-e7c4-48d2-bbc2-82ec7e4dbaa4"
      },
      "execution_count": 36,
      "outputs": [
        {
          "output_type": "stream",
          "name": "stdout",
          "text": [
            "✅ /content/drive/MyDrive/GP PID/dataset/559-ws-training.xml is valid\n",
            "✅ /content/drive/MyDrive/GP PID/dataset/563-ws-training.xml is valid\n",
            "✅ /content/drive/MyDrive/GP PID/dataset/570-ws-training.xml is valid\n",
            "✅ /content/drive/MyDrive/GP PID/dataset/575-ws-training.xml is valid\n",
            "✅ /content/drive/MyDrive/GP PID/dataset/588-ws-training.xml is valid\n",
            "✅ /content/drive/MyDrive/GP PID/dataset/591-ws-training.xml is valid\n",
            "✅ /content/drive/MyDrive/GP PID/dataset/559-ws-testing.xml is valid\n",
            "✅ /content/drive/MyDrive/GP PID/dataset/563-ws-testing.xml is valid\n",
            "✅ /content/drive/MyDrive/GP PID/dataset/570-ws-testing.xml is valid\n",
            "✅ /content/drive/MyDrive/GP PID/dataset/575-ws-testing.xml is valid\n",
            "✅ /content/drive/MyDrive/GP PID/dataset/588-ws-testing.xml is valid\n",
            "✅ /content/drive/MyDrive/GP PID/dataset/591-ws-testing.xml is valid\n"
          ]
        }
      ]
    },
    {
      "cell_type": "markdown",
      "source": [
        "Parse XML Data"
      ],
      "metadata": {
        "id": "e7lFuQycocPp"
      }
    },
    {
      "cell_type": "code",
      "source": [
        "#Extracts Time, Glucose, Insulin, and Meal intake\n",
        "#Sorts data by timestamp to maintain correct sequence order\n",
        "def parse_xml(file_path):\n",
        "    tree = ET.parse(file_path)\n",
        "    root = tree.getroot()\n",
        "    data = []\n",
        "\n",
        "    # Extract patient weight\n",
        "    weight = float(root.get('weight', 0))  # Defaults to 0 if missing\n",
        "\n",
        "    # Store all events for lookup\n",
        "    meal_events = []\n",
        "    bolus_events = []\n",
        "    basal_events = []\n",
        "\n",
        "    # Extract meal data\n",
        "    meal_node = root.find('meal')\n",
        "    if meal_node:\n",
        "        for event in meal_node.findall('event'):\n",
        "            meal_events.append({\n",
        "                'timestamp': datetime.strptime(event.get('ts'), \"%d-%m-%Y %H:%M:%S\"),\n",
        "                'carbs': float(event.get('carbs', 0))\n",
        "            })\n",
        "\n",
        "    # Extract bolus insulin data\n",
        "    bolus_node = root.find('bolus')\n",
        "    if bolus_node:\n",
        "        for event in bolus_node.findall('event'):\n",
        "            bolus_events.append({\n",
        "                'timestamp': datetime.strptime(event.get('ts_begin'), \"%d-%m-%Y %H:%M:%S\"),\n",
        "                'dose': float(event.get('dose', 0))\n",
        "            })\n",
        "\n",
        "    # Extract basal rate data\n",
        "    basal_node = root.find('basal')\n",
        "    if basal_node:\n",
        "        for event in basal_node.findall('event'):\n",
        "            basal_events.append({\n",
        "                'timestamp': datetime.strptime(event.get('ts'), \"%d-%m-%Y %H:%M:%S\"),\n",
        "                'rate': float(event.get('value', 0))\n",
        "            })\n",
        "\n",
        "    # Ensure all events are sorted by timestamp\n",
        "    meal_events.sort(key=lambda x: x['timestamp'])\n",
        "    bolus_events.sort(key=lambda x: x['timestamp'])\n",
        "    basal_events.sort(key=lambda x: x['timestamp'])\n",
        "\n",
        "    # Process glucose levels\n",
        "    for event in root.find('glucose_level'):\n",
        "        timestamp = datetime.strptime(event.get('ts'), \"%d-%m-%Y %H:%M:%S\")\n",
        "        glucose = float(event.get('value'))\n",
        "\n",
        "        # Find closest meal within 2 hours\n",
        "        meal_intake = next(\n",
        "            (m['carbs'] for m in reversed(meal_events) if (timestamp - m['timestamp']).total_seconds() <= 7200),\n",
        "            0.0\n",
        "        )\n",
        "\n",
        "        # Append extracted data\n",
        "        data.append({\n",
        "            'timestamp': timestamp,\n",
        "            'glucose': glucose,\n",
        "            'meal_carbs': meal_intake,\n",
        "            'weight': weight\n",
        "        })\n",
        "\n",
        "    df = pd.DataFrame(data)\n",
        "\n",
        "    # Debugging output\n",
        "    print(f\"Parsed {file_path}, {len(df)} records\")\n",
        "    print(df.head(10))  # Show first 10 rows for debugging\n",
        "\n",
        "    return df.sort_values('timestamp')\n",
        "\n",
        "# Load all files\n",
        "train_dfs = [parse_xml(f) for f in train_files]\n",
        "test_dfs = [parse_xml(f) for f in test_files]\n",
        "\n",
        "# Concatenate all data\n",
        "train_df = pd.concat(train_dfs, ignore_index=True)\n",
        "test_df = pd.concat(test_dfs, ignore_index=True)\n",
        "\n",
        "# Final debug prints\n",
        "print(\"\\nFinal Train DataFrame:\")\n",
        "print(train_df.head(10))\n",
        "print(\"\\nFinal Test DataFrame:\")\n",
        "print(test_df.head(10))"
      ],
      "metadata": {
        "colab": {
          "base_uri": "https://localhost:8080/"
        },
        "id": "n_gNUo6Ek4kl",
        "outputId": "90dfedd8-37ec-48c9-b076-397594d0d4f7"
      },
      "execution_count": 37,
      "outputs": [
        {
          "output_type": "stream",
          "name": "stdout",
          "text": [
            "Parsed /content/drive/MyDrive/GP PID/dataset/559-ws-training.xml, 10796 records\n",
            "            timestamp  glucose  meal_carbs  weight\n",
            "0 2021-12-07 01:17:00    101.0        40.0    99.0\n",
            "1 2021-12-07 01:22:00     98.0        40.0    99.0\n",
            "2 2021-12-07 01:27:00    104.0        40.0    99.0\n",
            "3 2021-12-07 01:32:00    112.0        40.0    99.0\n",
            "4 2021-12-07 01:37:00    120.0        40.0    99.0\n",
            "5 2021-12-07 01:42:00    127.0        40.0    99.0\n",
            "6 2021-12-07 01:47:00    135.0        40.0    99.0\n",
            "7 2021-12-07 01:52:00    142.0        40.0    99.0\n",
            "8 2021-12-07 01:57:00    140.0        40.0    99.0\n",
            "9 2021-12-07 02:02:00    145.0        40.0    99.0\n",
            "Parsed /content/drive/MyDrive/GP PID/dataset/563-ws-training.xml, 12124 records\n",
            "            timestamp  glucose  meal_carbs  weight\n",
            "0 2021-09-13 12:33:00    219.0        45.0    99.0\n",
            "1 2021-09-13 12:38:00    229.0        45.0    99.0\n",
            "2 2021-09-13 12:43:00    224.0        45.0    99.0\n",
            "3 2021-09-13 12:48:00    221.0        45.0    99.0\n",
            "4 2021-09-13 12:53:00    215.0        45.0    99.0\n",
            "5 2021-09-13 12:58:00    209.0        45.0    99.0\n",
            "6 2021-09-13 13:03:00    203.0        45.0    99.0\n",
            "7 2021-09-13 13:08:00    199.0        45.0    99.0\n",
            "8 2021-09-13 13:13:00    196.0        45.0    99.0\n",
            "9 2021-09-13 13:18:00    196.0        45.0    99.0\n",
            "Parsed /content/drive/MyDrive/GP PID/dataset/570-ws-training.xml, 10982 records\n",
            "            timestamp  glucose  meal_carbs  weight\n",
            "0 2021-12-07 16:29:00    101.0       150.0    99.0\n",
            "1 2021-12-07 16:34:00    100.0       150.0    99.0\n",
            "2 2021-12-07 16:39:00    100.0       150.0    99.0\n",
            "3 2021-12-07 16:44:00     99.0       150.0    99.0\n",
            "4 2021-12-07 16:49:00     98.0       150.0    99.0\n",
            "5 2021-12-07 16:54:00     98.0       150.0    99.0\n",
            "6 2021-12-07 16:59:00     95.0       150.0    99.0\n",
            "7 2021-12-07 17:04:00     94.0       150.0    99.0\n",
            "8 2021-12-07 17:09:00     92.0       150.0    99.0\n",
            "9 2021-12-07 17:14:00     90.0       150.0    99.0\n",
            "Parsed /content/drive/MyDrive/GP PID/dataset/575-ws-training.xml, 11866 records\n",
            "            timestamp  glucose  meal_carbs  weight\n",
            "0 2021-11-17 12:04:00    128.0        75.0    99.0\n",
            "1 2021-11-17 12:09:00    123.0        75.0    99.0\n",
            "2 2021-11-17 12:14:00    120.0        75.0    99.0\n",
            "3 2021-11-17 12:19:00    124.0        75.0    99.0\n",
            "4 2021-11-17 12:24:00    121.0        75.0    99.0\n",
            "5 2021-11-17 12:29:00    120.0        75.0    99.0\n",
            "6 2021-11-17 12:34:00    121.0        75.0    99.0\n",
            "7 2021-11-17 12:39:00    121.0        75.0    99.0\n",
            "8 2021-11-17 12:44:00    120.0        75.0    99.0\n",
            "9 2021-11-17 12:49:00    119.0        75.0    99.0\n",
            "Parsed /content/drive/MyDrive/GP PID/dataset/588-ws-training.xml, 12640 records\n",
            "            timestamp  glucose  meal_carbs  weight\n",
            "0 2021-08-30 11:53:00    116.0        14.0    99.0\n",
            "1 2021-08-30 11:58:00    117.0        14.0    99.0\n",
            "2 2021-08-30 12:03:00    119.0        14.0    99.0\n",
            "3 2021-08-30 12:08:00    116.0        14.0    99.0\n",
            "4 2021-08-30 12:13:00    111.0        14.0    99.0\n",
            "5 2021-08-30 12:18:00    110.0        14.0    99.0\n",
            "6 2021-08-30 12:23:00    111.0        14.0    99.0\n",
            "7 2021-08-30 12:28:00    113.0        14.0    99.0\n",
            "8 2021-08-30 12:33:00    114.0        14.0    99.0\n",
            "9 2021-08-30 12:38:00    117.0        14.0    99.0\n",
            "Parsed /content/drive/MyDrive/GP PID/dataset/591-ws-training.xml, 10847 records\n",
            "            timestamp  glucose  meal_carbs  weight\n",
            "0 2021-11-30 17:06:00    160.0        17.0    99.0\n",
            "1 2021-11-30 17:11:00    158.0        17.0    99.0\n",
            "2 2021-11-30 17:16:00    160.0        17.0    99.0\n",
            "3 2021-11-30 17:21:00    166.0        17.0    99.0\n",
            "4 2021-11-30 17:26:00    175.0        17.0    99.0\n",
            "5 2021-11-30 17:31:00    182.0        17.0    99.0\n",
            "6 2021-11-30 17:36:00    188.0        17.0    99.0\n",
            "7 2021-11-30 17:41:00    192.0        17.0    99.0\n",
            "8 2021-11-30 17:46:00    191.0        17.0    99.0\n",
            "9 2021-11-30 17:51:00    192.0        17.0    99.0\n",
            "Parsed /content/drive/MyDrive/GP PID/dataset/559-ws-testing.xml, 2514 records\n",
            "            timestamp  glucose  meal_carbs  weight\n",
            "0 2022-01-18 00:01:00    179.0        45.0    99.0\n",
            "1 2022-01-18 00:06:00    183.0        45.0    99.0\n",
            "2 2022-01-18 00:11:00    187.0        45.0    99.0\n",
            "3 2022-01-18 00:16:00    191.0        45.0    99.0\n",
            "4 2022-01-18 00:21:00    195.0        45.0    99.0\n",
            "5 2022-01-18 00:26:00    199.0        45.0    99.0\n",
            "6 2022-01-18 00:31:00    204.0        45.0    99.0\n",
            "7 2022-01-18 00:36:00    209.0        45.0    99.0\n",
            "8 2022-01-18 00:41:00    211.0        45.0    99.0\n",
            "9 2022-01-18 00:46:00    211.0        45.0    99.0\n",
            "Parsed /content/drive/MyDrive/GP PID/dataset/563-ws-testing.xml, 2570 records\n",
            "            timestamp  glucose  meal_carbs  weight\n",
            "0 2021-10-29 00:01:00    239.0        65.0    99.0\n",
            "1 2021-10-29 00:06:00    238.0        65.0    99.0\n",
            "2 2021-10-29 00:11:00    235.0        65.0    99.0\n",
            "3 2021-10-29 00:16:00    233.0        65.0    99.0\n",
            "4 2021-10-29 00:21:00    231.0        65.0    99.0\n",
            "5 2021-10-29 00:26:00    229.0        65.0    99.0\n",
            "6 2021-10-29 00:31:00    227.0        65.0    99.0\n",
            "7 2021-10-29 00:36:00    222.0        65.0    99.0\n",
            "8 2021-10-29 00:41:00    220.0        65.0    99.0\n",
            "9 2021-10-29 00:46:00    216.0        65.0    99.0\n",
            "Parsed /content/drive/MyDrive/GP PID/dataset/570-ws-testing.xml, 2745 records\n",
            "            timestamp  glucose  meal_carbs  weight\n",
            "0 2022-01-17 00:04:00    135.0       175.0    99.0\n",
            "1 2022-01-17 00:09:00    143.0       175.0    99.0\n",
            "2 2022-01-17 00:14:00    152.0       175.0    99.0\n",
            "3 2022-01-17 00:19:00    159.0       175.0    99.0\n",
            "4 2022-01-17 00:24:00    166.0       175.0    99.0\n",
            "5 2022-01-17 00:29:00    172.0       175.0    99.0\n",
            "6 2022-01-17 00:34:00    178.0       175.0    99.0\n",
            "7 2022-01-17 00:39:00    184.0       175.0    99.0\n",
            "8 2022-01-17 00:44:00    191.0       175.0    99.0\n",
            "9 2022-01-17 00:49:00    195.0       175.0    99.0\n",
            "Parsed /content/drive/MyDrive/GP PID/dataset/575-ws-testing.xml, 2590 records\n",
            "            timestamp  glucose  meal_carbs  weight\n",
            "0 2022-01-02 00:00:00    214.0        24.0    99.0\n",
            "1 2022-01-02 00:05:00    217.0        24.0    99.0\n",
            "2 2022-01-02 00:10:00    217.0        24.0    99.0\n",
            "3 2022-01-02 00:15:00    212.0        24.0    99.0\n",
            "4 2022-01-02 00:20:00    209.0        24.0    99.0\n",
            "5 2022-01-02 00:25:00    208.0        24.0    99.0\n",
            "6 2022-01-02 00:30:00    209.0        24.0    99.0\n",
            "7 2022-01-02 00:35:00    209.0        24.0    99.0\n",
            "8 2022-01-02 00:40:00    208.0        24.0    99.0\n",
            "9 2022-01-02 00:45:00    207.0        24.0    99.0\n",
            "Parsed /content/drive/MyDrive/GP PID/dataset/588-ws-testing.xml, 2791 records\n",
            "            timestamp  glucose  meal_carbs  weight\n",
            "0 2021-10-15 00:00:00    127.0        40.0    99.0\n",
            "1 2021-10-15 00:05:00    123.0        40.0    99.0\n",
            "2 2021-10-15 00:10:00    118.0        40.0    99.0\n",
            "3 2021-10-15 00:15:00    112.0        40.0    99.0\n",
            "4 2021-10-15 00:20:00    108.0        40.0    99.0\n",
            "5 2021-10-15 00:25:00    106.0        40.0    99.0\n",
            "6 2021-10-15 00:30:00    103.0        40.0    99.0\n",
            "7 2021-10-15 00:35:00     98.0        40.0    99.0\n",
            "8 2021-10-15 00:40:00     95.0        40.0    99.0\n",
            "9 2021-10-15 00:45:00     93.0        40.0    99.0\n",
            "Parsed /content/drive/MyDrive/GP PID/dataset/591-ws-testing.xml, 2760 records\n",
            "            timestamp  glucose  meal_carbs  weight\n",
            "0 2022-01-14 00:03:00    283.0        22.0    99.0\n",
            "1 2022-01-14 00:08:00    282.0        22.0    99.0\n",
            "2 2022-01-14 00:13:00    281.0        22.0    99.0\n",
            "3 2022-01-14 00:18:00    277.0        22.0    99.0\n",
            "4 2022-01-14 00:23:00    267.0        22.0    99.0\n",
            "5 2022-01-14 00:28:00    258.0        22.0    99.0\n",
            "6 2022-01-14 00:33:00    251.0        22.0    99.0\n",
            "7 2022-01-14 00:38:00    237.0        22.0    99.0\n",
            "8 2022-01-14 00:43:00    226.0        22.0    99.0\n",
            "9 2022-01-14 00:48:00    216.0        22.0    99.0\n",
            "\n",
            "Final Train DataFrame:\n",
            "            timestamp  glucose  meal_carbs  weight\n",
            "0 2021-12-07 01:17:00    101.0        40.0    99.0\n",
            "1 2021-12-07 01:22:00     98.0        40.0    99.0\n",
            "2 2021-12-07 01:27:00    104.0        40.0    99.0\n",
            "3 2021-12-07 01:32:00    112.0        40.0    99.0\n",
            "4 2021-12-07 01:37:00    120.0        40.0    99.0\n",
            "5 2021-12-07 01:42:00    127.0        40.0    99.0\n",
            "6 2021-12-07 01:47:00    135.0        40.0    99.0\n",
            "7 2021-12-07 01:52:00    142.0        40.0    99.0\n",
            "8 2021-12-07 01:57:00    140.0        40.0    99.0\n",
            "9 2021-12-07 02:02:00    145.0        40.0    99.0\n",
            "\n",
            "Final Test DataFrame:\n",
            "            timestamp  glucose  meal_carbs  weight\n",
            "0 2022-01-18 00:01:00    179.0        45.0    99.0\n",
            "1 2022-01-18 00:06:00    183.0        45.0    99.0\n",
            "2 2022-01-18 00:11:00    187.0        45.0    99.0\n",
            "3 2022-01-18 00:16:00    191.0        45.0    99.0\n",
            "4 2022-01-18 00:21:00    195.0        45.0    99.0\n",
            "5 2022-01-18 00:26:00    199.0        45.0    99.0\n",
            "6 2022-01-18 00:31:00    204.0        45.0    99.0\n",
            "7 2022-01-18 00:36:00    209.0        45.0    99.0\n",
            "8 2022-01-18 00:41:00    211.0        45.0    99.0\n",
            "9 2022-01-18 00:46:00    211.0        45.0    99.0\n"
          ]
        }
      ]
    },
    {
      "cell_type": "markdown",
      "source": [
        "Convert Time into Numerical Features"
      ],
      "metadata": {
        "id": "tI17lg0ui3Xm"
      }
    },
    {
      "cell_type": "code",
      "source": [
        "# Convert Time into Cyclic Features (Sin/Cos encoding)\n",
        "def preprocess_time_features(df):\n",
        "    df['hour'] = df['timestamp'].dt.hour\n",
        "    df['minute'] = df['timestamp'].dt.minute\n",
        "    df['time_sin'] = np.sin(2 * np.pi * df['hour'] / 24)  # Cyclic encoding\n",
        "    df['time_cos'] = np.cos(2 * np.pi * df['hour'] / 24)\n",
        "    return df.drop(['timestamp', 'hour', 'minute'], axis=1)\n",
        "\n",
        "train_df = preprocess_time_features(train_df)\n",
        "test_df = preprocess_time_features(test_df)"
      ],
      "metadata": {
        "id": "mX4ofOO_i0bL"
      },
      "execution_count": 38,
      "outputs": []
    },
    {
      "cell_type": "markdown",
      "source": [
        "Convert all data to float32"
      ],
      "metadata": {
        "id": "GckO7Bflnieo"
      }
    },
    {
      "cell_type": "code",
      "source": [
        "train_df = train_df.astype(np.float32)\n",
        "test_df = test_df.astype(np.float32)"
      ],
      "metadata": {
        "id": "yCgfNF2ineR9"
      },
      "execution_count": 39,
      "outputs": []
    },
    {
      "cell_type": "markdown",
      "source": [
        "Prepare sequences for the PID tuning model"
      ],
      "metadata": {
        "id": "056IRQuBOpfJ"
      }
    },
    {
      "cell_type": "code",
      "source": [
        "def prepare_pid_training_data(df, sequence_length=30):\n",
        "    X_pid, y_pid = [], []\n",
        "    for i in range(len(df) - sequence_length):\n",
        "        glucose_error = df['glucose'].iloc[i] - 110  # Setpoint = 110 mg/dL (target glucose)\n",
        "        glucose_change = df['glucose'].iloc[i] - df['glucose'].iloc[i-1] if i > 0 else 0\n",
        "\n",
        "        # Kp, Ki, Kd are based on glucose error and change (scaled)\n",
        "        Kp = 0.05 * np.log(1 + abs(glucose_error))\n",
        "        Ki = 0.005 * np.log(1 + abs(glucose_error))\n",
        "        Kd = 0.002 * np.log(1 + abs(glucose_change))\n",
        "\n",
        "        # Add features (glucose_error, glucose_change, meal_intake, weight, time_sin, time_cos)\n",
        "        X_pid.append([glucose_error, glucose_change, df['meal_carbs'].iloc[i], df['weight'].iloc[i],\n",
        "                      df['time_sin'].iloc[i], df['time_cos'].iloc[i]])  # Adjust for cyclic time encoding\n",
        "        y_pid.append([Kp, Ki, Kd])  # Target PID gains\n",
        "\n",
        "    return np.array(X_pid), np.array(y_pid)\n",
        "\n",
        "X_pid_train, y_pid_train = prepare_pid_training_data(train_df)\n",
        "X_pid_test, y_pid_test = prepare_pid_training_data(test_df)\n"
      ],
      "metadata": {
        "id": "M2yzJwN54sKX"
      },
      "execution_count": 40,
      "outputs": []
    },
    {
      "cell_type": "markdown",
      "source": [
        "Define LSTM Model for PID Parameter Tuning"
      ],
      "metadata": {
        "id": "MB_ypK1UnmWq"
      }
    },
    {
      "cell_type": "code",
      "source": [
        "pid_input = Input(shape=(X_pid_train.shape[1], 1))\n",
        "pid_lstm = LSTM(64, activation='tanh', return_sequences=True)(pid_input)\n",
        "pid_lstm = LSTM(32, activation='tanh')(pid_lstm)\n",
        "pid_output = Dense(3, activation='linear')(pid_lstm)  # Predict Kp, Ki, Kd\n",
        "\n",
        "pid_model = Model(inputs=pid_input, outputs=pid_output)\n",
        "pid_model.compile(optimizer='adam', loss='mse')"
      ],
      "metadata": {
        "id": "RDtthawhnuAB"
      },
      "execution_count": 44,
      "outputs": []
    },
    {
      "cell_type": "markdown",
      "source": [
        "Reshape X_pid train  and X_pid test for lstm"
      ],
      "metadata": {
        "id": "6RLHEUx8Zbqe"
      }
    },
    {
      "cell_type": "code",
      "source": [
        "X_pid_train_reshaped = X_pid_train.reshape((X_pid_train.shape[0], X_pid_train.shape[1], 1))  # (samples, timesteps, features)\n",
        "X_pid_test_reshaped = X_pid_test.reshape((X_pid_test.shape[0], X_pid_test.shape[1], 1))  # (samples, timesteps, features)"
      ],
      "metadata": {
        "id": "bW3NgTj_Ziug"
      },
      "execution_count": 45,
      "outputs": []
    },
    {
      "cell_type": "markdown",
      "source": [
        "Train and save the model"
      ],
      "metadata": {
        "id": "U-OyzUO4X9V9"
      }
    },
    {
      "cell_type": "code",
      "source": [
        "pid_model.fit(X_pid_train_reshaped, y_pid_train, epochs=50, batch_size=32, validation_data=(X_pid_test_reshaped, y_pid_test))\n",
        "pid_model.save(\"/content/drive/MyDrive/GP PID/opt_pid_tuning_model.h5\")"
      ],
      "metadata": {
        "colab": {
          "base_uri": "https://localhost:8080/"
        },
        "id": "oKXnKqR1X_Er",
        "outputId": "8c2d058a-426c-4e0f-fb85-5e51d61dc987"
      },
      "execution_count": 46,
      "outputs": [
        {
          "output_type": "stream",
          "name": "stdout",
          "text": [
            "Epoch 1/50\n",
            "\u001b[1m2164/2164\u001b[0m \u001b[32m━━━━━━━━━━━━━━━━━━━━\u001b[0m\u001b[37m\u001b[0m \u001b[1m18s\u001b[0m 7ms/step - loss: 3.4874e-04 - val_loss: 7.6059e-06\n",
            "Epoch 2/50\n",
            "\u001b[1m2164/2164\u001b[0m \u001b[32m━━━━━━━━━━━━━━━━━━━━\u001b[0m\u001b[37m\u001b[0m \u001b[1m16s\u001b[0m 7ms/step - loss: 1.1099e-05 - val_loss: 4.1510e-06\n",
            "Epoch 3/50\n",
            "\u001b[1m2164/2164\u001b[0m \u001b[32m━━━━━━━━━━━━━━━━━━━━\u001b[0m\u001b[37m\u001b[0m \u001b[1m20s\u001b[0m 7ms/step - loss: 7.3581e-06 - val_loss: 1.7946e-06\n",
            "Epoch 4/50\n",
            "\u001b[1m2164/2164\u001b[0m \u001b[32m━━━━━━━━━━━━━━━━━━━━\u001b[0m\u001b[37m\u001b[0m \u001b[1m20s\u001b[0m 6ms/step - loss: 4.3691e-06 - val_loss: 3.3106e-06\n",
            "Epoch 5/50\n",
            "\u001b[1m2164/2164\u001b[0m \u001b[32m━━━━━━━━━━━━━━━━━━━━\u001b[0m\u001b[37m\u001b[0m \u001b[1m21s\u001b[0m 7ms/step - loss: 3.8820e-06 - val_loss: 2.9847e-06\n",
            "Epoch 6/50\n",
            "\u001b[1m2164/2164\u001b[0m \u001b[32m━━━━━━━━━━━━━━━━━━━━\u001b[0m\u001b[37m\u001b[0m \u001b[1m22s\u001b[0m 7ms/step - loss: 2.4814e-06 - val_loss: 1.0641e-06\n",
            "Epoch 7/50\n",
            "\u001b[1m2164/2164\u001b[0m \u001b[32m━━━━━━━━━━━━━━━━━━━━\u001b[0m\u001b[37m\u001b[0m \u001b[1m20s\u001b[0m 7ms/step - loss: 2.1548e-06 - val_loss: 1.8567e-06\n",
            "Epoch 8/50\n",
            "\u001b[1m2164/2164\u001b[0m \u001b[32m━━━━━━━━━━━━━━━━━━━━\u001b[0m\u001b[37m\u001b[0m \u001b[1m20s\u001b[0m 7ms/step - loss: 1.2591e-06 - val_loss: 2.4082e-06\n",
            "Epoch 9/50\n",
            "\u001b[1m2164/2164\u001b[0m \u001b[32m━━━━━━━━━━━━━━━━━━━━\u001b[0m\u001b[37m\u001b[0m \u001b[1m20s\u001b[0m 6ms/step - loss: 1.1953e-06 - val_loss: 2.9680e-06\n",
            "Epoch 10/50\n",
            "\u001b[1m2164/2164\u001b[0m \u001b[32m━━━━━━━━━━━━━━━━━━━━\u001b[0m\u001b[37m\u001b[0m \u001b[1m21s\u001b[0m 7ms/step - loss: 1.2466e-06 - val_loss: 7.3859e-07\n",
            "Epoch 11/50\n",
            "\u001b[1m2164/2164\u001b[0m \u001b[32m━━━━━━━━━━━━━━━━━━━━\u001b[0m\u001b[37m\u001b[0m \u001b[1m21s\u001b[0m 7ms/step - loss: 9.4388e-07 - val_loss: 7.4843e-07\n",
            "Epoch 12/50\n",
            "\u001b[1m2164/2164\u001b[0m \u001b[32m━━━━━━━━━━━━━━━━━━━━\u001b[0m\u001b[37m\u001b[0m \u001b[1m15s\u001b[0m 7ms/step - loss: 8.8625e-07 - val_loss: 3.7969e-07\n",
            "Epoch 13/50\n",
            "\u001b[1m2164/2164\u001b[0m \u001b[32m━━━━━━━━━━━━━━━━━━━━\u001b[0m\u001b[37m\u001b[0m \u001b[1m21s\u001b[0m 7ms/step - loss: 6.1221e-07 - val_loss: 3.1143e-07\n",
            "Epoch 14/50\n",
            "\u001b[1m2164/2164\u001b[0m \u001b[32m━━━━━━━━━━━━━━━━━━━━\u001b[0m\u001b[37m\u001b[0m \u001b[1m20s\u001b[0m 7ms/step - loss: 7.5758e-07 - val_loss: 8.4037e-07\n",
            "Epoch 15/50\n",
            "\u001b[1m2164/2164\u001b[0m \u001b[32m━━━━━━━━━━━━━━━━━━━━\u001b[0m\u001b[37m\u001b[0m \u001b[1m21s\u001b[0m 7ms/step - loss: 4.7924e-07 - val_loss: 9.1573e-07\n",
            "Epoch 16/50\n",
            "\u001b[1m2164/2164\u001b[0m \u001b[32m━━━━━━━━━━━━━━━━━━━━\u001b[0m\u001b[37m\u001b[0m \u001b[1m19s\u001b[0m 7ms/step - loss: 5.1800e-07 - val_loss: 1.0733e-07\n",
            "Epoch 17/50\n",
            "\u001b[1m2164/2164\u001b[0m \u001b[32m━━━━━━━━━━━━━━━━━━━━\u001b[0m\u001b[37m\u001b[0m \u001b[1m22s\u001b[0m 7ms/step - loss: 5.2380e-07 - val_loss: 3.0742e-07\n",
            "Epoch 18/50\n",
            "\u001b[1m2164/2164\u001b[0m \u001b[32m━━━━━━━━━━━━━━━━━━━━\u001b[0m\u001b[37m\u001b[0m \u001b[1m15s\u001b[0m 7ms/step - loss: 8.1305e-07 - val_loss: 3.5293e-07\n",
            "Epoch 19/50\n",
            "\u001b[1m2164/2164\u001b[0m \u001b[32m━━━━━━━━━━━━━━━━━━━━\u001b[0m\u001b[37m\u001b[0m \u001b[1m21s\u001b[0m 7ms/step - loss: 3.4192e-07 - val_loss: 2.0653e-07\n",
            "Epoch 20/50\n",
            "\u001b[1m2164/2164\u001b[0m \u001b[32m━━━━━━━━━━━━━━━━━━━━\u001b[0m\u001b[37m\u001b[0m \u001b[1m15s\u001b[0m 7ms/step - loss: 3.6637e-07 - val_loss: 2.0976e-07\n",
            "Epoch 21/50\n",
            "\u001b[1m2164/2164\u001b[0m \u001b[32m━━━━━━━━━━━━━━━━━━━━\u001b[0m\u001b[37m\u001b[0m \u001b[1m20s\u001b[0m 7ms/step - loss: 3.6826e-07 - val_loss: 2.6112e-07\n",
            "Epoch 22/50\n",
            "\u001b[1m2164/2164\u001b[0m \u001b[32m━━━━━━━━━━━━━━━━━━━━\u001b[0m\u001b[37m\u001b[0m \u001b[1m20s\u001b[0m 7ms/step - loss: 3.4264e-07 - val_loss: 1.4054e-06\n",
            "Epoch 23/50\n",
            "\u001b[1m2164/2164\u001b[0m \u001b[32m━━━━━━━━━━━━━━━━━━━━\u001b[0m\u001b[37m\u001b[0m \u001b[1m19s\u001b[0m 6ms/step - loss: 4.2829e-07 - val_loss: 2.2660e-07\n",
            "Epoch 24/50\n",
            "\u001b[1m2164/2164\u001b[0m \u001b[32m━━━━━━━━━━━━━━━━━━━━\u001b[0m\u001b[37m\u001b[0m \u001b[1m21s\u001b[0m 7ms/step - loss: 3.1598e-07 - val_loss: 6.4421e-07\n",
            "Epoch 25/50\n",
            "\u001b[1m2164/2164\u001b[0m \u001b[32m━━━━━━━━━━━━━━━━━━━━\u001b[0m\u001b[37m\u001b[0m \u001b[1m20s\u001b[0m 6ms/step - loss: 2.8967e-07 - val_loss: 2.5820e-07\n",
            "Epoch 26/50\n",
            "\u001b[1m2164/2164\u001b[0m \u001b[32m━━━━━━━━━━━━━━━━━━━━\u001b[0m\u001b[37m\u001b[0m \u001b[1m15s\u001b[0m 7ms/step - loss: 2.4263e-07 - val_loss: 7.9216e-07\n",
            "Epoch 27/50\n",
            "\u001b[1m2164/2164\u001b[0m \u001b[32m━━━━━━━━━━━━━━━━━━━━\u001b[0m\u001b[37m\u001b[0m \u001b[1m19s\u001b[0m 7ms/step - loss: 2.1871e-07 - val_loss: 3.4688e-07\n",
            "Epoch 28/50\n",
            "\u001b[1m2164/2164\u001b[0m \u001b[32m━━━━━━━━━━━━━━━━━━━━\u001b[0m\u001b[37m\u001b[0m \u001b[1m14s\u001b[0m 7ms/step - loss: 2.2262e-07 - val_loss: 1.8000e-07\n",
            "Epoch 29/50\n",
            "\u001b[1m2164/2164\u001b[0m \u001b[32m━━━━━━━━━━━━━━━━━━━━\u001b[0m\u001b[37m\u001b[0m \u001b[1m15s\u001b[0m 7ms/step - loss: 2.3219e-07 - val_loss: 4.5739e-07\n",
            "Epoch 30/50\n",
            "\u001b[1m2164/2164\u001b[0m \u001b[32m━━━━━━━━━━━━━━━━━━━━\u001b[0m\u001b[37m\u001b[0m \u001b[1m15s\u001b[0m 7ms/step - loss: 2.3011e-07 - val_loss: 9.6841e-08\n",
            "Epoch 31/50\n",
            "\u001b[1m2164/2164\u001b[0m \u001b[32m━━━━━━━━━━━━━━━━━━━━\u001b[0m\u001b[37m\u001b[0m \u001b[1m20s\u001b[0m 7ms/step - loss: 2.0571e-07 - val_loss: 1.8923e-07\n",
            "Epoch 32/50\n",
            "\u001b[1m2164/2164\u001b[0m \u001b[32m━━━━━━━━━━━━━━━━━━━━\u001b[0m\u001b[37m\u001b[0m \u001b[1m20s\u001b[0m 6ms/step - loss: 2.3047e-07 - val_loss: 7.5347e-08\n",
            "Epoch 33/50\n",
            "\u001b[1m2164/2164\u001b[0m \u001b[32m━━━━━━━━━━━━━━━━━━━━\u001b[0m\u001b[37m\u001b[0m \u001b[1m21s\u001b[0m 7ms/step - loss: 1.9987e-07 - val_loss: 9.6967e-08\n",
            "Epoch 34/50\n",
            "\u001b[1m2164/2164\u001b[0m \u001b[32m━━━━━━━━━━━━━━━━━━━━\u001b[0m\u001b[37m\u001b[0m \u001b[1m20s\u001b[0m 6ms/step - loss: 1.4350e-07 - val_loss: 8.6920e-07\n",
            "Epoch 35/50\n",
            "\u001b[1m2164/2164\u001b[0m \u001b[32m━━━━━━━━━━━━━━━━━━━━\u001b[0m\u001b[37m\u001b[0m \u001b[1m20s\u001b[0m 6ms/step - loss: 2.6441e-07 - val_loss: 2.4248e-07\n",
            "Epoch 36/50\n",
            "\u001b[1m2164/2164\u001b[0m \u001b[32m━━━━━━━━━━━━━━━━━━━━\u001b[0m\u001b[37m\u001b[0m \u001b[1m20s\u001b[0m 6ms/step - loss: 1.5437e-07 - val_loss: 1.3872e-07\n",
            "Epoch 37/50\n",
            "\u001b[1m2164/2164\u001b[0m \u001b[32m━━━━━━━━━━━━━━━━━━━━\u001b[0m\u001b[37m\u001b[0m \u001b[1m18s\u001b[0m 8ms/step - loss: 1.7523e-07 - val_loss: 3.0215e-07\n",
            "Epoch 38/50\n",
            "\u001b[1m2164/2164\u001b[0m \u001b[32m━━━━━━━━━━━━━━━━━━━━\u001b[0m\u001b[37m\u001b[0m \u001b[1m16s\u001b[0m 6ms/step - loss: 2.1704e-07 - val_loss: 1.6617e-07\n",
            "Epoch 39/50\n",
            "\u001b[1m2164/2164\u001b[0m \u001b[32m━━━━━━━━━━━━━━━━━━━━\u001b[0m\u001b[37m\u001b[0m \u001b[1m21s\u001b[0m 7ms/step - loss: 1.5117e-07 - val_loss: 6.6511e-08\n",
            "Epoch 40/50\n",
            "\u001b[1m2164/2164\u001b[0m \u001b[32m━━━━━━━━━━━━━━━━━━━━\u001b[0m\u001b[37m\u001b[0m \u001b[1m20s\u001b[0m 6ms/step - loss: 1.5699e-07 - val_loss: 6.5153e-08\n",
            "Epoch 41/50\n",
            "\u001b[1m2164/2164\u001b[0m \u001b[32m━━━━━━━━━━━━━━━━━━━━\u001b[0m\u001b[37m\u001b[0m \u001b[1m20s\u001b[0m 6ms/step - loss: 1.7259e-07 - val_loss: 1.9208e-07\n",
            "Epoch 42/50\n",
            "\u001b[1m2164/2164\u001b[0m \u001b[32m━━━━━━━━━━━━━━━━━━━━\u001b[0m\u001b[37m\u001b[0m \u001b[1m15s\u001b[0m 7ms/step - loss: 1.5127e-07 - val_loss: 3.5591e-07\n",
            "Epoch 43/50\n",
            "\u001b[1m2164/2164\u001b[0m \u001b[32m━━━━━━━━━━━━━━━━━━━━\u001b[0m\u001b[37m\u001b[0m \u001b[1m19s\u001b[0m 6ms/step - loss: 1.5040e-07 - val_loss: 6.3626e-08\n",
            "Epoch 44/50\n",
            "\u001b[1m2164/2164\u001b[0m \u001b[32m━━━━━━━━━━━━━━━━━━━━\u001b[0m\u001b[37m\u001b[0m \u001b[1m21s\u001b[0m 6ms/step - loss: 1.7848e-07 - val_loss: 1.5439e-07\n",
            "Epoch 45/50\n",
            "\u001b[1m2164/2164\u001b[0m \u001b[32m━━━━━━━━━━━━━━━━━━━━\u001b[0m\u001b[37m\u001b[0m \u001b[1m14s\u001b[0m 6ms/step - loss: 1.2917e-07 - val_loss: 7.2891e-08\n",
            "Epoch 46/50\n",
            "\u001b[1m2164/2164\u001b[0m \u001b[32m━━━━━━━━━━━━━━━━━━━━\u001b[0m\u001b[37m\u001b[0m \u001b[1m21s\u001b[0m 7ms/step - loss: 1.1910e-07 - val_loss: 6.0210e-08\n",
            "Epoch 47/50\n",
            "\u001b[1m2164/2164\u001b[0m \u001b[32m━━━━━━━━━━━━━━━━━━━━\u001b[0m\u001b[37m\u001b[0m \u001b[1m15s\u001b[0m 7ms/step - loss: 1.2064e-07 - val_loss: 1.0004e-07\n",
            "Epoch 48/50\n",
            "\u001b[1m2164/2164\u001b[0m \u001b[32m━━━━━━━━━━━━━━━━━━━━\u001b[0m\u001b[37m\u001b[0m \u001b[1m21s\u001b[0m 7ms/step - loss: 1.3158e-07 - val_loss: 9.6742e-08\n",
            "Epoch 49/50\n",
            "\u001b[1m2164/2164\u001b[0m \u001b[32m━━━━━━━━━━━━━━━━━━━━\u001b[0m\u001b[37m\u001b[0m \u001b[1m15s\u001b[0m 7ms/step - loss: 1.0388e-07 - val_loss: 1.5111e-07\n",
            "Epoch 50/50\n",
            "\u001b[1m2164/2164\u001b[0m \u001b[32m━━━━━━━━━━━━━━━━━━━━\u001b[0m\u001b[37m\u001b[0m \u001b[1m21s\u001b[0m 7ms/step - loss: 1.3535e-07 - val_loss: 7.2030e-08\n"
          ]
        },
        {
          "output_type": "stream",
          "name": "stderr",
          "text": [
            "WARNING:absl:You are saving your model as an HDF5 file via `model.save()` or `keras.saving.save_model(model)`. This file format is considered legacy. We recommend using instead the native Keras format, e.g. `model.save('my_model.keras')` or `keras.saving.save_model(model, 'my_model.keras')`. \n"
          ]
        }
      ]
    },
    {
      "cell_type": "markdown",
      "source": [
        "Save and Load the model"
      ],
      "metadata": {
        "id": "JT652WvbOwZ5"
      }
    },
    {
      "cell_type": "code",
      "source": [
        "import tensorflow as tf\n",
        "\n",
        "# Define the loss function explicitly\n",
        "pid_model = tf.keras.models.load_model(\n",
        "    \"/content/drive/MyDrive/GP PID/opt_pid_tuning_model.h5\",\n",
        "    custom_objects={'mse': tf.keras.losses.MeanSquaredError()}\n",
        ")\n",
        "\n",
        "# Print model summary to confirm it's loaded\n",
        "pid_model.summary()\n",
        "import tensorflow as tf\n",
        "\n",
        "# Load the model with safe mode\n",
        "pid_model = tf.keras.models.load_model(\"/content/drive/MyDrive/GP PID/opt_pid_tuning_model.h5\", compile=False)\n",
        "\n",
        "# Compile again with correct loss\n",
        "pid_model.compile(optimizer='adam', loss=tf.keras.losses.MeanSquaredError())\n"
      ],
      "metadata": {
        "colab": {
          "base_uri": "https://localhost:8080/",
          "height": 310
        },
        "id": "JElRY2mU9iYV",
        "outputId": "37a8bfb4-f19c-4f14-e189-ce33b5e66d76"
      },
      "execution_count": 47,
      "outputs": [
        {
          "output_type": "stream",
          "name": "stderr",
          "text": [
            "WARNING:absl:Compiled the loaded model, but the compiled metrics have yet to be built. `model.compile_metrics` will be empty until you train or evaluate the model.\n"
          ]
        },
        {
          "output_type": "display_data",
          "data": {
            "text/plain": [
              "\u001b[1mModel: \"functional_3\"\u001b[0m\n"
            ],
            "text/html": [
              "<pre style=\"white-space:pre;overflow-x:auto;line-height:normal;font-family:Menlo,'DejaVu Sans Mono',consolas,'Courier New',monospace\"><span style=\"font-weight: bold\">Model: \"functional_3\"</span>\n",
              "</pre>\n"
            ]
          },
          "metadata": {}
        },
        {
          "output_type": "display_data",
          "data": {
            "text/plain": [
              "┏━━━━━━━━━━━━━━━━━━━━━━━━━━━━━━━━━━━━━━┳━━━━━━━━━━━━━━━━━━━━━━━━━━━━━┳━━━━━━━━━━━━━━━━━┓\n",
              "┃\u001b[1m \u001b[0m\u001b[1mLayer (type)                        \u001b[0m\u001b[1m \u001b[0m┃\u001b[1m \u001b[0m\u001b[1mOutput Shape               \u001b[0m\u001b[1m \u001b[0m┃\u001b[1m \u001b[0m\u001b[1m        Param #\u001b[0m\u001b[1m \u001b[0m┃\n",
              "┡━━━━━━━━━━━━━━━━━━━━━━━━━━━━━━━━━━━━━━╇━━━━━━━━━━━━━━━━━━━━━━━━━━━━━╇━━━━━━━━━━━━━━━━━┩\n",
              "│ input_layer_6 (\u001b[38;5;33mInputLayer\u001b[0m)           │ (\u001b[38;5;45mNone\u001b[0m, \u001b[38;5;34m6\u001b[0m, \u001b[38;5;34m1\u001b[0m)                │               \u001b[38;5;34m0\u001b[0m │\n",
              "├──────────────────────────────────────┼─────────────────────────────┼─────────────────┤\n",
              "│ lstm_3 (\u001b[38;5;33mLSTM\u001b[0m)                        │ (\u001b[38;5;45mNone\u001b[0m, \u001b[38;5;34m6\u001b[0m, \u001b[38;5;34m64\u001b[0m)               │          \u001b[38;5;34m16,896\u001b[0m │\n",
              "├──────────────────────────────────────┼─────────────────────────────┼─────────────────┤\n",
              "│ lstm_4 (\u001b[38;5;33mLSTM\u001b[0m)                        │ (\u001b[38;5;45mNone\u001b[0m, \u001b[38;5;34m32\u001b[0m)                  │          \u001b[38;5;34m12,416\u001b[0m │\n",
              "├──────────────────────────────────────┼─────────────────────────────┼─────────────────┤\n",
              "│ dense_9 (\u001b[38;5;33mDense\u001b[0m)                      │ (\u001b[38;5;45mNone\u001b[0m, \u001b[38;5;34m3\u001b[0m)                   │              \u001b[38;5;34m99\u001b[0m │\n",
              "└──────────────────────────────────────┴─────────────────────────────┴─────────────────┘\n"
            ],
            "text/html": [
              "<pre style=\"white-space:pre;overflow-x:auto;line-height:normal;font-family:Menlo,'DejaVu Sans Mono',consolas,'Courier New',monospace\">┏━━━━━━━━━━━━━━━━━━━━━━━━━━━━━━━━━━━━━━┳━━━━━━━━━━━━━━━━━━━━━━━━━━━━━┳━━━━━━━━━━━━━━━━━┓\n",
              "┃<span style=\"font-weight: bold\"> Layer (type)                         </span>┃<span style=\"font-weight: bold\"> Output Shape                </span>┃<span style=\"font-weight: bold\">         Param # </span>┃\n",
              "┡━━━━━━━━━━━━━━━━━━━━━━━━━━━━━━━━━━━━━━╇━━━━━━━━━━━━━━━━━━━━━━━━━━━━━╇━━━━━━━━━━━━━━━━━┩\n",
              "│ input_layer_6 (<span style=\"color: #0087ff; text-decoration-color: #0087ff\">InputLayer</span>)           │ (<span style=\"color: #00d7ff; text-decoration-color: #00d7ff\">None</span>, <span style=\"color: #00af00; text-decoration-color: #00af00\">6</span>, <span style=\"color: #00af00; text-decoration-color: #00af00\">1</span>)                │               <span style=\"color: #00af00; text-decoration-color: #00af00\">0</span> │\n",
              "├──────────────────────────────────────┼─────────────────────────────┼─────────────────┤\n",
              "│ lstm_3 (<span style=\"color: #0087ff; text-decoration-color: #0087ff\">LSTM</span>)                        │ (<span style=\"color: #00d7ff; text-decoration-color: #00d7ff\">None</span>, <span style=\"color: #00af00; text-decoration-color: #00af00\">6</span>, <span style=\"color: #00af00; text-decoration-color: #00af00\">64</span>)               │          <span style=\"color: #00af00; text-decoration-color: #00af00\">16,896</span> │\n",
              "├──────────────────────────────────────┼─────────────────────────────┼─────────────────┤\n",
              "│ lstm_4 (<span style=\"color: #0087ff; text-decoration-color: #0087ff\">LSTM</span>)                        │ (<span style=\"color: #00d7ff; text-decoration-color: #00d7ff\">None</span>, <span style=\"color: #00af00; text-decoration-color: #00af00\">32</span>)                  │          <span style=\"color: #00af00; text-decoration-color: #00af00\">12,416</span> │\n",
              "├──────────────────────────────────────┼─────────────────────────────┼─────────────────┤\n",
              "│ dense_9 (<span style=\"color: #0087ff; text-decoration-color: #0087ff\">Dense</span>)                      │ (<span style=\"color: #00d7ff; text-decoration-color: #00d7ff\">None</span>, <span style=\"color: #00af00; text-decoration-color: #00af00\">3</span>)                   │              <span style=\"color: #00af00; text-decoration-color: #00af00\">99</span> │\n",
              "└──────────────────────────────────────┴─────────────────────────────┴─────────────────┘\n",
              "</pre>\n"
            ]
          },
          "metadata": {}
        },
        {
          "output_type": "display_data",
          "data": {
            "text/plain": [
              "\u001b[1m Total params: \u001b[0m\u001b[38;5;34m29,413\u001b[0m (114.90 KB)\n"
            ],
            "text/html": [
              "<pre style=\"white-space:pre;overflow-x:auto;line-height:normal;font-family:Menlo,'DejaVu Sans Mono',consolas,'Courier New',monospace\"><span style=\"font-weight: bold\"> Total params: </span><span style=\"color: #00af00; text-decoration-color: #00af00\">29,413</span> (114.90 KB)\n",
              "</pre>\n"
            ]
          },
          "metadata": {}
        },
        {
          "output_type": "display_data",
          "data": {
            "text/plain": [
              "\u001b[1m Trainable params: \u001b[0m\u001b[38;5;34m29,411\u001b[0m (114.89 KB)\n"
            ],
            "text/html": [
              "<pre style=\"white-space:pre;overflow-x:auto;line-height:normal;font-family:Menlo,'DejaVu Sans Mono',consolas,'Courier New',monospace\"><span style=\"font-weight: bold\"> Trainable params: </span><span style=\"color: #00af00; text-decoration-color: #00af00\">29,411</span> (114.89 KB)\n",
              "</pre>\n"
            ]
          },
          "metadata": {}
        },
        {
          "output_type": "display_data",
          "data": {
            "text/plain": [
              "\u001b[1m Non-trainable params: \u001b[0m\u001b[38;5;34m0\u001b[0m (0.00 B)\n"
            ],
            "text/html": [
              "<pre style=\"white-space:pre;overflow-x:auto;line-height:normal;font-family:Menlo,'DejaVu Sans Mono',consolas,'Courier New',monospace\"><span style=\"font-weight: bold\"> Non-trainable params: </span><span style=\"color: #00af00; text-decoration-color: #00af00\">0</span> (0.00 B)\n",
              "</pre>\n"
            ]
          },
          "metadata": {}
        },
        {
          "output_type": "display_data",
          "data": {
            "text/plain": [
              "\u001b[1m Optimizer params: \u001b[0m\u001b[38;5;34m2\u001b[0m (12.00 B)\n"
            ],
            "text/html": [
              "<pre style=\"white-space:pre;overflow-x:auto;line-height:normal;font-family:Menlo,'DejaVu Sans Mono',consolas,'Courier New',monospace\"><span style=\"font-weight: bold\"> Optimizer params: </span><span style=\"color: #00af00; text-decoration-color: #00af00\">2</span> (12.00 B)\n",
              "</pre>\n"
            ]
          },
          "metadata": {}
        }
      ]
    },
    {
      "cell_type": "markdown",
      "source": [
        "\n",
        "\n",
        "```\n",
        "# This is formatted as code\n",
        "```\n",
        "\n",
        "Load pid model"
      ],
      "metadata": {
        "id": "WkpTH9w_O0Vl"
      }
    },
    {
      "cell_type": "code",
      "source": [
        "pid_model = tf.keras.models.load_model(\"/content/drive/MyDrive/GP PID/opt_pid_tuning_model.h5\", compile=False)"
      ],
      "metadata": {
        "id": "WjKBX5e0LUdX"
      },
      "execution_count": 48,
      "outputs": []
    },
    {
      "cell_type": "code",
      "source": [
        "#test\n",
        "pid_gains = pid_model.predict(X_pid_test)"
      ],
      "metadata": {
        "colab": {
          "base_uri": "https://localhost:8080/"
        },
        "id": "rquT8MX4LR6f",
        "outputId": "b771c6a1-2dd1-4f7a-bb85-13e029a1dcd4"
      },
      "execution_count": 49,
      "outputs": [
        {
          "output_type": "stream",
          "name": "stdout",
          "text": [
            "\u001b[1m499/499\u001b[0m \u001b[32m━━━━━━━━━━━━━━━━━━━━\u001b[0m\u001b[37m\u001b[0m \u001b[1m1s\u001b[0m 2ms/step\n"
          ]
        }
      ]
    },
    {
      "cell_type": "markdown",
      "source": [
        "Test the model"
      ],
      "metadata": {
        "id": "QrghY1T_O8Kf"
      }
    },
    {
      "cell_type": "code",
      "source": [
        "num_samples = 50  # Number of test cases to evaluate\n",
        "\n",
        "for i in range(num_samples):\n",
        "    print(f\"\\nSample {i+1}:\")\n",
        "\n",
        "    # Ensure correct input shape for LSTM (batch size 1)\n",
        "    sample_input = np.expand_dims(X_pid_test[i], axis=0)\n",
        "\n",
        "    # Predict PID gains (Kp, Ki, Kd)\n",
        "    pid_gains = pid_model.predict(sample_input)[0]\n",
        "\n",
        "    # Get the actual glucose value from the test dataset\n",
        "    glucose_prediction = X_pid_test[i][0]  # Assuming glucose is the first feature in the input sequence\n",
        "\n",
        "    # Compute glucose error (current glucose - target glucose)\n",
        "    glucose_error = glucose_prediction - 110  # Target glucose level = 110 mg/dL\n",
        "\n",
        "    # Compute the change in glucose (derivative of glucose)\n",
        "    if i > 0:\n",
        "        glucose_change = glucose_prediction - X_pid_test[i-1][0]  # Compare current and previous glucose\n",
        "    else:\n",
        "        glucose_change = 0  # For the first sample, assume no change\n",
        "\n",
        "    weight = test_df['weight'].iloc[i]\n",
        "    # Insulin Sensitivity Factor (ISF) - Adjust per patient\n",
        "    ISF = 5000 / weight\n",
        "\n",
        "    # Compute Correction Dose Using ISF\n",
        "    glucose_correction_insulin = glucose_error / ISF  # Correct glucose error\n",
        "\n",
        "    # Compute Insulin Using PID Formula\n",
        "    # Apply a safe correction factor and limit the insulin dosage based on target glucose levels\n",
        "    # Reduce PID gains and scaling factor\n",
        "    insulin_dosage = (pid_gains[0] * glucose_error +  # Proportional (Kp)\n",
        "                  pid_gains[1] * glucose_error +  # Integral (Ki)\n",
        "                  pid_gains[2] * glucose_change) * 0.1  # Derivative (Kd) - Reduced scaling factor\n",
        "\n",
        "    # Apply insulin correction for the glucose error\n",
        "    insulin_dosage += glucose_correction_insulin\n",
        "\n",
        "    # Ensure the insulin dosage is within a reasonable range (e.g., max 10U per dose)\n",
        "    # Dynamic max insulin limit\n",
        "    max_insulin = min(10 + (glucose_prediction - 110) / 10, 20)  # Adjust the max insulin based on glucose\n",
        "    insulin_dosage = max(0, min(insulin_dosage + glucose_correction_insulin, max_insulin))\n",
        "\n",
        "\n",
        "    # Print results\n",
        "    print(f\"Predicted Glucose: {glucose_prediction:.2f} mg/dL\")\n",
        "    print(f\"Recommended Insulin: {insulin_dosage:.2f} U (Safe Range)\")\n",
        "    print(f\"Weight: {weight}\")\n",
        "\n",
        "    print(\"-\" * 50)\n"
      ],
      "metadata": {
        "id": "Ip50JAbrLRud",
        "outputId": "907405d1-e90f-4dc4-8e2f-0052fb34d361",
        "colab": {
          "base_uri": "https://localhost:8080/"
        }
      },
      "execution_count": 67,
      "outputs": [
        {
          "output_type": "stream",
          "name": "stdout",
          "text": [
            "\n",
            "Sample 1:\n",
            "\u001b[1m1/1\u001b[0m \u001b[32m━━━━━━━━━━━━━━━━━━━━\u001b[0m\u001b[37m\u001b[0m \u001b[1m0s\u001b[0m 35ms/step\n",
            "Predicted Glucose: 69.00 mg/dL\n",
            "Recommended Insulin: 0.00 U (Safe Range)\n",
            "Weight: 99.0\n",
            "--------------------------------------------------\n",
            "\n",
            "Sample 2:\n",
            "\u001b[1m1/1\u001b[0m \u001b[32m━━━━━━━━━━━━━━━━━━━━\u001b[0m\u001b[37m\u001b[0m \u001b[1m0s\u001b[0m 37ms/step\n",
            "Predicted Glucose: 73.00 mg/dL\n",
            "Recommended Insulin: 0.00 U (Safe Range)\n",
            "Weight: 99.0\n",
            "--------------------------------------------------\n",
            "\n",
            "Sample 3:\n",
            "\u001b[1m1/1\u001b[0m \u001b[32m━━━━━━━━━━━━━━━━━━━━\u001b[0m\u001b[37m\u001b[0m \u001b[1m0s\u001b[0m 40ms/step\n",
            "Predicted Glucose: 77.00 mg/dL\n",
            "Recommended Insulin: 0.00 U (Safe Range)\n",
            "Weight: 99.0\n",
            "--------------------------------------------------\n",
            "\n",
            "Sample 4:\n",
            "\u001b[1m1/1\u001b[0m \u001b[32m━━━━━━━━━━━━━━━━━━━━\u001b[0m\u001b[37m\u001b[0m \u001b[1m0s\u001b[0m 41ms/step\n",
            "Predicted Glucose: 81.00 mg/dL\n",
            "Recommended Insulin: 0.00 U (Safe Range)\n",
            "Weight: 99.0\n",
            "--------------------------------------------------\n",
            "\n",
            "Sample 5:\n",
            "\u001b[1m1/1\u001b[0m \u001b[32m━━━━━━━━━━━━━━━━━━━━\u001b[0m\u001b[37m\u001b[0m \u001b[1m0s\u001b[0m 39ms/step\n",
            "Predicted Glucose: 85.00 mg/dL\n",
            "Recommended Insulin: 0.00 U (Safe Range)\n",
            "Weight: 99.0\n",
            "--------------------------------------------------\n",
            "\n",
            "Sample 6:\n",
            "\u001b[1m1/1\u001b[0m \u001b[32m━━━━━━━━━━━━━━━━━━━━\u001b[0m\u001b[37m\u001b[0m \u001b[1m0s\u001b[0m 38ms/step\n",
            "Predicted Glucose: 89.00 mg/dL\n",
            "Recommended Insulin: 0.00 U (Safe Range)\n",
            "Weight: 99.0\n",
            "--------------------------------------------------\n",
            "\n",
            "Sample 7:\n",
            "\u001b[1m1/1\u001b[0m \u001b[32m━━━━━━━━━━━━━━━━━━━━\u001b[0m\u001b[37m\u001b[0m \u001b[1m0s\u001b[0m 33ms/step\n",
            "Predicted Glucose: 94.00 mg/dL\n",
            "Recommended Insulin: 0.00 U (Safe Range)\n",
            "Weight: 99.0\n",
            "--------------------------------------------------\n",
            "\n",
            "Sample 8:\n",
            "\u001b[1m1/1\u001b[0m \u001b[32m━━━━━━━━━━━━━━━━━━━━\u001b[0m\u001b[37m\u001b[0m \u001b[1m0s\u001b[0m 36ms/step\n",
            "Predicted Glucose: 99.00 mg/dL\n",
            "Recommended Insulin: 0.00 U (Safe Range)\n",
            "Weight: 99.0\n",
            "--------------------------------------------------\n",
            "\n",
            "Sample 9:\n",
            "\u001b[1m1/1\u001b[0m \u001b[32m━━━━━━━━━━━━━━━━━━━━\u001b[0m\u001b[37m\u001b[0m \u001b[1m0s\u001b[0m 35ms/step\n",
            "Predicted Glucose: 101.00 mg/dL\n",
            "Recommended Insulin: 0.00 U (Safe Range)\n",
            "Weight: 99.0\n",
            "--------------------------------------------------\n",
            "\n",
            "Sample 10:\n",
            "\u001b[1m1/1\u001b[0m \u001b[32m━━━━━━━━━━━━━━━━━━━━\u001b[0m\u001b[37m\u001b[0m \u001b[1m0s\u001b[0m 37ms/step\n",
            "Predicted Glucose: 101.00 mg/dL\n",
            "Recommended Insulin: 0.00 U (Safe Range)\n",
            "Weight: 99.0\n",
            "--------------------------------------------------\n",
            "\n",
            "Sample 11:\n",
            "\u001b[1m1/1\u001b[0m \u001b[32m━━━━━━━━━━━━━━━━━━━━\u001b[0m\u001b[37m\u001b[0m \u001b[1m0s\u001b[0m 48ms/step\n",
            "Predicted Glucose: 101.00 mg/dL\n",
            "Recommended Insulin: 0.00 U (Safe Range)\n",
            "Weight: 99.0\n",
            "--------------------------------------------------\n",
            "\n",
            "Sample 12:\n",
            "\u001b[1m1/1\u001b[0m \u001b[32m━━━━━━━━━━━━━━━━━━━━\u001b[0m\u001b[37m\u001b[0m \u001b[1m0s\u001b[0m 43ms/step\n",
            "Predicted Glucose: 105.00 mg/dL\n",
            "Recommended Insulin: 0.00 U (Safe Range)\n",
            "Weight: 99.0\n",
            "--------------------------------------------------\n",
            "\n",
            "Sample 13:\n",
            "\u001b[1m1/1\u001b[0m \u001b[32m━━━━━━━━━━━━━━━━━━━━\u001b[0m\u001b[37m\u001b[0m \u001b[1m0s\u001b[0m 40ms/step\n",
            "Predicted Glucose: 115.00 mg/dL\n",
            "Recommended Insulin: 0.33 U (Safe Range)\n",
            "Weight: 99.0\n",
            "--------------------------------------------------\n",
            "\n",
            "Sample 14:\n",
            "\u001b[1m1/1\u001b[0m \u001b[32m━━━━━━━━━━━━━━━━━━━━\u001b[0m\u001b[37m\u001b[0m \u001b[1m0s\u001b[0m 40ms/step\n",
            "Predicted Glucose: 123.00 mg/dL\n",
            "Recommended Insulin: 0.86 U (Safe Range)\n",
            "Weight: 99.0\n",
            "--------------------------------------------------\n",
            "\n",
            "Sample 15:\n",
            "\u001b[1m1/1\u001b[0m \u001b[32m━━━━━━━━━━━━━━━━━━━━\u001b[0m\u001b[37m\u001b[0m \u001b[1m0s\u001b[0m 41ms/step\n",
            "Predicted Glucose: 127.00 mg/dL\n",
            "Recommended Insulin: 1.13 U (Safe Range)\n",
            "Weight: 99.0\n",
            "--------------------------------------------------\n",
            "\n",
            "Sample 16:\n",
            "\u001b[1m1/1\u001b[0m \u001b[32m━━━━━━━━━━━━━━━━━━━━\u001b[0m\u001b[37m\u001b[0m \u001b[1m0s\u001b[0m 42ms/step\n",
            "Predicted Glucose: 131.00 mg/dL\n",
            "Recommended Insulin: 1.40 U (Safe Range)\n",
            "Weight: 99.0\n",
            "--------------------------------------------------\n",
            "\n",
            "Sample 17:\n",
            "\u001b[1m1/1\u001b[0m \u001b[32m━━━━━━━━━━━━━━━━━━━━\u001b[0m\u001b[37m\u001b[0m \u001b[1m0s\u001b[0m 37ms/step\n",
            "Predicted Glucose: 136.00 mg/dL\n",
            "Recommended Insulin: 1.74 U (Safe Range)\n",
            "Weight: 99.0\n",
            "--------------------------------------------------\n",
            "\n",
            "Sample 18:\n",
            "\u001b[1m1/1\u001b[0m \u001b[32m━━━━━━━━━━━━━━━━━━━━\u001b[0m\u001b[37m\u001b[0m \u001b[1m0s\u001b[0m 33ms/step\n",
            "Predicted Glucose: 138.00 mg/dL\n",
            "Recommended Insulin: 1.87 U (Safe Range)\n",
            "Weight: 99.0\n",
            "--------------------------------------------------\n",
            "\n",
            "Sample 19:\n",
            "\u001b[1m1/1\u001b[0m \u001b[32m━━━━━━━━━━━━━━━━━━━━\u001b[0m\u001b[37m\u001b[0m \u001b[1m0s\u001b[0m 37ms/step\n",
            "Predicted Glucose: 140.00 mg/dL\n",
            "Recommended Insulin: 2.01 U (Safe Range)\n",
            "Weight: 99.0\n",
            "--------------------------------------------------\n",
            "\n",
            "Sample 20:\n",
            "\u001b[1m1/1\u001b[0m \u001b[32m━━━━━━━━━━━━━━━━━━━━\u001b[0m\u001b[37m\u001b[0m \u001b[1m0s\u001b[0m 34ms/step\n",
            "Predicted Glucose: 142.00 mg/dL\n",
            "Recommended Insulin: 2.14 U (Safe Range)\n",
            "Weight: 99.0\n",
            "--------------------------------------------------\n",
            "\n",
            "Sample 21:\n",
            "\u001b[1m1/1\u001b[0m \u001b[32m━━━━━━━━━━━━━━━━━━━━\u001b[0m\u001b[37m\u001b[0m \u001b[1m0s\u001b[0m 38ms/step\n",
            "Predicted Glucose: 146.00 mg/dL\n",
            "Recommended Insulin: 2.42 U (Safe Range)\n",
            "Weight: 99.0\n",
            "--------------------------------------------------\n",
            "\n",
            "Sample 22:\n",
            "\u001b[1m1/1\u001b[0m \u001b[32m━━━━━━━━━━━━━━━━━━━━\u001b[0m\u001b[37m\u001b[0m \u001b[1m0s\u001b[0m 36ms/step\n",
            "Predicted Glucose: 149.00 mg/dL\n",
            "Recommended Insulin: 2.62 U (Safe Range)\n",
            "Weight: 99.0\n",
            "--------------------------------------------------\n",
            "\n",
            "Sample 23:\n",
            "\u001b[1m1/1\u001b[0m \u001b[32m━━━━━━━━━━━━━━━━━━━━\u001b[0m\u001b[37m\u001b[0m \u001b[1m0s\u001b[0m 38ms/step\n",
            "Predicted Glucose: 152.00 mg/dL\n",
            "Recommended Insulin: 2.83 U (Safe Range)\n",
            "Weight: 99.0\n",
            "--------------------------------------------------\n",
            "\n",
            "Sample 24:\n",
            "\u001b[1m1/1\u001b[0m \u001b[32m━━━━━━━━━━━━━━━━━━━━\u001b[0m\u001b[37m\u001b[0m \u001b[1m0s\u001b[0m 43ms/step\n",
            "Predicted Glucose: 156.00 mg/dL\n",
            "Recommended Insulin: 3.10 U (Safe Range)\n",
            "Weight: 99.0\n",
            "--------------------------------------------------\n",
            "\n",
            "Sample 25:\n",
            "\u001b[1m1/1\u001b[0m \u001b[32m━━━━━━━━━━━━━━━━━━━━\u001b[0m\u001b[37m\u001b[0m \u001b[1m0s\u001b[0m 38ms/step\n",
            "Predicted Glucose: 159.00 mg/dL\n",
            "Recommended Insulin: 3.31 U (Safe Range)\n",
            "Weight: 99.0\n",
            "--------------------------------------------------\n",
            "\n",
            "Sample 26:\n",
            "\u001b[1m1/1\u001b[0m \u001b[32m━━━━━━━━━━━━━━━━━━━━\u001b[0m\u001b[37m\u001b[0m \u001b[1m0s\u001b[0m 37ms/step\n",
            "Predicted Glucose: 162.00 mg/dL\n",
            "Recommended Insulin: 3.52 U (Safe Range)\n",
            "Weight: 99.0\n",
            "--------------------------------------------------\n",
            "\n",
            "Sample 27:\n",
            "\u001b[1m1/1\u001b[0m \u001b[32m━━━━━━━━━━━━━━━━━━━━\u001b[0m\u001b[37m\u001b[0m \u001b[1m0s\u001b[0m 39ms/step\n",
            "Predicted Glucose: 165.00 mg/dL\n",
            "Recommended Insulin: 3.73 U (Safe Range)\n",
            "Weight: 99.0\n",
            "--------------------------------------------------\n",
            "\n",
            "Sample 28:\n",
            "\u001b[1m1/1\u001b[0m \u001b[32m━━━━━━━━━━━━━━━━━━━━\u001b[0m\u001b[37m\u001b[0m \u001b[1m0s\u001b[0m 36ms/step\n",
            "Predicted Glucose: 169.00 mg/dL\n",
            "Recommended Insulin: 4.01 U (Safe Range)\n",
            "Weight: 99.0\n",
            "--------------------------------------------------\n",
            "\n",
            "Sample 29:\n",
            "\u001b[1m1/1\u001b[0m \u001b[32m━━━━━━━━━━━━━━━━━━━━\u001b[0m\u001b[37m\u001b[0m \u001b[1m0s\u001b[0m 35ms/step\n",
            "Predicted Glucose: 171.00 mg/dL\n",
            "Recommended Insulin: 4.15 U (Safe Range)\n",
            "Weight: 99.0\n",
            "--------------------------------------------------\n",
            "\n",
            "Sample 30:\n",
            "\u001b[1m1/1\u001b[0m \u001b[32m━━━━━━━━━━━━━━━━━━━━\u001b[0m\u001b[37m\u001b[0m \u001b[1m0s\u001b[0m 35ms/step\n",
            "Predicted Glucose: 173.00 mg/dL\n",
            "Recommended Insulin: 4.29 U (Safe Range)\n",
            "Weight: 99.0\n",
            "--------------------------------------------------\n",
            "\n",
            "Sample 31:\n",
            "\u001b[1m1/1\u001b[0m \u001b[32m━━━━━━━━━━━━━━━━━━━━\u001b[0m\u001b[37m\u001b[0m \u001b[1m0s\u001b[0m 39ms/step\n",
            "Predicted Glucose: 176.00 mg/dL\n",
            "Recommended Insulin: 4.50 U (Safe Range)\n",
            "Weight: 99.0\n",
            "--------------------------------------------------\n",
            "\n",
            "Sample 32:\n",
            "\u001b[1m1/1\u001b[0m \u001b[32m━━━━━━━━━━━━━━━━━━━━\u001b[0m\u001b[37m\u001b[0m \u001b[1m0s\u001b[0m 33ms/step\n",
            "Predicted Glucose: 179.00 mg/dL\n",
            "Recommended Insulin: 4.71 U (Safe Range)\n",
            "Weight: 99.0\n",
            "--------------------------------------------------\n",
            "\n",
            "Sample 33:\n",
            "\u001b[1m1/1\u001b[0m \u001b[32m━━━━━━━━━━━━━━━━━━━━\u001b[0m\u001b[37m\u001b[0m \u001b[1m0s\u001b[0m 32ms/step\n",
            "Predicted Glucose: 182.00 mg/dL\n",
            "Recommended Insulin: 4.92 U (Safe Range)\n",
            "Weight: 99.0\n",
            "--------------------------------------------------\n",
            "\n",
            "Sample 34:\n",
            "\u001b[1m1/1\u001b[0m \u001b[32m━━━━━━━━━━━━━━━━━━━━\u001b[0m\u001b[37m\u001b[0m \u001b[1m0s\u001b[0m 36ms/step\n",
            "Predicted Glucose: 184.00 mg/dL\n",
            "Recommended Insulin: 5.06 U (Safe Range)\n",
            "Weight: 99.0\n",
            "--------------------------------------------------\n",
            "\n",
            "Sample 35:\n",
            "\u001b[1m1/1\u001b[0m \u001b[32m━━━━━━━━━━━━━━━━━━━━\u001b[0m\u001b[37m\u001b[0m \u001b[1m0s\u001b[0m 41ms/step\n",
            "Predicted Glucose: 189.00 mg/dL\n",
            "Recommended Insulin: 5.41 U (Safe Range)\n",
            "Weight: 99.0\n",
            "--------------------------------------------------\n",
            "\n",
            "Sample 36:\n",
            "\u001b[1m1/1\u001b[0m \u001b[32m━━━━━━━━━━━━━━━━━━━━\u001b[0m\u001b[37m\u001b[0m \u001b[1m0s\u001b[0m 38ms/step\n",
            "Predicted Glucose: 191.00 mg/dL\n",
            "Recommended Insulin: 5.55 U (Safe Range)\n",
            "Weight: 99.0\n",
            "--------------------------------------------------\n",
            "\n",
            "Sample 37:\n",
            "\u001b[1m1/1\u001b[0m \u001b[32m━━━━━━━━━━━━━━━━━━━━\u001b[0m\u001b[37m\u001b[0m \u001b[1m0s\u001b[0m 39ms/step\n",
            "Predicted Glucose: 194.00 mg/dL\n",
            "Recommended Insulin: 5.77 U (Safe Range)\n",
            "Weight: 99.0\n",
            "--------------------------------------------------\n",
            "\n",
            "Sample 38:\n",
            "\u001b[1m1/1\u001b[0m \u001b[32m━━━━━━━━━━━━━━━━━━━━\u001b[0m\u001b[37m\u001b[0m \u001b[1m0s\u001b[0m 34ms/step\n",
            "Predicted Glucose: 197.00 mg/dL\n",
            "Recommended Insulin: 5.98 U (Safe Range)\n",
            "Weight: 99.0\n",
            "--------------------------------------------------\n",
            "\n",
            "Sample 39:\n",
            "\u001b[1m1/1\u001b[0m \u001b[32m━━━━━━━━━━━━━━━━━━━━\u001b[0m\u001b[37m\u001b[0m \u001b[1m0s\u001b[0m 39ms/step\n",
            "Predicted Glucose: 199.00 mg/dL\n",
            "Recommended Insulin: 6.12 U (Safe Range)\n",
            "Weight: 99.0\n",
            "--------------------------------------------------\n",
            "\n",
            "Sample 40:\n",
            "\u001b[1m1/1\u001b[0m \u001b[32m━━━━━━━━━━━━━━━━━━━━\u001b[0m\u001b[37m\u001b[0m \u001b[1m0s\u001b[0m 35ms/step\n",
            "Predicted Glucose: 201.00 mg/dL\n",
            "Recommended Insulin: 6.27 U (Safe Range)\n",
            "Weight: 99.0\n",
            "--------------------------------------------------\n",
            "\n",
            "Sample 41:\n",
            "\u001b[1m1/1\u001b[0m \u001b[32m━━━━━━━━━━━━━━━━━━━━\u001b[0m\u001b[37m\u001b[0m \u001b[1m0s\u001b[0m 35ms/step\n",
            "Predicted Glucose: 203.00 mg/dL\n",
            "Recommended Insulin: 6.41 U (Safe Range)\n",
            "Weight: 99.0\n",
            "--------------------------------------------------\n",
            "\n",
            "Sample 42:\n",
            "\u001b[1m1/1\u001b[0m \u001b[32m━━━━━━━━━━━━━━━━━━━━\u001b[0m\u001b[37m\u001b[0m \u001b[1m0s\u001b[0m 45ms/step\n",
            "Predicted Glucose: 203.00 mg/dL\n",
            "Recommended Insulin: 6.41 U (Safe Range)\n",
            "Weight: 99.0\n",
            "--------------------------------------------------\n",
            "\n",
            "Sample 43:\n",
            "\u001b[1m1/1\u001b[0m \u001b[32m━━━━━━━━━━━━━━━━━━━━\u001b[0m\u001b[37m\u001b[0m \u001b[1m0s\u001b[0m 32ms/step\n",
            "Predicted Glucose: 204.00 mg/dL\n",
            "Recommended Insulin: 6.48 U (Safe Range)\n",
            "Weight: 99.0\n",
            "--------------------------------------------------\n",
            "\n",
            "Sample 44:\n",
            "\u001b[1m1/1\u001b[0m \u001b[32m━━━━━━━━━━━━━━━━━━━━\u001b[0m\u001b[37m\u001b[0m \u001b[1m0s\u001b[0m 36ms/step\n",
            "Predicted Glucose: 204.00 mg/dL\n",
            "Recommended Insulin: 6.48 U (Safe Range)\n",
            "Weight: 99.0\n",
            "--------------------------------------------------\n",
            "\n",
            "Sample 45:\n",
            "\u001b[1m1/1\u001b[0m \u001b[32m━━━━━━━━━━━━━━━━━━━━\u001b[0m\u001b[37m\u001b[0m \u001b[1m0s\u001b[0m 38ms/step\n",
            "Predicted Glucose: 205.00 mg/dL\n",
            "Recommended Insulin: 6.55 U (Safe Range)\n",
            "Weight: 99.0\n",
            "--------------------------------------------------\n",
            "\n",
            "Sample 46:\n",
            "\u001b[1m1/1\u001b[0m \u001b[32m━━━━━━━━━━━━━━━━━━━━\u001b[0m\u001b[37m\u001b[0m \u001b[1m0s\u001b[0m 36ms/step\n",
            "Predicted Glucose: 207.00 mg/dL\n",
            "Recommended Insulin: 6.69 U (Safe Range)\n",
            "Weight: 99.0\n",
            "--------------------------------------------------\n",
            "\n",
            "Sample 47:\n",
            "\u001b[1m1/1\u001b[0m \u001b[32m━━━━━━━━━━━━━━━━━━━━\u001b[0m\u001b[37m\u001b[0m \u001b[1m0s\u001b[0m 37ms/step\n",
            "Predicted Glucose: 208.00 mg/dL\n",
            "Recommended Insulin: 6.77 U (Safe Range)\n",
            "Weight: 99.0\n",
            "--------------------------------------------------\n",
            "\n",
            "Sample 48:\n",
            "\u001b[1m1/1\u001b[0m \u001b[32m━━━━━━━━━━━━━━━━━━━━\u001b[0m\u001b[37m\u001b[0m \u001b[1m0s\u001b[0m 36ms/step\n",
            "Predicted Glucose: 209.00 mg/dL\n",
            "Recommended Insulin: 6.84 U (Safe Range)\n",
            "Weight: 99.0\n",
            "--------------------------------------------------\n",
            "\n",
            "Sample 49:\n",
            "\u001b[1m1/1\u001b[0m \u001b[32m━━━━━━━━━━━━━━━━━━━━\u001b[0m\u001b[37m\u001b[0m \u001b[1m0s\u001b[0m 36ms/step\n",
            "Predicted Glucose: 211.00 mg/dL\n",
            "Recommended Insulin: 6.98 U (Safe Range)\n",
            "Weight: 99.0\n",
            "--------------------------------------------------\n",
            "\n",
            "Sample 50:\n",
            "\u001b[1m1/1\u001b[0m \u001b[32m━━━━━━━━━━━━━━━━━━━━\u001b[0m\u001b[37m\u001b[0m \u001b[1m0s\u001b[0m 45ms/step\n",
            "Predicted Glucose: 211.00 mg/dL\n",
            "Recommended Insulin: 6.98 U (Safe Range)\n",
            "Weight: 99.0\n",
            "--------------------------------------------------\n"
          ]
        }
      ]
    }
  ]
}