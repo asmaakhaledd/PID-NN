{
  "nbformat": 4,
  "nbformat_minor": 0,
  "metadata": {
    "colab": {
      "provenance": [],
      "gpuType": "T4",
      "include_colab_link": true
    },
    "kernelspec": {
      "name": "python3",
      "display_name": "Python 3"
    },
    "language_info": {
      "name": "python"
    },
    "accelerator": "GPU"
  },
  "cells": [
    {
      "cell_type": "markdown",
      "metadata": {
        "id": "view-in-github",
        "colab_type": "text"
      },
      "source": [
        "<a href=\"https://colab.research.google.com/github/asmaakhaledd/PID-NN/blob/PID-Bolus/pid_lstm.ipynb\" target=\"_parent\"><img src=\"https://colab.research.google.com/assets/colab-badge.svg\" alt=\"Open In Colab\"/></a>"
      ]
    },
    {
      "cell_type": "code",
      "source": [
        "!pip install numpy pandas tensorflow"
      ],
      "metadata": {
        "id": "OHkjmG-Yr6DM",
        "colab": {
          "base_uri": "https://localhost:8080/"
        },
        "outputId": "755daeb9-5553-4ea1-d6fc-62f015035b93"
      },
      "execution_count": 1,
      "outputs": [
        {
          "output_type": "stream",
          "name": "stdout",
          "text": [
            "Requirement already satisfied: numpy in /usr/local/lib/python3.11/dist-packages (2.0.2)\n",
            "Requirement already satisfied: pandas in /usr/local/lib/python3.11/dist-packages (2.2.2)\n",
            "Requirement already satisfied: tensorflow in /usr/local/lib/python3.11/dist-packages (2.18.0)\n",
            "Requirement already satisfied: python-dateutil>=2.8.2 in /usr/local/lib/python3.11/dist-packages (from pandas) (2.9.0.post0)\n",
            "Requirement already satisfied: pytz>=2020.1 in /usr/local/lib/python3.11/dist-packages (from pandas) (2025.2)\n",
            "Requirement already satisfied: tzdata>=2022.7 in /usr/local/lib/python3.11/dist-packages (from pandas) (2025.2)\n",
            "Requirement already satisfied: absl-py>=1.0.0 in /usr/local/lib/python3.11/dist-packages (from tensorflow) (1.4.0)\n",
            "Requirement already satisfied: astunparse>=1.6.0 in /usr/local/lib/python3.11/dist-packages (from tensorflow) (1.6.3)\n",
            "Requirement already satisfied: flatbuffers>=24.3.25 in /usr/local/lib/python3.11/dist-packages (from tensorflow) (25.2.10)\n",
            "Requirement already satisfied: gast!=0.5.0,!=0.5.1,!=0.5.2,>=0.2.1 in /usr/local/lib/python3.11/dist-packages (from tensorflow) (0.6.0)\n",
            "Requirement already satisfied: google-pasta>=0.1.1 in /usr/local/lib/python3.11/dist-packages (from tensorflow) (0.2.0)\n",
            "Requirement already satisfied: libclang>=13.0.0 in /usr/local/lib/python3.11/dist-packages (from tensorflow) (18.1.1)\n",
            "Requirement already satisfied: opt-einsum>=2.3.2 in /usr/local/lib/python3.11/dist-packages (from tensorflow) (3.4.0)\n",
            "Requirement already satisfied: packaging in /usr/local/lib/python3.11/dist-packages (from tensorflow) (24.2)\n",
            "Requirement already satisfied: protobuf!=4.21.0,!=4.21.1,!=4.21.2,!=4.21.3,!=4.21.4,!=4.21.5,<6.0.0dev,>=3.20.3 in /usr/local/lib/python3.11/dist-packages (from tensorflow) (5.29.4)\n",
            "Requirement already satisfied: requests<3,>=2.21.0 in /usr/local/lib/python3.11/dist-packages (from tensorflow) (2.32.3)\n",
            "Requirement already satisfied: setuptools in /usr/local/lib/python3.11/dist-packages (from tensorflow) (75.2.0)\n",
            "Requirement already satisfied: six>=1.12.0 in /usr/local/lib/python3.11/dist-packages (from tensorflow) (1.17.0)\n",
            "Requirement already satisfied: termcolor>=1.1.0 in /usr/local/lib/python3.11/dist-packages (from tensorflow) (3.0.1)\n",
            "Requirement already satisfied: typing-extensions>=3.6.6 in /usr/local/lib/python3.11/dist-packages (from tensorflow) (4.13.2)\n",
            "Requirement already satisfied: wrapt>=1.11.0 in /usr/local/lib/python3.11/dist-packages (from tensorflow) (1.17.2)\n",
            "Requirement already satisfied: grpcio<2.0,>=1.24.3 in /usr/local/lib/python3.11/dist-packages (from tensorflow) (1.71.0)\n",
            "Requirement already satisfied: tensorboard<2.19,>=2.18 in /usr/local/lib/python3.11/dist-packages (from tensorflow) (2.18.0)\n",
            "Requirement already satisfied: keras>=3.5.0 in /usr/local/lib/python3.11/dist-packages (from tensorflow) (3.8.0)\n",
            "Requirement already satisfied: h5py>=3.11.0 in /usr/local/lib/python3.11/dist-packages (from tensorflow) (3.13.0)\n",
            "Requirement already satisfied: ml-dtypes<0.5.0,>=0.4.0 in /usr/local/lib/python3.11/dist-packages (from tensorflow) (0.4.1)\n",
            "Requirement already satisfied: tensorflow-io-gcs-filesystem>=0.23.1 in /usr/local/lib/python3.11/dist-packages (from tensorflow) (0.37.1)\n",
            "Requirement already satisfied: wheel<1.0,>=0.23.0 in /usr/local/lib/python3.11/dist-packages (from astunparse>=1.6.0->tensorflow) (0.45.1)\n",
            "Requirement already satisfied: rich in /usr/local/lib/python3.11/dist-packages (from keras>=3.5.0->tensorflow) (13.9.4)\n",
            "Requirement already satisfied: namex in /usr/local/lib/python3.11/dist-packages (from keras>=3.5.0->tensorflow) (0.0.9)\n",
            "Requirement already satisfied: optree in /usr/local/lib/python3.11/dist-packages (from keras>=3.5.0->tensorflow) (0.15.0)\n",
            "Requirement already satisfied: charset-normalizer<4,>=2 in /usr/local/lib/python3.11/dist-packages (from requests<3,>=2.21.0->tensorflow) (3.4.1)\n",
            "Requirement already satisfied: idna<4,>=2.5 in /usr/local/lib/python3.11/dist-packages (from requests<3,>=2.21.0->tensorflow) (3.10)\n",
            "Requirement already satisfied: urllib3<3,>=1.21.1 in /usr/local/lib/python3.11/dist-packages (from requests<3,>=2.21.0->tensorflow) (2.4.0)\n",
            "Requirement already satisfied: certifi>=2017.4.17 in /usr/local/lib/python3.11/dist-packages (from requests<3,>=2.21.0->tensorflow) (2025.4.26)\n",
            "Requirement already satisfied: markdown>=2.6.8 in /usr/local/lib/python3.11/dist-packages (from tensorboard<2.19,>=2.18->tensorflow) (3.8)\n",
            "Requirement already satisfied: tensorboard-data-server<0.8.0,>=0.7.0 in /usr/local/lib/python3.11/dist-packages (from tensorboard<2.19,>=2.18->tensorflow) (0.7.2)\n",
            "Requirement already satisfied: werkzeug>=1.0.1 in /usr/local/lib/python3.11/dist-packages (from tensorboard<2.19,>=2.18->tensorflow) (3.1.3)\n",
            "Requirement already satisfied: MarkupSafe>=2.1.1 in /usr/local/lib/python3.11/dist-packages (from werkzeug>=1.0.1->tensorboard<2.19,>=2.18->tensorflow) (3.0.2)\n",
            "Requirement already satisfied: markdown-it-py>=2.2.0 in /usr/local/lib/python3.11/dist-packages (from rich->keras>=3.5.0->tensorflow) (3.0.0)\n",
            "Requirement already satisfied: pygments<3.0.0,>=2.13.0 in /usr/local/lib/python3.11/dist-packages (from rich->keras>=3.5.0->tensorflow) (2.19.1)\n",
            "Requirement already satisfied: mdurl~=0.1 in /usr/local/lib/python3.11/dist-packages (from markdown-it-py>=2.2.0->rich->keras>=3.5.0->tensorflow) (0.1.2)\n"
          ]
        }
      ]
    },
    {
      "cell_type": "code",
      "source": [
        "import numpy as np\n",
        "import pandas as pd\n",
        "import tensorflow as tf\n",
        "import random"
      ],
      "metadata": {
        "id": "5yiToWVmiaM0"
      },
      "execution_count": 2,
      "outputs": []
    },
    {
      "cell_type": "markdown",
      "source": [
        "Load model"
      ],
      "metadata": {
        "id": "H_E_JJ56pSSH"
      }
    },
    {
      "cell_type": "code",
      "source": [
        "# Load the trained model\n",
        "def load_model(model_path):\n",
        "    pid_model = tf.keras.models.load_model(model_path, compile=False)\n",
        "    pid_model.compile(optimizer='adam', loss=tf.keras.losses.MeanSquaredError())\n",
        "    return pid_model"
      ],
      "metadata": {
        "id": "03O98dKosjt8"
      },
      "execution_count": 10,
      "outputs": []
    },
    {
      "cell_type": "markdown",
      "source": [
        "Preprocess time features (cyclic encoding)"
      ],
      "metadata": {
        "id": "J1qXEa8rtHJG"
      }
    },
    {
      "cell_type": "code",
      "source": [
        "# Preprocess time features (Use timestep as timestamp)\n",
        "def preprocess_time_features(timestep, glucose, weight):\n",
        "    # Using cyclic encoding for time, but we will use timestep as time (1, 2, 3,...)\n",
        "    hour = timestep % 24\n",
        "    minute = 0  # Simulate with minute 0 for simplicity\n",
        "    time_sin = np.sin(2 * np.pi * hour / 24)\n",
        "    time_cos = np.cos(2 * np.pi * hour / 24)\n",
        "    return [glucose - 110, glucose - random.uniform(70, 180), weight, time_sin, time_cos]"
      ],
      "metadata": {
        "id": "SKEk6jkktHfV"
      },
      "execution_count": 11,
      "outputs": []
    },
    {
      "cell_type": "markdown",
      "source": [
        "Prepare PID data for inference"
      ],
      "metadata": {
        "id": "k9bX8PEhtR67"
      }
    },
    {
      "cell_type": "code",
      "source": [
        "# Prepare PID data for inference\n",
        "def prepare_pid_data(timestep, glucose, weight):\n",
        "    # Preprocess real-time data for the PID model\n",
        "    return np.array([preprocess_time_features(timestep, glucose, weight)])"
      ],
      "metadata": {
        "id": "Su9ckFMltSKm"
      },
      "execution_count": 12,
      "outputs": []
    },
    {
      "cell_type": "markdown",
      "source": [
        "Adjust basal insulin dosage based on glucose and weight"
      ],
      "metadata": {
        "id": "fKGaDzxXtZIY"
      }
    },
    {
      "cell_type": "code",
      "source": [
        "def adjust_basal_insulin(glucose_level, weight, Kp, Ki, Kd, previous_glucose, cumulative_error):\n",
        "    # Basal insulin rate calculation based on weight\n",
        "    basal_rate_per_kg = 0.5\n",
        "    TDI = 0.55 * weight  # Total daily insulin\n",
        "    basal_insulin_dosage = basal_rate_per_kg * TDI  # Basal insulin dosage (50% of TDI)\n",
        "    hourly_basal_rate = basal_insulin_dosage / 24  # Hourly basal rate\n",
        "\n",
        "    # Target glucose level\n",
        "    target_glucose = 100\n",
        "\n",
        "    # Calculate the error (difference between current glucose and target)\n",
        "    error = glucose_level - target_glucose\n",
        "\n",
        "    # Proportional (Kp) term: Respond to immediate error\n",
        "    adjustment_factor_proportional = Kp * error\n",
        "\n",
        "    # Integral (Ki) term: Cumulative error over time\n",
        "    cumulative_error += error  # Update cumulative error\n",
        "    if cumulative_error > 10:\n",
        "        cumulative_error = 10\n",
        "    elif cumulative_error < -10:\n",
        "        cumulative_error = -10\n",
        "    adjustment_factor_integral = Ki * cumulative_error\n",
        "\n",
        "    # Derivative (Kd) term: Rate of change in glucose\n",
        "    glucose_change_rate = glucose_level - previous_glucose  # Difference between current and previous glucose levels\n",
        "    adjustment_factor_derivative = Kd * glucose_change_rate\n",
        "\n",
        "    # Total adjusted basal rate including all PID terms\n",
        "    adjusted_basal_rate = hourly_basal_rate + adjustment_factor_proportional + adjustment_factor_integral + adjustment_factor_derivative\n",
        "\n",
        "    # Apply limits to the basal rate to prevent it from becoming too low or too high\n",
        "    min_basal_rate = 0.3\n",
        "    max_basal_rate = 1.5\n",
        "    adjusted_basal_rate = max(min_basal_rate, min(adjusted_basal_rate, max_basal_rate))\n",
        "\n",
        "\n",
        "    # Return the adjusted basal rate and the updated cumulative error for next use\n",
        "    return adjusted_basal_rate, cumulative_error, glucose_level"
      ],
      "metadata": {
        "id": "J_aZ1ZPttZ0r"
      },
      "execution_count": 19,
      "outputs": []
    },
    {
      "cell_type": "markdown",
      "source": [
        "Bolus Calculation"
      ],
      "metadata": {
        "id": "TVIh2Wrmcx1G"
      }
    },
    {
      "cell_type": "code",
      "source": [
        "def calculate_bolus(weight, glucose_level, target_glucose, meal_carbs, insulin_type='rapid'):\n",
        "    # Calculate Total Daily Insulin (TDI)\n",
        "    TDI = weight * 0.55  # For weight in kg\n",
        "\n",
        "    # Calculate Basal and Bolus\n",
        "    basal_insulin = 0.4 * TDI\n",
        "    bolus_insulin = 0.6 * TDI\n",
        "\n",
        "    # Calculate the Correction Factor based on insulin type\n",
        "    if insulin_type == 'rapid':\n",
        "        correction_factor = 1500 / TDI\n",
        "\n",
        "\n",
        "    # Calculate correction dose if BG is above target\n",
        "    correction_dose = 0\n",
        "    if glucose_level > target_glucose:\n",
        "        correction_dose = (glucose_level - target_glucose) / correction_factor\n",
        "\n",
        "    # Calculate carb-to-insulin ratio\n",
        "    carb_to_insulin_ratio = 500 / TDI\n",
        "\n",
        "    # Calculate bolus insulin based on carbs in the meal\n",
        "    bolus_for_meal = meal_carbs / carb_to_insulin_ratio\n",
        "\n",
        "    # Total bolus insulin for the meal including correction\n",
        "    total_bolus = bolus_for_meal + correction_dose\n",
        "\n",
        "    # Limit the bolus insulin to a safe range\n",
        "    min_bolus = 0.5  # Minimum bolus insulin per meal\n",
        "    max_bolus = 10.0  # Maximum bolus insulin per meal\n",
        "    total_bolus = max(min_bolus, min(total_bolus, max_bolus))\n",
        "\n",
        "    print(f\"Bolus for meal: {bolus_for_meal:.2f} units, Correction dose: {correction_dose:.2f} units, Total bolus: {total_bolus:.2f} units\")\n",
        "\n",
        "    return total_bolus"
      ],
      "metadata": {
        "id": "M_bkdr3NczjF"
      },
      "execution_count": 20,
      "outputs": []
    },
    {
      "cell_type": "markdown",
      "source": [
        "Predict insulin dosage"
      ],
      "metadata": {
        "id": "ugKk4oJKGNto"
      }
    },
    {
      "cell_type": "code",
      "source": [
        "def predict_insulin_dosage(pid_model, glucose, weight, timestep, previous_glucose, cumulative_error):\n",
        "    # Prepare input data for PID model\n",
        "    X_pid_test = prepare_pid_data(timestep, glucose, weight)\n",
        "\n",
        "    # Make prediction using the trained PID model (predicting Kp, Ki, Kd)\n",
        "    predicted_pid_gains = pid_model.predict(X_pid_test)\n",
        "\n",
        "    # Extract predicted PID gains (Kp, Ki, Kd)\n",
        "    Kp, Ki, Kd = predicted_pid_gains[0]\n",
        "\n",
        "    # Adjust basal insulin based on the predicted PID gains and glucose level\n",
        "    adjusted_basal_rate, cumulative_error, previous_glucose = adjust_basal_insulin(\n",
        "        glucose, weight, Kp, Ki, Kd, previous_glucose, cumulative_error\n",
        "    )\n",
        "\n",
        "    # Print the result\n",
        "    print(f\"\\nSample {timestep}:\")\n",
        "    print(f\"Timestep: {timestep}\")\n",
        "    print(f\"Glucose: {glucose:.2f} mg/dL\")\n",
        "    print(f\"Adjusted Hourly Basal Insulin: {adjusted_basal_rate:.2f} U per hour\")\n",
        "    print(f\"Weight: {weight} kg\")\n",
        "    print(\"-\" * 50)\n",
        "\n",
        "    # Return updated values to be used in the next timestep\n",
        "    return previous_glucose, cumulative_error, glucose, adjusted_basal_rate"
      ],
      "metadata": {
        "id": "-ITkd_b8GON8"
      },
      "execution_count": 15,
      "outputs": []
    },
    {
      "cell_type": "markdown",
      "source": [
        "Main"
      ],
      "metadata": {
        "id": "nrpb3fmutfDE"
      }
    },
    {
      "cell_type": "code",
      "source": [
        "if __name__ == \"__main__\":\n",
        "    # Path to your saved model\n",
        "    model_path = '/content/drive/MyDrive/GP PID/opt_pid_tuning_model_2.h5'\n",
        "\n",
        "    # Load the model\n",
        "    pid_model = load_model(model_path)\n",
        "\n",
        "    # Initialize variables\n",
        "    previous_glucose = 100\n",
        "    cumulative_error = 0\n",
        "\n",
        "    # Set weight constant (can be updated as needed)\n",
        "    weight = 70  # Constant weight\n",
        "\n",
        "    # Initialize timestep\n",
        "    timestep = 1\n",
        "\n",
        "    # Variables for bolus calculation\n",
        "    meal_carbs = 0\n",
        "\n",
        "    basal_rates = []\n",
        "    bolus_insulin = []\n",
        "    carb_intake = []\n",
        "\n",
        "\n",
        "    while True:\n",
        "      glucose = random.uniform(70, 180)\n",
        "\n",
        "      if timestep == 1 or timestep % 15 == 0:\n",
        "       previous_glucose, cumulative_error, glucose, adjusted_basal_rate = predict_insulin_dosage(pid_model, glucose, weight, timestep, previous_glucose, cumulative_error)\n",
        "       basal_rates.append(adjusted_basal_rate)\n",
        "\n",
        "       # Check for meal and calculate bolus (if a meal is administered)\n",
        "      if meal_carbs > 0:\n",
        "            total_bolus = calculate_bolus(weight, glucose, target_glucose=110, meal_carbs=meal_carbs)\n",
        "            bolus_insulin.append(total_bolus)\n",
        "            carb_intake.append(meal_carbs)  # <-- Track this meal\n",
        "            meal_carbs = 0\n",
        "      else:\n",
        "            total_bolus = 0\n",
        "            bolus_insulin.append(0)\n",
        "            carb_intake.append(0)\n",
        "\n",
        "        # Simulate meal intake (just as an example, change meal size over time)\n",
        "      if timestep == 30:  # Example of a meal at timestep 30\n",
        "            meal_carbs = 100  # Example of 100g carbs meal\n",
        "      if timestep == 90:  # Example of a meal at timestep 50\n",
        "            meal_carbs = 50  # Example of 50g carbs meal\n",
        "\n",
        "      timestep+=1\n",
        "\n",
        "      if timestep % 10 == 0:\n",
        "        print(f\"Processed Timestep {timestep}: Glucose: {glucose:.2f}, Basal Rate: {adjusted_basal_rate:.2f}\")\n",
        "      else:\n",
        "        basal_rates.append(basal_rates[-1] if basal_rates else 1.0)  # Use last basal rate or default\n",
        "      if timestep > 100:\n",
        "            break\n",
        "\n"
      ],
      "metadata": {
        "colab": {
          "base_uri": "https://localhost:8080/"
        },
        "id": "PhRDeFr8tgVR",
        "outputId": "b905c2da-c895-430e-b971-f4eafec56c7f"
      },
      "execution_count": 21,
      "outputs": [
        {
          "output_type": "stream",
          "name": "stdout",
          "text": [
            "\u001b[1m1/1\u001b[0m \u001b[32m━━━━━━━━━━━━━━━━━━━━\u001b[0m\u001b[37m\u001b[0m \u001b[1m0s\u001b[0m 166ms/step\n",
            "\n",
            "Sample 1:\n",
            "Timestep: 1\n",
            "Glucose: 111.26 mg/dL\n",
            "Adjusted Hourly Basal Insulin: 1.38 U per hour\n",
            "Weight: 70 kg\n",
            "--------------------------------------------------\n",
            "Processed Timestep 10: Glucose: 132.80, Basal Rate: 1.38\n",
            "\u001b[1m1/1\u001b[0m \u001b[32m━━━━━━━━━━━━━━━━━━━━\u001b[0m\u001b[37m\u001b[0m \u001b[1m0s\u001b[0m 28ms/step\n",
            "\n",
            "Sample 15:\n",
            "Timestep: 15\n",
            "Glucose: 71.62 mg/dL\n",
            "Adjusted Hourly Basal Insulin: 0.30 U per hour\n",
            "Weight: 70 kg\n",
            "--------------------------------------------------\n",
            "Processed Timestep 20: Glucose: 133.89, Basal Rate: 0.30\n",
            "Processed Timestep 30: Glucose: 135.81, Basal Rate: 0.30\n",
            "\u001b[1m1/1\u001b[0m \u001b[32m━━━━━━━━━━━━━━━━━━━━\u001b[0m\u001b[37m\u001b[0m \u001b[1m0s\u001b[0m 29ms/step\n",
            "\n",
            "Sample 30:\n",
            "Timestep: 30\n",
            "Glucose: 163.45 mg/dL\n",
            "Adjusted Hourly Basal Insulin: 1.50 U per hour\n",
            "Weight: 70 kg\n",
            "--------------------------------------------------\n",
            "Bolus for meal: 7.70 units, Correction dose: 0.93 units, Total bolus: 8.63 units\n",
            "Processed Timestep 40: Glucose: 148.56, Basal Rate: 1.50\n",
            "\u001b[1m1/1\u001b[0m \u001b[32m━━━━━━━━━━━━━━━━━━━━\u001b[0m\u001b[37m\u001b[0m \u001b[1m0s\u001b[0m 28ms/step\n",
            "\n",
            "Sample 45:\n",
            "Timestep: 45\n",
            "Glucose: 175.78 mg/dL\n",
            "Adjusted Hourly Basal Insulin: 1.50 U per hour\n",
            "Weight: 70 kg\n",
            "--------------------------------------------------\n",
            "Processed Timestep 50: Glucose: 87.09, Basal Rate: 1.50\n",
            "Processed Timestep 60: Glucose: 71.46, Basal Rate: 1.50\n",
            "\u001b[1m1/1\u001b[0m \u001b[32m━━━━━━━━━━━━━━━━━━━━\u001b[0m\u001b[37m\u001b[0m \u001b[1m0s\u001b[0m 28ms/step\n",
            "\n",
            "Sample 60:\n",
            "Timestep: 60\n",
            "Glucose: 167.33 mg/dL\n",
            "Adjusted Hourly Basal Insulin: 1.50 U per hour\n",
            "Weight: 70 kg\n",
            "--------------------------------------------------\n",
            "Processed Timestep 70: Glucose: 168.08, Basal Rate: 1.50\n",
            "\u001b[1m1/1\u001b[0m \u001b[32m━━━━━━━━━━━━━━━━━━━━\u001b[0m\u001b[37m\u001b[0m \u001b[1m0s\u001b[0m 27ms/step\n",
            "\n",
            "Sample 75:\n",
            "Timestep: 75\n",
            "Glucose: 155.56 mg/dL\n",
            "Adjusted Hourly Basal Insulin: 1.50 U per hour\n",
            "Weight: 70 kg\n",
            "--------------------------------------------------\n",
            "Processed Timestep 80: Glucose: 147.11, Basal Rate: 1.50\n",
            "Processed Timestep 90: Glucose: 95.19, Basal Rate: 1.50\n",
            "\u001b[1m1/1\u001b[0m \u001b[32m━━━━━━━━━━━━━━━━━━━━\u001b[0m\u001b[37m\u001b[0m \u001b[1m0s\u001b[0m 27ms/step\n",
            "\n",
            "Sample 90:\n",
            "Timestep: 90\n",
            "Glucose: 83.94 mg/dL\n",
            "Adjusted Hourly Basal Insulin: 0.30 U per hour\n",
            "Weight: 70 kg\n",
            "--------------------------------------------------\n",
            "Bolus for meal: 3.85 units, Correction dose: 1.78 units, Total bolus: 5.63 units\n",
            "Processed Timestep 100: Glucose: 164.96, Basal Rate: 0.30\n"
          ]
        }
      ]
    }
  ]
}